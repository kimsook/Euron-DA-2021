{
 "cells": [
  {
   "cell_type": "code",
   "execution_count": 1,
   "metadata": {
    "executionInfo": {
     "elapsed": 2098,
     "status": "ok",
     "timestamp": 1620626628765,
     "user": {
      "displayName": "Jiwon Lee",
      "photoUrl": "https://lh6.googleusercontent.com/-ptQh3tMovsY/AAAAAAAAAAI/AAAAAAAAB94/jpFD-Tx1bGM/s64/photo.jpg",
      "userId": "11912804753565662736"
     },
     "user_tz": -540
    },
    "id": "ZMSNe2Mg36ZS"
   },
   "outputs": [],
   "source": [
    "import numpy as np\n",
    "import pandas as pd\n",
    "from sklearn.tree import DecisionTreeClassifier\n",
    "from sklearn.model_selection import train_test_split\n",
    "import os\n",
    "\n",
    "# 깔끔한 그래프 출력을 위해\n",
    "%matplotlib inline\n",
    "import matplotlib as mpl\n",
    "import matplotlib.pyplot as plt\n",
    "mpl.rc('axes', labelsize=14)\n",
    "mpl.rc('xtick', labelsize=12)\n",
    "mpl.rc('ytick', labelsize=12)\n",
    "\n",
    "# 그림을 저장할 위치\n",
    "PROJECT_ROOT_DIR = \".\"\n",
    "CHAPTER_ID = \"decision_trees\"\n",
    "IMAGES_PATH = os.path.join(PROJECT_ROOT_DIR, \"images\", CHAPTER_ID)\n",
    "os.makedirs(IMAGES_PATH, exist_ok=True)\n",
    "\n",
    "def save_fig(fig_id, tight_layout=True, fig_extension=\"png\", resolution=300):\n",
    "    path = os.path.join(IMAGES_PATH, fig_id + \".\" + fig_extension)\n",
    "    print(\"그림 저장:\", fig_id)\n",
    "    if tight_layout:\n",
    "        plt.tight_layout()\n",
    "    plt.savefig(path, format=fig_extension, dpi=resolution)"
   ]
  },
  {
   "cell_type": "markdown",
   "metadata": {
    "colab": {
     "base_uri": "https://localhost:8080/"
    },
    "executionInfo": {
     "elapsed": 17762,
     "status": "ok",
     "timestamp": 1620626712432,
     "user": {
      "displayName": "Jiwon Lee",
      "photoUrl": "https://lh6.googleusercontent.com/-ptQh3tMovsY/AAAAAAAAAAI/AAAAAAAAB94/jpFD-Tx1bGM/s64/photo.jpg",
      "userId": "11912804753565662736"
     },
     "user_tz": -540
    },
    "id": "hmXSRsqS4Nqs",
    "outputId": "f9e850c1-ce0b-4d88-f112-e06eac192add"
   },
   "source": [
    "* [Part1]의 6번 문제에서 graphviz 설치가 안되는 경우 colab을 이용하시면 됩니다.\n",
    "* colab에서 진행하실 경우 아래 코드를 실행시켜 본인 drive와 연동을 해주시고 csv 파일을 연동한 드라이브 안에 넣어주세요.\n",
    "```python\n",
    "from google.colab import drive\n",
    "drive.mount('/content/drive')\n",
    "```\n",
    "\n",
    "* colab에서 진행하실 경우 파일 경로는 왼쪽 폴더 파일에서 파일 위치까지 가시고 파일에 마우스 올려놓으면 옆에 점 3개 나오는데 그거 클릭 후 copy path를 누르시면 쉽게 복사가 가능합니다."
   ]
  },
  {
   "cell_type": "markdown",
   "metadata": {
    "id": "6laGQ_lW36ZZ"
   },
   "source": [
    "## [Part 1] Decision Tree를 사용한 분류 문제입니다.\n",
    "- data: play_tennis.csv\n",
    "- 날씨(outlook), 온도, 습도, 바람의 세기의 정보 조합으로 테니스를 칠 수 있을지에 관한 데이터"
   ]
  },
  {
   "cell_type": "markdown",
   "metadata": {
    "id": "M0me3NeM36ZZ"
   },
   "source": [
    "### 1. play_tennis.csv를 tennis로 가져와 첫 5행과 개괄적 데이터 타입을 확인하시오."
   ]
  },
  {
   "cell_type": "code",
   "execution_count": 2,
   "metadata": {
    "colab": {
     "base_uri": "https://localhost:8080/",
     "height": 191
    },
    "executionInfo": {
     "elapsed": 1304,
     "status": "ok",
     "timestamp": 1620626751532,
     "user": {
      "displayName": "Jiwon Lee",
      "photoUrl": "https://lh6.googleusercontent.com/-ptQh3tMovsY/AAAAAAAAAAI/AAAAAAAAB94/jpFD-Tx1bGM/s64/photo.jpg",
      "userId": "11912804753565662736"
     },
     "user_tz": -540
    },
    "id": "FvMHTvpP36Za",
    "outputId": "2014f3bb-af98-40d8-d1b9-ba3f4ecee04f",
    "scrolled": false
   },
   "outputs": [
    {
     "data": {
      "text/html": [
       "<div>\n",
       "<style scoped>\n",
       "    .dataframe tbody tr th:only-of-type {\n",
       "        vertical-align: middle;\n",
       "    }\n",
       "\n",
       "    .dataframe tbody tr th {\n",
       "        vertical-align: top;\n",
       "    }\n",
       "\n",
       "    .dataframe thead th {\n",
       "        text-align: right;\n",
       "    }\n",
       "</style>\n",
       "<table border=\"1\" class=\"dataframe\">\n",
       "  <thead>\n",
       "    <tr style=\"text-align: right;\">\n",
       "      <th></th>\n",
       "      <th>day</th>\n",
       "      <th>outlook</th>\n",
       "      <th>temp</th>\n",
       "      <th>humidity</th>\n",
       "      <th>wind</th>\n",
       "      <th>play</th>\n",
       "    </tr>\n",
       "  </thead>\n",
       "  <tbody>\n",
       "    <tr>\n",
       "      <th>0</th>\n",
       "      <td>D1</td>\n",
       "      <td>Sunny</td>\n",
       "      <td>Hot</td>\n",
       "      <td>High</td>\n",
       "      <td>Weak</td>\n",
       "      <td>No</td>\n",
       "    </tr>\n",
       "    <tr>\n",
       "      <th>1</th>\n",
       "      <td>D2</td>\n",
       "      <td>Sunny</td>\n",
       "      <td>Hot</td>\n",
       "      <td>High</td>\n",
       "      <td>Strong</td>\n",
       "      <td>No</td>\n",
       "    </tr>\n",
       "    <tr>\n",
       "      <th>2</th>\n",
       "      <td>D3</td>\n",
       "      <td>Overcast</td>\n",
       "      <td>Hot</td>\n",
       "      <td>High</td>\n",
       "      <td>Weak</td>\n",
       "      <td>Yes</td>\n",
       "    </tr>\n",
       "    <tr>\n",
       "      <th>3</th>\n",
       "      <td>D4</td>\n",
       "      <td>Rain</td>\n",
       "      <td>Mild</td>\n",
       "      <td>High</td>\n",
       "      <td>Weak</td>\n",
       "      <td>Yes</td>\n",
       "    </tr>\n",
       "    <tr>\n",
       "      <th>4</th>\n",
       "      <td>D5</td>\n",
       "      <td>Rain</td>\n",
       "      <td>Cool</td>\n",
       "      <td>Normal</td>\n",
       "      <td>Weak</td>\n",
       "      <td>Yes</td>\n",
       "    </tr>\n",
       "  </tbody>\n",
       "</table>\n",
       "</div>"
      ],
      "text/plain": [
       "  day   outlook  temp humidity    wind play\n",
       "0  D1     Sunny   Hot     High    Weak   No\n",
       "1  D2     Sunny   Hot     High  Strong   No\n",
       "2  D3  Overcast   Hot     High    Weak  Yes\n",
       "3  D4      Rain  Mild     High    Weak  Yes\n",
       "4  D5      Rain  Cool   Normal    Weak  Yes"
      ]
     },
     "execution_count": 2,
     "metadata": {},
     "output_type": "execute_result"
    }
   ],
   "source": [
    "tennis = pd.read_csv('./play_tennis.csv')\n",
    "# colab으로 진행한 경우 :\n",
    "## tennis = pd.read_csv('/content/drive/MyDrive/Colab Notebooks/play_tennis.csv')\n",
    "tennis.head()"
   ]
  },
  {
   "cell_type": "code",
   "execution_count": 5,
   "metadata": {
    "colab": {
     "base_uri": "https://localhost:8080/"
    },
    "executionInfo": {
     "elapsed": 993,
     "status": "ok",
     "timestamp": 1620626755993,
     "user": {
      "displayName": "Jiwon Lee",
      "photoUrl": "https://lh6.googleusercontent.com/-ptQh3tMovsY/AAAAAAAAAAI/AAAAAAAAB94/jpFD-Tx1bGM/s64/photo.jpg",
      "userId": "11912804753565662736"
     },
     "user_tz": -540
    },
    "id": "KKelVHrv36Zb",
    "outputId": "6cc4f63e-73c3-4611-98c6-916dbcbeaa80",
    "scrolled": true
   },
   "outputs": [
    {
     "name": "stdout",
     "output_type": "stream",
     "text": [
      "<class 'pandas.core.frame.DataFrame'>\n",
      "RangeIndex: 14 entries, 0 to 13\n",
      "Data columns (total 6 columns):\n",
      " #   Column    Non-Null Count  Dtype \n",
      "---  ------    --------------  ----- \n",
      " 0   day       14 non-null     object\n",
      " 1   outlook   14 non-null     object\n",
      " 2   temp      14 non-null     object\n",
      " 3   humidity  14 non-null     object\n",
      " 4   wind      14 non-null     object\n",
      " 5   play      14 non-null     object\n",
      "dtypes: object(6)\n",
      "memory usage: 800.0+ bytes\n"
     ]
    }
   ],
   "source": [
    "tennis.info()"
   ]
  },
  {
   "cell_type": "markdown",
   "metadata": {
    "id": "RlPoVB0-36Zb"
   },
   "source": [
    "### 1.2 데이터의 outlook 카테고리를 unique로 살펴보시오."
   ]
  },
  {
   "cell_type": "code",
   "execution_count": 6,
   "metadata": {
    "colab": {
     "base_uri": "https://localhost:8080/"
    },
    "executionInfo": {
     "elapsed": 935,
     "status": "ok",
     "timestamp": 1620626758833,
     "user": {
      "displayName": "Jiwon Lee",
      "photoUrl": "https://lh6.googleusercontent.com/-ptQh3tMovsY/AAAAAAAAAAI/AAAAAAAAB94/jpFD-Tx1bGM/s64/photo.jpg",
      "userId": "11912804753565662736"
     },
     "user_tz": -540
    },
    "id": "SV6zFwbE36Zb",
    "outputId": "7eb9816a-b7e5-4246-8601-c1df11450841"
   },
   "outputs": [
    {
     "data": {
      "text/plain": [
       "array(['Sunny', 'Overcast', 'Rain'], dtype=object)"
      ]
     },
     "execution_count": 6,
     "metadata": {
      "tags": []
     },
     "output_type": "execute_result"
    }
   ],
   "source": [
    "tennis['outlook'].unique()"
   ]
  },
  {
   "cell_type": "markdown",
   "metadata": {
    "id": "pMz39XNw36Zc"
   },
   "source": [
    "### 2. day 칼럼을 삭제하시오"
   ]
  },
  {
   "cell_type": "code",
   "execution_count": 7,
   "metadata": {
    "colab": {
     "base_uri": "https://localhost:8080/",
     "height": 191
    },
    "executionInfo": {
     "elapsed": 620,
     "status": "ok",
     "timestamp": 1620626759174,
     "user": {
      "displayName": "Jiwon Lee",
      "photoUrl": "https://lh6.googleusercontent.com/-ptQh3tMovsY/AAAAAAAAAAI/AAAAAAAAB94/jpFD-Tx1bGM/s64/photo.jpg",
      "userId": "11912804753565662736"
     },
     "user_tz": -540
    },
    "id": "bngq0MjP36Zc",
    "outputId": "f2356713-58d0-4077-9f24-f6ec60fb6523"
   },
   "outputs": [
    {
     "data": {
      "text/html": [
       "<div>\n",
       "<style scoped>\n",
       "    .dataframe tbody tr th:only-of-type {\n",
       "        vertical-align: middle;\n",
       "    }\n",
       "\n",
       "    .dataframe tbody tr th {\n",
       "        vertical-align: top;\n",
       "    }\n",
       "\n",
       "    .dataframe thead th {\n",
       "        text-align: right;\n",
       "    }\n",
       "</style>\n",
       "<table border=\"1\" class=\"dataframe\">\n",
       "  <thead>\n",
       "    <tr style=\"text-align: right;\">\n",
       "      <th></th>\n",
       "      <th>outlook</th>\n",
       "      <th>temp</th>\n",
       "      <th>humidity</th>\n",
       "      <th>wind</th>\n",
       "      <th>play</th>\n",
       "    </tr>\n",
       "  </thead>\n",
       "  <tbody>\n",
       "    <tr>\n",
       "      <th>0</th>\n",
       "      <td>Sunny</td>\n",
       "      <td>Hot</td>\n",
       "      <td>High</td>\n",
       "      <td>Weak</td>\n",
       "      <td>No</td>\n",
       "    </tr>\n",
       "    <tr>\n",
       "      <th>1</th>\n",
       "      <td>Sunny</td>\n",
       "      <td>Hot</td>\n",
       "      <td>High</td>\n",
       "      <td>Strong</td>\n",
       "      <td>No</td>\n",
       "    </tr>\n",
       "    <tr>\n",
       "      <th>2</th>\n",
       "      <td>Overcast</td>\n",
       "      <td>Hot</td>\n",
       "      <td>High</td>\n",
       "      <td>Weak</td>\n",
       "      <td>Yes</td>\n",
       "    </tr>\n",
       "    <tr>\n",
       "      <th>3</th>\n",
       "      <td>Rain</td>\n",
       "      <td>Mild</td>\n",
       "      <td>High</td>\n",
       "      <td>Weak</td>\n",
       "      <td>Yes</td>\n",
       "    </tr>\n",
       "    <tr>\n",
       "      <th>4</th>\n",
       "      <td>Rain</td>\n",
       "      <td>Cool</td>\n",
       "      <td>Normal</td>\n",
       "      <td>Weak</td>\n",
       "      <td>Yes</td>\n",
       "    </tr>\n",
       "  </tbody>\n",
       "</table>\n",
       "</div>"
      ],
      "text/plain": [
       "    outlook  temp humidity    wind play\n",
       "0     Sunny   Hot     High    Weak   No\n",
       "1     Sunny   Hot     High  Strong   No\n",
       "2  Overcast   Hot     High    Weak  Yes\n",
       "3      Rain  Mild     High    Weak  Yes\n",
       "4      Rain  Cool   Normal    Weak  Yes"
      ]
     },
     "execution_count": 7,
     "metadata": {
      "tags": []
     },
     "output_type": "execute_result"
    }
   ],
   "source": [
    "tennis.drop(['day'], axis=1, inplace=True)\n",
    "tennis.head()"
   ]
  },
  {
   "cell_type": "markdown",
   "metadata": {
    "id": "3ajOoQzC36Zc"
   },
   "source": [
    "### 3. 모든 변수를 LableEncoder를 사용하여 인코딩하고, 이후 잘 되었는지 확인하시오.\n",
    "데이터가 object의 범주형 변수이므로 인코딩이 필요합니다.  \n",
    "cf. LableEncoder는 객체로 선언하여 fit_transform()을 호출하여 레이블 인코딩을 수행합니다. \n",
    "\n",
    "다른 인코딩으로 진행하여도 무관합니다."
   ]
  },
  {
   "cell_type": "code",
   "execution_count": 8,
   "metadata": {
    "executionInfo": {
     "elapsed": 579,
     "status": "ok",
     "timestamp": 1620626759856,
     "user": {
      "displayName": "Jiwon Lee",
      "photoUrl": "https://lh6.googleusercontent.com/-ptQh3tMovsY/AAAAAAAAAAI/AAAAAAAAB94/jpFD-Tx1bGM/s64/photo.jpg",
      "userId": "11912804753565662736"
     },
     "user_tz": -540
    },
    "id": "wbns7KuC36Zd"
   },
   "outputs": [],
   "source": [
    "from sklearn.preprocessing import LabelEncoder\n",
    "lb = LabelEncoder()"
   ]
  },
  {
   "cell_type": "code",
   "execution_count": 9,
   "metadata": {
    "colab": {
     "base_uri": "https://localhost:8080/",
     "height": 191
    },
    "executionInfo": {
     "elapsed": 587,
     "status": "ok",
     "timestamp": 1620626760380,
     "user": {
      "displayName": "Jiwon Lee",
      "photoUrl": "https://lh6.googleusercontent.com/-ptQh3tMovsY/AAAAAAAAAAI/AAAAAAAAB94/jpFD-Tx1bGM/s64/photo.jpg",
      "userId": "11912804753565662736"
     },
     "user_tz": -540
    },
    "id": "cfdv1deL36Zd",
    "outputId": "55ca3d28-2218-4604-eb62-cb2ce39f4e6a"
   },
   "outputs": [
    {
     "data": {
      "text/html": [
       "<div>\n",
       "<style scoped>\n",
       "    .dataframe tbody tr th:only-of-type {\n",
       "        vertical-align: middle;\n",
       "    }\n",
       "\n",
       "    .dataframe tbody tr th {\n",
       "        vertical-align: top;\n",
       "    }\n",
       "\n",
       "    .dataframe thead th {\n",
       "        text-align: right;\n",
       "    }\n",
       "</style>\n",
       "<table border=\"1\" class=\"dataframe\">\n",
       "  <thead>\n",
       "    <tr style=\"text-align: right;\">\n",
       "      <th></th>\n",
       "      <th>outlook</th>\n",
       "      <th>temp</th>\n",
       "      <th>humidity</th>\n",
       "      <th>wind</th>\n",
       "      <th>play</th>\n",
       "    </tr>\n",
       "  </thead>\n",
       "  <tbody>\n",
       "    <tr>\n",
       "      <th>0</th>\n",
       "      <td>2</td>\n",
       "      <td>1</td>\n",
       "      <td>0</td>\n",
       "      <td>1</td>\n",
       "      <td>0</td>\n",
       "    </tr>\n",
       "    <tr>\n",
       "      <th>1</th>\n",
       "      <td>2</td>\n",
       "      <td>1</td>\n",
       "      <td>0</td>\n",
       "      <td>0</td>\n",
       "      <td>0</td>\n",
       "    </tr>\n",
       "    <tr>\n",
       "      <th>2</th>\n",
       "      <td>0</td>\n",
       "      <td>1</td>\n",
       "      <td>0</td>\n",
       "      <td>1</td>\n",
       "      <td>1</td>\n",
       "    </tr>\n",
       "    <tr>\n",
       "      <th>3</th>\n",
       "      <td>1</td>\n",
       "      <td>2</td>\n",
       "      <td>0</td>\n",
       "      <td>1</td>\n",
       "      <td>1</td>\n",
       "    </tr>\n",
       "    <tr>\n",
       "      <th>4</th>\n",
       "      <td>1</td>\n",
       "      <td>0</td>\n",
       "      <td>1</td>\n",
       "      <td>1</td>\n",
       "      <td>1</td>\n",
       "    </tr>\n",
       "  </tbody>\n",
       "</table>\n",
       "</div>"
      ],
      "text/plain": [
       "   outlook  temp  humidity  wind  play\n",
       "0        2     1         0     1     0\n",
       "1        2     1         0     0     0\n",
       "2        0     1         0     1     1\n",
       "3        1     2         0     1     1\n",
       "4        1     0         1     1     1"
      ]
     },
     "execution_count": 9,
     "metadata": {
      "tags": []
     },
     "output_type": "execute_result"
    }
   ],
   "source": [
    "tennis['outlook'] = lb.fit_transform(tennis['outlook'])\n",
    "tennis['temp'] = lb.fit_transform(tennis['temp'])\n",
    "tennis['humidity'] = lb.fit_transform(tennis['humidity'])\n",
    "tennis['wind'] = lb.fit_transform(tennis['wind'])\n",
    "tennis['play'] = lb.fit_transform(tennis['play'])\n",
    "\n",
    "tennis.head()"
   ]
  },
  {
   "cell_type": "code",
   "execution_count": 10,
   "metadata": {
    "colab": {
     "base_uri": "https://localhost:8080/"
    },
    "executionInfo": {
     "elapsed": 619,
     "status": "ok",
     "timestamp": 1620626760808,
     "user": {
      "displayName": "Jiwon Lee",
      "photoUrl": "https://lh6.googleusercontent.com/-ptQh3tMovsY/AAAAAAAAAAI/AAAAAAAAB94/jpFD-Tx1bGM/s64/photo.jpg",
      "userId": "11912804753565662736"
     },
     "user_tz": -540
    },
    "id": "sNZxvpbm36Zd",
    "outputId": "605f2f5c-6931-45a3-ee82-302a86595a3c"
   },
   "outputs": [
    {
     "data": {
      "text/plain": [
       "array([2, 0, 1])"
      ]
     },
     "execution_count": 10,
     "metadata": {
      "tags": []
     },
     "output_type": "execute_result"
    }
   ],
   "source": [
    "# 더 상세히 확인하고 싶다면\n",
    "tennis['outlook'].unique()"
   ]
  },
  {
   "cell_type": "markdown",
   "metadata": {
    "id": "IOleocQJ36Ze"
   },
   "source": [
    "### 4. play를 타깃 데이터인 y로, 나머지를 X 변수에 저장하고 train/test data로 나누시오.\n",
    "- test_size=0.3\n",
    "- random_state=52"
   ]
  },
  {
   "cell_type": "code",
   "execution_count": 11,
   "metadata": {
    "executionInfo": {
     "elapsed": 841,
     "status": "ok",
     "timestamp": 1620626762016,
     "user": {
      "displayName": "Jiwon Lee",
      "photoUrl": "https://lh6.googleusercontent.com/-ptQh3tMovsY/AAAAAAAAAAI/AAAAAAAAB94/jpFD-Tx1bGM/s64/photo.jpg",
      "userId": "11912804753565662736"
     },
     "user_tz": -540
    },
    "id": "ZYA1-vZY36Ze"
   },
   "outputs": [],
   "source": [
    "y = tennis['play']\n",
    "X = tennis.drop(['play'], axis=1)"
   ]
  },
  {
   "cell_type": "code",
   "execution_count": 12,
   "metadata": {
    "executionInfo": {
     "elapsed": 805,
     "status": "ok",
     "timestamp": 1620626762343,
     "user": {
      "displayName": "Jiwon Lee",
      "photoUrl": "https://lh6.googleusercontent.com/-ptQh3tMovsY/AAAAAAAAAAI/AAAAAAAAB94/jpFD-Tx1bGM/s64/photo.jpg",
      "userId": "11912804753565662736"
     },
     "user_tz": -540
    },
    "id": "6XanrAlK36Ze"
   },
   "outputs": [],
   "source": [
    "X_train, X_test, y_train, y_test = train_test_split(X, y, test_size=0.3, random_state=52)"
   ]
  },
  {
   "cell_type": "markdown",
   "metadata": {
    "id": "bdHO55p236Ze"
   },
   "source": [
    "### 5-1. 결정 트리(CART 알고리즘)를 사용하여 훈련 데이터를 fit하시오. 또한 테스트 데이터에 대해서 예측을 진행해보고 예측의 정확도를 출력하시오.\n",
    "\n",
    "* max_depth = 3\n",
    "* 예측 시에는 predict_proba 혹은 predict 함수를 사용할 것\n",
    "* 예측의 정확도는 score 함수를 사용하여 구할 것."
   ]
  },
  {
   "cell_type": "code",
   "execution_count": 13,
   "metadata": {
    "colab": {
     "base_uri": "https://localhost:8080/"
    },
    "executionInfo": {
     "elapsed": 704,
     "status": "ok",
     "timestamp": 1620626762782,
     "user": {
      "displayName": "Jiwon Lee",
      "photoUrl": "https://lh6.googleusercontent.com/-ptQh3tMovsY/AAAAAAAAAAI/AAAAAAAAB94/jpFD-Tx1bGM/s64/photo.jpg",
      "userId": "11912804753565662736"
     },
     "user_tz": -540
    },
    "id": "Bd1o7EqY36Zf",
    "outputId": "9eba39d9-ab98-4cca-b762-f10025ae735c"
   },
   "outputs": [
    {
     "data": {
      "text/plain": [
       "DecisionTreeClassifier(ccp_alpha=0.0, class_weight=None, criterion='gini',\n",
       "                       max_depth=3, max_features=None, max_leaf_nodes=None,\n",
       "                       min_impurity_decrease=0.0, min_impurity_split=None,\n",
       "                       min_samples_leaf=1, min_samples_split=2,\n",
       "                       min_weight_fraction_leaf=0.0, presort='deprecated',\n",
       "                       random_state=None, splitter='best')"
      ]
     },
     "execution_count": 13,
     "metadata": {
      "tags": []
     },
     "output_type": "execute_result"
    }
   ],
   "source": [
    "# 훈련 데이터 fit\n",
    "dt_clf_cart = DecisionTreeClassifier(criterion='gini', max_depth = 3) # criterion 옵션 조정 필요 없음.\n",
    "dt_clf_cart.fit(X_train, y_train)"
   ]
  },
  {
   "cell_type": "code",
   "execution_count": 14,
   "metadata": {
    "colab": {
     "base_uri": "https://localhost:8080/"
    },
    "executionInfo": {
     "elapsed": 862,
     "status": "ok",
     "timestamp": 1620626763304,
     "user": {
      "displayName": "Jiwon Lee",
      "photoUrl": "https://lh6.googleusercontent.com/-ptQh3tMovsY/AAAAAAAAAAI/AAAAAAAAB94/jpFD-Tx1bGM/s64/photo.jpg",
      "userId": "11912804753565662736"
     },
     "user_tz": -540
    },
    "id": "98evDhcL36Zf",
    "outputId": "8abc3411-8a0d-45a1-873b-067edc000b7d"
   },
   "outputs": [
    {
     "data": {
      "text/plain": [
       "(array([[1., 0.],\n",
       "        [1., 0.],\n",
       "        [0., 1.],\n",
       "        [1., 0.],\n",
       "        [1., 0.]]), 0.4)"
      ]
     },
     "execution_count": 14,
     "metadata": {
      "tags": []
     },
     "output_type": "execute_result"
    }
   ],
   "source": [
    "# 테스트 데이터 predict\n",
    "y_pred_cart = dt_clf_cart.predict_proba(X_test)\n",
    "# y_pred_cart = dt_clf_cart.predict(X_test)\n",
    "\n",
    "score_cart = dt_clf_cart.score(X_test, y_test)\n",
    "y_pred_cart, score_cart"
   ]
  },
  {
   "cell_type": "markdown",
   "metadata": {
    "id": "L7OKtOPB36Zf"
   },
   "source": [
    "### 5-2. 결정 트리(ID3 알고리즘)를 사용하여 훈련 데이터를 fit하시오. 또한 테스트 데이터에 대해서 예측을 진행해보고 예측의 정확도를 출력하시오.\n",
    "\n",
    "* max_depth = 3 \n",
    "* 예측 시에는 predict_proba 혹은 predict 함수를 사용할 것\n",
    "* 예측의 정확도는 score 함수를 사용하여 구할 것."
   ]
  },
  {
   "cell_type": "code",
   "execution_count": 15,
   "metadata": {
    "colab": {
     "base_uri": "https://localhost:8080/"
    },
    "executionInfo": {
     "elapsed": 818,
     "status": "ok",
     "timestamp": 1620626764211,
     "user": {
      "displayName": "Jiwon Lee",
      "photoUrl": "https://lh6.googleusercontent.com/-ptQh3tMovsY/AAAAAAAAAAI/AAAAAAAAB94/jpFD-Tx1bGM/s64/photo.jpg",
      "userId": "11912804753565662736"
     },
     "user_tz": -540
    },
    "id": "s8sp-7dW36Zg",
    "outputId": "9a827cd7-0363-4181-cd93-2932e14ddd21"
   },
   "outputs": [
    {
     "data": {
      "text/plain": [
       "DecisionTreeClassifier(ccp_alpha=0.0, class_weight=None, criterion='entropy',\n",
       "                       max_depth=3, max_features=None, max_leaf_nodes=None,\n",
       "                       min_impurity_decrease=0.0, min_impurity_split=None,\n",
       "                       min_samples_leaf=1, min_samples_split=2,\n",
       "                       min_weight_fraction_leaf=0.0, presort='deprecated',\n",
       "                       random_state=None, splitter='best')"
      ]
     },
     "execution_count": 15,
     "metadata": {
      "tags": []
     },
     "output_type": "execute_result"
    }
   ],
   "source": [
    "# 훈련 데이터 fit\n",
    "dt_clf_id3 = DecisionTreeClassifier(criterion = 'entropy', max_depth = 3)\n",
    "dt_clf_id3.fit(X_train, y_train)"
   ]
  },
  {
   "cell_type": "code",
   "execution_count": 16,
   "metadata": {
    "colab": {
     "base_uri": "https://localhost:8080/"
    },
    "executionInfo": {
     "elapsed": 776,
     "status": "ok",
     "timestamp": 1620626764528,
     "user": {
      "displayName": "Jiwon Lee",
      "photoUrl": "https://lh6.googleusercontent.com/-ptQh3tMovsY/AAAAAAAAAAI/AAAAAAAAB94/jpFD-Tx1bGM/s64/photo.jpg",
      "userId": "11912804753565662736"
     },
     "user_tz": -540
    },
    "id": "RucjiAJi36Zg",
    "outputId": "caf19dfc-9c71-4643-e84a-f29a0740ecd7"
   },
   "outputs": [
    {
     "data": {
      "text/plain": [
       "(array([[1., 0.],\n",
       "        [1., 0.],\n",
       "        [0., 1.],\n",
       "        [1., 0.],\n",
       "        [1., 0.]]), 0.4)"
      ]
     },
     "execution_count": 16,
     "metadata": {
      "tags": []
     },
     "output_type": "execute_result"
    }
   ],
   "source": [
    "# 테스트 데이터 predict\n",
    "y_pred_id3 = dt_clf_id3.predict_proba(X_test)\n",
    "\n",
    "score_id3 = dt_clf_id3.score(X_test, y_test)\n",
    "\n",
    "y_pred_id3, score_id3"
   ]
  },
  {
   "cell_type": "markdown",
   "metadata": {
    "id": "sKH9wmRV36Zg"
   },
   "source": [
    "### 6. graphviz를 사용하여 시각화를 진행하시오."
   ]
  },
  {
   "cell_type": "code",
   "execution_count": 17,
   "metadata": {
    "executionInfo": {
     "elapsed": 936,
     "status": "ok",
     "timestamp": 1620626768322,
     "user": {
      "displayName": "Jiwon Lee",
      "photoUrl": "https://lh6.googleusercontent.com/-ptQh3tMovsY/AAAAAAAAAAI/AAAAAAAAB94/jpFD-Tx1bGM/s64/photo.jpg",
      "userId": "11912804753565662736"
     },
     "user_tz": -540
    },
    "id": "UBGwdE9k36Zg"
   },
   "outputs": [],
   "source": [
    "#해당 코드를 실행\n",
    "from sklearn.tree import export_graphviz\n",
    "feature_names = tennis.columns.tolist()\n",
    "feature_names = feature_names[0:4]\n",
    "target_name = np.array(['Play No', 'Play Yes'])"
   ]
  },
  {
   "cell_type": "markdown",
   "metadata": {
    "id": "fP2CCSIA36Zh"
   },
   "source": [
    "* 5-1에서 만든 결정 트리(CART)를 시각화하시오.\n",
    "- 출력 코드 예시(다른 코드로 진행해도 무관함)\n",
    "\n",
    "```python\n",
    "import graphviz\n",
    "\n",
    "with open(\"tree.dot\") as f:\n",
    "    dot_graph = f.read()\n",
    "graphviz.Source(dot_graph)\n",
    "```\n",
    "\n",
    "- [graphviz 설치에 오류를 겪는다면 여기로](https://free-eunb.tistory.com/14)"
   ]
  },
  {
   "cell_type": "code",
   "execution_count": 18,
   "metadata": {
    "executionInfo": {
     "elapsed": 1160,
     "status": "ok",
     "timestamp": 1620626771986,
     "user": {
      "displayName": "Jiwon Lee",
      "photoUrl": "https://lh6.googleusercontent.com/-ptQh3tMovsY/AAAAAAAAAAI/AAAAAAAAB94/jpFD-Tx1bGM/s64/photo.jpg",
      "userId": "11912804753565662736"
     },
     "user_tz": -540
    },
    "id": "N7HT55n636Zh"
   },
   "outputs": [],
   "source": [
    "export_graphviz(\n",
    "        dt_clf_cart,\n",
    "        out_file='tree.dot',\n",
    "        feature_names=feature_names,\n",
    "        class_names=target_name,\n",
    "        rounded=True,\n",
    "        filled=True\n",
    "    )"
   ]
  },
  {
   "cell_type": "code",
   "execution_count": 19,
   "metadata": {
    "executionInfo": {
     "elapsed": 1140,
     "status": "ok",
     "timestamp": 1620626772488,
     "user": {
      "displayName": "Jiwon Lee",
      "photoUrl": "https://lh6.googleusercontent.com/-ptQh3tMovsY/AAAAAAAAAAI/AAAAAAAAB94/jpFD-Tx1bGM/s64/photo.jpg",
      "userId": "11912804753565662736"
     },
     "user_tz": -540
    },
    "id": "6pvNVAmQ36Zh"
   },
   "outputs": [],
   "source": [
    "# import graphviz에서 설치되지 않았다는 오류가 등장한다면,\n",
    "# pip install graphviz 코드를 사용하여 먼저 graphviz를 설치하세요."
   ]
  },
  {
   "cell_type": "code",
   "execution_count": 20,
   "metadata": {
    "colab": {
     "base_uri": "https://localhost:8080/",
     "height": 596
    },
    "executionInfo": {
     "elapsed": 1548,
     "status": "ok",
     "timestamp": 1620626773960,
     "user": {
      "displayName": "Jiwon Lee",
      "photoUrl": "https://lh6.googleusercontent.com/-ptQh3tMovsY/AAAAAAAAAAI/AAAAAAAAB94/jpFD-Tx1bGM/s64/photo.jpg",
      "userId": "11912804753565662736"
     },
     "user_tz": -540
    },
    "id": "XkLsNc0n36Zh",
    "outputId": "7c9c5eba-0d1f-482c-a4c7-7fb6e0751651",
    "scrolled": true
   },
   "outputs": [
    {
     "data": {
      "image/svg+xml": [
       "<?xml version=\"1.0\" encoding=\"UTF-8\" standalone=\"no\"?>\n",
       "<!DOCTYPE svg PUBLIC \"-//W3C//DTD SVG 1.1//EN\"\n",
       " \"http://www.w3.org/Graphics/SVG/1.1/DTD/svg11.dtd\">\n",
       "<!-- Generated by graphviz version 2.40.1 (20161225.0304)\n",
       " -->\n",
       "<!-- Title: Tree Pages: 1 -->\n",
       "<svg width=\"404pt\" height=\"433pt\"\n",
       " viewBox=\"0.00 0.00 404.00 433.00\" xmlns=\"http://www.w3.org/2000/svg\" xmlns:xlink=\"http://www.w3.org/1999/xlink\">\n",
       "<g id=\"graph0\" class=\"graph\" transform=\"scale(1 1) rotate(0) translate(4 429)\">\n",
       "<title>Tree</title>\n",
       "<polygon fill=\"#ffffff\" stroke=\"transparent\" points=\"-4,4 -4,-429 400,-429 400,4 -4,4\"/>\n",
       "<!-- 0 -->\n",
       "<g id=\"node1\" class=\"node\">\n",
       "<title>0</title>\n",
       "<path fill=\"#d7ebfa\" stroke=\"#000000\" d=\"M179,-425C179,-425 81,-425 81,-425 75,-425 69,-419 69,-413 69,-413 69,-354 69,-354 69,-348 75,-342 81,-342 81,-342 179,-342 179,-342 185,-342 191,-348 191,-354 191,-354 191,-413 191,-413 191,-419 185,-425 179,-425\"/>\n",
       "<text text-anchor=\"middle\" x=\"130\" y=\"-409.8\" font-family=\"Helvetica,sans-Serif\" font-size=\"14.00\" fill=\"#000000\">outlook &lt;= 0.5</text>\n",
       "<text text-anchor=\"middle\" x=\"130\" y=\"-394.8\" font-family=\"Helvetica,sans-Serif\" font-size=\"14.00\" fill=\"#000000\">gini = 0.494</text>\n",
       "<text text-anchor=\"middle\" x=\"130\" y=\"-379.8\" font-family=\"Helvetica,sans-Serif\" font-size=\"14.00\" fill=\"#000000\">samples = 9</text>\n",
       "<text text-anchor=\"middle\" x=\"130\" y=\"-364.8\" font-family=\"Helvetica,sans-Serif\" font-size=\"14.00\" fill=\"#000000\">value = [4, 5]</text>\n",
       "<text text-anchor=\"middle\" x=\"130\" y=\"-349.8\" font-family=\"Helvetica,sans-Serif\" font-size=\"14.00\" fill=\"#000000\">class = Play Yes</text>\n",
       "</g>\n",
       "<!-- 1 -->\n",
       "<g id=\"node2\" class=\"node\">\n",
       "<title>1</title>\n",
       "<path fill=\"#399de5\" stroke=\"#000000\" d=\"M110,-298.5C110,-298.5 12,-298.5 12,-298.5 6,-298.5 0,-292.5 0,-286.5 0,-286.5 0,-242.5 0,-242.5 0,-236.5 6,-230.5 12,-230.5 12,-230.5 110,-230.5 110,-230.5 116,-230.5 122,-236.5 122,-242.5 122,-242.5 122,-286.5 122,-286.5 122,-292.5 116,-298.5 110,-298.5\"/>\n",
       "<text text-anchor=\"middle\" x=\"61\" y=\"-283.3\" font-family=\"Helvetica,sans-Serif\" font-size=\"14.00\" fill=\"#000000\">gini = 0.0</text>\n",
       "<text text-anchor=\"middle\" x=\"61\" y=\"-268.3\" font-family=\"Helvetica,sans-Serif\" font-size=\"14.00\" fill=\"#000000\">samples = 4</text>\n",
       "<text text-anchor=\"middle\" x=\"61\" y=\"-253.3\" font-family=\"Helvetica,sans-Serif\" font-size=\"14.00\" fill=\"#000000\">value = [0, 4]</text>\n",
       "<text text-anchor=\"middle\" x=\"61\" y=\"-238.3\" font-family=\"Helvetica,sans-Serif\" font-size=\"14.00\" fill=\"#000000\">class = Play Yes</text>\n",
       "</g>\n",
       "<!-- 0&#45;&gt;1 -->\n",
       "<g id=\"edge1\" class=\"edge\">\n",
       "<title>0&#45;&gt;1</title>\n",
       "<path fill=\"none\" stroke=\"#000000\" d=\"M105.8671,-341.8796C99.4275,-330.7735 92.4566,-318.7513 85.9729,-307.5691\"/>\n",
       "<polygon fill=\"#000000\" stroke=\"#000000\" points=\"88.9409,-305.7102 80.8969,-298.8149 82.8852,-309.2215 88.9409,-305.7102\"/>\n",
       "<text text-anchor=\"middle\" x=\"74.4713\" y=\"-319.2751\" font-family=\"Helvetica,sans-Serif\" font-size=\"14.00\" fill=\"#000000\">True</text>\n",
       "</g>\n",
       "<!-- 2 -->\n",
       "<g id=\"node3\" class=\"node\">\n",
       "<title>2</title>\n",
       "<path fill=\"#eca06a\" stroke=\"#000000\" d=\"M245.5,-306C245.5,-306 152.5,-306 152.5,-306 146.5,-306 140.5,-300 140.5,-294 140.5,-294 140.5,-235 140.5,-235 140.5,-229 146.5,-223 152.5,-223 152.5,-223 245.5,-223 245.5,-223 251.5,-223 257.5,-229 257.5,-235 257.5,-235 257.5,-294 257.5,-294 257.5,-300 251.5,-306 245.5,-306\"/>\n",
       "<text text-anchor=\"middle\" x=\"199\" y=\"-290.8\" font-family=\"Helvetica,sans-Serif\" font-size=\"14.00\" fill=\"#000000\">humidity &lt;= 0.5</text>\n",
       "<text text-anchor=\"middle\" x=\"199\" y=\"-275.8\" font-family=\"Helvetica,sans-Serif\" font-size=\"14.00\" fill=\"#000000\">gini = 0.32</text>\n",
       "<text text-anchor=\"middle\" x=\"199\" y=\"-260.8\" font-family=\"Helvetica,sans-Serif\" font-size=\"14.00\" fill=\"#000000\">samples = 5</text>\n",
       "<text text-anchor=\"middle\" x=\"199\" y=\"-245.8\" font-family=\"Helvetica,sans-Serif\" font-size=\"14.00\" fill=\"#000000\">value = [4, 1]</text>\n",
       "<text text-anchor=\"middle\" x=\"199\" y=\"-230.8\" font-family=\"Helvetica,sans-Serif\" font-size=\"14.00\" fill=\"#000000\">class = Play No</text>\n",
       "</g>\n",
       "<!-- 0&#45;&gt;2 -->\n",
       "<g id=\"edge2\" class=\"edge\">\n",
       "<title>0&#45;&gt;2</title>\n",
       "<path fill=\"none\" stroke=\"#000000\" d=\"M154.1329,-341.8796C159.1461,-333.2335 164.4813,-324.0322 169.6581,-315.1042\"/>\n",
       "<polygon fill=\"#000000\" stroke=\"#000000\" points=\"172.7758,-316.7047 174.7641,-306.2981 166.7202,-313.1934 172.7758,-316.7047\"/>\n",
       "<text text-anchor=\"middle\" x=\"181.1897\" y=\"-326.7582\" font-family=\"Helvetica,sans-Serif\" font-size=\"14.00\" fill=\"#000000\">False</text>\n",
       "</g>\n",
       "<!-- 3 -->\n",
       "<g id=\"node4\" class=\"node\">\n",
       "<title>3</title>\n",
       "<path fill=\"#e58139\" stroke=\"#000000\" d=\"M177.5,-179.5C177.5,-179.5 84.5,-179.5 84.5,-179.5 78.5,-179.5 72.5,-173.5 72.5,-167.5 72.5,-167.5 72.5,-123.5 72.5,-123.5 72.5,-117.5 78.5,-111.5 84.5,-111.5 84.5,-111.5 177.5,-111.5 177.5,-111.5 183.5,-111.5 189.5,-117.5 189.5,-123.5 189.5,-123.5 189.5,-167.5 189.5,-167.5 189.5,-173.5 183.5,-179.5 177.5,-179.5\"/>\n",
       "<text text-anchor=\"middle\" x=\"131\" y=\"-164.3\" font-family=\"Helvetica,sans-Serif\" font-size=\"14.00\" fill=\"#000000\">gini = 0.0</text>\n",
       "<text text-anchor=\"middle\" x=\"131\" y=\"-149.3\" font-family=\"Helvetica,sans-Serif\" font-size=\"14.00\" fill=\"#000000\">samples = 3</text>\n",
       "<text text-anchor=\"middle\" x=\"131\" y=\"-134.3\" font-family=\"Helvetica,sans-Serif\" font-size=\"14.00\" fill=\"#000000\">value = [3, 0]</text>\n",
       "<text text-anchor=\"middle\" x=\"131\" y=\"-119.3\" font-family=\"Helvetica,sans-Serif\" font-size=\"14.00\" fill=\"#000000\">class = Play No</text>\n",
       "</g>\n",
       "<!-- 2&#45;&gt;3 -->\n",
       "<g id=\"edge3\" class=\"edge\">\n",
       "<title>2&#45;&gt;3</title>\n",
       "<path fill=\"none\" stroke=\"#000000\" d=\"M175.2169,-222.8796C168.8706,-211.7735 162.0007,-199.7513 155.6109,-188.5691\"/>\n",
       "<polygon fill=\"#000000\" stroke=\"#000000\" points=\"158.6088,-186.7609 150.6085,-179.8149 152.5311,-190.2339 158.6088,-186.7609\"/>\n",
       "</g>\n",
       "<!-- 4 -->\n",
       "<g id=\"node5\" class=\"node\">\n",
       "<title>4</title>\n",
       "<path fill=\"#ffffff\" stroke=\"#000000\" d=\"M312.5,-187C312.5,-187 219.5,-187 219.5,-187 213.5,-187 207.5,-181 207.5,-175 207.5,-175 207.5,-116 207.5,-116 207.5,-110 213.5,-104 219.5,-104 219.5,-104 312.5,-104 312.5,-104 318.5,-104 324.5,-110 324.5,-116 324.5,-116 324.5,-175 324.5,-175 324.5,-181 318.5,-187 312.5,-187\"/>\n",
       "<text text-anchor=\"middle\" x=\"266\" y=\"-171.8\" font-family=\"Helvetica,sans-Serif\" font-size=\"14.00\" fill=\"#000000\">temp &lt;= 1.0</text>\n",
       "<text text-anchor=\"middle\" x=\"266\" y=\"-156.8\" font-family=\"Helvetica,sans-Serif\" font-size=\"14.00\" fill=\"#000000\">gini = 0.5</text>\n",
       "<text text-anchor=\"middle\" x=\"266\" y=\"-141.8\" font-family=\"Helvetica,sans-Serif\" font-size=\"14.00\" fill=\"#000000\">samples = 2</text>\n",
       "<text text-anchor=\"middle\" x=\"266\" y=\"-126.8\" font-family=\"Helvetica,sans-Serif\" font-size=\"14.00\" fill=\"#000000\">value = [1, 1]</text>\n",
       "<text text-anchor=\"middle\" x=\"266\" y=\"-111.8\" font-family=\"Helvetica,sans-Serif\" font-size=\"14.00\" fill=\"#000000\">class = Play No</text>\n",
       "</g>\n",
       "<!-- 2&#45;&gt;4 -->\n",
       "<g id=\"edge4\" class=\"edge\">\n",
       "<title>2&#45;&gt;4</title>\n",
       "<path fill=\"none\" stroke=\"#000000\" d=\"M222.4333,-222.8796C227.3013,-214.2335 232.4819,-205.0322 237.5086,-196.1042\"/>\n",
       "<polygon fill=\"#000000\" stroke=\"#000000\" points=\"240.6103,-197.729 242.4666,-187.2981 234.5107,-194.2947 240.6103,-197.729\"/>\n",
       "</g>\n",
       "<!-- 5 -->\n",
       "<g id=\"node6\" class=\"node\">\n",
       "<title>5</title>\n",
       "<path fill=\"#e58139\" stroke=\"#000000\" d=\"M243.5,-68C243.5,-68 150.5,-68 150.5,-68 144.5,-68 138.5,-62 138.5,-56 138.5,-56 138.5,-12 138.5,-12 138.5,-6 144.5,0 150.5,0 150.5,0 243.5,0 243.5,0 249.5,0 255.5,-6 255.5,-12 255.5,-12 255.5,-56 255.5,-56 255.5,-62 249.5,-68 243.5,-68\"/>\n",
       "<text text-anchor=\"middle\" x=\"197\" y=\"-52.8\" font-family=\"Helvetica,sans-Serif\" font-size=\"14.00\" fill=\"#000000\">gini = 0.0</text>\n",
       "<text text-anchor=\"middle\" x=\"197\" y=\"-37.8\" font-family=\"Helvetica,sans-Serif\" font-size=\"14.00\" fill=\"#000000\">samples = 1</text>\n",
       "<text text-anchor=\"middle\" x=\"197\" y=\"-22.8\" font-family=\"Helvetica,sans-Serif\" font-size=\"14.00\" fill=\"#000000\">value = [1, 0]</text>\n",
       "<text text-anchor=\"middle\" x=\"197\" y=\"-7.8\" font-family=\"Helvetica,sans-Serif\" font-size=\"14.00\" fill=\"#000000\">class = Play No</text>\n",
       "</g>\n",
       "<!-- 4&#45;&gt;5 -->\n",
       "<g id=\"edge5\" class=\"edge\">\n",
       "<title>4&#45;&gt;5</title>\n",
       "<path fill=\"none\" stroke=\"#000000\" d=\"M240.3069,-103.9815C234.8469,-95.1585 229.0716,-85.8258 223.5793,-76.9506\"/>\n",
       "<polygon fill=\"#000000\" stroke=\"#000000\" points=\"226.442,-74.9254 218.2035,-68.2637 220.4896,-78.609 226.442,-74.9254\"/>\n",
       "</g>\n",
       "<!-- 6 -->\n",
       "<g id=\"node7\" class=\"node\">\n",
       "<title>6</title>\n",
       "<path fill=\"#399de5\" stroke=\"#000000\" d=\"M384,-68C384,-68 286,-68 286,-68 280,-68 274,-62 274,-56 274,-56 274,-12 274,-12 274,-6 280,0 286,0 286,0 384,0 384,0 390,0 396,-6 396,-12 396,-12 396,-56 396,-56 396,-62 390,-68 384,-68\"/>\n",
       "<text text-anchor=\"middle\" x=\"335\" y=\"-52.8\" font-family=\"Helvetica,sans-Serif\" font-size=\"14.00\" fill=\"#000000\">gini = 0.0</text>\n",
       "<text text-anchor=\"middle\" x=\"335\" y=\"-37.8\" font-family=\"Helvetica,sans-Serif\" font-size=\"14.00\" fill=\"#000000\">samples = 1</text>\n",
       "<text text-anchor=\"middle\" x=\"335\" y=\"-22.8\" font-family=\"Helvetica,sans-Serif\" font-size=\"14.00\" fill=\"#000000\">value = [0, 1]</text>\n",
       "<text text-anchor=\"middle\" x=\"335\" y=\"-7.8\" font-family=\"Helvetica,sans-Serif\" font-size=\"14.00\" fill=\"#000000\">class = Play Yes</text>\n",
       "</g>\n",
       "<!-- 4&#45;&gt;6 -->\n",
       "<g id=\"edge6\" class=\"edge\">\n",
       "<title>4&#45;&gt;6</title>\n",
       "<path fill=\"none\" stroke=\"#000000\" d=\"M291.6931,-103.9815C297.1531,-95.1585 302.9284,-85.8258 308.4207,-76.9506\"/>\n",
       "<polygon fill=\"#000000\" stroke=\"#000000\" points=\"311.5104,-78.609 313.7965,-68.2637 305.558,-74.9254 311.5104,-78.609\"/>\n",
       "</g>\n",
       "</g>\n",
       "</svg>\n"
      ],
      "text/plain": [
       "<graphviz.files.Source at 0x7f28a8604250>"
      ]
     },
     "execution_count": 20,
     "metadata": {
      "tags": []
     },
     "output_type": "execute_result"
    }
   ],
   "source": [
    "import graphviz\n",
    "\n",
    "with open(\"tree.dot\") as f:\n",
    "    dot_graph = f.read()\n",
    "graphviz.Source(dot_graph)"
   ]
  },
  {
   "cell_type": "markdown",
   "metadata": {},
   "source": [
    "`Bonus!` 결정 트리에서 깊이 1의 오른쪽 노드의 지니 계수를 실제로 계산해보고, 그 값을 트리의 값과 비교하시오."
   ]
  },
  {
   "cell_type": "code",
   "execution_count": 1,
   "metadata": {},
   "outputs": [
    {
     "data": {
      "text/plain": [
       "0.31999999999999984"
      ]
     },
     "execution_count": 1,
     "metadata": {},
     "output_type": "execute_result"
    }
   ],
   "source": [
    "1-(4/5)**2-(1/5)**2"
   ]
  },
  {
   "cell_type": "markdown",
   "metadata": {
    "id": "oI3FCwFq36Zi"
   },
   "source": [
    "* 5-2에서 만든 결정트리(ID3)를 시각화하시오."
   ]
  },
  {
   "cell_type": "code",
   "execution_count": 21,
   "metadata": {
    "executionInfo": {
     "elapsed": 776,
     "status": "ok",
     "timestamp": 1620626777677,
     "user": {
      "displayName": "Jiwon Lee",
      "photoUrl": "https://lh6.googleusercontent.com/-ptQh3tMovsY/AAAAAAAAAAI/AAAAAAAAB94/jpFD-Tx1bGM/s64/photo.jpg",
      "userId": "11912804753565662736"
     },
     "user_tz": -540
    },
    "id": "7o4ZmUX836Zi"
   },
   "outputs": [],
   "source": [
    "export_graphviz(\n",
    "        dt_clf_id3,\n",
    "        out_file='tree.dot',\n",
    "        feature_names=feature_names,\n",
    "        class_names=target_name,\n",
    "        rounded=True,\n",
    "        filled=True\n",
    "    )"
   ]
  },
  {
   "cell_type": "code",
   "execution_count": 22,
   "metadata": {
    "colab": {
     "base_uri": "https://localhost:8080/",
     "height": 596
    },
    "executionInfo": {
     "elapsed": 726,
     "status": "ok",
     "timestamp": 1620626778771,
     "user": {
      "displayName": "Jiwon Lee",
      "photoUrl": "https://lh6.googleusercontent.com/-ptQh3tMovsY/AAAAAAAAAAI/AAAAAAAAB94/jpFD-Tx1bGM/s64/photo.jpg",
      "userId": "11912804753565662736"
     },
     "user_tz": -540
    },
    "id": "KHyLPNYE36Zi",
    "outputId": "14df9e80-e157-4019-c986-21112ceece73"
   },
   "outputs": [
    {
     "data": {
      "image/svg+xml": [
       "<?xml version=\"1.0\" encoding=\"UTF-8\" standalone=\"no\"?>\n",
       "<!DOCTYPE svg PUBLIC \"-//W3C//DTD SVG 1.1//EN\"\n",
       " \"http://www.w3.org/Graphics/SVG/1.1/DTD/svg11.dtd\">\n",
       "<!-- Generated by graphviz version 2.40.1 (20161225.0304)\n",
       " -->\n",
       "<!-- Title: Tree Pages: 1 -->\n",
       "<svg width=\"404pt\" height=\"433pt\"\n",
       " viewBox=\"0.00 0.00 404.00 433.00\" xmlns=\"http://www.w3.org/2000/svg\" xmlns:xlink=\"http://www.w3.org/1999/xlink\">\n",
       "<g id=\"graph0\" class=\"graph\" transform=\"scale(1 1) rotate(0) translate(4 429)\">\n",
       "<title>Tree</title>\n",
       "<polygon fill=\"#ffffff\" stroke=\"transparent\" points=\"-4,4 -4,-429 400,-429 400,4 -4,4\"/>\n",
       "<!-- 0 -->\n",
       "<g id=\"node1\" class=\"node\">\n",
       "<title>0</title>\n",
       "<path fill=\"#d7ebfa\" stroke=\"#000000\" d=\"M179,-425C179,-425 81,-425 81,-425 75,-425 69,-419 69,-413 69,-413 69,-354 69,-354 69,-348 75,-342 81,-342 81,-342 179,-342 179,-342 185,-342 191,-348 191,-354 191,-354 191,-413 191,-413 191,-419 185,-425 179,-425\"/>\n",
       "<text text-anchor=\"middle\" x=\"130\" y=\"-409.8\" font-family=\"Helvetica,sans-Serif\" font-size=\"14.00\" fill=\"#000000\">outlook &lt;= 0.5</text>\n",
       "<text text-anchor=\"middle\" x=\"130\" y=\"-394.8\" font-family=\"Helvetica,sans-Serif\" font-size=\"14.00\" fill=\"#000000\">entropy = 0.991</text>\n",
       "<text text-anchor=\"middle\" x=\"130\" y=\"-379.8\" font-family=\"Helvetica,sans-Serif\" font-size=\"14.00\" fill=\"#000000\">samples = 9</text>\n",
       "<text text-anchor=\"middle\" x=\"130\" y=\"-364.8\" font-family=\"Helvetica,sans-Serif\" font-size=\"14.00\" fill=\"#000000\">value = [4, 5]</text>\n",
       "<text text-anchor=\"middle\" x=\"130\" y=\"-349.8\" font-family=\"Helvetica,sans-Serif\" font-size=\"14.00\" fill=\"#000000\">class = Play Yes</text>\n",
       "</g>\n",
       "<!-- 1 -->\n",
       "<g id=\"node2\" class=\"node\">\n",
       "<title>1</title>\n",
       "<path fill=\"#399de5\" stroke=\"#000000\" d=\"M110,-298.5C110,-298.5 12,-298.5 12,-298.5 6,-298.5 0,-292.5 0,-286.5 0,-286.5 0,-242.5 0,-242.5 0,-236.5 6,-230.5 12,-230.5 12,-230.5 110,-230.5 110,-230.5 116,-230.5 122,-236.5 122,-242.5 122,-242.5 122,-286.5 122,-286.5 122,-292.5 116,-298.5 110,-298.5\"/>\n",
       "<text text-anchor=\"middle\" x=\"61\" y=\"-283.3\" font-family=\"Helvetica,sans-Serif\" font-size=\"14.00\" fill=\"#000000\">entropy = 0.0</text>\n",
       "<text text-anchor=\"middle\" x=\"61\" y=\"-268.3\" font-family=\"Helvetica,sans-Serif\" font-size=\"14.00\" fill=\"#000000\">samples = 4</text>\n",
       "<text text-anchor=\"middle\" x=\"61\" y=\"-253.3\" font-family=\"Helvetica,sans-Serif\" font-size=\"14.00\" fill=\"#000000\">value = [0, 4]</text>\n",
       "<text text-anchor=\"middle\" x=\"61\" y=\"-238.3\" font-family=\"Helvetica,sans-Serif\" font-size=\"14.00\" fill=\"#000000\">class = Play Yes</text>\n",
       "</g>\n",
       "<!-- 0&#45;&gt;1 -->\n",
       "<g id=\"edge1\" class=\"edge\">\n",
       "<title>0&#45;&gt;1</title>\n",
       "<path fill=\"none\" stroke=\"#000000\" d=\"M105.8671,-341.8796C99.4275,-330.7735 92.4566,-318.7513 85.9729,-307.5691\"/>\n",
       "<polygon fill=\"#000000\" stroke=\"#000000\" points=\"88.9409,-305.7102 80.8969,-298.8149 82.8852,-309.2215 88.9409,-305.7102\"/>\n",
       "<text text-anchor=\"middle\" x=\"74.4713\" y=\"-319.2751\" font-family=\"Helvetica,sans-Serif\" font-size=\"14.00\" fill=\"#000000\">True</text>\n",
       "</g>\n",
       "<!-- 2 -->\n",
       "<g id=\"node3\" class=\"node\">\n",
       "<title>2</title>\n",
       "<path fill=\"#eca06a\" stroke=\"#000000\" d=\"M246,-306C246,-306 152,-306 152,-306 146,-306 140,-300 140,-294 140,-294 140,-235 140,-235 140,-229 146,-223 152,-223 152,-223 246,-223 246,-223 252,-223 258,-229 258,-235 258,-235 258,-294 258,-294 258,-300 252,-306 246,-306\"/>\n",
       "<text text-anchor=\"middle\" x=\"199\" y=\"-290.8\" font-family=\"Helvetica,sans-Serif\" font-size=\"14.00\" fill=\"#000000\">humidity &lt;= 0.5</text>\n",
       "<text text-anchor=\"middle\" x=\"199\" y=\"-275.8\" font-family=\"Helvetica,sans-Serif\" font-size=\"14.00\" fill=\"#000000\">entropy = 0.722</text>\n",
       "<text text-anchor=\"middle\" x=\"199\" y=\"-260.8\" font-family=\"Helvetica,sans-Serif\" font-size=\"14.00\" fill=\"#000000\">samples = 5</text>\n",
       "<text text-anchor=\"middle\" x=\"199\" y=\"-245.8\" font-family=\"Helvetica,sans-Serif\" font-size=\"14.00\" fill=\"#000000\">value = [4, 1]</text>\n",
       "<text text-anchor=\"middle\" x=\"199\" y=\"-230.8\" font-family=\"Helvetica,sans-Serif\" font-size=\"14.00\" fill=\"#000000\">class = Play No</text>\n",
       "</g>\n",
       "<!-- 0&#45;&gt;2 -->\n",
       "<g id=\"edge2\" class=\"edge\">\n",
       "<title>0&#45;&gt;2</title>\n",
       "<path fill=\"none\" stroke=\"#000000\" d=\"M154.1329,-341.8796C159.1461,-333.2335 164.4813,-324.0322 169.6581,-315.1042\"/>\n",
       "<polygon fill=\"#000000\" stroke=\"#000000\" points=\"172.7758,-316.7047 174.7641,-306.2981 166.7202,-313.1934 172.7758,-316.7047\"/>\n",
       "<text text-anchor=\"middle\" x=\"181.1897\" y=\"-326.7582\" font-family=\"Helvetica,sans-Serif\" font-size=\"14.00\" fill=\"#000000\">False</text>\n",
       "</g>\n",
       "<!-- 3 -->\n",
       "<g id=\"node4\" class=\"node\">\n",
       "<title>3</title>\n",
       "<path fill=\"#e58139\" stroke=\"#000000\" d=\"M177.5,-179.5C177.5,-179.5 84.5,-179.5 84.5,-179.5 78.5,-179.5 72.5,-173.5 72.5,-167.5 72.5,-167.5 72.5,-123.5 72.5,-123.5 72.5,-117.5 78.5,-111.5 84.5,-111.5 84.5,-111.5 177.5,-111.5 177.5,-111.5 183.5,-111.5 189.5,-117.5 189.5,-123.5 189.5,-123.5 189.5,-167.5 189.5,-167.5 189.5,-173.5 183.5,-179.5 177.5,-179.5\"/>\n",
       "<text text-anchor=\"middle\" x=\"131\" y=\"-164.3\" font-family=\"Helvetica,sans-Serif\" font-size=\"14.00\" fill=\"#000000\">entropy = 0.0</text>\n",
       "<text text-anchor=\"middle\" x=\"131\" y=\"-149.3\" font-family=\"Helvetica,sans-Serif\" font-size=\"14.00\" fill=\"#000000\">samples = 3</text>\n",
       "<text text-anchor=\"middle\" x=\"131\" y=\"-134.3\" font-family=\"Helvetica,sans-Serif\" font-size=\"14.00\" fill=\"#000000\">value = [3, 0]</text>\n",
       "<text text-anchor=\"middle\" x=\"131\" y=\"-119.3\" font-family=\"Helvetica,sans-Serif\" font-size=\"14.00\" fill=\"#000000\">class = Play No</text>\n",
       "</g>\n",
       "<!-- 2&#45;&gt;3 -->\n",
       "<g id=\"edge3\" class=\"edge\">\n",
       "<title>2&#45;&gt;3</title>\n",
       "<path fill=\"none\" stroke=\"#000000\" d=\"M175.2169,-222.8796C168.8706,-211.7735 162.0007,-199.7513 155.6109,-188.5691\"/>\n",
       "<polygon fill=\"#000000\" stroke=\"#000000\" points=\"158.6088,-186.7609 150.6085,-179.8149 152.5311,-190.2339 158.6088,-186.7609\"/>\n",
       "</g>\n",
       "<!-- 4 -->\n",
       "<g id=\"node5\" class=\"node\">\n",
       "<title>4</title>\n",
       "<path fill=\"#ffffff\" stroke=\"#000000\" d=\"M312.5,-187C312.5,-187 219.5,-187 219.5,-187 213.5,-187 207.5,-181 207.5,-175 207.5,-175 207.5,-116 207.5,-116 207.5,-110 213.5,-104 219.5,-104 219.5,-104 312.5,-104 312.5,-104 318.5,-104 324.5,-110 324.5,-116 324.5,-116 324.5,-175 324.5,-175 324.5,-181 318.5,-187 312.5,-187\"/>\n",
       "<text text-anchor=\"middle\" x=\"266\" y=\"-171.8\" font-family=\"Helvetica,sans-Serif\" font-size=\"14.00\" fill=\"#000000\">temp &lt;= 1.0</text>\n",
       "<text text-anchor=\"middle\" x=\"266\" y=\"-156.8\" font-family=\"Helvetica,sans-Serif\" font-size=\"14.00\" fill=\"#000000\">entropy = 1.0</text>\n",
       "<text text-anchor=\"middle\" x=\"266\" y=\"-141.8\" font-family=\"Helvetica,sans-Serif\" font-size=\"14.00\" fill=\"#000000\">samples = 2</text>\n",
       "<text text-anchor=\"middle\" x=\"266\" y=\"-126.8\" font-family=\"Helvetica,sans-Serif\" font-size=\"14.00\" fill=\"#000000\">value = [1, 1]</text>\n",
       "<text text-anchor=\"middle\" x=\"266\" y=\"-111.8\" font-family=\"Helvetica,sans-Serif\" font-size=\"14.00\" fill=\"#000000\">class = Play No</text>\n",
       "</g>\n",
       "<!-- 2&#45;&gt;4 -->\n",
       "<g id=\"edge4\" class=\"edge\">\n",
       "<title>2&#45;&gt;4</title>\n",
       "<path fill=\"none\" stroke=\"#000000\" d=\"M222.4333,-222.8796C227.3013,-214.2335 232.4819,-205.0322 237.5086,-196.1042\"/>\n",
       "<polygon fill=\"#000000\" stroke=\"#000000\" points=\"240.6103,-197.729 242.4666,-187.2981 234.5107,-194.2947 240.6103,-197.729\"/>\n",
       "</g>\n",
       "<!-- 5 -->\n",
       "<g id=\"node6\" class=\"node\">\n",
       "<title>5</title>\n",
       "<path fill=\"#e58139\" stroke=\"#000000\" d=\"M243.5,-68C243.5,-68 150.5,-68 150.5,-68 144.5,-68 138.5,-62 138.5,-56 138.5,-56 138.5,-12 138.5,-12 138.5,-6 144.5,0 150.5,0 150.5,0 243.5,0 243.5,0 249.5,0 255.5,-6 255.5,-12 255.5,-12 255.5,-56 255.5,-56 255.5,-62 249.5,-68 243.5,-68\"/>\n",
       "<text text-anchor=\"middle\" x=\"197\" y=\"-52.8\" font-family=\"Helvetica,sans-Serif\" font-size=\"14.00\" fill=\"#000000\">entropy = 0.0</text>\n",
       "<text text-anchor=\"middle\" x=\"197\" y=\"-37.8\" font-family=\"Helvetica,sans-Serif\" font-size=\"14.00\" fill=\"#000000\">samples = 1</text>\n",
       "<text text-anchor=\"middle\" x=\"197\" y=\"-22.8\" font-family=\"Helvetica,sans-Serif\" font-size=\"14.00\" fill=\"#000000\">value = [1, 0]</text>\n",
       "<text text-anchor=\"middle\" x=\"197\" y=\"-7.8\" font-family=\"Helvetica,sans-Serif\" font-size=\"14.00\" fill=\"#000000\">class = Play No</text>\n",
       "</g>\n",
       "<!-- 4&#45;&gt;5 -->\n",
       "<g id=\"edge5\" class=\"edge\">\n",
       "<title>4&#45;&gt;5</title>\n",
       "<path fill=\"none\" stroke=\"#000000\" d=\"M240.3069,-103.9815C234.8469,-95.1585 229.0716,-85.8258 223.5793,-76.9506\"/>\n",
       "<polygon fill=\"#000000\" stroke=\"#000000\" points=\"226.442,-74.9254 218.2035,-68.2637 220.4896,-78.609 226.442,-74.9254\"/>\n",
       "</g>\n",
       "<!-- 6 -->\n",
       "<g id=\"node7\" class=\"node\">\n",
       "<title>6</title>\n",
       "<path fill=\"#399de5\" stroke=\"#000000\" d=\"M384,-68C384,-68 286,-68 286,-68 280,-68 274,-62 274,-56 274,-56 274,-12 274,-12 274,-6 280,0 286,0 286,0 384,0 384,0 390,0 396,-6 396,-12 396,-12 396,-56 396,-56 396,-62 390,-68 384,-68\"/>\n",
       "<text text-anchor=\"middle\" x=\"335\" y=\"-52.8\" font-family=\"Helvetica,sans-Serif\" font-size=\"14.00\" fill=\"#000000\">entropy = 0.0</text>\n",
       "<text text-anchor=\"middle\" x=\"335\" y=\"-37.8\" font-family=\"Helvetica,sans-Serif\" font-size=\"14.00\" fill=\"#000000\">samples = 1</text>\n",
       "<text text-anchor=\"middle\" x=\"335\" y=\"-22.8\" font-family=\"Helvetica,sans-Serif\" font-size=\"14.00\" fill=\"#000000\">value = [0, 1]</text>\n",
       "<text text-anchor=\"middle\" x=\"335\" y=\"-7.8\" font-family=\"Helvetica,sans-Serif\" font-size=\"14.00\" fill=\"#000000\">class = Play Yes</text>\n",
       "</g>\n",
       "<!-- 4&#45;&gt;6 -->\n",
       "<g id=\"edge6\" class=\"edge\">\n",
       "<title>4&#45;&gt;6</title>\n",
       "<path fill=\"none\" stroke=\"#000000\" d=\"M291.6931,-103.9815C297.1531,-95.1585 302.9284,-85.8258 308.4207,-76.9506\"/>\n",
       "<polygon fill=\"#000000\" stroke=\"#000000\" points=\"311.5104,-78.609 313.7965,-68.2637 305.558,-74.9254 311.5104,-78.609\"/>\n",
       "</g>\n",
       "</g>\n",
       "</svg>\n"
      ],
      "text/plain": [
       "<graphviz.files.Source at 0x7f2870dd6250>"
      ]
     },
     "execution_count": 22,
     "metadata": {
      "tags": []
     },
     "output_type": "execute_result"
    }
   ],
   "source": [
    "with open(\"tree.dot\") as f:\n",
    "    dot_graph = f.read()\n",
    "graphviz.Source(dot_graph)"
   ]
  },
  {
   "cell_type": "markdown",
   "metadata": {
    "id": "8IeuRVxW36Zi"
   },
   "source": [
    "## [Part 2] Decision Tree를 사용한 회귀 문제입니다.\n",
    "- data: 임의의 2차식으로 만든 데이터셋 + 잡음"
   ]
  },
  {
   "cell_type": "markdown",
   "metadata": {
    "id": "wguPckGy36Zj"
   },
   "source": [
    "### 아래 코드를 그대로 실행하여 data 생성하기"
   ]
  },
  {
   "cell_type": "code",
   "execution_count": 23,
   "metadata": {
    "executionInfo": {
     "elapsed": 623,
     "status": "ok",
     "timestamp": 1620626781821,
     "user": {
      "displayName": "Jiwon Lee",
      "photoUrl": "https://lh6.googleusercontent.com/-ptQh3tMovsY/AAAAAAAAAAI/AAAAAAAAB94/jpFD-Tx1bGM/s64/photo.jpg",
      "userId": "11912804753565662736"
     },
     "user_tz": -540
    },
    "id": "PYocyXCN36Zj"
   },
   "outputs": [],
   "source": [
    "np.random.seed(1)\n",
    "m = 200\n",
    "X = np.random.rand(m, 1)\n",
    "y = 6 * (X - 0.5) ** 2\n",
    "y = y + np.random.randn(m, 1) / 10"
   ]
  },
  {
   "cell_type": "markdown",
   "metadata": {
    "id": "JrTbMhyH36Zj"
   },
   "source": [
    "## max_leaf_nodes 규제 파라미터 실습\n",
    "- max_leaf_nodes는 리프 노드의 최대 수를 규제하는 파라미터이다"
   ]
  },
  {
   "cell_type": "markdown",
   "metadata": {
    "id": "VAPCnV_n36Zj"
   },
   "source": [
    "### 1. 사이킷런의 DecisionTreeRegressor를 사용하여 데이터를 두가지 다른 parameter로 fit 하시오.\n",
    "#### 첫번째 parameter: \n",
    "- 모델명= tree_reg_1, max_leaf_nodes=50, random_state=1 \n",
    "\n",
    "#### 두번째 parameter: \n",
    "- 모델명= tree_reg_2, max_leaf_nodes=10, random_state=1"
   ]
  },
  {
   "cell_type": "code",
   "execution_count": 24,
   "metadata": {
    "colab": {
     "base_uri": "https://localhost:8080/"
    },
    "executionInfo": {
     "elapsed": 721,
     "status": "ok",
     "timestamp": 1620626784808,
     "user": {
      "displayName": "Jiwon Lee",
      "photoUrl": "https://lh6.googleusercontent.com/-ptQh3tMovsY/AAAAAAAAAAI/AAAAAAAAB94/jpFD-Tx1bGM/s64/photo.jpg",
      "userId": "11912804753565662736"
     },
     "user_tz": -540
    },
    "id": "j5EQEQ0L36Zk",
    "outputId": "008c83c4-a1cd-4202-9863-ddb0cd4b7843"
   },
   "outputs": [
    {
     "data": {
      "text/plain": [
       "DecisionTreeRegressor(ccp_alpha=0.0, criterion='mse', max_depth=None,\n",
       "                      max_features=None, max_leaf_nodes=10,\n",
       "                      min_impurity_decrease=0.0, min_impurity_split=None,\n",
       "                      min_samples_leaf=1, min_samples_split=2,\n",
       "                      min_weight_fraction_leaf=0.0, presort='deprecated',\n",
       "                      random_state=1, splitter='best')"
      ]
     },
     "execution_count": 24,
     "metadata": {
      "tags": []
     },
     "output_type": "execute_result"
    }
   ],
   "source": [
    "#첫번째 parameter\n",
    "from sklearn.tree import DecisionTreeRegressor\n",
    "\n",
    "tree_reg_1 = DecisionTreeRegressor( max_leaf_nodes=50, random_state=1)\n",
    "tree_reg_1.fit(X, y)\n",
    "\n",
    "#두번째 parameter\n",
    "tree_reg_2 = DecisionTreeRegressor( max_leaf_nodes=10, random_state=1)\n",
    "tree_reg_2.fit(X, y)"
   ]
  },
  {
   "cell_type": "markdown",
   "metadata": {
    "id": "QK-IB-bb36Zk"
   },
   "source": [
    "### 2. 다음 코드를 그대로 실행시켜 위에서 만든 두가지 모델을 시각화한 후, 어느 모델이 더 적절한 회귀를 했는지 판단하시오."
   ]
  },
  {
   "cell_type": "code",
   "execution_count": 25,
   "metadata": {
    "colab": {
     "base_uri": "https://localhost:8080/",
     "height": 315
    },
    "executionInfo": {
     "elapsed": 2113,
     "status": "ok",
     "timestamp": 1620626788593,
     "user": {
      "displayName": "Jiwon Lee",
      "photoUrl": "https://lh6.googleusercontent.com/-ptQh3tMovsY/AAAAAAAAAAI/AAAAAAAAB94/jpFD-Tx1bGM/s64/photo.jpg",
      "userId": "11912804753565662736"
     },
     "user_tz": -540
    },
    "id": "-twksNwM36Zk",
    "outputId": "8eaa7e00-a97a-47ee-adf9-a6325cf64b81"
   },
   "outputs": [
    {
     "name": "stdout",
     "output_type": "stream",
     "text": [
      "그림 저장: tree_regression_plot\n"
     ]
    },
    {
     "data": {
      "image/png": "[encoded data removed]",
      "text/plain": [
       "<Figure size 720x288 with 2 Axes>"
      ]
     },
     "metadata": {
      "needs_background": "light",
      "tags": []
     },
     "output_type": "display_data"
    }
   ],
   "source": [
    "def plot_regression_predictions(tree_reg, X, y, axes=[0, 1, -0.2, 1], ylabel=\"$y$\"):\n",
    "    x1 = np.linspace(axes[0], axes[1], 500).reshape(-1, 1)\n",
    "    y_pred = tree_reg.predict(x1)\n",
    "    plt.axis(axes)\n",
    "    plt.xlabel(\"$x_1$\", fontsize=18)\n",
    "    if ylabel:\n",
    "        plt.ylabel(ylabel, fontsize=18, rotation=0)\n",
    "    plt.plot(X, y, \"b.\")\n",
    "    plt.plot(x1, y_pred, \"r.-\", linewidth=2, label=r\"$\\hat{y}$\")\n",
    "\n",
    "fig, axes = plt.subplots(ncols=2, figsize=(10, 4), sharey=True)\n",
    "plt.sca(axes[0])\n",
    "plot_regression_predictions(tree_reg_1, X, y)\n",
    "for split, style in ((0.1973, \"k-\"), (0.0917, \"k--\"), (0.7718, \"k--\")):\n",
    "    plt.plot([split, split], [-0.2, 1], style, linewidth=2)\n",
    "\n",
    "plt.legend(loc=\"upper center\", fontsize=18)\n",
    "plt.title(\"tree_reg_1    max_leaf_nodes=50\", fontsize=14)\n",
    "\n",
    "plt.sca(axes[1])\n",
    "plot_regression_predictions(tree_reg_2, X, y, ylabel=None)\n",
    "for split, style in ((0.1973, \"k-\"), (0.0917, \"k--\"), (0.7718, \"k--\")):\n",
    "    plt.plot([split, split], [-0.2, 1], style, linewidth=2)\n",
    "for split in (0.0458, 0.1298, 0.2873, 0.9040):\n",
    "    plt.plot([split, split], [-0.2, 1], \"k:\", linewidth=1)\n",
    "\n",
    "plt.title(\"tree_reg_2    max_leaf_nodes=10\", fontsize=14)\n",
    "\n",
    "save_fig(\"tree_regression_plot\")\n",
    "plt.show()"
   ]
  },
  {
   "cell_type": "markdown",
   "metadata": {
    "id": "bL2AbaY-36Zl"
   },
   "source": [
    "#### Q: tree_reg_1과 tree_reg_2 중 어느 모델이 더 좋은 회귀 모델이며, 그 이유를 말하시오."
   ]
  },
  {
   "cell_type": "markdown",
   "metadata": {
    "id": "HaFYNcEi36Zl"
   },
   "source": [
    "답: tree_reg_2, tree_reg_1은 과대적합되었다."
   ]
  },
  {
   "cell_type": "markdown",
   "metadata": {
    "id": "I4P7Autt36Zl"
   },
   "source": [
    "## min_samples_split 규제 파라미터 실습"
   ]
  },
  {
   "cell_type": "markdown",
   "metadata": {
    "id": "NlGZwNsU36Zl"
   },
   "source": [
    "### 3. 사이킷런의 DecisionTreeRegressor를 사용하여 데이터를 두가지 다른 parameter로 fit 하시오.\n",
    "#### 첫번째 parameter: \n",
    "- 모델명= tree_reg_3, min_samples_split=25, random_state=1 \n",
    "\n",
    "#### 두번째 parameter: \n",
    "- 모델명= tree_reg_4, min_samples_split=2, random_state=1"
   ]
  },
  {
   "cell_type": "code",
   "execution_count": 26,
   "metadata": {
    "colab": {
     "base_uri": "https://localhost:8080/"
    },
    "executionInfo": {
     "elapsed": 591,
     "status": "ok",
     "timestamp": 1620626792892,
     "user": {
      "displayName": "Jiwon Lee",
      "photoUrl": "https://lh6.googleusercontent.com/-ptQh3tMovsY/AAAAAAAAAAI/AAAAAAAAB94/jpFD-Tx1bGM/s64/photo.jpg",
      "userId": "11912804753565662736"
     },
     "user_tz": -540
    },
    "id": "jzh4OrhF36Zm",
    "outputId": "2b0b8902-7f82-4d5d-d747-184f25451af8"
   },
   "outputs": [
    {
     "data": {
      "text/plain": [
       "DecisionTreeRegressor(ccp_alpha=0.0, criterion='mse', max_depth=None,\n",
       "                      max_features=None, max_leaf_nodes=None,\n",
       "                      min_impurity_decrease=0.0, min_impurity_split=None,\n",
       "                      min_samples_leaf=1, min_samples_split=2,\n",
       "                      min_weight_fraction_leaf=0.0, presort='deprecated',\n",
       "                      random_state=1, splitter='best')"
      ]
     },
     "execution_count": 26,
     "metadata": {
      "tags": []
     },
     "output_type": "execute_result"
    }
   ],
   "source": [
    "#첫번째 parameter\n",
    "from sklearn.tree import DecisionTreeRegressor\n",
    "\n",
    "tree_reg_3 = DecisionTreeRegressor(min_samples_split=25, random_state=1)\n",
    "tree_reg_3.fit(X, y)\n",
    "\n",
    "#두번째 parameter\n",
    "tree_reg_4 = DecisionTreeRegressor(min_samples_split=2, random_state=1)\n",
    "tree_reg_4.fit(X, y)"
   ]
  },
  {
   "cell_type": "markdown",
   "metadata": {
    "id": "ooq1I_Us36Zm"
   },
   "source": [
    "### 4. 다음 코드를 그대로 실행시켜 위에서 만든 두가지 모델을 시각화한 후, 어느 모델이 더 적절한 회귀를 했는지 판단하시오."
   ]
  },
  {
   "cell_type": "code",
   "execution_count": 27,
   "metadata": {
    "colab": {
     "base_uri": "https://localhost:8080/",
     "height": 315
    },
    "executionInfo": {
     "elapsed": 2373,
     "status": "ok",
     "timestamp": 1620626794848,
     "user": {
      "displayName": "Jiwon Lee",
      "photoUrl": "https://lh6.googleusercontent.com/-ptQh3tMovsY/AAAAAAAAAAI/AAAAAAAAB94/jpFD-Tx1bGM/s64/photo.jpg",
      "userId": "11912804753565662736"
     },
     "user_tz": -540
    },
    "id": "HurjLfVV36Zm",
    "outputId": "4870087d-8fc0-415b-a365-4acb739da7be"
   },
   "outputs": [
    {
     "name": "stdout",
     "output_type": "stream",
     "text": [
      "그림 저장: tree_regression_plot\n"
     ]
    },
    {
     "data": {
      "image/png": "[encoded data removed]",
      "text/plain": [
       "<Figure size 720x288 with 2 Axes>"
      ]
     },
     "metadata": {
      "needs_background": "light",
      "tags": []
     },
     "output_type": "display_data"
    }
   ],
   "source": [
    "fig, axes = plt.subplots(ncols=2, figsize=(10, 4), sharey=True)\n",
    "plt.sca(axes[0])\n",
    "plot_regression_predictions(tree_reg_3, X, y)\n",
    "for split, style in ((0.1973, \"k-\"), (0.0917, \"k--\"), (0.7718, \"k--\")):\n",
    "    plt.plot([split, split], [-0.2, 1], style, linewidth=2)\n",
    "\n",
    "plt.legend(loc=\"upper center\", fontsize=18)\n",
    "plt.title(\"tree_reg_3    min_samples_split=25\", fontsize=14)\n",
    "\n",
    "plt.sca(axes[1])\n",
    "plot_regression_predictions(tree_reg_4, X, y, ylabel=None)\n",
    "for split, style in ((0.1973, \"k-\"), (0.0917, \"k--\"), (0.7718, \"k--\")):\n",
    "    plt.plot([split, split], [-0.2, 1], style, linewidth=2)\n",
    "for split in (0.0458, 0.1298, 0.2873, 0.9040):\n",
    "    plt.plot([split, split], [-0.2, 1], \"k:\", linewidth=1)\n",
    "\n",
    "plt.title(\"tree_reg_4    min_samples_split=2\", fontsize=14)\n",
    "\n",
    "save_fig(\"tree_regression_plot\")\n",
    "plt.show()"
   ]
  },
  {
   "cell_type": "markdown",
   "metadata": {
    "id": "sHDIRkoF36Zn"
   },
   "source": [
    "#### Q: tree_reg_3과 tree_reg_4 중 어느 모델이 더 좋은 회귀 모델이며, 그 이유를 말하시오."
   ]
  },
  {
   "cell_type": "markdown",
   "metadata": {
    "id": "CikBmvKI36Zn"
   },
   "source": [
    "답: tree_reg_3, tree_reg_4는 과대적합되었다."
   ]
  },
  {
   "cell_type": "markdown",
   "metadata": {
    "id": "5072eBga36Zn"
   },
   "source": [
    "### 5-1. GridSearchCV를 이용하여 최적의 하이퍼 파라미터 조합을 찾으시오.\n",
    "\n",
    "* cv = 5, params_grid=params, scoring='neg_mean_squared_error'"
   ]
  },
  {
   "cell_type": "code",
   "execution_count": 28,
   "metadata": {
    "colab": {
     "base_uri": "https://localhost:8080/"
    },
    "executionInfo": {
     "elapsed": 2150,
     "status": "ok",
     "timestamp": 1620626799298,
     "user": {
      "displayName": "Jiwon Lee",
      "photoUrl": "https://lh6.googleusercontent.com/-ptQh3tMovsY/AAAAAAAAAAI/AAAAAAAAB94/jpFD-Tx1bGM/s64/photo.jpg",
      "userId": "11912804753565662736"
     },
     "user_tz": -540
    },
    "id": "dSYt_OTI36Zo",
    "outputId": "50e6444e-4713-41e7-92d4-c2180ea0647c",
    "tags": []
   },
   "outputs": [
    {
     "data": {
      "text/plain": [
       "GridSearchCV(cv=5, error_score=nan,\n",
       "             estimator=DecisionTreeRegressor(ccp_alpha=0.0, criterion='mse',\n",
       "                                             max_depth=None, max_features=None,\n",
       "                                             max_leaf_nodes=None,\n",
       "                                             min_impurity_decrease=0.0,\n",
       "                                             min_impurity_split=None,\n",
       "                                             min_samples_leaf=1,\n",
       "                                             min_samples_split=2,\n",
       "                                             min_weight_fraction_leaf=0.0,\n",
       "                                             presort='deprecated',\n",
       "                                             random_state=None,\n",
       "                                             splitter='best'),\n",
       "             iid='deprecated', n_jobs=None,\n",
       "             param_grid={'max_depth': [2, 3, 4, 5, 6, 7],\n",
       "                         'max_leaf_nodes': [2, 3, 4, 5, 6, 7],\n",
       "                         'min_samples_split': [2, 3, 4, 5, 6, 7]},\n",
       "             pre_dispatch='2*n_jobs', refit=True, return_train_score=False,\n",
       "             scoring='neg_mean_squared_error', verbose=0)"
      ]
     },
     "execution_count": 28,
     "metadata": {
      "tags": []
     },
     "output_type": "execute_result"
    }
   ],
   "source": [
    "from sklearn.model_selection import GridSearchCV\n",
    "\n",
    "params = { \n",
    "    'max_depth': [2, 3, 4, 5, 6, 7],\n",
    "    'max_leaf_nodes': [2, 3, 4, 5, 6, 7],\n",
    "    'min_samples_split': [2, 3, 4, 5, 6, 7]\n",
    "}\n",
    "\n",
    "tree_reg = DecisionTreeRegressor()\n",
    "grid_search=GridSearchCV(tree_reg, param_grid=params, cv=5, scoring='neg_mean_squared_error')\n",
    "grid_search.fit(X, y)"
   ]
  },
  {
   "cell_type": "markdown",
   "metadata": {
    "id": "ZCkv64qh36Zo"
   },
   "source": [
    "### 5-2. Best parameter와 Best score를 출력하라. "
   ]
  },
  {
   "cell_type": "code",
   "execution_count": 30,
   "metadata": {
    "colab": {
     "base_uri": "https://localhost:8080/"
    },
    "executionInfo": {
     "elapsed": 700,
     "status": "ok",
     "timestamp": 1620626801199,
     "user": {
      "displayName": "Jiwon Lee",
      "photoUrl": "https://lh6.googleusercontent.com/-ptQh3tMovsY/AAAAAAAAAAI/AAAAAAAAB94/jpFD-Tx1bGM/s64/photo.jpg",
      "userId": "11912804753565662736"
     },
     "user_tz": -540
    },
    "id": "6j-Im0xY36Zo",
    "outputId": "40e14ca9-5837-4c2a-d7f8-bd149f7ad4a8"
   },
   "outputs": [
    {
     "data": {
      "text/plain": [
       "({'max_depth': 4, 'max_leaf_nodes': 7, 'min_samples_split': 2},\n",
       " -0.024899113481930572)"
      ]
     },
     "execution_count": 30,
     "metadata": {
      "tags": []
     },
     "output_type": "execute_result"
    }
   ],
   "source": [
    "grid_search.best_params_, grid_search.best_score_"
   ]
  },
  {
   "cell_type": "markdown",
   "metadata": {
    "id": "iN4drBpT36Zo"
   },
   "source": [
    "### 5-3. 5-2의 Best score를 이용해 RMSE를 구하라.\n",
    "\n",
    "* GridSearchCV에서 scoring='neg_mean_squared_error'을 사용하였기 때문에 부호를 바꿔주는 과정이 필요함."
   ]
  },
  {
   "cell_type": "code",
   "execution_count": 31,
   "metadata": {
    "colab": {
     "base_uri": "https://localhost:8080/"
    },
    "executionInfo": {
     "elapsed": 647,
     "status": "ok",
     "timestamp": 1620626801807,
     "user": {
      "displayName": "Jiwon Lee",
      "photoUrl": "https://lh6.googleusercontent.com/-ptQh3tMovsY/AAAAAAAAAAI/AAAAAAAAB94/jpFD-Tx1bGM/s64/photo.jpg",
      "userId": "11912804753565662736"
     },
     "user_tz": -540
    },
    "id": "H5k4RGDv36Zo",
    "outputId": "77d3cfd8-b7a3-4ffa-c5d3-3a2df22382e7"
   },
   "outputs": [
    {
     "data": {
      "text/plain": [
       "0.1577945293155963"
      ]
     },
     "execution_count": 31,
     "metadata": {
      "tags": []
     },
     "output_type": "execute_result"
    }
   ],
   "source": [
    "score = grid_search.best_score_\n",
    "tree_reg_rmse = np.sqrt(-score)\n",
    "\n",
    "tree_reg_rmse"
   ]
  },
  {
   "cell_type": "code",
   "execution_count": null,
   "metadata": {
    "id": "KI55vr8Z4oG-"
   },
   "outputs": [],
   "source": []
  }
 ],
 "metadata": {
  "colab": {
   "collapsed_sections": [],
   "name": "Week5_복습과제.ipynb",
   "provenance": [],
   "toc_visible": true
  },
  "kernelspec": {
   "display_name": "Python 3",
   "language": "python",
   "name": "python3"
  },
  "language_info": {
   "codemirror_mode": {
    "name": "ipython",
    "version": 3
   },
   "file_extension": ".py",
   "mimetype": "text/x-python",
   "name": "python",
   "nbconvert_exporter": "python",
   "pygments_lexer": "ipython3",
   "version": "3.8.8"
  }
 },
 "nbformat": 4,
 "nbformat_minor": 1
}
