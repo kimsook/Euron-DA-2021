{
 "cells": [
  {
   "cell_type": "markdown",
   "metadata": {},
   "source": [
    "# Week_8 복습과제"
   ]
  },
  {
   "cell_type": "markdown",
   "metadata": {},
   "source": [
    "# 1. CustomerData로 K-means clustering 실습\n",
    "### 제품 포트폴리오와 지역의 관계를 알아보자\n",
    "\n",
    "(* 제품 포트폴리오: 회사가 생산하는 품목군을 나타내는 둘 이상의 제품 그룹)"
   ]
  },
  {
   "cell_type": "markdown",
   "metadata": {},
   "source": [
    "CustomerData.xls\n",
    "- Customer ID: 고객 ID로 각 고객을 구분해주는 유니크한 값\n",
    "- ItemsBought: 팔린 개수 \n",
    "- ItemsReturned: 환불 발생 개수\n",
    "- ZipCode: 지역 코드\n",
    "- Product: 물품 고유 번호"
   ]
  },
  {
   "cell_type": "code",
   "execution_count": 1,
   "metadata": {},
   "outputs": [],
   "source": [
    "#공통 모듈\n",
    "import pandas as pd\n",
    "import numpy as np\n",
    "import matplotlib as mpl\n",
    "import matplotlib.pyplot as plt\n",
    "import matplotlib.cm as cm \n",
    "import seaborn as sns\n",
    "\n",
    "%matplotlib inline\n",
    "sns.set_style(\"whitegrid\")\n",
    "plt.style.use(\"fivethirtyeight\")"
   ]
  },
  {
   "cell_type": "markdown",
   "metadata": {},
   "source": [
    "#### 1-1. 'CustomerData.xls'를 읽어와 CD에 저장하시오.\n",
    "- 주어진 데이터의 파일 속성이 excel임을 주의하시오."
   ]
  },
  {
   "cell_type": "code",
   "execution_count": null,
   "metadata": {},
   "outputs": [],
   "source": []
  },
  {
   "cell_type": "markdown",
   "metadata": {},
   "source": [
    "#### 1-2. HR 데이터의 상위 3개의 행과 하위 3개의 행을 통해 데이터가 제대로 불러와 졌는지 확인하시오."
   ]
  },
  {
   "cell_type": "code",
   "execution_count": null,
   "metadata": {},
   "outputs": [],
   "source": []
  },
  {
   "cell_type": "code",
   "execution_count": null,
   "metadata": {},
   "outputs": [],
   "source": []
  },
  {
   "cell_type": "markdown",
   "metadata": {},
   "source": [
    "#### 1-3. ItemsBought과 ItemsReturned의 특정 단위를 같게하는 데이터 정규화작업을 진행하시오.\n",
    "- 데이터분석 시 원본 데이터는 변형하지 않는 것이 좋다. 따라서, 전처리는 원본 데이터를 복사하여 생성한 데이터로 진행하라.(이름은 자유롭게 지정)   \n",
    "- MinMaxScaler()를 이용해 정규화를 진행한다.\n",
    "- 정규화 과정에 쓰이는 MinMaxScaler()는 사이킷런의 preprocessing 패키지에 있다."
   ]
  },
  {
   "cell_type": "code",
   "execution_count": null,
   "metadata": {},
   "outputs": [],
   "source": []
  },
  {
   "cell_type": "code",
   "execution_count": null,
   "metadata": {},
   "outputs": [],
   "source": []
  },
  {
   "cell_type": "markdown",
   "metadata": {},
   "source": [
    "#### 1-4.  위에서 진행한 데이터를 이용하여 K-평균 군집 알고리즘의 훈련과 예측을 한 후 군집 산점도를 그려보아라.\n",
    "- 빈칸에 답을 입력하시오.\n",
    "- K = 1 ~ 6 까지를 확인해본다."
   ]
  },
  {
   "cell_type": "code",
   "execution_count": null,
   "metadata": {},
   "outputs": [],
   "source": [
    "#  군집 산점도\n",
    "from sklearn.cluster import KMeans\n",
    "# 화면(figure) 생성\n",
    "plt.figure(figsize = (14, 10))\n",
    "\n",
    "X = CD_copy[['빈칸', '빈칸']]\n",
    "\n",
    "# K 값을 늘려가며 반복 테스트\n",
    "for i in range('빈칸', '빈칸'):\n",
    "    estimator = KMeans( n_clusters =  , n_init=10)\n",
    "    ids = estimator.fit_predict(X) #비지도 학습\n",
    "    plt.subplot(2, 3, i) # 2행 3열을 가진 서브플롯 추가 (인덱스 = i)\n",
    "    plt.tight_layout()\n",
    "\n",
    "    plt.title(\"K value = {}\".format(i)) # 서브플롯의 라벨링\n",
    "    plt.xlabel('빈칸')\n",
    "    plt.ylabel('빈칸')\n",
    "    \n",
    "\n",
    "    # 클러스터링 그리기\n",
    "    plt.scatter(CD_copy['빈칸'], CD_copy['빈칸'], c=ids, edgecolor=\"black\")\n",
    "        \n",
    "        \n",
    "plt.show()"
   ]
  },
  {
   "cell_type": "markdown",
   "metadata": {},
   "source": [
    "#### 1-5. 그려본 그래프를 기반으로 의미가 있어보이는 여러가지 k값에 대해 실루엣 다이어그램을 그려보고 군집화를 가장 잘 나타내는 k값을 선택하고, 이유를 설명하시오.\n",
    "- 아래 코드 실행"
   ]
  },
  {
   "cell_type": "code",
   "execution_count": null,
   "metadata": {},
   "outputs": [],
   "source": [
    "from sklearn.metrics import silhouette_samples\n",
    "from sklearn.metrics import silhouette_score\n",
    "from matplotlib.ticker import FixedLocator, FixedFormatter\n",
    "\n",
    "plt.figure(figsize=(11, 9))\n",
    "\n",
    "kmeans_per_k = [KMeans(n_clusters=k , n_init=10).fit(X)\n",
    "                for k in range(1, 10)]\n",
    "\n",
    "silhouette_scores = [silhouette_score(X, model.labels_)\n",
    "                     for model in kmeans_per_k[1:]]\n",
    "\n",
    "for k in (3, 4, 5, 6): \n",
    "    plt.subplot(2, 2, k - 2)\n",
    "    \n",
    "    \n",
    "    y_pred = kmeans_per_k[k - 1].labels_\n",
    "    silhouette_coefficients = silhouette_samples(X, y_pred)\n",
    "\n",
    "    padding = len(X) // 30\n",
    "    pos = padding\n",
    "    ticks = []\n",
    "    for i in range(k):\n",
    "        coeffs = silhouette_coefficients[y_pred == i]\n",
    "        coeffs.sort()\n",
    "\n",
    "        color = mpl.cm.Spectral(i / k)\n",
    "        plt.fill_betweenx(np.arange(pos, pos + len(coeffs)), 0, coeffs,\n",
    "                          facecolor=color, edgecolor=color, alpha=0.7)\n",
    "        ticks.append(pos + len(coeffs) // 2)\n",
    "        pos += len(coeffs) + padding\n",
    "\n",
    "    plt.gca().yaxis.set_major_locator(FixedLocator(ticks))\n",
    "    plt.gca().yaxis.set_major_formatter(FixedFormatter(range(k)))\n",
    "    if k in (3, 5):\n",
    "        plt.ylabel(\"Cluster\")\n",
    "    \n",
    "    if k in (5, 6):\n",
    "        plt.gca().set_xticks([-0.1, 0, 0.2, 0.4, 0.6, 0.8, 1])\n",
    "        plt.xlabel(\"Silhouette Coefficient\")\n",
    "    else:\n",
    "        plt.tick_params(labelbottom=False)\n",
    "\n",
    "    plt.axvline(x=silhouette_scores[k - 2], color=\"red\", linestyle=\"--\")\n",
    "    plt.title(\"$k={}$\".format(k), fontsize=16)\n",
    "\n",
    "\n",
    "plt.show()"
   ]
  },
  {
   "cell_type": "markdown",
   "metadata": {},
   "source": [
    "답: "
   ]
  },
  {
   "cell_type": "markdown",
   "metadata": {},
   "source": [
    "#### 1-6. 위에서 답한 k값으로 k개의 그룹에 대한 해석을 적으시오."
   ]
  },
  {
   "cell_type": "markdown",
   "metadata": {},
   "source": [
    "답: "
   ]
  },
  {
   "cell_type": "markdown",
   "metadata": {},
   "source": [
    "#### 1-6. k=3 으로 product id와 그래프를 그려보니 다음과 같다.\n",
    "- 아래 코드 실행"
   ]
  },
  {
   "cell_type": "code",
   "execution_count": null,
   "metadata": {},
   "outputs": [],
   "source": [
    "# K = 3으로 클러스터링\n",
    "estimator = KMeans(n_clusters = 3)\n",
    "\n",
    "# 클러스터링 생성\n",
    "cluster_ids = estimator.fit_predict(X)\n",
    "\n",
    "# create a scatter plot\n",
    "plt.scatter(CD_copy['ItemsBought'], CD_copy['ItemsReturned'], c=cluster_ids, edgecolor=\"black\")\n",
    "\n",
    "# 제품과 클러스터 id로 데이터에 범례 달기\n",
    "for index, c_id, bought, returned, zip_code, product in CD_copy.itertuples():\n",
    "    plt.annotate(\"Clu{}: {}\".format(cluster_ids[index], product),(bought, returned))\n",
    "    \n",
    "plt.xlabel('ItemsBought')\n",
    "plt.ylabel('ItemsReturned')\n",
    "plt.show()"
   ]
  },
  {
   "cell_type": "markdown",
   "metadata": {},
   "source": [
    "#### 위 그래프에서 문제가 있는 제품을 찾아내고,  그 제품을 구매한 고객 데이터를 군집(cluster_ids)을 이용하여 출력하시오."
   ]
  },
  {
   "cell_type": "code",
   "execution_count": null,
   "metadata": {},
   "outputs": [],
   "source": []
  },
  {
   "cell_type": "markdown",
   "metadata": {},
   "source": [
    "#### 1-7. 각 군집과 지역의 관계를 살펴보기 위해 그래프를 그리고 앞에서 장의한 각 군집의 특성을 고려하여 어떤 지역에서 성과가 좋은지 판단하시오.\n",
    "- 지역으로 우편번호를 이용한다.\n",
    "- 빈칸에 답을 입력하시오."
   ]
  },
  {
   "cell_type": "code",
   "execution_count": null,
   "metadata": {},
   "outputs": [],
   "source": [
    "plt.scatter(CD['ItemsBought'], CD['ItemsReturned'], c=cluster_ids, edgecolor=\"black\")\n",
    "\n",
    "# 우편번호로 범례달기\n",
    "for (index, c_id, bought, returned, '빈칸', '빈칸') in CD.itertuples(): \n",
    "    plt.annotate(zip_code,(bought + 0.6, returned + 0.6))\n",
    "    \n",
    "plt.xlabel('ItemsBought')\n",
    "plt.ylabel('ItemsReturned')\n",
    "\n",
    "plt.show()"
   ]
  },
  {
   "cell_type": "markdown",
   "metadata": {},
   "source": [
    "답: "
   ]
  },
  {
   "cell_type": "markdown",
   "metadata": {},
   "source": [
    "# 2. Supermarket Customer Data를 활용한 DBSCAN 실습\n",
    "Mall_Customers.csv 데이터\n",
    "\n",
    "- Customer ID\n",
    "- Age\n",
    "- Genre: 고객 성별 (Gender) \n",
    "- Annual income (k$) \n",
    "- Spending score(1-100) : assigned based on parameters like customer behavior and purchasing data"
   ]
  },
  {
   "cell_type": "markdown",
   "metadata": {},
   "source": [
    "#### 2-1. 'Mall_Customers.csv' 데이터를 불러와 df에 저장하시오."
   ]
  },
  {
   "cell_type": "code",
   "execution_count": null,
   "metadata": {},
   "outputs": [],
   "source": []
  },
  {
   "cell_type": "markdown",
   "metadata": {},
   "source": [
    "#### 2-2. df의 처음 다섯개 행을 확인하시오."
   ]
  },
  {
   "cell_type": "code",
   "execution_count": null,
   "metadata": {},
   "outputs": [],
   "source": []
  },
  {
   "cell_type": "markdown",
   "metadata": {},
   "source": [
    "#### 2-3. info() 함수를 이용해 데이터프레임의 기본 정보를 확인하시오."
   ]
  },
  {
   "cell_type": "code",
   "execution_count": null,
   "metadata": {},
   "outputs": [],
   "source": []
  },
  {
   "cell_type": "markdown",
   "metadata": {},
   "source": [
    "#### 2-4.describe() 함수를 이용해 df의 정보를 확인하시오."
   ]
  },
  {
   "cell_type": "code",
   "execution_count": null,
   "metadata": {},
   "outputs": [],
   "source": []
  },
  {
   "cell_type": "markdown",
   "metadata": {},
   "source": [
    "##### 2-5. 칼럼의 이름을 rename 함수를 활용하여 바꾸시오.\n",
    "\n",
    "Annual Income (k$) 는 Annual Income 으로, Spending Score(1-100)은 Spending Capability로 바꾸시오. \n",
    "\n",
    "바꾼 뒤, head()함수를 활용하여 확인하시오."
   ]
  },
  {
   "cell_type": "code",
   "execution_count": null,
   "metadata": {},
   "outputs": [],
   "source": []
  },
  {
   "cell_type": "code",
   "execution_count": null,
   "metadata": {},
   "outputs": [],
   "source": []
  },
  {
   "cell_type": "markdown",
   "metadata": {},
   "source": [
    "#### 2-6. 아래의 코드를 돌려서 데이터 분포를 확인하시오."
   ]
  },
  {
   "cell_type": "code",
   "execution_count": null,
   "metadata": {},
   "outputs": [],
   "source": [
    "sns.pairplot(df)"
   ]
  },
  {
   "cell_type": "markdown",
   "metadata": {},
   "source": [
    "#### 2-7. CustomerID 칼럼을 삭제한 뒤 확인하시오."
   ]
  },
  {
   "cell_type": "code",
   "execution_count": null,
   "metadata": {},
   "outputs": [],
   "source": []
  },
  {
   "cell_type": "markdown",
   "metadata": {},
   "source": [
    "#### 2-8. iloc()함수를 사용하여 변수 x에 Annual Income 과 Speding Capability를 담으시오."
   ]
  },
  {
   "cell_type": "code",
   "execution_count": null,
   "metadata": {},
   "outputs": [],
   "source": []
  },
  {
   "cell_type": "markdown",
   "metadata": {},
   "source": [
    "#### 2-9. 다음의 코드를 돌려, (200,2)가 출력되는지 확인하시오."
   ]
  },
  {
   "cell_type": "code",
   "execution_count": null,
   "metadata": {},
   "outputs": [],
   "source": [
    "x.shape"
   ]
  },
  {
   "cell_type": "markdown",
   "metadata": {},
   "source": [
    "#### 2-10. 사이킷런의 DBSCAN을 활용하여 x를 fit하시오.\n",
    "\n",
    "- eps=3\n",
    "- min_samples=4\n",
    "- metric='euclidean'"
   ]
  },
  {
   "cell_type": "code",
   "execution_count": null,
   "metadata": {},
   "outputs": [],
   "source": []
  },
  {
   "cell_type": "code",
   "execution_count": null,
   "metadata": {},
   "outputs": [],
   "source": []
  },
  {
   "cell_type": "markdown",
   "metadata": {},
   "source": [
    "#### 2-11.labels_을 출력하여 확인하시오."
   ]
  },
  {
   "cell_type": "code",
   "execution_count": null,
   "metadata": {},
   "outputs": [],
   "source": []
  },
  {
   "cell_type": "code",
   "execution_count": null,
   "metadata": {},
   "outputs": [],
   "source": []
  },
  {
   "cell_type": "markdown",
   "metadata": {},
   "source": [
    "#### 2-12. cluster의 개수를 계산한 뒤 출력하시오. 하드코딩하지 마시오.\n",
    "\n",
    "(*힌트: set함수/len함수 이용 , label이 -1인 경우는 제외)"
   ]
  },
  {
   "cell_type": "code",
   "execution_count": null,
   "metadata": {},
   "outputs": [],
   "source": []
  },
  {
   "cell_type": "markdown",
   "metadata": {},
   "source": [
    "#### 2-13. 다음의 코드를 실행하여 DBSCAN의 결과를 확인하시오."
   ]
  },
  {
   "cell_type": "code",
   "execution_count": null,
   "metadata": {},
   "outputs": [],
   "source": [
    "y_means = db.fit_predict(x)\n",
    "plt.figure(figsize=(7,5))\n",
    "plt.scatter(x[y_means == 0,0], x[y_means == 0,1], s= 50, c= 'pink')\n",
    "plt.scatter(x[y_means == 1,0], x[y_means == 1,1], s= 50, c= 'yellow')\n",
    "plt.scatter(x[y_means == 2,0], x[y_means == 2,1], s= 50, c= 'cyan')\n",
    "plt.scatter(x[y_means == 3,0], x[y_means == 3,1], s= 50, c= 'magenta')\n",
    "plt.scatter(x[y_means == 4,0], x[y_means == 4,1], s= 50, c= 'orange')\n",
    "plt.scatter(x[y_means == 5,0], x[y_means == 5,1], s= 50, c= 'blue')\n",
    "plt.scatter(x[y_means == 6,0], x[y_means == 6,1], s= 50, c= 'red')\n",
    "plt.scatter(x[y_means == 7,0], x[y_means == 7,1], s= 50, c= 'black')\n",
    "plt.scatter(x[y_means == 8,0], x[y_means == 8,1], s= 50, c= 'violet')\n",
    "plt.xlabel('Annual Income in (1k)')\n",
    "plt.ylabel('Spending score from 1-100')\n",
    "plt.title('Clusters of data')\n",
    "plt.show()"
   ]
  },
  {
   "cell_type": "markdown",
   "metadata": {},
   "source": [
    "# 3. 가우시안 혼합 모델 실습\n",
    "\n",
    "- 올리베티 얼굴 데이터셋: 사람 40명의 얼굴 이미지 데이터 (인당 10장씩) "
   ]
  },
  {
   "cell_type": "code",
   "execution_count": null,
   "metadata": {},
   "outputs": [],
   "source": [
    "#돌려주시면 됩니다!\n",
    "\n",
    "#데이터셋 불러오기\n",
    "from sklearn.datasets import fetch_olivetti_faces\n",
    "olivetti = fetch_olivetti_faces()\n",
    "\n",
    "%matplotlib inline\n",
    "import matplotlib.pyplot as plt\n",
    "import seaborn as sns; sns.set()\n",
    "import numpy as np\n",
    "\n",
    "#계층적 샘플링으로 데이터 나누기\n",
    "from sklearn.model_selection import StratifiedShuffleSplit\n",
    "\n",
    "strat_split = StratifiedShuffleSplit(n_splits=1, test_size=40, random_state=42)\n",
    "train_valid_idx, test_idx = next(strat_split.split(olivetti.data, olivetti.target))\n",
    "X_train_valid = olivetti.data[train_valid_idx]\n",
    "y_train_valid = olivetti.target[train_valid_idx]\n",
    "X_test = olivetti.data[test_idx]\n",
    "y_test = olivetti.target[test_idx]\n",
    "\n",
    "strat_split = StratifiedShuffleSplit(n_splits=1, test_size=80, random_state=43)\n",
    "train_idx, valid_idx = next(strat_split.split(X_train_valid, y_train_valid))\n",
    "X_train = X_train_valid[train_idx]\n",
    "y_train = y_train_valid[train_idx]\n",
    "X_valid = X_train_valid[valid_idx]\n",
    "y_valid = y_train_valid[valid_idx]"
   ]
  },
  {
   "cell_type": "markdown",
   "metadata": {},
   "source": [
    "#### 3-1. pca 모듈로 X_train 데이터의 차원을 99% 로 줄여주세요."
   ]
  },
  {
   "cell_type": "code",
   "execution_count": null,
   "metadata": {},
   "outputs": [],
   "source": []
  },
  {
   "cell_type": "markdown",
   "metadata": {},
   "source": [
    "#### 3-2. AIC 점수를 비교해 사이킷런의 GaussianMixture 모듈의 최적의 클러스터 개수를 찾아보겠습니다.\n",
    "\n",
    "- n_component를 1부터 100까지 10 간격으로 하여 각 클러스터 개수별 AIC 점수를 구하고 이를 plot(n_components, aics)으로 나타내세요.\n",
    "- covariance_type='full', random_state=42"
   ]
  },
  {
   "cell_type": "code",
   "execution_count": null,
   "metadata": {},
   "outputs": [],
   "source": []
  },
  {
   "cell_type": "markdown",
   "metadata": {},
   "source": [
    "#### 3-3. 최적 n_component 값을 넣어 gmm을 fit 시키고 알고리즘이 수렴했는지 확인해보세요."
   ]
  },
  {
   "cell_type": "code",
   "execution_count": null,
   "metadata": {},
   "outputs": [],
   "source": []
  },
  {
   "cell_type": "markdown",
   "metadata": {},
   "source": [
    "## 보너스. 몇가지 예제 데이터에 대해 위에서 나열한 군집화 방법을 적용한 결과이다. \n",
    "#### 같은 색상의 데이터는 같은 군집로 분류된 것이다. 그림에서 보다시피 각 군집화 방법마다 특성이 다르므로 원하는 목적과 데이터 유형에 맞게 사용해야 한다.\n",
    "- K-평균 군집화(K-means Clustering)\n",
    "\n",
    "- 디비스캔 군집화(DBSCAN Clustering)\n",
    "\n",
    "- 유사도 전파 군집화(Affinity Propagation Clustering)\n",
    "\n",
    "- 계층적 군집화(Hierarchical Clustering)\n",
    "\n",
    "- 스펙트럴 군집화(Spectral Clustering)\n",
    "\n",
    "출처: https://datascienceschool.net/03%20machine%20learning/16.01%20%EA%B5%B0%EC%A7%91%ED%99%94.html"
   ]
  },
  {
   "cell_type": "code",
   "execution_count": null,
   "metadata": {},
   "outputs": [],
   "source": [
    "import pandas as pd\n",
    "import numpy as np\n",
    "import matplotlib as mpl\n",
    "import matplotlib.pyplot as plt\n",
    "import matplotlib.cm as cm \n",
    "import seaborn as sns\n",
    "from sklearn.datasets import *\n",
    "from sklearn.cluster import *\n",
    "from sklearn.preprocessing import StandardScaler\n",
    "import warnings \n",
    "warnings.filterwarnings(action=\"ignore\")\n",
    "\n",
    "np.random.seed(0)\n",
    "n_samples = 1500\n",
    "blobs = make_blobs(n_samples=n_samples, random_state=8)\n",
    "X, y = make_blobs(n_samples=n_samples, random_state=170)\n",
    "anisotropic = (np.dot(X, [[0.6, -0.6], [-0.4, 0.8]]), y)\n",
    "varied = make_blobs(n_samples=n_samples, cluster_std=[1.0, 2.5, 0.5], random_state=170)\n",
    "noisy_circles = make_circles(n_samples=n_samples, factor=.5, noise=.05)\n",
    "noisy_moons = make_moons(n_samples=n_samples, noise=.05)\n",
    "no_structure = np.random.rand(n_samples, 2), None\n",
    "datasets = {\n",
    "    \"same size circles\": blobs, \n",
    "    \"same size Ellipses\": anisotropic, \n",
    "    \"varied circles\": varied, \n",
    "    \"crescent\": noisy_moons, \n",
    "    \"concentric circles\": noisy_circles, \n",
    "    \"no structure\": no_structure\n",
    "}\n",
    "\n",
    "plt.figure(figsize=(11, 11))\n",
    "plot_num = 1\n",
    "for i, (data_name, (X, y)) in enumerate(datasets.items()):\n",
    "    if data_name in [\"초승달\", \"동심원\"]:\n",
    "        n_clusters = 2\n",
    "    else:\n",
    "        n_clusters = 3\n",
    "\n",
    "    X = StandardScaler().fit_transform(X)\n",
    "\n",
    "    two_means = MiniBatchKMeans(n_clusters=n_clusters)\n",
    "    dbscan = DBSCAN(eps=0.15)\n",
    "    spectral = SpectralClustering(n_clusters=n_clusters, affinity=\"nearest_neighbors\")\n",
    "    ward = AgglomerativeClustering(n_clusters=n_clusters)\n",
    "    affinity_propagation = AffinityPropagation(damping=0.9, preference=-200)\n",
    "    clustering_algorithms = (\n",
    "        ('K-Means', two_means),\n",
    "        ('DBSCAN', dbscan),\n",
    "        ('Hierarchical Clustering', ward),\n",
    "        ('Affinity Propagation', affinity_propagation),\n",
    "        ('Spectral Clustering', spectral),\n",
    "    )\n",
    "\n",
    "    for j, (name, algorithm) in enumerate(clustering_algorithms):\n",
    "        algorithm.fit(X)\n",
    "        if hasattr(algorithm, 'labels_'):\n",
    "            y_pred = algorithm.labels_.astype(np.int)\n",
    "        else:\n",
    "            y_pred = algorithm.predict(X)\n",
    "        plt.subplot(len(datasets), len(clustering_algorithms), plot_num)\n",
    "        if i == 0:\n",
    "            plt.title(name)\n",
    "        if j == 0:\n",
    "            plt.ylabel(data_name)\n",
    "        colors = plt.cm.tab10(np.arange(20, dtype=int))\n",
    "        plt.scatter(X[:, 0], X[:, 1], s=5, color=colors[y_pred])\n",
    "        plt.xlim(-2.5, 2.5)\n",
    "        plt.ylim(-2.5, 2.5)\n",
    "        plt.xticks(())\n",
    "        plt.yticks(())\n",
    "        plot_num += 1\n",
    "\n",
    "plt.tight_layout()\n",
    "plt.show()"
   ]
  }
 ],
 "metadata": {
  "kernelspec": {
   "display_name": "Python 3",
   "language": "python",
   "name": "python3"
  },
  "language_info": {
   "codemirror_mode": {
    "name": "ipython",
    "version": 3
   },
   "file_extension": ".py",
   "mimetype": "text/x-python",
   "name": "python",
   "nbconvert_exporter": "python",
   "pygments_lexer": "ipython3",
   "version": "3.8.8"
  }
 },
 "nbformat": 4,
 "nbformat_minor": 4
}
