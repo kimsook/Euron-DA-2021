{
 "cells": [
  {
   "cell_type": "markdown",
   "metadata": {},
   "source": [
    "# 국토교통 빅데이터 온라인 해커톤 경진대회\n",
    "\n",
    "**주제**\n",
    "- 국토교통 데이터와 코로나 데이터 등을 융합분석하여, 국민의 안전한 이동을 위한 새로운 통찰과 창즤적 아이디어 도출\n",
    "- 국토교통 데이터 활용 저변을 넓히고 국민적 관심도 제고\n",
    "- 교통빅데이터 플랫폼을 통한 데이터 이용 활성화\n",
    "\n",
    "\n",
    "\n",
    "### 포스트 코로나, 귀향길이 걱정되는 당신을 위한 <안전한 귀향 안내서>\n",
    "#### 필사 https://dacon.io/competitions/official/235622/codeshare/1621\n",
    "\n",
    "**데이터**\n",
    "DACON 제공 데이터\n",
    "- DS4C 코로나19 확진자 데이터\n",
    "    - Time.csv\n",
    "    - PatientInfo.csv\n",
    "    - Case.csv\n",
    "- [한국교통안전공단] 교통카드 빅데이터 대중교통 이용정보\n",
    "    - 발권 OD.dat\n",
    "    - 지역코드.dat\n",
    "    \n",
    "외부데이터\n",
    "- 서울시 행정구역 시군구 정보(좌표계:WGS1984).csv (출처:서울열린데이터광장)\n",
    "- skorea_municipalities_geo_simple.json (출처:github/PinkWink)\n",
    "\n",
    "자체 제작 데이터\n",
    "- 인접플랫폼.csv\n",
    "- 도착터미널구분.csv\n",
    "- 서울시_주요_기차역+터미널_좌표.csv"
   ]
  },
  {
   "cell_type": "code",
   "execution_count": 1,
   "metadata": {},
   "outputs": [
    {
     "name": "stdout",
     "output_type": "stream",
     "text": [
      "Requirement already satisfied: folium in c:\\users\\user\\appdata\\local\\programs\\python\\python38\\lib\\site-packages (0.12.1)\n",
      "Requirement already satisfied: requests in c:\\users\\user\\appdata\\local\\programs\\python\\python38\\lib\\site-packages (from folium) (2.25.1)\n",
      "Requirement already satisfied: numpy in c:\\users\\user\\appdata\\local\\programs\\python\\python38\\lib\\site-packages (from folium) (1.19.3)\n",
      "Requirement already satisfied: branca>=0.3.0 in c:\\users\\user\\appdata\\local\\programs\\python\\python38\\lib\\site-packages (from folium) (0.4.2)\n",
      "Requirement already satisfied: jinja2>=2.9 in c:\\users\\user\\appdata\\local\\programs\\python\\python38\\lib\\site-packages (from folium) (2.11.2)\n",
      "Requirement already satisfied: MarkupSafe>=0.23 in c:\\users\\user\\appdata\\local\\programs\\python\\python38\\lib\\site-packages (from jinja2>=2.9->folium) (1.1.1)\n",
      "Requirement already satisfied: certifi>=2017.4.17 in c:\\users\\user\\appdata\\local\\programs\\python\\python38\\lib\\site-packages (from requests->folium) (2020.12.5)\n",
      "Requirement already satisfied: chardet<5,>=3.0.2 in c:\\users\\user\\appdata\\local\\programs\\python\\python38\\lib\\site-packages (from requests->folium) (4.0.0)\n",
      "Requirement already satisfied: urllib3<1.27,>=1.21.1 in c:\\users\\user\\appdata\\local\\programs\\python\\python38\\lib\\site-packages (from requests->folium) (1.26.2)\n",
      "Requirement already satisfied: idna<3,>=2.5 in c:\\users\\user\\appdata\\local\\programs\\python\\python38\\lib\\site-packages (from requests->folium) (2.10)\n",
      "Note: you may need to restart the kernel to use updated packages.\n"
     ]
    },
    {
     "name": "stderr",
     "output_type": "stream",
     "text": [
      "WARNING: You are using pip version 21.1.2; however, version 21.1.3 is available.\n",
      "You should consider upgrading via the 'c:\\users\\user\\appdata\\local\\programs\\python\\python38\\python.exe -m pip install --upgrade pip' command.\n"
     ]
    }
   ],
   "source": [
    "pip install folium"
   ]
  },
  {
   "cell_type": "code",
   "execution_count": 2,
   "metadata": {},
   "outputs": [
    {
     "name": "stdout",
     "output_type": "stream",
     "text": [
      "Requirement already satisfied: plotly in c:\\users\\user\\appdata\\local\\programs\\python\\python38\\lib\\site-packages (5.1.0)\n",
      "Requirement already satisfied: tenacity>=6.2.0 in c:\\users\\user\\appdata\\local\\programs\\python\\python38\\lib\\site-packages (from plotly) (7.0.0)\n",
      "Requirement already satisfied: six in c:\\users\\user\\appdata\\local\\programs\\python\\python38\\lib\\site-packages (from plotly) (1.15.0)\n",
      "Note: you may need to restart the kernel to use updated packages.\n"
     ]
    },
    {
     "name": "stderr",
     "output_type": "stream",
     "text": [
      "WARNING: You are using pip version 21.1.2; however, version 21.1.3 is available.\n",
      "You should consider upgrading via the 'c:\\users\\user\\appdata\\local\\programs\\python\\python38\\python.exe -m pip install --upgrade pip' command.\n"
     ]
    }
   ],
   "source": [
    "pip install plotly "
   ]
  },
  {
   "cell_type": "code",
   "execution_count": 3,
   "metadata": {},
   "outputs": [
    {
     "name": "stdout",
     "output_type": "stream",
     "text": [
      "Requirement already satisfied: selenium in c:\\users\\user\\appdata\\local\\programs\\python\\python38\\lib\\site-packages (3.141.0)\n",
      "Requirement already satisfied: urllib3 in c:\\users\\user\\appdata\\local\\programs\\python\\python38\\lib\\site-packages (from selenium) (1.26.2)\n",
      "Note: you may need to restart the kernel to use updated packages.\n"
     ]
    },
    {
     "name": "stderr",
     "output_type": "stream",
     "text": [
      "WARNING: You are using pip version 21.1.2; however, version 21.1.3 is available.\n",
      "You should consider upgrading via the 'c:\\users\\user\\appdata\\local\\programs\\python\\python38\\python.exe -m pip install --upgrade pip' command.\n"
     ]
    }
   ],
   "source": [
    "pip install selenium"
   ]
  },
  {
   "cell_type": "code",
   "execution_count": 4,
   "metadata": {},
   "outputs": [],
   "source": [
    "#2020.02~06 코로나19 동향에 관한 시각화 진행\n",
    "\n",
    "#module import\n",
    "import pandas as pd\n",
    "import numpy as np\n",
    "import datetime as dt\n",
    "import matplotlib as mpl\n",
    "from matplotlib import pyplot as plt\n",
    "import seaborn as sns\n",
    "import warnings \n",
    "import folium\n",
    "from folium import plugins\n",
    "import plotly.express as px\n",
    "import plotly.offline as pyo\n",
    "import plotly.graph_objs as go\n",
    "from plotly.subplots import make_subplots\n",
    "from IPython.display import display, Image\n",
    "from selenium import webdriver\n",
    "from selenium.common.exceptions import NoSuchElementException,StaleElementReferenceException\n",
    "import json\n",
    "import time\n",
    "warnings.filterwarnings(action='ignore')\n",
    "warnings.filterwarnings(\"ignore\", category=DeprecationWarning) \n",
    "\n",
    "%matplotlib inline\n",
    "plt.style.use('seaborn')"
   ]
  },
  {
   "cell_type": "code",
   "execution_count": 5,
   "metadata": {},
   "outputs": [],
   "source": [
    "#데이콘 plotly 업로드를 위한 코드\n",
    "import plotly.io as pio\n",
    "pio.renderers.default = 'notebook_connected'"
   ]
  },
  {
   "cell_type": "code",
   "execution_count": 6,
   "metadata": {},
   "outputs": [
    {
     "name": "stderr",
     "output_type": "stream",
     "text": [
      "'sudo'은(는) 내부 또는 외부 명령, 실행할 수 있는 프로그램, 또는\n",
      "배치 파일이 아닙니다.\n",
      "'sudo'은(는) 내부 또는 외부 명령, 실행할 수 있는 프로그램, 또는\n",
      "배치 파일이 아닙니다.\n",
      "'rm'은(는) 내부 또는 외부 명령, 실행할 수 있는 프로그램, 또는\n",
      "배치 파일이 아닙니다.\n"
     ]
    },
    {
     "name": "stdout",
     "output_type": "stream",
     "text": [
      "Collecting git+https://github.com/python-visualization/branca.git@master\n",
      "  Cloning https://github.com/python-visualization/branca.git (to revision master) to c:\\users\\user\\appdata\\local\\temp\\pip-req-build-cx9_yy7_\n",
      "Requirement already satisfied: jinja2 in c:\\users\\user\\miniconda3\\lib\\site-packages (from branca==0.4.2+8.geefe45c) (3.0.1)\n",
      "Requirement already satisfied: MarkupSafe>=2.0 in c:\\users\\user\\miniconda3\\lib\\site-packages (from jinja2->branca==0.4.2+8.geefe45c) (2.0.1)\n"
     ]
    }
   ],
   "source": [
    "#그래프 한글 출력을 위한 코드\n",
    "!sudo apt-get install -y fonts-nanum\n",
    "!sudo fc-cache -fv\n",
    "!rm ~/.cache/matplotlib -rf\n",
    "!pip install git+https://github.com/python-visualization/branca.git@master"
   ]
  },
  {
   "cell_type": "code",
   "execution_count": 7,
   "metadata": {},
   "outputs": [],
   "source": [
    "pd.set_option('max_columns', 24,'max_rows', 20) \n",
    "plt.style.use('seaborn')\n",
    "plt.rc('font', family='Malgun Gothic') \n",
    "plt.rc('axes', unicode_minus=False)"
   ]
  },
  {
   "cell_type": "code",
   "execution_count": 14,
   "metadata": {},
   "outputs": [],
   "source": [
    "## 일자별 신규 & 누적 확진자수 (전국)\n",
    "# make_daily: 일별 확진자수를 기존 데이터에 추가하는 함수 정의\n",
    "\n",
    "def make_daily(df):\n",
    "    daily = df.sort_values(['date'], ascending = False) #내림차순: ascending=False\n",
    "    daily = daily.reset_index()\n",
    "    daily = daily.drop(['index'], axis=1) #열: axis=1\n",
    "    \n",
    "    only_case = []\n",
    "    \n",
    "    for i in range(len(daily)-1):\n",
    "        only_case.append(daily['confirmed'][i]-daily['confirmed'][i+1])\n",
    "    only_case.append(1)\n",
    "    \n",
    "    daily['daily'] = only_case\n",
    "    \n",
    "    daily = daily.sort_values(['date'], ascending = True) #오름차순\n",
    "    daily = daily.reset_index()\n",
    "    daily = daily.drop(['index'], axis=1)\n",
    "    \n",
    "    return daily"
   ]
  },
  {
   "cell_type": "code",
   "execution_count": 15,
   "metadata": {},
   "outputs": [],
   "source": [
    "#time data - date: 날짜, confirmed: 누적 확진자수\n",
    "time = pd.read_csv('Time.csv', usecols = ['date', 'confirmed'])\n",
    "time = make_daily(time)"
   ]
  },
  {
   "cell_type": "code",
   "execution_count": 18,
   "metadata": {},
   "outputs": [
    {
     "data": {
      "text/html": [
       "<div>                            <div id=\"8f55b4e5-f9f6-4077-920c-e0d742273827\" class=\"plotly-graph-div\" style=\"height:700px; width:100%;\"></div>            <script type=\"text/javascript\">                require([\"plotly\"], function(Plotly) {                    window.PLOTLYENV=window.PLOTLYENV || {};                                    if (document.getElementById(\"8f55b4e5-f9f6-4077-920c-e0d742273827\")) {                    Plotly.newPlot(                        \"8f55b4e5-f9f6-4077-920c-e0d742273827\",                        [{\"marker\":{\"color\":\"#009770\"},\"name\":\"\\uc77c\\uc790\\ubcc4 \\ub204\\uc801 \\ud655\\uc9c4\\uc790 \\uc218(\\uc804\\uad6d)\",\"type\":\"scatter\",\"x\":[\"2020-01-20\",\"2020-01-21\",\"2020-01-22\",\"2020-01-23\",\"2020-01-24\",\"2020-01-25\",\"2020-01-26\",\"2020-01-27\",\"2020-01-28\",\"2020-01-29\",\"2020-01-30\",\"2020-01-31\",\"2020-02-01\",\"2020-02-02\",\"2020-02-03\",\"2020-02-04\",\"2020-02-05\",\"2020-02-06\",\"2020-02-07\",\"2020-02-08\",\"2020-02-09\",\"2020-02-10\",\"2020-02-11\",\"2020-02-12\",\"2020-02-13\",\"2020-02-14\",\"2020-02-15\",\"2020-02-16\",\"2020-02-17\",\"2020-02-18\",\"2020-02-19\",\"2020-02-20\",\"2020-02-21\",\"2020-02-22\",\"2020-02-23\",\"2020-02-24\",\"2020-02-25\",\"2020-02-26\",\"2020-02-27\",\"2020-02-28\",\"2020-02-29\",\"2020-03-01\",\"2020-03-02\",\"2020-03-03\",\"2020-03-04\",\"2020-03-05\",\"2020-03-06\",\"2020-03-07\",\"2020-03-08\",\"2020-03-09\",\"2020-03-10\",\"2020-03-11\",\"2020-03-12\",\"2020-03-13\",\"2020-03-14\",\"2020-03-15\",\"2020-03-16\",\"2020-03-17\",\"2020-03-18\",\"2020-03-19\",\"2020-03-20\",\"2020-03-21\",\"2020-03-22\",\"2020-03-23\",\"2020-03-24\",\"2020-03-25\",\"2020-03-26\",\"2020-03-27\",\"2020-03-28\",\"2020-03-29\",\"2020-03-30\",\"2020-03-31\",\"2020-04-01\",\"2020-04-02\",\"2020-04-03\",\"2020-04-04\",\"2020-04-05\",\"2020-04-06\",\"2020-04-07\",\"2020-04-08\",\"2020-04-09\",\"2020-04-10\",\"2020-04-11\",\"2020-04-12\",\"2020-04-13\",\"2020-04-14\",\"2020-04-15\",\"2020-04-16\",\"2020-04-17\",\"2020-04-18\",\"2020-04-19\",\"2020-04-20\",\"2020-04-21\",\"2020-04-22\",\"2020-04-23\",\"2020-04-24\",\"2020-04-25\",\"2020-04-26\",\"2020-04-27\",\"2020-04-28\",\"2020-04-29\",\"2020-04-30\",\"2020-05-01\",\"2020-05-02\",\"2020-05-03\",\"2020-05-04\",\"2020-05-05\",\"2020-05-06\",\"2020-05-07\",\"2020-05-08\",\"2020-05-09\",\"2020-05-10\",\"2020-05-11\",\"2020-05-12\",\"2020-05-13\",\"2020-05-14\",\"2020-05-15\",\"2020-05-16\",\"2020-05-17\",\"2020-05-18\",\"2020-05-19\",\"2020-05-20\",\"2020-05-21\",\"2020-05-22\",\"2020-05-23\",\"2020-05-24\",\"2020-05-25\",\"2020-05-26\",\"2020-05-27\",\"2020-05-28\",\"2020-05-29\",\"2020-05-30\",\"2020-05-31\",\"2020-06-01\",\"2020-06-02\",\"2020-06-03\",\"2020-06-04\",\"2020-06-05\",\"2020-06-06\",\"2020-06-07\",\"2020-06-08\",\"2020-06-09\",\"2020-06-10\",\"2020-06-11\",\"2020-06-12\",\"2020-06-13\",\"2020-06-14\",\"2020-06-15\",\"2020-06-16\",\"2020-06-17\",\"2020-06-18\",\"2020-06-19\",\"2020-06-20\",\"2020-06-21\",\"2020-06-22\",\"2020-06-23\",\"2020-06-24\",\"2020-06-25\",\"2020-06-26\",\"2020-06-27\",\"2020-06-28\",\"2020-06-29\",\"2020-06-30\"],\"y\":[1,1,1,1,2,2,3,4,4,4,6,11,12,15,15,16,18,23,24,24,27,27,28,28,28,28,28,29,30,31,51,104,204,433,602,833,977,1261,1766,2337,3150,3736,4212,4812,5328,5766,6284,6767,7134,7382,7513,7755,7869,7979,8086,8126,8236,8320,8413,8565,8652,8799,8897,8961,9037,9137,9241,9332,9478,9583,9661,9786,9887,9976,10062,10156,10237,10284,10331,10384,10423,10450,10480,10512,10537,10564,10591,10613,10635,10653,10661,10674,10683,10694,10702,10708,10718,10728,10738,10752,10761,10765,10774,10780,10793,10801,10804,10806,10810,10822,10840,10874,10909,10936,10962,10991,11018,11037,11050,11065,11078,11110,11122,11142,11165,11190,11206,11225,11265,11344,11402,11441,11468,11503,11541,11590,11629,11668,11719,11776,11814,11852,11902,11947,12003,12051,12085,12121,12155,12198,12257,12306,12373,12421,12438,12484,12535,12563,12602,12653,12715,12757,12800],\"yaxis\":\"y\"},{\"marker\":{\"color\":\"#E91E63\"},\"name\":\"\\uc77c\\uc790\\ubcc4 \\ud655\\uc9c4\\uc790 \\uc218(\\uc804\\uad6d)\",\"type\":\"bar\",\"x\":[\"2020-01-20\",\"2020-01-21\",\"2020-01-22\",\"2020-01-23\",\"2020-01-24\",\"2020-01-25\",\"2020-01-26\",\"2020-01-27\",\"2020-01-28\",\"2020-01-29\",\"2020-01-30\",\"2020-01-31\",\"2020-02-01\",\"2020-02-02\",\"2020-02-03\",\"2020-02-04\",\"2020-02-05\",\"2020-02-06\",\"2020-02-07\",\"2020-02-08\",\"2020-02-09\",\"2020-02-10\",\"2020-02-11\",\"2020-02-12\",\"2020-02-13\",\"2020-02-14\",\"2020-02-15\",\"2020-02-16\",\"2020-02-17\",\"2020-02-18\",\"2020-02-19\",\"2020-02-20\",\"2020-02-21\",\"2020-02-22\",\"2020-02-23\",\"2020-02-24\",\"2020-02-25\",\"2020-02-26\",\"2020-02-27\",\"2020-02-28\",\"2020-02-29\",\"2020-03-01\",\"2020-03-02\",\"2020-03-03\",\"2020-03-04\",\"2020-03-05\",\"2020-03-06\",\"2020-03-07\",\"2020-03-08\",\"2020-03-09\",\"2020-03-10\",\"2020-03-11\",\"2020-03-12\",\"2020-03-13\",\"2020-03-14\",\"2020-03-15\",\"2020-03-16\",\"2020-03-17\",\"2020-03-18\",\"2020-03-19\",\"2020-03-20\",\"2020-03-21\",\"2020-03-22\",\"2020-03-23\",\"2020-03-24\",\"2020-03-25\",\"2020-03-26\",\"2020-03-27\",\"2020-03-28\",\"2020-03-29\",\"2020-03-30\",\"2020-03-31\",\"2020-04-01\",\"2020-04-02\",\"2020-04-03\",\"2020-04-04\",\"2020-04-05\",\"2020-04-06\",\"2020-04-07\",\"2020-04-08\",\"2020-04-09\",\"2020-04-10\",\"2020-04-11\",\"2020-04-12\",\"2020-04-13\",\"2020-04-14\",\"2020-04-15\",\"2020-04-16\",\"2020-04-17\",\"2020-04-18\",\"2020-04-19\",\"2020-04-20\",\"2020-04-21\",\"2020-04-22\",\"2020-04-23\",\"2020-04-24\",\"2020-04-25\",\"2020-04-26\",\"2020-04-27\",\"2020-04-28\",\"2020-04-29\",\"2020-04-30\",\"2020-05-01\",\"2020-05-02\",\"2020-05-03\",\"2020-05-04\",\"2020-05-05\",\"2020-05-06\",\"2020-05-07\",\"2020-05-08\",\"2020-05-09\",\"2020-05-10\",\"2020-05-11\",\"2020-05-12\",\"2020-05-13\",\"2020-05-14\",\"2020-05-15\",\"2020-05-16\",\"2020-05-17\",\"2020-05-18\",\"2020-05-19\",\"2020-05-20\",\"2020-05-21\",\"2020-05-22\",\"2020-05-23\",\"2020-05-24\",\"2020-05-25\",\"2020-05-26\",\"2020-05-27\",\"2020-05-28\",\"2020-05-29\",\"2020-05-30\",\"2020-05-31\",\"2020-06-01\",\"2020-06-02\",\"2020-06-03\",\"2020-06-04\",\"2020-06-05\",\"2020-06-06\",\"2020-06-07\",\"2020-06-08\",\"2020-06-09\",\"2020-06-10\",\"2020-06-11\",\"2020-06-12\",\"2020-06-13\",\"2020-06-14\",\"2020-06-15\",\"2020-06-16\",\"2020-06-17\",\"2020-06-18\",\"2020-06-19\",\"2020-06-20\",\"2020-06-21\",\"2020-06-22\",\"2020-06-23\",\"2020-06-24\",\"2020-06-25\",\"2020-06-26\",\"2020-06-27\",\"2020-06-28\",\"2020-06-29\",\"2020-06-30\"],\"y\":[1,0,0,0,1,0,1,1,0,0,2,5,1,3,0,1,2,5,1,0,3,0,1,0,0,0,0,1,1,1,20,53,100,229,169,231,144,284,505,571,813,586,476,600,516,438,518,483,367,248,131,242,114,110,107,40,110,84,93,152,87,147,98,64,76,100,104,91,146,105,78,125,101,89,86,94,81,47,47,53,39,27,30,32,25,27,27,22,22,18,8,13,9,11,8,6,10,10,10,14,9,4,9,6,13,8,3,2,4,12,18,34,35,27,26,29,27,19,13,15,13,32,12,20,23,25,16,19,40,79,58,39,27,35,38,49,39,39,51,57,38,38,50,45,56,48,34,36,34,43,59,49,67,48,17,46,51,28,39,51,62,42,43],\"yaxis\":\"y2\"}],                        {\"dragmode\":\"zoom\",\"height\":700,\"hovermode\":\"x\",\"margin\":{\"b\":100,\"t\":100},\"shapes\":[{\"fillcolor\":\"rgba(211, 211, 211, 0.3)\",\"line\":{\"width\":0},\"type\":\"rect\",\"x0\":\"2020-02-25\",\"x1\":\"2020-03-09\",\"xref\":\"x\",\"y0\":0,\"y1\":0.95,\"yref\":\"paper\"}],\"template\":{\"data\":{\"bar\":[{\"error_x\":{\"color\":\"#f2f5fa\"},\"error_y\":{\"color\":\"#f2f5fa\"},\"marker\":{\"line\":{\"color\":\"rgb(17,17,17)\",\"width\":0.5},\"pattern\":{\"fillmode\":\"overlay\",\"size\":10,\"solidity\":0.2}},\"type\":\"bar\"}],\"barpolar\":[{\"marker\":{\"line\":{\"color\":\"rgb(17,17,17)\",\"width\":0.5},\"pattern\":{\"fillmode\":\"overlay\",\"size\":10,\"solidity\":0.2}},\"type\":\"barpolar\"}],\"carpet\":[{\"aaxis\":{\"endlinecolor\":\"#A2B1C6\",\"gridcolor\":\"#506784\",\"linecolor\":\"#506784\",\"minorgridcolor\":\"#506784\",\"startlinecolor\":\"#A2B1C6\"},\"baxis\":{\"endlinecolor\":\"#A2B1C6\",\"gridcolor\":\"#506784\",\"linecolor\":\"#506784\",\"minorgridcolor\":\"#506784\",\"startlinecolor\":\"#A2B1C6\"},\"type\":\"carpet\"}],\"choropleth\":[{\"colorbar\":{\"outlinewidth\":0,\"ticks\":\"\"},\"type\":\"choropleth\"}],\"contour\":[{\"colorbar\":{\"outlinewidth\":0,\"ticks\":\"\"},\"colorscale\":[[0.0,\"#0d0887\"],[0.1111111111111111,\"#46039f\"],[0.2222222222222222,\"#7201a8\"],[0.3333333333333333,\"#9c179e\"],[0.4444444444444444,\"#bd3786\"],[0.5555555555555556,\"#d8576b\"],[0.6666666666666666,\"#ed7953\"],[0.7777777777777778,\"#fb9f3a\"],[0.8888888888888888,\"#fdca26\"],[1.0,\"#f0f921\"]],\"type\":\"contour\"}],\"contourcarpet\":[{\"colorbar\":{\"outlinewidth\":0,\"ticks\":\"\"},\"type\":\"contourcarpet\"}],\"heatmap\":[{\"colorbar\":{\"outlinewidth\":0,\"ticks\":\"\"},\"colorscale\":[[0.0,\"#0d0887\"],[0.1111111111111111,\"#46039f\"],[0.2222222222222222,\"#7201a8\"],[0.3333333333333333,\"#9c179e\"],[0.4444444444444444,\"#bd3786\"],[0.5555555555555556,\"#d8576b\"],[0.6666666666666666,\"#ed7953\"],[0.7777777777777778,\"#fb9f3a\"],[0.8888888888888888,\"#fdca26\"],[1.0,\"#f0f921\"]],\"type\":\"heatmap\"}],\"heatmapgl\":[{\"colorbar\":{\"outlinewidth\":0,\"ticks\":\"\"},\"colorscale\":[[0.0,\"#0d0887\"],[0.1111111111111111,\"#46039f\"],[0.2222222222222222,\"#7201a8\"],[0.3333333333333333,\"#9c179e\"],[0.4444444444444444,\"#bd3786\"],[0.5555555555555556,\"#d8576b\"],[0.6666666666666666,\"#ed7953\"],[0.7777777777777778,\"#fb9f3a\"],[0.8888888888888888,\"#fdca26\"],[1.0,\"#f0f921\"]],\"type\":\"heatmapgl\"}],\"histogram\":[{\"marker\":{\"pattern\":{\"fillmode\":\"overlay\",\"size\":10,\"solidity\":0.2}},\"type\":\"histogram\"}],\"histogram2d\":[{\"colorbar\":{\"outlinewidth\":0,\"ticks\":\"\"},\"colorscale\":[[0.0,\"#0d0887\"],[0.1111111111111111,\"#46039f\"],[0.2222222222222222,\"#7201a8\"],[0.3333333333333333,\"#9c179e\"],[0.4444444444444444,\"#bd3786\"],[0.5555555555555556,\"#d8576b\"],[0.6666666666666666,\"#ed7953\"],[0.7777777777777778,\"#fb9f3a\"],[0.8888888888888888,\"#fdca26\"],[1.0,\"#f0f921\"]],\"type\":\"histogram2d\"}],\"histogram2dcontour\":[{\"colorbar\":{\"outlinewidth\":0,\"ticks\":\"\"},\"colorscale\":[[0.0,\"#0d0887\"],[0.1111111111111111,\"#46039f\"],[0.2222222222222222,\"#7201a8\"],[0.3333333333333333,\"#9c179e\"],[0.4444444444444444,\"#bd3786\"],[0.5555555555555556,\"#d8576b\"],[0.6666666666666666,\"#ed7953\"],[0.7777777777777778,\"#fb9f3a\"],[0.8888888888888888,\"#fdca26\"],[1.0,\"#f0f921\"]],\"type\":\"histogram2dcontour\"}],\"mesh3d\":[{\"colorbar\":{\"outlinewidth\":0,\"ticks\":\"\"},\"type\":\"mesh3d\"}],\"parcoords\":[{\"line\":{\"colorbar\":{\"outlinewidth\":0,\"ticks\":\"\"}},\"type\":\"parcoords\"}],\"pie\":[{\"automargin\":true,\"type\":\"pie\"}],\"scatter\":[{\"marker\":{\"line\":{\"color\":\"#283442\"}},\"type\":\"scatter\"}],\"scatter3d\":[{\"line\":{\"colorbar\":{\"outlinewidth\":0,\"ticks\":\"\"}},\"marker\":{\"colorbar\":{\"outlinewidth\":0,\"ticks\":\"\"}},\"type\":\"scatter3d\"}],\"scattercarpet\":[{\"marker\":{\"colorbar\":{\"outlinewidth\":0,\"ticks\":\"\"}},\"type\":\"scattercarpet\"}],\"scattergeo\":[{\"marker\":{\"colorbar\":{\"outlinewidth\":0,\"ticks\":\"\"}},\"type\":\"scattergeo\"}],\"scattergl\":[{\"marker\":{\"line\":{\"color\":\"#283442\"}},\"type\":\"scattergl\"}],\"scattermapbox\":[{\"marker\":{\"colorbar\":{\"outlinewidth\":0,\"ticks\":\"\"}},\"type\":\"scattermapbox\"}],\"scatterpolar\":[{\"marker\":{\"colorbar\":{\"outlinewidth\":0,\"ticks\":\"\"}},\"type\":\"scatterpolar\"}],\"scatterpolargl\":[{\"marker\":{\"colorbar\":{\"outlinewidth\":0,\"ticks\":\"\"}},\"type\":\"scatterpolargl\"}],\"scatterternary\":[{\"marker\":{\"colorbar\":{\"outlinewidth\":0,\"ticks\":\"\"}},\"type\":\"scatterternary\"}],\"surface\":[{\"colorbar\":{\"outlinewidth\":0,\"ticks\":\"\"},\"colorscale\":[[0.0,\"#0d0887\"],[0.1111111111111111,\"#46039f\"],[0.2222222222222222,\"#7201a8\"],[0.3333333333333333,\"#9c179e\"],[0.4444444444444444,\"#bd3786\"],[0.5555555555555556,\"#d8576b\"],[0.6666666666666666,\"#ed7953\"],[0.7777777777777778,\"#fb9f3a\"],[0.8888888888888888,\"#fdca26\"],[1.0,\"#f0f921\"]],\"type\":\"surface\"}],\"table\":[{\"cells\":{\"fill\":{\"color\":\"#506784\"},\"line\":{\"color\":\"rgb(17,17,17)\"}},\"header\":{\"fill\":{\"color\":\"#2a3f5f\"},\"line\":{\"color\":\"rgb(17,17,17)\"}},\"type\":\"table\"}]},\"layout\":{\"annotationdefaults\":{\"arrowcolor\":\"#f2f5fa\",\"arrowhead\":0,\"arrowwidth\":1},\"autotypenumbers\":\"strict\",\"coloraxis\":{\"colorbar\":{\"outlinewidth\":0,\"ticks\":\"\"}},\"colorscale\":{\"diverging\":[[0,\"#8e0152\"],[0.1,\"#c51b7d\"],[0.2,\"#de77ae\"],[0.3,\"#f1b6da\"],[0.4,\"#fde0ef\"],[0.5,\"#f7f7f7\"],[0.6,\"#e6f5d0\"],[0.7,\"#b8e186\"],[0.8,\"#7fbc41\"],[0.9,\"#4d9221\"],[1,\"#276419\"]],\"sequential\":[[0.0,\"#0d0887\"],[0.1111111111111111,\"#46039f\"],[0.2222222222222222,\"#7201a8\"],[0.3333333333333333,\"#9c179e\"],[0.4444444444444444,\"#bd3786\"],[0.5555555555555556,\"#d8576b\"],[0.6666666666666666,\"#ed7953\"],[0.7777777777777778,\"#fb9f3a\"],[0.8888888888888888,\"#fdca26\"],[1.0,\"#f0f921\"]],\"sequentialminus\":[[0.0,\"#0d0887\"],[0.1111111111111111,\"#46039f\"],[0.2222222222222222,\"#7201a8\"],[0.3333333333333333,\"#9c179e\"],[0.4444444444444444,\"#bd3786\"],[0.5555555555555556,\"#d8576b\"],[0.6666666666666666,\"#ed7953\"],[0.7777777777777778,\"#fb9f3a\"],[0.8888888888888888,\"#fdca26\"],[1.0,\"#f0f921\"]]},\"colorway\":[\"#636efa\",\"#EF553B\",\"#00cc96\",\"#ab63fa\",\"#FFA15A\",\"#19d3f3\",\"#FF6692\",\"#B6E880\",\"#FF97FF\",\"#FECB52\"],\"font\":{\"color\":\"#f2f5fa\"},\"geo\":{\"bgcolor\":\"rgb(17,17,17)\",\"lakecolor\":\"rgb(17,17,17)\",\"landcolor\":\"rgb(17,17,17)\",\"showlakes\":true,\"showland\":true,\"subunitcolor\":\"#506784\"},\"hoverlabel\":{\"align\":\"left\"},\"hovermode\":\"closest\",\"mapbox\":{\"style\":\"dark\"},\"paper_bgcolor\":\"rgb(17,17,17)\",\"plot_bgcolor\":\"rgb(17,17,17)\",\"polar\":{\"angularaxis\":{\"gridcolor\":\"#506784\",\"linecolor\":\"#506784\",\"ticks\":\"\"},\"bgcolor\":\"rgb(17,17,17)\",\"radialaxis\":{\"gridcolor\":\"#506784\",\"linecolor\":\"#506784\",\"ticks\":\"\"}},\"scene\":{\"xaxis\":{\"backgroundcolor\":\"rgb(17,17,17)\",\"gridcolor\":\"#506784\",\"gridwidth\":2,\"linecolor\":\"#506784\",\"showbackground\":true,\"ticks\":\"\",\"zerolinecolor\":\"#C8D4E3\"},\"yaxis\":{\"backgroundcolor\":\"rgb(17,17,17)\",\"gridcolor\":\"#506784\",\"gridwidth\":2,\"linecolor\":\"#506784\",\"showbackground\":true,\"ticks\":\"\",\"zerolinecolor\":\"#C8D4E3\"},\"zaxis\":{\"backgroundcolor\":\"rgb(17,17,17)\",\"gridcolor\":\"#506784\",\"gridwidth\":2,\"linecolor\":\"#506784\",\"showbackground\":true,\"ticks\":\"\",\"zerolinecolor\":\"#C8D4E3\"}},\"shapedefaults\":{\"line\":{\"color\":\"#f2f5fa\"}},\"sliderdefaults\":{\"bgcolor\":\"#C8D4E3\",\"bordercolor\":\"rgb(17,17,17)\",\"borderwidth\":1,\"tickwidth\":0},\"ternary\":{\"aaxis\":{\"gridcolor\":\"#506784\",\"linecolor\":\"#506784\",\"ticks\":\"\"},\"baxis\":{\"gridcolor\":\"#506784\",\"linecolor\":\"#506784\",\"ticks\":\"\"},\"bgcolor\":\"rgb(17,17,17)\",\"caxis\":{\"gridcolor\":\"#506784\",\"linecolor\":\"#506784\",\"ticks\":\"\"}},\"title\":{\"x\":0.05},\"updatemenudefaults\":{\"bgcolor\":\"#506784\",\"borderwidth\":0},\"xaxis\":{\"automargin\":true,\"gridcolor\":\"#283442\",\"linecolor\":\"#506784\",\"ticks\":\"\",\"title\":{\"standoff\":15},\"zerolinecolor\":\"#283442\",\"zerolinewidth\":2},\"yaxis\":{\"automargin\":true,\"gridcolor\":\"#283442\",\"linecolor\":\"#506784\",\"ticks\":\"\",\"title\":{\"standoff\":15},\"zerolinecolor\":\"#283442\",\"zerolinewidth\":2}}},\"title\":{\"text\":\"\\uc77c\\uc790\\ubcc4 \\ucf54\\ub85c\\ub098 \\ud655\\uc9c4 \\ud604\\ud669\"},\"xaxis\":{\"rangeslider\":{\"autorange\":true,\"range\":[\"2020-01-20\",\"2020-06-30\"],\"visible\":true},\"type\":\"date\"},\"yaxis\":{\"anchor\":\"x\",\"autorange\":true,\"domain\":[0,0.5],\"linecolor\":\"#009770\",\"mirror\":true,\"range\":[-60.0858369099,28.4406294707],\"showline\":true,\"side\":\"right\",\"tickfont\":{\"color\":\"#009770\"},\"tickmode\":\"auto\",\"ticks\":\"\",\"title\":{\"font\":{\"color\":\"#009770\"}},\"type\":\"linear\",\"zeroline\":false},\"yaxis2\":{\"anchor\":\"x\",\"autorange\":true,\"domain\":[0.5,0.95],\"linecolor\":\"#E91E63\",\"mirror\":true,\"range\":[29.3787777032,100.621222297],\"showline\":true,\"side\":\"right\",\"tickfont\":{\"color\":\"#E91E63\"},\"tickmode\":\"auto\",\"ticks\":\"\",\"title\":{\"font\":{\"color\":\"#E91E63\"}},\"type\":\"linear\",\"zeroline\":false}},                        {\"responsive\": true}                    ).then(function(){\n",
       "                            \n",
       "var gd = document.getElementById('8f55b4e5-f9f6-4077-920c-e0d742273827');\n",
       "var x = new MutationObserver(function (mutations, observer) {{\n",
       "        var display = window.getComputedStyle(gd).display;\n",
       "        if (!display || display === 'none') {{\n",
       "            console.log([gd, 'removed!']);\n",
       "            Plotly.purge(gd);\n",
       "            observer.disconnect();\n",
       "        }}\n",
       "}});\n",
       "\n",
       "// Listen for the removal of the full notebook cells\n",
       "var notebookContainer = gd.closest('#notebook-container');\n",
       "if (notebookContainer) {{\n",
       "    x.observe(notebookContainer, {childList: true});\n",
       "}}\n",
       "\n",
       "// Listen for the clearing of the current output cell\n",
       "var outputEl = gd.closest('.output');\n",
       "if (outputEl) {{\n",
       "    x.observe(outputEl, {childList: true});\n",
       "}}\n",
       "\n",
       "                        })                };                });            </script>        </div>"
      ]
     },
     "metadata": {},
     "output_type": "display_data"
    },
    {
     "data": {
      "text/plain": [
       "'\\n필사중오타가있었음..근데 못찾겠음\\nfig = go.Figure()\\nfig.add_trace(go.Line(x=time[\\'date\\'], y=time[\\'confirmed\\'],name=\"일자별 누적 확진자 수(전국)\", marker_color=\\'#009770\\', yaxis=\"y\"))\\nfig.add_trace(go.Bar(x=time[\\'date\\'], y=[\\'daily\\'], name=\"일자별 확진자 수(전국)\", marker_color=\\'#E91E63\\', yaxis=\"y2\"))\\nfig.update_layout(shapes=[dict(fillcolor=\"rgba(211, 211, 211, 0.3)\", line={\"width\": 0}, type=\"rect\", x0=\"2020-02-25\", x1=\"2020-03-09\", xref=\"x\", y0=0, y1=0.95, yref=\"paper\")])\\nfig.update_layout(xaxis=dict(rangeslider=dict(autorange=True, range=[\"2020-01-20\", \"2020-06-30\"],visible=True),type=\"date\"),\\n                  yaxis=dict(anchor=\"x\",autorange=True,domain=[0, 0.5],linecolor=\"#009770\",mirror=True,range=[-60.0858369099, 28.4406294707],showline=True,side=\"right\",\\n                             tickfont={\"color\": \"#009770\"},tickmode=\"auto\",ticks=\"\",titlefont={\"color\": \"#009770\"},type=\"linear\",zeroline=False),\\n                  yaxis2=dict(anchor=\"x\",autorange=True,domain=[0.5, 0.95],linecolor=\"#E91E63\",mirror=True,range=[29.3787777032, 100.621222297],showline=True,side=\"right\",\\n                             tickfont={\"color\": \"#E91E63\"},tickmode=\"auto\",ticks=\"\",titlefont={\"color\": \"#E91E63\"},type=\"linear\",zeroline=False))\\nfig.update_layout(dragmode=\"zoom\", hovermode=\"x\", height=700, template=\"plotly_dark\", title_text = \"일자별 코로나 확진 현황\", margin=dict(t=100, b=100))\\nfig.show()'"
      ]
     },
     "execution_count": 18,
     "metadata": {},
     "output_type": "execute_result"
    }
   ],
   "source": [
    "#시각화\n",
    "fig = go.Figure()\n",
    "fig.add_trace(go.Line(x=time['date'], y = time['confirmed'], name = \"일자별 누적 확진자 수(전국)\", marker_color='#009770', yaxis=\"y\"))\n",
    "fig.add_trace(go.Bar(x=time['date'], y = time['daily'], name = \"일자별 확진자 수(전국)\", marker_color='#E91E63', yaxis=\"y2\"))\n",
    "fig.update_layout(shapes=[dict(fillcolor=\"rgba(211, 211, 211, 0.3)\",line={\"width\": 0}, type=\"rect\",x0=\"2020-02-25\",x1=\"2020-03-09\",xref=\"x\",y0=0,y1=0.95,yref=\"paper\")])\n",
    "fig.update_layout(xaxis=dict(rangeslider=dict(autorange=True, range=[\"2020-01-20\", \"2020-06-30\"],visible=True),type=\"date\"),\n",
    "                  yaxis=dict(anchor=\"x\",autorange=True,domain=[0, 0.5],linecolor=\"#009770\",mirror=True,range=[-60.0858369099, 28.4406294707],showline=True,side=\"right\",\n",
    "                             tickfont={\"color\": \"#009770\"},tickmode=\"auto\",ticks=\"\",titlefont={\"color\": \"#009770\"},type=\"linear\",zeroline=False),\n",
    "                  yaxis2=dict(anchor=\"x\",autorange=True,domain=[0.5, 0.95],linecolor=\"#E91E63\",mirror=True,range=[29.3787777032, 100.621222297],showline=True,side=\"right\",\n",
    "                             tickfont={\"color\": \"#E91E63\"},tickmode=\"auto\",ticks=\"\",titlefont={\"color\": \"#E91E63\"},type=\"linear\",zeroline=False))\n",
    "fig.update_layout(dragmode=\"zoom\", hovermode=\"x\", height=700, template=\"plotly_dark\", title_text = \"일자별 코로나 확진 현황\", margin=dict(t=100, b=100))\n",
    "fig.show()\n",
    "\n",
    "'''\n",
    "필사중오타가있었음..근데 못찾겠음\n",
    "fig = go.Figure()\n",
    "fig.add_trace(go.Line(x=time['date'], y=time['confirmed'],name=\"일자별 누적 확진자 수(전국)\", marker_color='#009770', yaxis=\"y\"))\n",
    "fig.add_trace(go.Bar(x=time['date'], y=['daily'], name=\"일자별 확진자 수(전국)\", marker_color='#E91E63', yaxis=\"y2\"))\n",
    "fig.update_layout(shapes=[dict(fillcolor=\"rgba(211, 211, 211, 0.3)\", line={\"width\": 0}, type=\"rect\", x0=\"2020-02-25\", x1=\"2020-03-09\", xref=\"x\", y0=0, y1=0.95, yref=\"paper\")])\n",
    "fig.update_layout(xaxis=dict(rangeslider=dict(autorange=True, range=[\"2020-01-20\", \"2020-06-30\"],visible=True),type=\"date\"),\n",
    "                  yaxis=dict(anchor=\"x\",autorange=True,domain=[0, 0.5],linecolor=\"#009770\",mirror=True,range=[-60.0858369099, 28.4406294707],showline=True,side=\"right\",\n",
    "                             tickfont={\"color\": \"#009770\"},tickmode=\"auto\",ticks=\"\",titlefont={\"color\": \"#009770\"},type=\"linear\",zeroline=False),\n",
    "                  yaxis2=dict(anchor=\"x\",autorange=True,domain=[0.5, 0.95],linecolor=\"#E91E63\",mirror=True,range=[29.3787777032, 100.621222297],showline=True,side=\"right\",\n",
    "                             tickfont={\"color\": \"#E91E63\"},tickmode=\"auto\",ticks=\"\",titlefont={\"color\": \"#E91E63\"},type=\"linear\",zeroline=False))\n",
    "fig.update_layout(dragmode=\"zoom\", hovermode=\"x\", height=700, template=\"plotly_dark\", title_text = \"일자별 코로나 확진 현황\", margin=dict(t=100, b=100))\n",
    "fig.show()'''"
   ]
  },
  {
   "cell_type": "markdown",
   "metadata": {},
   "source": [
    "※ 하단 슬라이드 바를 조절하면 원하는 기간을 집중적으로 보실 수 있습니다.\n",
    "- 신천지 집단감염 사태가 일어난 2월 말~ 3월 초에 확진자 수가 급증하였으며, 이후 확진자수는 한동안 잦아드는 추세를 보였다. \n",
    "- 그러나 이태원 집단감영 사태가 일어난 5월 말을 기점으로 다시 증가하고 있는 것을 확인 할 수 있다."
   ]
  },
  {
   "cell_type": "code",
   "execution_count": 19,
   "metadata": {},
   "outputs": [],
   "source": [
    "## 일자별 신규 & 누적 확진자 수\n",
    "# 코로나19 확진자와 구체적인 지역\n",
    "\n",
    "#코로나19 확진자 map\n",
    "case = pd.read_csv('Case.csv')\n",
    "pv_sum = case.filter(['province', 'confirmed']).groupby(['province']).sum()"
   ]
  },
  {
   "cell_type": "code",
   "execution_count": 20,
   "metadata": {},
   "outputs": [],
   "source": [
    "pv_sum['lat'] = 0.0\n",
    "pv_sum['lon'] = 0.0\n",
    "\n",
    "#지역별 위도,경도 추가\n",
    "pv_sum.loc['강원도','lat'] = 38.079 #위도\n",
    "pv_sum.loc['강원도','lon'] = 128.284 #경도\n",
    "pv_sum.loc['경기도','lat'] = 37.194\n",
    "pv_sum.loc['경기도','lon'] = 127.255\n",
    "pv_sum.loc['경상남도','lat'] = 35.295\n",
    "pv_sum.loc['경상남도','lon'] = 128.389\n",
    "pv_sum.loc['경상북도','lat'] = 36.652\n",
    "pv_sum.loc['경상북도','lon'] = 128.828\n",
    "pv_sum.loc['광주','lat'] = 35.128\n",
    "pv_sum.loc['광주','lon'] = 126.850\n",
    "pv_sum.loc['대구','lat'] = 35.826\n",
    "pv_sum.loc['대구','lon'] = 128.527\n",
    "pv_sum.loc['대전','lat'] = 36.263\n",
    "pv_sum.loc['대전','lon'] = 127.404\n",
    "pv_sum.loc['부산','lat'] = 35.160\n",
    "pv_sum.loc['부산','lon'] = 129.113\n",
    "pv_sum.loc['서울','lat'] = 37.590\n",
    "pv_sum.loc['서울','lon'] = 127.002\n",
    "pv_sum.loc['세종','lat'] = 36.551\n",
    "pv_sum.loc['세종','lon'] = 127.303\n",
    "pv_sum.loc['울산','lat'] = 35.516\n",
    "pv_sum.loc['울산','lon'] = 129.322\n",
    "pv_sum.loc['인천','lat'] = 37.484\n",
    "pv_sum.loc['인천','lon'] = 126.652\n",
    "pv_sum.loc['제주도','lat'] = 33.507\n",
    "pv_sum.loc['제주도','lon'] = 126.525\n",
    "pv_sum.loc['전라남도','lat'] =  34.694\n",
    "pv_sum.loc['전라남도','lon'] = 126.976\n",
    "pv_sum.loc['전라북도','lat'] =  35.774\n",
    "pv_sum.loc['전라북도','lon'] = 127.099\n",
    "pv_sum.loc['충청남도','lat'] = 36.566\n",
    "pv_sum.loc['충청남도','lon'] = 126.617\n",
    "pv_sum.loc['충청북도','lat'] = 36.756\n",
    "pv_sum.loc['충청북도','lon'] = 127.602"
   ]
  },
  {
   "cell_type": "code",
   "execution_count": 21,
   "metadata": {},
   "outputs": [
    {
     "data": {
      "text/html": [
       "<div style=\"width:100%;\"><div style=\"position:relative;width:100%;height:0;padding-bottom:60%;\"><span style=\"color:#565656\">Make this Notebook Trusted to load map: File -> Trust Notebook</span><iframe src=\"about:blank\" style=\"position:absolute;width:100%;height:100%;left:0;top:0;border:none !important;\" data-html=%3C%21DOCTYPE%20html%3E%0A%3Chead%3E%20%20%20%20%0A%20%20%20%20%3Cmeta%20http-equiv%3D%22content-type%22%20content%3D%22text/html%3B%20charset%3DUTF-8%22%20/%3E%0A%20%20%20%20%0A%20%20%20%20%20%20%20%20%3Cscript%3E%0A%20%20%20%20%20%20%20%20%20%20%20%20L_NO_TOUCH%20%3D%20false%3B%0A%20%20%20%20%20%20%20%20%20%20%20%20L_DISABLE_3D%20%3D%20false%3B%0A%20%20%20%20%20%20%20%20%3C/script%3E%0A%20%20%20%20%0A%20%20%20%20%3Cstyle%3Ehtml%2C%20body%20%7Bwidth%3A%20100%25%3Bheight%3A%20100%25%3Bmargin%3A%200%3Bpadding%3A%200%3B%7D%3C/style%3E%0A%20%20%20%20%3Cstyle%3E%23map%20%7Bposition%3Aabsolute%3Btop%3A0%3Bbottom%3A0%3Bright%3A0%3Bleft%3A0%3B%7D%3C/style%3E%0A%20%20%20%20%3Cscript%20src%3D%22https%3A//cdn.jsdelivr.net/npm/leaflet%401.6.0/dist/leaflet.js%22%3E%3C/script%3E%0A%20%20%20%20%3Cscript%20src%3D%22https%3A//code.jquery.com/jquery-1.12.4.min.js%22%3E%3C/script%3E%0A%20%20%20%20%3Cscript%20src%3D%22https%3A//maxcdn.bootstrapcdn.com/bootstrap/3.2.0/js/bootstrap.min.js%22%3E%3C/script%3E%0A%20%20%20%20%3Cscript%20src%3D%22https%3A//cdnjs.cloudflare.com/ajax/libs/Leaflet.awesome-markers/2.0.2/leaflet.awesome-markers.js%22%3E%3C/script%3E%0A%20%20%20%20%3Clink%20rel%3D%22stylesheet%22%20href%3D%22https%3A//cdn.jsdelivr.net/npm/leaflet%401.6.0/dist/leaflet.css%22/%3E%0A%20%20%20%20%3Clink%20rel%3D%22stylesheet%22%20href%3D%22https%3A//maxcdn.bootstrapcdn.com/bootstrap/3.2.0/css/bootstrap.min.css%22/%3E%0A%20%20%20%20%3Clink%20rel%3D%22stylesheet%22%20href%3D%22https%3A//maxcdn.bootstrapcdn.com/bootstrap/3.2.0/css/bootstrap-theme.min.css%22/%3E%0A%20%20%20%20%3Clink%20rel%3D%22stylesheet%22%20href%3D%22https%3A//maxcdn.bootstrapcdn.com/font-awesome/4.6.3/css/font-awesome.min.css%22/%3E%0A%20%20%20%20%3Clink%20rel%3D%22stylesheet%22%20href%3D%22https%3A//cdnjs.cloudflare.com/ajax/libs/Leaflet.awesome-markers/2.0.2/leaflet.awesome-markers.css%22/%3E%0A%20%20%20%20%3Clink%20rel%3D%22stylesheet%22%20href%3D%22https%3A//cdn.jsdelivr.net/gh/python-visualization/folium/folium/templates/leaflet.awesome.rotate.min.css%22/%3E%0A%20%20%20%20%0A%20%20%20%20%20%20%20%20%20%20%20%20%3Cmeta%20name%3D%22viewport%22%20content%3D%22width%3Ddevice-width%2C%0A%20%20%20%20%20%20%20%20%20%20%20%20%20%20%20%20initial-scale%3D1.0%2C%20maximum-scale%3D1.0%2C%20user-scalable%3Dno%22%20/%3E%0A%20%20%20%20%20%20%20%20%20%20%20%20%3Cstyle%3E%0A%20%20%20%20%20%20%20%20%20%20%20%20%20%20%20%20%23map_f5b738f88f0e4498b81c91e0ba670b31%20%7B%0A%20%20%20%20%20%20%20%20%20%20%20%20%20%20%20%20%20%20%20%20position%3A%20relative%3B%0A%20%20%20%20%20%20%20%20%20%20%20%20%20%20%20%20%20%20%20%20width%3A%20100.0%25%3B%0A%20%20%20%20%20%20%20%20%20%20%20%20%20%20%20%20%20%20%20%20height%3A%20100.0%25%3B%0A%20%20%20%20%20%20%20%20%20%20%20%20%20%20%20%20%20%20%20%20left%3A%200.0%25%3B%0A%20%20%20%20%20%20%20%20%20%20%20%20%20%20%20%20%20%20%20%20top%3A%200.0%25%3B%0A%20%20%20%20%20%20%20%20%20%20%20%20%20%20%20%20%7D%0A%20%20%20%20%20%20%20%20%20%20%20%20%3C/style%3E%0A%20%20%20%20%20%20%20%20%0A%3C/head%3E%0A%3Cbody%3E%20%20%20%20%0A%20%20%20%20%0A%20%20%20%20%20%20%20%20%20%20%20%20%3Cdiv%20class%3D%22folium-map%22%20id%3D%22map_f5b738f88f0e4498b81c91e0ba670b31%22%20%3E%3C/div%3E%0A%20%20%20%20%20%20%20%20%0A%3C/body%3E%0A%3Cscript%3E%20%20%20%20%0A%20%20%20%20%0A%20%20%20%20%20%20%20%20%20%20%20%20var%20map_f5b738f88f0e4498b81c91e0ba670b31%20%3D%20L.map%28%0A%20%20%20%20%20%20%20%20%20%20%20%20%20%20%20%20%22map_f5b738f88f0e4498b81c91e0ba670b31%22%2C%0A%20%20%20%20%20%20%20%20%20%20%20%20%20%20%20%20%7B%0A%20%20%20%20%20%20%20%20%20%20%20%20%20%20%20%20%20%20%20%20center%3A%20%5B36.4%2C%20128.0%5D%2C%0A%20%20%20%20%20%20%20%20%20%20%20%20%20%20%20%20%20%20%20%20crs%3A%20L.CRS.EPSG3857%2C%0A%20%20%20%20%20%20%20%20%20%20%20%20%20%20%20%20%20%20%20%20zoom%3A%207%2C%0A%20%20%20%20%20%20%20%20%20%20%20%20%20%20%20%20%20%20%20%20zoomControl%3A%20true%2C%0A%20%20%20%20%20%20%20%20%20%20%20%20%20%20%20%20%20%20%20%20preferCanvas%3A%20false%2C%0A%20%20%20%20%20%20%20%20%20%20%20%20%20%20%20%20%7D%0A%20%20%20%20%20%20%20%20%20%20%20%20%29%3B%0A%0A%20%20%20%20%20%20%20%20%20%20%20%20%0A%0A%20%20%20%20%20%20%20%20%0A%20%20%20%20%0A%20%20%20%20%20%20%20%20%20%20%20%20var%20tile_layer_85c21d2499164f779a1328de2e1565ec%20%3D%20L.tileLayer%28%0A%20%20%20%20%20%20%20%20%20%20%20%20%20%20%20%20%22https%3A//%7Bs%7D.tile.openstreetmap.org/%7Bz%7D/%7Bx%7D/%7By%7D.png%22%2C%0A%20%20%20%20%20%20%20%20%20%20%20%20%20%20%20%20%7B%22attribution%22%3A%20%22Data%20by%20%5Cu0026copy%3B%20%5Cu003ca%20href%3D%5C%22http%3A//openstreetmap.org%5C%22%5Cu003eOpenStreetMap%5Cu003c/a%5Cu003e%2C%20under%20%5Cu003ca%20href%3D%5C%22http%3A//www.openstreetmap.org/copyright%5C%22%5Cu003eODbL%5Cu003c/a%5Cu003e.%22%2C%20%22detectRetina%22%3A%20false%2C%20%22maxNativeZoom%22%3A%2018%2C%20%22maxZoom%22%3A%2018%2C%20%22minZoom%22%3A%200%2C%20%22noWrap%22%3A%20false%2C%20%22opacity%22%3A%201%2C%20%22subdomains%22%3A%20%22abc%22%2C%20%22tms%22%3A%20false%7D%0A%20%20%20%20%20%20%20%20%20%20%20%20%29.addTo%28map_f5b738f88f0e4498b81c91e0ba670b31%29%3B%0A%20%20%20%20%20%20%20%20%0A%20%20%20%20%0A%20%20%20%20%20%20%20%20%20%20%20%20var%20circle_2ef2648ddd464e90a31bb5a213b57398%20%3D%20L.circle%28%0A%20%20%20%20%20%20%20%20%20%20%20%20%20%20%20%20%5B38.079%2C%20128.284%5D%2C%0A%20%20%20%20%20%20%20%20%20%20%20%20%20%20%20%20%7B%22bubblingMouseEvents%22%3A%20true%2C%20%22color%22%3A%20%22%23E91E63%22%2C%20%22dashArray%22%3A%20null%2C%20%22dashOffset%22%3A%20null%2C%20%22fill%22%3A%20true%2C%20%22fillColor%22%3A%20%22%23ff3399%22%2C%20%22fillOpacity%22%3A%200.2%2C%20%22fillRule%22%3A%20%22evenodd%22%2C%20%22lineCap%22%3A%20%22round%22%2C%20%22lineJoin%22%3A%20%22round%22%2C%20%22opacity%22%3A%201.0%2C%20%22radius%22%3A%20744.0%2C%20%22stroke%22%3A%20true%2C%20%22weight%22%3A%203%7D%0A%20%20%20%20%20%20%20%20%20%20%20%20%29.addTo%28map_f5b738f88f0e4498b81c91e0ba670b31%29%3B%0A%20%20%20%20%20%20%20%20%0A%20%20%20%20%0A%20%20%20%20%20%20%20%20var%20popup_9613e0f6148c4fb3803b79c882db1b76%20%3D%20L.popup%28%7B%22maxWidth%22%3A%20%22100%25%22%7D%29%3B%0A%0A%20%20%20%20%20%20%20%20%0A%20%20%20%20%20%20%20%20%20%20%20%20var%20html_79805acd7bfd4c2494cb35661fc6a738%20%3D%20%24%28%60%3Cdiv%20id%3D%22html_79805acd7bfd4c2494cb35661fc6a738%22%20style%3D%22width%3A%20100.0%25%3B%20height%3A%20100.0%25%3B%22%3E62%3C/div%3E%60%29%5B0%5D%3B%0A%20%20%20%20%20%20%20%20%20%20%20%20popup_9613e0f6148c4fb3803b79c882db1b76.setContent%28html_79805acd7bfd4c2494cb35661fc6a738%29%3B%0A%20%20%20%20%20%20%20%20%0A%0A%20%20%20%20%20%20%20%20circle_2ef2648ddd464e90a31bb5a213b57398.bindPopup%28popup_9613e0f6148c4fb3803b79c882db1b76%29%0A%20%20%20%20%20%20%20%20%3B%0A%0A%20%20%20%20%20%20%20%20%0A%20%20%20%20%0A%20%20%20%20%0A%20%20%20%20%20%20%20%20%20%20%20%20var%20circle_4b6558470aaa4362b8f9e6877dc200c9%20%3D%20L.circle%28%0A%20%20%20%20%20%20%20%20%20%20%20%20%20%20%20%20%5B37.194%2C%20127.255%5D%2C%0A%20%20%20%20%20%20%20%20%20%20%20%20%20%20%20%20%7B%22bubblingMouseEvents%22%3A%20true%2C%20%22color%22%3A%20%22%23E91E63%22%2C%20%22dashArray%22%3A%20null%2C%20%22dashOffset%22%3A%20null%2C%20%22fill%22%3A%20true%2C%20%22fillColor%22%3A%20%22%23ff3399%22%2C%20%22fillOpacity%22%3A%200.2%2C%20%22fillRule%22%3A%20%22evenodd%22%2C%20%22lineCap%22%3A%20%22round%22%2C%20%22lineJoin%22%3A%20%22round%22%2C%20%22opacity%22%3A%201.0%2C%20%22radius%22%3A%2012000.0%2C%20%22stroke%22%3A%20true%2C%20%22weight%22%3A%203%7D%0A%20%20%20%20%20%20%20%20%20%20%20%20%29.addTo%28map_f5b738f88f0e4498b81c91e0ba670b31%29%3B%0A%20%20%20%20%20%20%20%20%0A%20%20%20%20%0A%20%20%20%20%20%20%20%20var%20popup_6d5bc1df0d514e84823f93b76e0a53bf%20%3D%20L.popup%28%7B%22maxWidth%22%3A%20%22100%25%22%7D%29%3B%0A%0A%20%20%20%20%20%20%20%20%0A%20%20%20%20%20%20%20%20%20%20%20%20var%20html_3cfe9f66d7814d02a1fad63ca2502a93%20%3D%20%24%28%60%3Cdiv%20id%3D%22html_3cfe9f66d7814d02a1fad63ca2502a93%22%20style%3D%22width%3A%20100.0%25%3B%20height%3A%20100.0%25%3B%22%3E1000%3C/div%3E%60%29%5B0%5D%3B%0A%20%20%20%20%20%20%20%20%20%20%20%20popup_6d5bc1df0d514e84823f93b76e0a53bf.setContent%28html_3cfe9f66d7814d02a1fad63ca2502a93%29%3B%0A%20%20%20%20%20%20%20%20%0A%0A%20%20%20%20%20%20%20%20circle_4b6558470aaa4362b8f9e6877dc200c9.bindPopup%28popup_6d5bc1df0d514e84823f93b76e0a53bf%29%0A%20%20%20%20%20%20%20%20%3B%0A%0A%20%20%20%20%20%20%20%20%0A%20%20%20%20%0A%20%20%20%20%0A%20%20%20%20%20%20%20%20%20%20%20%20var%20circle_47d39231aed74856a5f5eca82a269bf2%20%3D%20L.circle%28%0A%20%20%20%20%20%20%20%20%20%20%20%20%20%20%20%20%5B35.295%2C%20128.389%5D%2C%0A%20%20%20%20%20%20%20%20%20%20%20%20%20%20%20%20%7B%22bubblingMouseEvents%22%3A%20true%2C%20%22color%22%3A%20%22%23E91E63%22%2C%20%22dashArray%22%3A%20null%2C%20%22dashOffset%22%3A%20null%2C%20%22fill%22%3A%20true%2C%20%22fillColor%22%3A%20%22%23ff3399%22%2C%20%22fillOpacity%22%3A%200.2%2C%20%22fillRule%22%3A%20%22evenodd%22%2C%20%22lineCap%22%3A%20%22round%22%2C%20%22lineJoin%22%3A%20%22round%22%2C%20%22opacity%22%3A%201.0%2C%20%22radius%22%3A%201584.0%2C%20%22stroke%22%3A%20true%2C%20%22weight%22%3A%203%7D%0A%20%20%20%20%20%20%20%20%20%20%20%20%29.addTo%28map_f5b738f88f0e4498b81c91e0ba670b31%29%3B%0A%20%20%20%20%20%20%20%20%0A%20%20%20%20%0A%20%20%20%20%20%20%20%20var%20popup_30ddd000f5714f0cbb02594a93f5a741%20%3D%20L.popup%28%7B%22maxWidth%22%3A%20%22100%25%22%7D%29%3B%0A%0A%20%20%20%20%20%20%20%20%0A%20%20%20%20%20%20%20%20%20%20%20%20var%20html_ef7da8fd1b4540b8ad8182320aeacdaa%20%3D%20%24%28%60%3Cdiv%20id%3D%22html_ef7da8fd1b4540b8ad8182320aeacdaa%22%20style%3D%22width%3A%20100.0%25%3B%20height%3A%20100.0%25%3B%22%3E132%3C/div%3E%60%29%5B0%5D%3B%0A%20%20%20%20%20%20%20%20%20%20%20%20popup_30ddd000f5714f0cbb02594a93f5a741.setContent%28html_ef7da8fd1b4540b8ad8182320aeacdaa%29%3B%0A%20%20%20%20%20%20%20%20%0A%0A%20%20%20%20%20%20%20%20circle_47d39231aed74856a5f5eca82a269bf2.bindPopup%28popup_30ddd000f5714f0cbb02594a93f5a741%29%0A%20%20%20%20%20%20%20%20%3B%0A%0A%20%20%20%20%20%20%20%20%0A%20%20%20%20%0A%20%20%20%20%0A%20%20%20%20%20%20%20%20%20%20%20%20var%20circle_f6d8a326dfb749adbfaeef75e2a91c17%20%3D%20L.circle%28%0A%20%20%20%20%20%20%20%20%20%20%20%20%20%20%20%20%5B36.652%2C%20128.828%5D%2C%0A%20%20%20%20%20%20%20%20%20%20%20%20%20%20%20%20%7B%22bubblingMouseEvents%22%3A%20true%2C%20%22color%22%3A%20%22%23E91E63%22%2C%20%22dashArray%22%3A%20null%2C%20%22dashOffset%22%3A%20null%2C%20%22fill%22%3A%20true%2C%20%22fillColor%22%3A%20%22%23ff3399%22%2C%20%22fillOpacity%22%3A%200.2%2C%20%22fillRule%22%3A%20%22evenodd%22%2C%20%22lineCap%22%3A%20%22round%22%2C%20%22lineJoin%22%3A%20%22round%22%2C%20%22opacity%22%3A%201.0%2C%20%22radius%22%3A%2015888.0%2C%20%22stroke%22%3A%20true%2C%20%22weight%22%3A%203%7D%0A%20%20%20%20%20%20%20%20%20%20%20%20%29.addTo%28map_f5b738f88f0e4498b81c91e0ba670b31%29%3B%0A%20%20%20%20%20%20%20%20%0A%20%20%20%20%0A%20%20%20%20%20%20%20%20var%20popup_4d6c58e9aa4c49c488930da66f7f8133%20%3D%20L.popup%28%7B%22maxWidth%22%3A%20%22100%25%22%7D%29%3B%0A%0A%20%20%20%20%20%20%20%20%0A%20%20%20%20%20%20%20%20%20%20%20%20var%20html_d08ec626a07f416092a5fee35ce9e39e%20%3D%20%24%28%60%3Cdiv%20id%3D%22html_d08ec626a07f416092a5fee35ce9e39e%22%20style%3D%22width%3A%20100.0%25%3B%20height%3A%20100.0%25%3B%22%3E1324%3C/div%3E%60%29%5B0%5D%3B%0A%20%20%20%20%20%20%20%20%20%20%20%20popup_4d6c58e9aa4c49c488930da66f7f8133.setContent%28html_d08ec626a07f416092a5fee35ce9e39e%29%3B%0A%20%20%20%20%20%20%20%20%0A%0A%20%20%20%20%20%20%20%20circle_f6d8a326dfb749adbfaeef75e2a91c17.bindPopup%28popup_4d6c58e9aa4c49c488930da66f7f8133%29%0A%20%20%20%20%20%20%20%20%3B%0A%0A%20%20%20%20%20%20%20%20%0A%20%20%20%20%0A%20%20%20%20%0A%20%20%20%20%20%20%20%20%20%20%20%20var%20circle_7ddea2b0e0674068a90afc1ecb36b42e%20%3D%20L.circle%28%0A%20%20%20%20%20%20%20%20%20%20%20%20%20%20%20%20%5B35.128%2C%20126.85%5D%2C%0A%20%20%20%20%20%20%20%20%20%20%20%20%20%20%20%20%7B%22bubblingMouseEvents%22%3A%20true%2C%20%22color%22%3A%20%22%23E91E63%22%2C%20%22dashArray%22%3A%20null%2C%20%22dashOffset%22%3A%20null%2C%20%22fill%22%3A%20true%2C%20%22fillColor%22%3A%20%22%23ff3399%22%2C%20%22fillOpacity%22%3A%200.2%2C%20%22fillRule%22%3A%20%22evenodd%22%2C%20%22lineCap%22%3A%20%22round%22%2C%20%22lineJoin%22%3A%20%22round%22%2C%20%22opacity%22%3A%201.0%2C%20%22radius%22%3A%20516.0%2C%20%22stroke%22%3A%20true%2C%20%22weight%22%3A%203%7D%0A%20%20%20%20%20%20%20%20%20%20%20%20%29.addTo%28map_f5b738f88f0e4498b81c91e0ba670b31%29%3B%0A%20%20%20%20%20%20%20%20%0A%20%20%20%20%0A%20%20%20%20%20%20%20%20var%20popup_d09234dad05a4cc3b2787c2dc17c3f5c%20%3D%20L.popup%28%7B%22maxWidth%22%3A%20%22100%25%22%7D%29%3B%0A%0A%20%20%20%20%20%20%20%20%0A%20%20%20%20%20%20%20%20%20%20%20%20var%20html_525f43683ff54d789292faed10d872fd%20%3D%20%24%28%60%3Cdiv%20id%3D%22html_525f43683ff54d789292faed10d872fd%22%20style%3D%22width%3A%20100.0%25%3B%20height%3A%20100.0%25%3B%22%3E43%3C/div%3E%60%29%5B0%5D%3B%0A%20%20%20%20%20%20%20%20%20%20%20%20popup_d09234dad05a4cc3b2787c2dc17c3f5c.setContent%28html_525f43683ff54d789292faed10d872fd%29%3B%0A%20%20%20%20%20%20%20%20%0A%0A%20%20%20%20%20%20%20%20circle_7ddea2b0e0674068a90afc1ecb36b42e.bindPopup%28popup_d09234dad05a4cc3b2787c2dc17c3f5c%29%0A%20%20%20%20%20%20%20%20%3B%0A%0A%20%20%20%20%20%20%20%20%0A%20%20%20%20%0A%20%20%20%20%0A%20%20%20%20%20%20%20%20%20%20%20%20var%20circle_3f75e55709cc452aa1e665a242474ba3%20%3D%20L.circle%28%0A%20%20%20%20%20%20%20%20%20%20%20%20%20%20%20%20%5B35.826%2C%20128.527%5D%2C%0A%20%20%20%20%20%20%20%20%20%20%20%20%20%20%20%20%7B%22bubblingMouseEvents%22%3A%20true%2C%20%22color%22%3A%20%22%23E91E63%22%2C%20%22dashArray%22%3A%20null%2C%20%22dashOffset%22%3A%20null%2C%20%22fill%22%3A%20true%2C%20%22fillColor%22%3A%20%22%23ff3399%22%2C%20%22fillOpacity%22%3A%200.2%2C%20%22fillRule%22%3A%20%22evenodd%22%2C%20%22lineCap%22%3A%20%22round%22%2C%20%22lineJoin%22%3A%20%22round%22%2C%20%22opacity%22%3A%201.0%2C%20%22radius%22%3A%2080160.0%2C%20%22stroke%22%3A%20true%2C%20%22weight%22%3A%203%7D%0A%20%20%20%20%20%20%20%20%20%20%20%20%29.addTo%28map_f5b738f88f0e4498b81c91e0ba670b31%29%3B%0A%20%20%20%20%20%20%20%20%0A%20%20%20%20%0A%20%20%20%20%20%20%20%20var%20popup_c4ef45bac8664b47a586559068625ddc%20%3D%20L.popup%28%7B%22maxWidth%22%3A%20%22100%25%22%7D%29%3B%0A%0A%20%20%20%20%20%20%20%20%0A%20%20%20%20%20%20%20%20%20%20%20%20var%20html_3465a57d10214f7798077cd3ba900318%20%3D%20%24%28%60%3Cdiv%20id%3D%22html_3465a57d10214f7798077cd3ba900318%22%20style%3D%22width%3A%20100.0%25%3B%20height%3A%20100.0%25%3B%22%3E6680%3C/div%3E%60%29%5B0%5D%3B%0A%20%20%20%20%20%20%20%20%20%20%20%20popup_c4ef45bac8664b47a586559068625ddc.setContent%28html_3465a57d10214f7798077cd3ba900318%29%3B%0A%20%20%20%20%20%20%20%20%0A%0A%20%20%20%20%20%20%20%20circle_3f75e55709cc452aa1e665a242474ba3.bindPopup%28popup_c4ef45bac8664b47a586559068625ddc%29%0A%20%20%20%20%20%20%20%20%3B%0A%0A%20%20%20%20%20%20%20%20%0A%20%20%20%20%0A%20%20%20%20%0A%20%20%20%20%20%20%20%20%20%20%20%20var%20circle_93801356fb1b4ccd96681ebf9c477b5b%20%3D%20L.circle%28%0A%20%20%20%20%20%20%20%20%20%20%20%20%20%20%20%20%5B36.263%2C%20127.404%5D%2C%0A%20%20%20%20%20%20%20%20%20%20%20%20%20%20%20%20%7B%22bubblingMouseEvents%22%3A%20true%2C%20%22color%22%3A%20%22%23E91E63%22%2C%20%22dashArray%22%3A%20null%2C%20%22dashOffset%22%3A%20null%2C%20%22fill%22%3A%20true%2C%20%22fillColor%22%3A%20%22%23ff3399%22%2C%20%22fillOpacity%22%3A%200.2%2C%20%22fillRule%22%3A%20%22evenodd%22%2C%20%22lineCap%22%3A%20%22round%22%2C%20%22lineJoin%22%3A%20%22round%22%2C%20%22opacity%22%3A%201.0%2C%20%22radius%22%3A%201572.0%2C%20%22stroke%22%3A%20true%2C%20%22weight%22%3A%203%7D%0A%20%20%20%20%20%20%20%20%20%20%20%20%29.addTo%28map_f5b738f88f0e4498b81c91e0ba670b31%29%3B%0A%20%20%20%20%20%20%20%20%0A%20%20%20%20%0A%20%20%20%20%20%20%20%20var%20popup_ed827d27beed4ecc9b5905f3c63175e8%20%3D%20L.popup%28%7B%22maxWidth%22%3A%20%22100%25%22%7D%29%3B%0A%0A%20%20%20%20%20%20%20%20%0A%20%20%20%20%20%20%20%20%20%20%20%20var%20html_3340adbc12984740a97210cd451cc71c%20%3D%20%24%28%60%3Cdiv%20id%3D%22html_3340adbc12984740a97210cd451cc71c%22%20style%3D%22width%3A%20100.0%25%3B%20height%3A%20100.0%25%3B%22%3E131%3C/div%3E%60%29%5B0%5D%3B%0A%20%20%20%20%20%20%20%20%20%20%20%20popup_ed827d27beed4ecc9b5905f3c63175e8.setContent%28html_3340adbc12984740a97210cd451cc71c%29%3B%0A%20%20%20%20%20%20%20%20%0A%0A%20%20%20%20%20%20%20%20circle_93801356fb1b4ccd96681ebf9c477b5b.bindPopup%28popup_ed827d27beed4ecc9b5905f3c63175e8%29%0A%20%20%20%20%20%20%20%20%3B%0A%0A%20%20%20%20%20%20%20%20%0A%20%20%20%20%0A%20%20%20%20%0A%20%20%20%20%20%20%20%20%20%20%20%20var%20circle_b9e344959070453aa26b2ffccae75a11%20%3D%20L.circle%28%0A%20%20%20%20%20%20%20%20%20%20%20%20%20%20%20%20%5B35.16%2C%20129.113%5D%2C%0A%20%20%20%20%20%20%20%20%20%20%20%20%20%20%20%20%7B%22bubblingMouseEvents%22%3A%20true%2C%20%22color%22%3A%20%22%23E91E63%22%2C%20%22dashArray%22%3A%20null%2C%20%22dashOffset%22%3A%20null%2C%20%22fill%22%3A%20true%2C%20%22fillColor%22%3A%20%22%23ff3399%22%2C%20%22fillOpacity%22%3A%200.2%2C%20%22fillRule%22%3A%20%22evenodd%22%2C%20%22lineCap%22%3A%20%22round%22%2C%20%22lineJoin%22%3A%20%22round%22%2C%20%22opacity%22%3A%201.0%2C%20%22radius%22%3A%201872.0%2C%20%22stroke%22%3A%20true%2C%20%22weight%22%3A%203%7D%0A%20%20%20%20%20%20%20%20%20%20%20%20%29.addTo%28map_f5b738f88f0e4498b81c91e0ba670b31%29%3B%0A%20%20%20%20%20%20%20%20%0A%20%20%20%20%0A%20%20%20%20%20%20%20%20var%20popup_e1ebf630a69f4a0cbda4667ffd08c299%20%3D%20L.popup%28%7B%22maxWidth%22%3A%20%22100%25%22%7D%29%3B%0A%0A%20%20%20%20%20%20%20%20%0A%20%20%20%20%20%20%20%20%20%20%20%20var%20html_43cb34242eec4b2288bfcc84470897ee%20%3D%20%24%28%60%3Cdiv%20id%3D%22html_43cb34242eec4b2288bfcc84470897ee%22%20style%3D%22width%3A%20100.0%25%3B%20height%3A%20100.0%25%3B%22%3E156%3C/div%3E%60%29%5B0%5D%3B%0A%20%20%20%20%20%20%20%20%20%20%20%20popup_e1ebf630a69f4a0cbda4667ffd08c299.setContent%28html_43cb34242eec4b2288bfcc84470897ee%29%3B%0A%20%20%20%20%20%20%20%20%0A%0A%20%20%20%20%20%20%20%20circle_b9e344959070453aa26b2ffccae75a11.bindPopup%28popup_e1ebf630a69f4a0cbda4667ffd08c299%29%0A%20%20%20%20%20%20%20%20%3B%0A%0A%20%20%20%20%20%20%20%20%0A%20%20%20%20%0A%20%20%20%20%0A%20%20%20%20%20%20%20%20%20%20%20%20var%20circle_e9b998cdbdcb4294819c74fcf07ad8c4%20%3D%20L.circle%28%0A%20%20%20%20%20%20%20%20%20%20%20%20%20%20%20%20%5B37.59%2C%20127.002%5D%2C%0A%20%20%20%20%20%20%20%20%20%20%20%20%20%20%20%20%7B%22bubblingMouseEvents%22%3A%20true%2C%20%22color%22%3A%20%22%23E91E63%22%2C%20%22dashArray%22%3A%20null%2C%20%22dashOffset%22%3A%20null%2C%20%22fill%22%3A%20true%2C%20%22fillColor%22%3A%20%22%23ff3399%22%2C%20%22fillOpacity%22%3A%200.2%2C%20%22fillRule%22%3A%20%22evenodd%22%2C%20%22lineCap%22%3A%20%22round%22%2C%20%22lineJoin%22%3A%20%22round%22%2C%20%22opacity%22%3A%201.0%2C%20%22radius%22%3A%2015360.0%2C%20%22stroke%22%3A%20true%2C%20%22weight%22%3A%203%7D%0A%20%20%20%20%20%20%20%20%20%20%20%20%29.addTo%28map_f5b738f88f0e4498b81c91e0ba670b31%29%3B%0A%20%20%20%20%20%20%20%20%0A%20%20%20%20%0A%20%20%20%20%20%20%20%20var%20popup_8fa0fff5c25f42008840522589fb4f84%20%3D%20L.popup%28%7B%22maxWidth%22%3A%20%22100%25%22%7D%29%3B%0A%0A%20%20%20%20%20%20%20%20%0A%20%20%20%20%20%20%20%20%20%20%20%20var%20html_95792eacb73c4e6fa98650db8ed1b686%20%3D%20%24%28%60%3Cdiv%20id%3D%22html_95792eacb73c4e6fa98650db8ed1b686%22%20style%3D%22width%3A%20100.0%25%3B%20height%3A%20100.0%25%3B%22%3E1280%3C/div%3E%60%29%5B0%5D%3B%0A%20%20%20%20%20%20%20%20%20%20%20%20popup_8fa0fff5c25f42008840522589fb4f84.setContent%28html_95792eacb73c4e6fa98650db8ed1b686%29%3B%0A%20%20%20%20%20%20%20%20%0A%0A%20%20%20%20%20%20%20%20circle_e9b998cdbdcb4294819c74fcf07ad8c4.bindPopup%28popup_8fa0fff5c25f42008840522589fb4f84%29%0A%20%20%20%20%20%20%20%20%3B%0A%0A%20%20%20%20%20%20%20%20%0A%20%20%20%20%0A%20%20%20%20%0A%20%20%20%20%20%20%20%20%20%20%20%20var%20circle_e7894653293a40658ca6d56a6bf67829%20%3D%20L.circle%28%0A%20%20%20%20%20%20%20%20%20%20%20%20%20%20%20%20%5B36.551%2C%20127.303%5D%2C%0A%20%20%20%20%20%20%20%20%20%20%20%20%20%20%20%20%7B%22bubblingMouseEvents%22%3A%20true%2C%20%22color%22%3A%20%22%23E91E63%22%2C%20%22dashArray%22%3A%20null%2C%20%22dashOffset%22%3A%20null%2C%20%22fill%22%3A%20true%2C%20%22fillColor%22%3A%20%22%23ff3399%22%2C%20%22fillOpacity%22%3A%200.2%2C%20%22fillRule%22%3A%20%22evenodd%22%2C%20%22lineCap%22%3A%20%22round%22%2C%20%22lineJoin%22%3A%20%22round%22%2C%20%22opacity%22%3A%201.0%2C%20%22radius%22%3A%20588.0%2C%20%22stroke%22%3A%20true%2C%20%22weight%22%3A%203%7D%0A%20%20%20%20%20%20%20%20%20%20%20%20%29.addTo%28map_f5b738f88f0e4498b81c91e0ba670b31%29%3B%0A%20%20%20%20%20%20%20%20%0A%20%20%20%20%0A%20%20%20%20%20%20%20%20var%20popup_bba4ab75eb7347cfae0425f5afd5a19a%20%3D%20L.popup%28%7B%22maxWidth%22%3A%20%22100%25%22%7D%29%3B%0A%0A%20%20%20%20%20%20%20%20%0A%20%20%20%20%20%20%20%20%20%20%20%20var%20html_0d1811508c95402780dd89e8798682e7%20%3D%20%24%28%60%3Cdiv%20id%3D%22html_0d1811508c95402780dd89e8798682e7%22%20style%3D%22width%3A%20100.0%25%3B%20height%3A%20100.0%25%3B%22%3E49%3C/div%3E%60%29%5B0%5D%3B%0A%20%20%20%20%20%20%20%20%20%20%20%20popup_bba4ab75eb7347cfae0425f5afd5a19a.setContent%28html_0d1811508c95402780dd89e8798682e7%29%3B%0A%20%20%20%20%20%20%20%20%0A%0A%20%20%20%20%20%20%20%20circle_e7894653293a40658ca6d56a6bf67829.bindPopup%28popup_bba4ab75eb7347cfae0425f5afd5a19a%29%0A%20%20%20%20%20%20%20%20%3B%0A%0A%20%20%20%20%20%20%20%20%0A%20%20%20%20%0A%20%20%20%20%0A%20%20%20%20%20%20%20%20%20%20%20%20var%20circle_78518e8b39c64c3da38f96f9191883bb%20%3D%20L.circle%28%0A%20%20%20%20%20%20%20%20%20%20%20%20%20%20%20%20%5B35.516%2C%20129.322%5D%2C%0A%20%20%20%20%20%20%20%20%20%20%20%20%20%20%20%20%7B%22bubblingMouseEvents%22%3A%20true%2C%20%22color%22%3A%20%22%23E91E63%22%2C%20%22dashArray%22%3A%20null%2C%20%22dashOffset%22%3A%20null%2C%20%22fill%22%3A%20true%2C%20%22fillColor%22%3A%20%22%23ff3399%22%2C%20%22fillOpacity%22%3A%200.2%2C%20%22fillRule%22%3A%20%22evenodd%22%2C%20%22lineCap%22%3A%20%22round%22%2C%20%22lineJoin%22%3A%20%22round%22%2C%20%22opacity%22%3A%201.0%2C%20%22radius%22%3A%20612.0%2C%20%22stroke%22%3A%20true%2C%20%22weight%22%3A%203%7D%0A%20%20%20%20%20%20%20%20%20%20%20%20%29.addTo%28map_f5b738f88f0e4498b81c91e0ba670b31%29%3B%0A%20%20%20%20%20%20%20%20%0A%20%20%20%20%0A%20%20%20%20%20%20%20%20var%20popup_b5a4731afb2e4fdf9d3de7836c4eaa70%20%3D%20L.popup%28%7B%22maxWidth%22%3A%20%22100%25%22%7D%29%3B%0A%0A%20%20%20%20%20%20%20%20%0A%20%20%20%20%20%20%20%20%20%20%20%20var%20html_f2976f019f8c4bbcb20af5b23ecf0b67%20%3D%20%24%28%60%3Cdiv%20id%3D%22html_f2976f019f8c4bbcb20af5b23ecf0b67%22%20style%3D%22width%3A%20100.0%25%3B%20height%3A%20100.0%25%3B%22%3E51%3C/div%3E%60%29%5B0%5D%3B%0A%20%20%20%20%20%20%20%20%20%20%20%20popup_b5a4731afb2e4fdf9d3de7836c4eaa70.setContent%28html_f2976f019f8c4bbcb20af5b23ecf0b67%29%3B%0A%20%20%20%20%20%20%20%20%0A%0A%20%20%20%20%20%20%20%20circle_78518e8b39c64c3da38f96f9191883bb.bindPopup%28popup_b5a4731afb2e4fdf9d3de7836c4eaa70%29%0A%20%20%20%20%20%20%20%20%3B%0A%0A%20%20%20%20%20%20%20%20%0A%20%20%20%20%0A%20%20%20%20%0A%20%20%20%20%20%20%20%20%20%20%20%20var%20circle_12f69f05e00146789b5288c11d0cf3b3%20%3D%20L.circle%28%0A%20%20%20%20%20%20%20%20%20%20%20%20%20%20%20%20%5B37.484%2C%20126.652%5D%2C%0A%20%20%20%20%20%20%20%20%20%20%20%20%20%20%20%20%7B%22bubblingMouseEvents%22%3A%20true%2C%20%22color%22%3A%20%22%23E91E63%22%2C%20%22dashArray%22%3A%20null%2C%20%22dashOffset%22%3A%20null%2C%20%22fill%22%3A%20true%2C%20%22fillColor%22%3A%20%22%23ff3399%22%2C%20%22fillOpacity%22%3A%200.2%2C%20%22fillRule%22%3A%20%22evenodd%22%2C%20%22lineCap%22%3A%20%22round%22%2C%20%22lineJoin%22%3A%20%22round%22%2C%20%22opacity%22%3A%201.0%2C%20%22radius%22%3A%202424.0%2C%20%22stroke%22%3A%20true%2C%20%22weight%22%3A%203%7D%0A%20%20%20%20%20%20%20%20%20%20%20%20%29.addTo%28map_f5b738f88f0e4498b81c91e0ba670b31%29%3B%0A%20%20%20%20%20%20%20%20%0A%20%20%20%20%0A%20%20%20%20%20%20%20%20var%20popup_f08bf7c1c40f49f0863f709e6b728689%20%3D%20L.popup%28%7B%22maxWidth%22%3A%20%22100%25%22%7D%29%3B%0A%0A%20%20%20%20%20%20%20%20%0A%20%20%20%20%20%20%20%20%20%20%20%20var%20html_0b907e7abba04a058a1ee6819df4e6ea%20%3D%20%24%28%60%3Cdiv%20id%3D%22html_0b907e7abba04a058a1ee6819df4e6ea%22%20style%3D%22width%3A%20100.0%25%3B%20height%3A%20100.0%25%3B%22%3E202%3C/div%3E%60%29%5B0%5D%3B%0A%20%20%20%20%20%20%20%20%20%20%20%20popup_f08bf7c1c40f49f0863f709e6b728689.setContent%28html_0b907e7abba04a058a1ee6819df4e6ea%29%3B%0A%20%20%20%20%20%20%20%20%0A%0A%20%20%20%20%20%20%20%20circle_12f69f05e00146789b5288c11d0cf3b3.bindPopup%28popup_f08bf7c1c40f49f0863f709e6b728689%29%0A%20%20%20%20%20%20%20%20%3B%0A%0A%20%20%20%20%20%20%20%20%0A%20%20%20%20%0A%20%20%20%20%0A%20%20%20%20%20%20%20%20%20%20%20%20var%20circle_9b11521c4abd4f24bc36ae4bc63dde78%20%3D%20L.circle%28%0A%20%20%20%20%20%20%20%20%20%20%20%20%20%20%20%20%5B34.694%2C%20126.976%5D%2C%0A%20%20%20%20%20%20%20%20%20%20%20%20%20%20%20%20%7B%22bubblingMouseEvents%22%3A%20true%2C%20%22color%22%3A%20%22%23E91E63%22%2C%20%22dashArray%22%3A%20null%2C%20%22dashOffset%22%3A%20null%2C%20%22fill%22%3A%20true%2C%20%22fillColor%22%3A%20%22%23ff3399%22%2C%20%22fillOpacity%22%3A%200.2%2C%20%22fillRule%22%3A%20%22evenodd%22%2C%20%22lineCap%22%3A%20%22round%22%2C%20%22lineJoin%22%3A%20%22round%22%2C%20%22opacity%22%3A%201.0%2C%20%22radius%22%3A%20300.0%2C%20%22stroke%22%3A%20true%2C%20%22weight%22%3A%203%7D%0A%20%20%20%20%20%20%20%20%20%20%20%20%29.addTo%28map_f5b738f88f0e4498b81c91e0ba670b31%29%3B%0A%20%20%20%20%20%20%20%20%0A%20%20%20%20%0A%20%20%20%20%20%20%20%20var%20popup_bf6b02b50c3f4e3f934a21683cc33ff1%20%3D%20L.popup%28%7B%22maxWidth%22%3A%20%22100%25%22%7D%29%3B%0A%0A%20%20%20%20%20%20%20%20%0A%20%20%20%20%20%20%20%20%20%20%20%20var%20html_f5a45efbd86a425ba0c78ceea524c8c5%20%3D%20%24%28%60%3Cdiv%20id%3D%22html_f5a45efbd86a425ba0c78ceea524c8c5%22%20style%3D%22width%3A%20100.0%25%3B%20height%3A%20100.0%25%3B%22%3E25%3C/div%3E%60%29%5B0%5D%3B%0A%20%20%20%20%20%20%20%20%20%20%20%20popup_bf6b02b50c3f4e3f934a21683cc33ff1.setContent%28html_f5a45efbd86a425ba0c78ceea524c8c5%29%3B%0A%20%20%20%20%20%20%20%20%0A%0A%20%20%20%20%20%20%20%20circle_9b11521c4abd4f24bc36ae4bc63dde78.bindPopup%28popup_bf6b02b50c3f4e3f934a21683cc33ff1%29%0A%20%20%20%20%20%20%20%20%3B%0A%0A%20%20%20%20%20%20%20%20%0A%20%20%20%20%0A%20%20%20%20%0A%20%20%20%20%20%20%20%20%20%20%20%20var%20circle_1f808c3e654e473497e1432c35af100a%20%3D%20L.circle%28%0A%20%20%20%20%20%20%20%20%20%20%20%20%20%20%20%20%5B35.774%2C%20127.099%5D%2C%0A%20%20%20%20%20%20%20%20%20%20%20%20%20%20%20%20%7B%22bubblingMouseEvents%22%3A%20true%2C%20%22color%22%3A%20%22%23E91E63%22%2C%20%22dashArray%22%3A%20null%2C%20%22dashOffset%22%3A%20null%2C%20%22fill%22%3A%20true%2C%20%22fillColor%22%3A%20%22%23ff3399%22%2C%20%22fillOpacity%22%3A%200.2%2C%20%22fillRule%22%3A%20%22evenodd%22%2C%20%22lineCap%22%3A%20%22round%22%2C%20%22lineJoin%22%3A%20%22round%22%2C%20%22opacity%22%3A%201.0%2C%20%22radius%22%3A%20276.0%2C%20%22stroke%22%3A%20true%2C%20%22weight%22%3A%203%7D%0A%20%20%20%20%20%20%20%20%20%20%20%20%29.addTo%28map_f5b738f88f0e4498b81c91e0ba670b31%29%3B%0A%20%20%20%20%20%20%20%20%0A%20%20%20%20%0A%20%20%20%20%20%20%20%20var%20popup_73557d1a0d9e429eb33d79181f277bd4%20%3D%20L.popup%28%7B%22maxWidth%22%3A%20%22100%25%22%7D%29%3B%0A%0A%20%20%20%20%20%20%20%20%0A%20%20%20%20%20%20%20%20%20%20%20%20var%20html_166a01c104d94f1b89d458a7f9a32022%20%3D%20%24%28%60%3Cdiv%20id%3D%22html_166a01c104d94f1b89d458a7f9a32022%22%20style%3D%22width%3A%20100.0%25%3B%20height%3A%20100.0%25%3B%22%3E23%3C/div%3E%60%29%5B0%5D%3B%0A%20%20%20%20%20%20%20%20%20%20%20%20popup_73557d1a0d9e429eb33d79181f277bd4.setContent%28html_166a01c104d94f1b89d458a7f9a32022%29%3B%0A%20%20%20%20%20%20%20%20%0A%0A%20%20%20%20%20%20%20%20circle_1f808c3e654e473497e1432c35af100a.bindPopup%28popup_73557d1a0d9e429eb33d79181f277bd4%29%0A%20%20%20%20%20%20%20%20%3B%0A%0A%20%20%20%20%20%20%20%20%0A%20%20%20%20%0A%20%20%20%20%0A%20%20%20%20%20%20%20%20%20%20%20%20var%20circle_b3cae568020a4c439de66e1de08aa38a%20%3D%20L.circle%28%0A%20%20%20%20%20%20%20%20%20%20%20%20%20%20%20%20%5B33.507%2C%20126.525%5D%2C%0A%20%20%20%20%20%20%20%20%20%20%20%20%20%20%20%20%7B%22bubblingMouseEvents%22%3A%20true%2C%20%22color%22%3A%20%22%23E91E63%22%2C%20%22dashArray%22%3A%20null%2C%20%22dashOffset%22%3A%20null%2C%20%22fill%22%3A%20true%2C%20%22fillColor%22%3A%20%22%23ff3399%22%2C%20%22fillOpacity%22%3A%200.2%2C%20%22fillRule%22%3A%20%22evenodd%22%2C%20%22lineCap%22%3A%20%22round%22%2C%20%22lineJoin%22%3A%20%22round%22%2C%20%22opacity%22%3A%201.0%2C%20%22radius%22%3A%20228.0%2C%20%22stroke%22%3A%20true%2C%20%22weight%22%3A%203%7D%0A%20%20%20%20%20%20%20%20%20%20%20%20%29.addTo%28map_f5b738f88f0e4498b81c91e0ba670b31%29%3B%0A%20%20%20%20%20%20%20%20%0A%20%20%20%20%0A%20%20%20%20%20%20%20%20var%20popup_ae800233bde14ee581fd237e1ff73c06%20%3D%20L.popup%28%7B%22maxWidth%22%3A%20%22100%25%22%7D%29%3B%0A%0A%20%20%20%20%20%20%20%20%0A%20%20%20%20%20%20%20%20%20%20%20%20var%20html_9db50e6f998442dfbaa1cc57c0e2e4eb%20%3D%20%24%28%60%3Cdiv%20id%3D%22html_9db50e6f998442dfbaa1cc57c0e2e4eb%22%20style%3D%22width%3A%20100.0%25%3B%20height%3A%20100.0%25%3B%22%3E19%3C/div%3E%60%29%5B0%5D%3B%0A%20%20%20%20%20%20%20%20%20%20%20%20popup_ae800233bde14ee581fd237e1ff73c06.setContent%28html_9db50e6f998442dfbaa1cc57c0e2e4eb%29%3B%0A%20%20%20%20%20%20%20%20%0A%0A%20%20%20%20%20%20%20%20circle_b3cae568020a4c439de66e1de08aa38a.bindPopup%28popup_ae800233bde14ee581fd237e1ff73c06%29%0A%20%20%20%20%20%20%20%20%3B%0A%0A%20%20%20%20%20%20%20%20%0A%20%20%20%20%0A%20%20%20%20%0A%20%20%20%20%20%20%20%20%20%20%20%20var%20circle_4ec4321cd2da4e20bf17618815223a71%20%3D%20L.circle%28%0A%20%20%20%20%20%20%20%20%20%20%20%20%20%20%20%20%5B36.566%2C%20126.617%5D%2C%0A%20%20%20%20%20%20%20%20%20%20%20%20%20%20%20%20%7B%22bubblingMouseEvents%22%3A%20true%2C%20%22color%22%3A%20%22%23E91E63%22%2C%20%22dashArray%22%3A%20null%2C%20%22dashOffset%22%3A%20null%2C%20%22fill%22%3A%20true%2C%20%22fillColor%22%3A%20%22%23ff3399%22%2C%20%22fillOpacity%22%3A%200.2%2C%20%22fillRule%22%3A%20%22evenodd%22%2C%20%22lineCap%22%3A%20%22round%22%2C%20%22lineJoin%22%3A%20%22round%22%2C%20%22opacity%22%3A%201.0%2C%20%22radius%22%3A%201896.0%2C%20%22stroke%22%3A%20true%2C%20%22weight%22%3A%203%7D%0A%20%20%20%20%20%20%20%20%20%20%20%20%29.addTo%28map_f5b738f88f0e4498b81c91e0ba670b31%29%3B%0A%20%20%20%20%20%20%20%20%0A%20%20%20%20%0A%20%20%20%20%20%20%20%20var%20popup_45c5f21751684472a65397fa0c112a51%20%3D%20L.popup%28%7B%22maxWidth%22%3A%20%22100%25%22%7D%29%3B%0A%0A%20%20%20%20%20%20%20%20%0A%20%20%20%20%20%20%20%20%20%20%20%20var%20html_c58e9b580bb54031a98bec31917e5ee6%20%3D%20%24%28%60%3Cdiv%20id%3D%22html_c58e9b580bb54031a98bec31917e5ee6%22%20style%3D%22width%3A%20100.0%25%3B%20height%3A%20100.0%25%3B%22%3E158%3C/div%3E%60%29%5B0%5D%3B%0A%20%20%20%20%20%20%20%20%20%20%20%20popup_45c5f21751684472a65397fa0c112a51.setContent%28html_c58e9b580bb54031a98bec31917e5ee6%29%3B%0A%20%20%20%20%20%20%20%20%0A%0A%20%20%20%20%20%20%20%20circle_4ec4321cd2da4e20bf17618815223a71.bindPopup%28popup_45c5f21751684472a65397fa0c112a51%29%0A%20%20%20%20%20%20%20%20%3B%0A%0A%20%20%20%20%20%20%20%20%0A%20%20%20%20%0A%20%20%20%20%0A%20%20%20%20%20%20%20%20%20%20%20%20var%20circle_b65915ef40d142a4b753fd49b925eade%20%3D%20L.circle%28%0A%20%20%20%20%20%20%20%20%20%20%20%20%20%20%20%20%5B36.756%2C%20127.602%5D%2C%0A%20%20%20%20%20%20%20%20%20%20%20%20%20%20%20%20%7B%22bubblingMouseEvents%22%3A%20true%2C%20%22color%22%3A%20%22%23E91E63%22%2C%20%22dashArray%22%3A%20null%2C%20%22dashOffset%22%3A%20null%2C%20%22fill%22%3A%20true%2C%20%22fillColor%22%3A%20%22%23ff3399%22%2C%20%22fillOpacity%22%3A%200.2%2C%20%22fillRule%22%3A%20%22evenodd%22%2C%20%22lineCap%22%3A%20%22round%22%2C%20%22lineJoin%22%3A%20%22round%22%2C%20%22opacity%22%3A%201.0%2C%20%22radius%22%3A%20720.0%2C%20%22stroke%22%3A%20true%2C%20%22weight%22%3A%203%7D%0A%20%20%20%20%20%20%20%20%20%20%20%20%29.addTo%28map_f5b738f88f0e4498b81c91e0ba670b31%29%3B%0A%20%20%20%20%20%20%20%20%0A%20%20%20%20%0A%20%20%20%20%20%20%20%20var%20popup_6d7dc6b4bcab427a9c20fdd45d9a1397%20%3D%20L.popup%28%7B%22maxWidth%22%3A%20%22100%25%22%7D%29%3B%0A%0A%20%20%20%20%20%20%20%20%0A%20%20%20%20%20%20%20%20%20%20%20%20var%20html_9e1e1812c71947ed90e353ca208f0a00%20%3D%20%24%28%60%3Cdiv%20id%3D%22html_9e1e1812c71947ed90e353ca208f0a00%22%20style%3D%22width%3A%20100.0%25%3B%20height%3A%20100.0%25%3B%22%3E60%3C/div%3E%60%29%5B0%5D%3B%0A%20%20%20%20%20%20%20%20%20%20%20%20popup_6d7dc6b4bcab427a9c20fdd45d9a1397.setContent%28html_9e1e1812c71947ed90e353ca208f0a00%29%3B%0A%20%20%20%20%20%20%20%20%0A%0A%20%20%20%20%20%20%20%20circle_b65915ef40d142a4b753fd49b925eade.bindPopup%28popup_6d7dc6b4bcab427a9c20fdd45d9a1397%29%0A%20%20%20%20%20%20%20%20%3B%0A%0A%20%20%20%20%20%20%20%20%0A%20%20%20%20%0A%3C/script%3E onload=\"this.contentDocument.open();this.contentDocument.write(    decodeURIComponent(this.getAttribute('data-html')));this.contentDocument.close();\" allowfullscreen webkitallowfullscreen mozallowfullscreen></iframe></div></div>"
      ],
      "text/plain": [
       "<folium.folium.Map at 0x1cab4b8f160>"
      ]
     },
     "execution_count": 21,
     "metadata": {},
     "output_type": "execute_result"
    }
   ],
   "source": [
    "#map 시각화\n",
    "m = folium.Map([36.4, 128], zoom_start=7) #folium: 지도 시각화 모듈\n",
    "\n",
    "for index, row in pv_sum.iterrows():\n",
    "    folium.Circle(\n",
    "        location = (row['lat'],row['lon']), #위도, 경도\n",
    "        fill_color='#ff3399',\n",
    "        color = '#E91E63',\n",
    "        radius = row['confirmed']*12,\n",
    "        popup=int(row['confirmed'])\n",
    "    ).add_to(m)\n",
    "m"
   ]
  },
  {
   "cell_type": "markdown",
   "metadata": {},
   "source": [
    "※ 각 지역을 클릭하면 해당 지역의 확진자수를 확인할 수 있습니다.\n",
    "- 확진자 지도를 통해 특정 지역에 국한되지 않고, 전국적으로 확진자가 발생하고 있음을 확인한다."
   ]
  },
  {
   "cell_type": "code",
   "execution_count": 22,
   "metadata": {},
   "outputs": [
    {
     "data": {
      "text/html": [
       "<div>                            <div id=\"ed404384-c595-4900-8f26-893d582d3e58\" class=\"plotly-graph-div\" style=\"height:525px; width:100%;\"></div>            <script type=\"text/javascript\">                require([\"plotly\"], function(Plotly) {                    window.PLOTLYENV=window.PLOTLYENV || {};                                    if (document.getElementById(\"ed404384-c595-4900-8f26-893d582d3e58\")) {                    Plotly.newPlot(                        \"ed404384-c595-4900-8f26-893d582d3e58\",                        [{\"hole\":0.3,\"labels\":[\"\\uac15\\uc6d0\\ub3c4\",\"\\uacbd\\uae30\\ub3c4\",\"\\uacbd\\uc0c1\\ub0a8\\ub3c4\",\"\\uacbd\\uc0c1\\ubd81\\ub3c4\",\"\\uad11\\uc8fc\",\"\\ub300\\uad6c\",\"\\ub300\\uc804\",\"\\ubd80\\uc0b0\",\"\\uc11c\\uc6b8\",\"\\uc138\\uc885\",\"\\uc6b8\\uc0b0\",\"\\uc778\\ucc9c\",\"\\uc804\\ub77c\\ub0a8\\ub3c4\",\"\\uc804\\ub77c\\ubd81\\ub3c4\",\"\\uc81c\\uc8fc\\ub3c4\",\"\\ucda9\\uccad\\ub0a8\\ub3c4\",\"\\ucda9\\uccad\\ubd81\\ub3c4\"],\"textposition\":\"inside\",\"type\":\"pie\",\"values\":[62,1000,132,1324,43,6680,131,156,1280,49,51,202,25,23,19,158,60]}],                        {\"template\":{\"data\":{\"bar\":[{\"error_x\":{\"color\":\"#f2f5fa\"},\"error_y\":{\"color\":\"#f2f5fa\"},\"marker\":{\"line\":{\"color\":\"rgb(17,17,17)\",\"width\":0.5},\"pattern\":{\"fillmode\":\"overlay\",\"size\":10,\"solidity\":0.2}},\"type\":\"bar\"}],\"barpolar\":[{\"marker\":{\"line\":{\"color\":\"rgb(17,17,17)\",\"width\":0.5},\"pattern\":{\"fillmode\":\"overlay\",\"size\":10,\"solidity\":0.2}},\"type\":\"barpolar\"}],\"carpet\":[{\"aaxis\":{\"endlinecolor\":\"#A2B1C6\",\"gridcolor\":\"#506784\",\"linecolor\":\"#506784\",\"minorgridcolor\":\"#506784\",\"startlinecolor\":\"#A2B1C6\"},\"baxis\":{\"endlinecolor\":\"#A2B1C6\",\"gridcolor\":\"#506784\",\"linecolor\":\"#506784\",\"minorgridcolor\":\"#506784\",\"startlinecolor\":\"#A2B1C6\"},\"type\":\"carpet\"}],\"choropleth\":[{\"colorbar\":{\"outlinewidth\":0,\"ticks\":\"\"},\"type\":\"choropleth\"}],\"contour\":[{\"colorbar\":{\"outlinewidth\":0,\"ticks\":\"\"},\"colorscale\":[[0.0,\"#0d0887\"],[0.1111111111111111,\"#46039f\"],[0.2222222222222222,\"#7201a8\"],[0.3333333333333333,\"#9c179e\"],[0.4444444444444444,\"#bd3786\"],[0.5555555555555556,\"#d8576b\"],[0.6666666666666666,\"#ed7953\"],[0.7777777777777778,\"#fb9f3a\"],[0.8888888888888888,\"#fdca26\"],[1.0,\"#f0f921\"]],\"type\":\"contour\"}],\"contourcarpet\":[{\"colorbar\":{\"outlinewidth\":0,\"ticks\":\"\"},\"type\":\"contourcarpet\"}],\"heatmap\":[{\"colorbar\":{\"outlinewidth\":0,\"ticks\":\"\"},\"colorscale\":[[0.0,\"#0d0887\"],[0.1111111111111111,\"#46039f\"],[0.2222222222222222,\"#7201a8\"],[0.3333333333333333,\"#9c179e\"],[0.4444444444444444,\"#bd3786\"],[0.5555555555555556,\"#d8576b\"],[0.6666666666666666,\"#ed7953\"],[0.7777777777777778,\"#fb9f3a\"],[0.8888888888888888,\"#fdca26\"],[1.0,\"#f0f921\"]],\"type\":\"heatmap\"}],\"heatmapgl\":[{\"colorbar\":{\"outlinewidth\":0,\"ticks\":\"\"},\"colorscale\":[[0.0,\"#0d0887\"],[0.1111111111111111,\"#46039f\"],[0.2222222222222222,\"#7201a8\"],[0.3333333333333333,\"#9c179e\"],[0.4444444444444444,\"#bd3786\"],[0.5555555555555556,\"#d8576b\"],[0.6666666666666666,\"#ed7953\"],[0.7777777777777778,\"#fb9f3a\"],[0.8888888888888888,\"#fdca26\"],[1.0,\"#f0f921\"]],\"type\":\"heatmapgl\"}],\"histogram\":[{\"marker\":{\"pattern\":{\"fillmode\":\"overlay\",\"size\":10,\"solidity\":0.2}},\"type\":\"histogram\"}],\"histogram2d\":[{\"colorbar\":{\"outlinewidth\":0,\"ticks\":\"\"},\"colorscale\":[[0.0,\"#0d0887\"],[0.1111111111111111,\"#46039f\"],[0.2222222222222222,\"#7201a8\"],[0.3333333333333333,\"#9c179e\"],[0.4444444444444444,\"#bd3786\"],[0.5555555555555556,\"#d8576b\"],[0.6666666666666666,\"#ed7953\"],[0.7777777777777778,\"#fb9f3a\"],[0.8888888888888888,\"#fdca26\"],[1.0,\"#f0f921\"]],\"type\":\"histogram2d\"}],\"histogram2dcontour\":[{\"colorbar\":{\"outlinewidth\":0,\"ticks\":\"\"},\"colorscale\":[[0.0,\"#0d0887\"],[0.1111111111111111,\"#46039f\"],[0.2222222222222222,\"#7201a8\"],[0.3333333333333333,\"#9c179e\"],[0.4444444444444444,\"#bd3786\"],[0.5555555555555556,\"#d8576b\"],[0.6666666666666666,\"#ed7953\"],[0.7777777777777778,\"#fb9f3a\"],[0.8888888888888888,\"#fdca26\"],[1.0,\"#f0f921\"]],\"type\":\"histogram2dcontour\"}],\"mesh3d\":[{\"colorbar\":{\"outlinewidth\":0,\"ticks\":\"\"},\"type\":\"mesh3d\"}],\"parcoords\":[{\"line\":{\"colorbar\":{\"outlinewidth\":0,\"ticks\":\"\"}},\"type\":\"parcoords\"}],\"pie\":[{\"automargin\":true,\"type\":\"pie\"}],\"scatter\":[{\"marker\":{\"line\":{\"color\":\"#283442\"}},\"type\":\"scatter\"}],\"scatter3d\":[{\"line\":{\"colorbar\":{\"outlinewidth\":0,\"ticks\":\"\"}},\"marker\":{\"colorbar\":{\"outlinewidth\":0,\"ticks\":\"\"}},\"type\":\"scatter3d\"}],\"scattercarpet\":[{\"marker\":{\"colorbar\":{\"outlinewidth\":0,\"ticks\":\"\"}},\"type\":\"scattercarpet\"}],\"scattergeo\":[{\"marker\":{\"colorbar\":{\"outlinewidth\":0,\"ticks\":\"\"}},\"type\":\"scattergeo\"}],\"scattergl\":[{\"marker\":{\"line\":{\"color\":\"#283442\"}},\"type\":\"scattergl\"}],\"scattermapbox\":[{\"marker\":{\"colorbar\":{\"outlinewidth\":0,\"ticks\":\"\"}},\"type\":\"scattermapbox\"}],\"scatterpolar\":[{\"marker\":{\"colorbar\":{\"outlinewidth\":0,\"ticks\":\"\"}},\"type\":\"scatterpolar\"}],\"scatterpolargl\":[{\"marker\":{\"colorbar\":{\"outlinewidth\":0,\"ticks\":\"\"}},\"type\":\"scatterpolargl\"}],\"scatterternary\":[{\"marker\":{\"colorbar\":{\"outlinewidth\":0,\"ticks\":\"\"}},\"type\":\"scatterternary\"}],\"surface\":[{\"colorbar\":{\"outlinewidth\":0,\"ticks\":\"\"},\"colorscale\":[[0.0,\"#0d0887\"],[0.1111111111111111,\"#46039f\"],[0.2222222222222222,\"#7201a8\"],[0.3333333333333333,\"#9c179e\"],[0.4444444444444444,\"#bd3786\"],[0.5555555555555556,\"#d8576b\"],[0.6666666666666666,\"#ed7953\"],[0.7777777777777778,\"#fb9f3a\"],[0.8888888888888888,\"#fdca26\"],[1.0,\"#f0f921\"]],\"type\":\"surface\"}],\"table\":[{\"cells\":{\"fill\":{\"color\":\"#506784\"},\"line\":{\"color\":\"rgb(17,17,17)\"}},\"header\":{\"fill\":{\"color\":\"#2a3f5f\"},\"line\":{\"color\":\"rgb(17,17,17)\"}},\"type\":\"table\"}]},\"layout\":{\"annotationdefaults\":{\"arrowcolor\":\"#f2f5fa\",\"arrowhead\":0,\"arrowwidth\":1},\"autotypenumbers\":\"strict\",\"coloraxis\":{\"colorbar\":{\"outlinewidth\":0,\"ticks\":\"\"}},\"colorscale\":{\"diverging\":[[0,\"#8e0152\"],[0.1,\"#c51b7d\"],[0.2,\"#de77ae\"],[0.3,\"#f1b6da\"],[0.4,\"#fde0ef\"],[0.5,\"#f7f7f7\"],[0.6,\"#e6f5d0\"],[0.7,\"#b8e186\"],[0.8,\"#7fbc41\"],[0.9,\"#4d9221\"],[1,\"#276419\"]],\"sequential\":[[0.0,\"#0d0887\"],[0.1111111111111111,\"#46039f\"],[0.2222222222222222,\"#7201a8\"],[0.3333333333333333,\"#9c179e\"],[0.4444444444444444,\"#bd3786\"],[0.5555555555555556,\"#d8576b\"],[0.6666666666666666,\"#ed7953\"],[0.7777777777777778,\"#fb9f3a\"],[0.8888888888888888,\"#fdca26\"],[1.0,\"#f0f921\"]],\"sequentialminus\":[[0.0,\"#0d0887\"],[0.1111111111111111,\"#46039f\"],[0.2222222222222222,\"#7201a8\"],[0.3333333333333333,\"#9c179e\"],[0.4444444444444444,\"#bd3786\"],[0.5555555555555556,\"#d8576b\"],[0.6666666666666666,\"#ed7953\"],[0.7777777777777778,\"#fb9f3a\"],[0.8888888888888888,\"#fdca26\"],[1.0,\"#f0f921\"]]},\"colorway\":[\"#636efa\",\"#EF553B\",\"#00cc96\",\"#ab63fa\",\"#FFA15A\",\"#19d3f3\",\"#FF6692\",\"#B6E880\",\"#FF97FF\",\"#FECB52\"],\"font\":{\"color\":\"#f2f5fa\"},\"geo\":{\"bgcolor\":\"rgb(17,17,17)\",\"lakecolor\":\"rgb(17,17,17)\",\"landcolor\":\"rgb(17,17,17)\",\"showlakes\":true,\"showland\":true,\"subunitcolor\":\"#506784\"},\"hoverlabel\":{\"align\":\"left\"},\"hovermode\":\"closest\",\"mapbox\":{\"style\":\"dark\"},\"paper_bgcolor\":\"rgb(17,17,17)\",\"plot_bgcolor\":\"rgb(17,17,17)\",\"polar\":{\"angularaxis\":{\"gridcolor\":\"#506784\",\"linecolor\":\"#506784\",\"ticks\":\"\"},\"bgcolor\":\"rgb(17,17,17)\",\"radialaxis\":{\"gridcolor\":\"#506784\",\"linecolor\":\"#506784\",\"ticks\":\"\"}},\"scene\":{\"xaxis\":{\"backgroundcolor\":\"rgb(17,17,17)\",\"gridcolor\":\"#506784\",\"gridwidth\":2,\"linecolor\":\"#506784\",\"showbackground\":true,\"ticks\":\"\",\"zerolinecolor\":\"#C8D4E3\"},\"yaxis\":{\"backgroundcolor\":\"rgb(17,17,17)\",\"gridcolor\":\"#506784\",\"gridwidth\":2,\"linecolor\":\"#506784\",\"showbackground\":true,\"ticks\":\"\",\"zerolinecolor\":\"#C8D4E3\"},\"zaxis\":{\"backgroundcolor\":\"rgb(17,17,17)\",\"gridcolor\":\"#506784\",\"gridwidth\":2,\"linecolor\":\"#506784\",\"showbackground\":true,\"ticks\":\"\",\"zerolinecolor\":\"#C8D4E3\"}},\"shapedefaults\":{\"line\":{\"color\":\"#f2f5fa\"}},\"sliderdefaults\":{\"bgcolor\":\"#C8D4E3\",\"bordercolor\":\"rgb(17,17,17)\",\"borderwidth\":1,\"tickwidth\":0},\"ternary\":{\"aaxis\":{\"gridcolor\":\"#506784\",\"linecolor\":\"#506784\",\"ticks\":\"\"},\"baxis\":{\"gridcolor\":\"#506784\",\"linecolor\":\"#506784\",\"ticks\":\"\"},\"bgcolor\":\"rgb(17,17,17)\",\"caxis\":{\"gridcolor\":\"#506784\",\"linecolor\":\"#506784\",\"ticks\":\"\"}},\"title\":{\"x\":0.05},\"updatemenudefaults\":{\"bgcolor\":\"#506784\",\"borderwidth\":0},\"xaxis\":{\"automargin\":true,\"gridcolor\":\"#283442\",\"linecolor\":\"#506784\",\"ticks\":\"\",\"title\":{\"standoff\":15},\"zerolinecolor\":\"#283442\",\"zerolinewidth\":2},\"yaxis\":{\"automargin\":true,\"gridcolor\":\"#283442\",\"linecolor\":\"#506784\",\"ticks\":\"\",\"title\":{\"standoff\":15},\"zerolinecolor\":\"#283442\",\"zerolinewidth\":2}}},\"title\":{\"text\":\"\\uc9c0\\uc5ed\\ubcc4 \\ud655\\uc9c4\\uc790 \\uc218\",\"x\":0.5,\"xanchor\":\"center\",\"y\":0.9,\"yanchor\":\"top\"}},                        {\"responsive\": true}                    ).then(function(){\n",
       "                            \n",
       "var gd = document.getElementById('ed404384-c595-4900-8f26-893d582d3e58');\n",
       "var x = new MutationObserver(function (mutations, observer) {{\n",
       "        var display = window.getComputedStyle(gd).display;\n",
       "        if (!display || display === 'none') {{\n",
       "            console.log([gd, 'removed!']);\n",
       "            Plotly.purge(gd);\n",
       "            observer.disconnect();\n",
       "        }}\n",
       "}});\n",
       "\n",
       "// Listen for the removal of the full notebook cells\n",
       "var notebookContainer = gd.closest('#notebook-container');\n",
       "if (notebookContainer) {{\n",
       "    x.observe(notebookContainer, {childList: true});\n",
       "}}\n",
       "\n",
       "// Listen for the clearing of the current output cell\n",
       "var outputEl = gd.closest('.output');\n",
       "if (outputEl) {{\n",
       "    x.observe(outputEl, {childList: true});\n",
       "}}\n",
       "\n",
       "                        })                };                });            </script>        </div>"
      ]
     },
     "metadata": {},
     "output_type": "display_data"
    }
   ],
   "source": [
    "## 지역별 확진자 수 분포\n",
    "# 2020년 5월 31일까지의 확진자 수 분포\n",
    "\n",
    "pv_sum = case.filter(['province', 'confirmed']).groupby(['province']).sum().reset_index()\n",
    "data = [go.Pie(labels=pv_sum['province'], values=pv_sum['confirmed'],hole=.3)]\n",
    "fig = go.Figure(data=data)\n",
    "fig.update_layout(\n",
    "    title={'text': \"지역별 확진자 수\", 'y':0.9,'x':0.5,'xanchor': 'center','yanchor': 'top'})\n",
    "fig.update_layout(template='plotly_dark')\n",
    "fig.update_traces(textposition='inside')\n",
    "pyo.iplot(fig)"
   ]
  },
  {
   "cell_type": "markdown",
   "metadata": {},
   "source": [
    "※ 마우스를 그래프에 가져다 대시면 보다 세부적인 정보를 확인하실 수 있습니다.\n",
    "- bar plot은 대구, 서울, 경상북도, 경기도 순으로 코로나 19 확진자가 많음을 확인할 수 있다.\n",
    "- 먼저, 대구지역은 신천지 집단 감염 사태로 인해 확진자가 폭증하였고, 이때 인접한 경상북도 지역의 확진자도 함께 증가하는 경향을 보였다.\n",
    "- 대구와 경북지역을 제외하면 서울과 수도권 지역의 확진자 수가 많으며, 서울의 이태원 집단감염이 인접지역인 경기도까지 전파된 것이라 볼 수 있다."
   ]
  },
  {
   "cell_type": "code",
   "execution_count": 24,
   "metadata": {},
   "outputs": [],
   "source": [
    "## 성별/나이대별 확진자 수\n",
    "patientinfo = pd.read_csv('PatientInfo.csv')\n",
    "patientinfo = patientinfo.dropna(subset=['sex','age']) #결측치 제거\n",
    "patientinfo.sort_values(by=['age'], axis=0, inplace=True)"
   ]
  },
  {
   "cell_type": "code",
   "execution_count": 25,
   "metadata": {},
   "outputs": [
    {
     "data": {
      "text/html": [
       "<div>                            <div id=\"78dbfbb4-08a9-4cf9-a785-12d0f5b194ab\" class=\"plotly-graph-div\" style=\"height:525px; width:100%;\"></div>            <script type=\"text/javascript\">                require([\"plotly\"], function(Plotly) {                    window.PLOTLYENV=window.PLOTLYENV || {};                                    if (document.getElementById(\"78dbfbb4-08a9-4cf9-a785-12d0f5b194ab\")) {                    Plotly.newPlot(                        \"78dbfbb4-08a9-4cf9-a785-12d0f5b194ab\",                        [{\"alignmentgroup\":\"True\",\"bingroup\":\"x\",\"hovertemplate\":\"sex=male<br>age=%{x}<br>count=%{y}<extra></extra>\",\"legendgroup\":\"male\",\"marker\":{\"color\":\"blue\",\"pattern\":{\"shape\":\"\"}},\"name\":\"male\",\"offsetgroup\":\"male\",\"orientation\":\"v\",\"showlegend\":true,\"type\":\"histogram\",\"x\":[\"0s\",\"0s\",\"0s\",\"0s\",\"0s\",\"0s\",\"0s\",\"0s\",\"0s\",\"0s\",\"0s\",\"0s\",\"0s\",\"0s\",\"0s\",\"0s\",\"0s\",\"0s\",\"0s\",\"0s\",\"0s\",\"0s\",\"0s\",\"0s\",\"0s\",\"0s\",\"0s\",\"0s\",\"0s\",\"0s\",\"0s\",\"0s\",\"0s\",\"0s\",\"0s\",\"0s\",\"0s\",\"0s\",\"10s\",\"10s\",\"10s\",\"10s\",\"10s\",\"10s\",\"10s\",\"10s\",\"10s\",\"10s\",\"10s\",\"10s\",\"10s\",\"10s\",\"10s\",\"10s\",\"10s\",\"10s\",\"10s\",\"10s\",\"10s\",\"10s\",\"10s\",\"10s\",\"10s\",\"10s\",\"10s\",\"10s\",\"10s\",\"10s\",\"10s\",\"10s\",\"10s\",\"10s\",\"10s\",\"10s\",\"10s\",\"10s\",\"10s\",\"10s\",\"10s\",\"10s\",\"10s\",\"10s\",\"10s\",\"10s\",\"10s\",\"10s\",\"10s\",\"10s\",\"10s\",\"10s\",\"10s\",\"10s\",\"10s\",\"10s\",\"10s\",\"10s\",\"10s\",\"10s\",\"10s\",\"10s\",\"10s\",\"10s\",\"10s\",\"10s\",\"10s\",\"10s\",\"10s\",\"10s\",\"10s\",\"10s\",\"10s\",\"10s\",\"10s\",\"10s\",\"10s\",\"10s\",\"10s\",\"10s\",\"10s\",\"10s\",\"10s\",\"10s\",\"10s\",\"10s\",\"10s\",\"10s\",\"10s\",\"10s\",\"10s\",\"10s\",\"10s\",\"10s\",\"10s\",\"10s\",\"10s\",\"10s\",\"10s\",\"10s\",\"10s\",\"10s\",\"10s\",\"10s\",\"10s\",\"10s\",\"10s\",\"10s\",\"10s\",\"10s\",\"20s\",\"20s\",\"20s\",\"20s\",\"20s\",\"20s\",\"20s\",\"20s\",\"20s\",\"20s\",\"20s\",\"20s\",\"20s\",\"20s\",\"20s\",\"20s\",\"20s\",\"20s\",\"20s\",\"20s\",\"20s\",\"20s\",\"20s\",\"20s\",\"20s\",\"20s\",\"20s\",\"20s\",\"20s\",\"20s\",\"20s\",\"20s\",\"20s\",\"20s\",\"20s\",\"20s\",\"20s\",\"20s\",\"20s\",\"20s\",\"20s\",\"20s\",\"20s\",\"20s\",\"20s\",\"20s\",\"20s\",\"20s\",\"20s\",\"20s\",\"20s\",\"20s\",\"20s\",\"20s\",\"20s\",\"20s\",\"20s\",\"20s\",\"20s\",\"20s\",\"20s\",\"20s\",\"20s\",\"20s\",\"20s\",\"20s\",\"20s\",\"20s\",\"20s\",\"20s\",\"20s\",\"20s\",\"20s\",\"20s\",\"20s\",\"20s\",\"20s\",\"20s\",\"20s\",\"20s\",\"20s\",\"20s\",\"20s\",\"20s\",\"20s\",\"20s\",\"20s\",\"20s\",\"20s\",\"20s\",\"20s\",\"20s\",\"20s\",\"20s\",\"20s\",\"20s\",\"20s\",\"20s\",\"20s\",\"20s\",\"20s\",\"20s\",\"20s\",\"20s\",\"20s\",\"20s\",\"20s\",\"20s\",\"20s\",\"20s\",\"20s\",\"20s\",\"20s\",\"20s\",\"20s\",\"20s\",\"20s\",\"20s\",\"20s\",\"20s\",\"20s\",\"20s\",\"20s\",\"20s\",\"20s\",\"20s\",\"20s\",\"20s\",\"20s\",\"20s\",\"20s\",\"20s\",\"20s\",\"20s\",\"20s\",\"20s\",\"20s\",\"20s\",\"20s\",\"20s\",\"20s\",\"20s\",\"20s\",\"20s\",\"20s\",\"20s\",\"20s\",\"20s\",\"20s\",\"20s\",\"20s\",\"20s\",\"20s\",\"20s\",\"20s\",\"20s\",\"20s\",\"20s\",\"20s\",\"20s\",\"20s\",\"20s\",\"20s\",\"20s\",\"20s\",\"20s\",\"20s\",\"20s\",\"20s\",\"20s\",\"20s\",\"20s\",\"20s\",\"20s\",\"20s\",\"20s\",\"20s\",\"20s\",\"20s\",\"20s\",\"20s\",\"20s\",\"20s\",\"20s\",\"20s\",\"20s\",\"20s\",\"20s\",\"20s\",\"20s\",\"20s\",\"20s\",\"20s\",\"20s\",\"20s\",\"20s\",\"20s\",\"20s\",\"20s\",\"20s\",\"20s\",\"20s\",\"20s\",\"20s\",\"20s\",\"20s\",\"20s\",\"20s\",\"20s\",\"20s\",\"20s\",\"20s\",\"20s\",\"20s\",\"20s\",\"20s\",\"20s\",\"20s\",\"20s\",\"20s\",\"20s\",\"20s\",\"20s\",\"20s\",\"20s\",\"20s\",\"20s\",\"20s\",\"20s\",\"20s\",\"20s\",\"20s\",\"20s\",\"20s\",\"20s\",\"20s\",\"20s\",\"20s\",\"20s\",\"20s\",\"20s\",\"20s\",\"20s\",\"20s\",\"20s\",\"20s\",\"20s\",\"20s\",\"20s\",\"20s\",\"20s\",\"20s\",\"20s\",\"20s\",\"20s\",\"20s\",\"20s\",\"20s\",\"20s\",\"20s\",\"20s\",\"20s\",\"20s\",\"20s\",\"20s\",\"20s\",\"20s\",\"20s\",\"20s\",\"20s\",\"20s\",\"20s\",\"20s\",\"20s\",\"20s\",\"20s\",\"20s\",\"20s\",\"20s\",\"20s\",\"20s\",\"20s\",\"20s\",\"20s\",\"20s\",\"20s\",\"20s\",\"20s\",\"20s\",\"20s\",\"20s\",\"20s\",\"20s\",\"20s\",\"20s\",\"20s\",\"20s\",\"20s\",\"20s\",\"20s\",\"20s\",\"20s\",\"20s\",\"20s\",\"20s\",\"20s\",\"20s\",\"20s\",\"20s\",\"20s\",\"20s\",\"20s\",\"20s\",\"20s\",\"20s\",\"20s\",\"20s\",\"20s\",\"20s\",\"20s\",\"20s\",\"20s\",\"20s\",\"20s\",\"20s\",\"20s\",\"20s\",\"20s\",\"20s\",\"20s\",\"20s\",\"20s\",\"20s\",\"20s\",\"20s\",\"20s\",\"20s\",\"20s\",\"20s\",\"20s\",\"20s\",\"20s\",\"20s\",\"20s\",\"20s\",\"20s\",\"20s\",\"20s\",\"20s\",\"20s\",\"20s\",\"20s\",\"20s\",\"20s\",\"20s\",\"20s\",\"20s\",\"20s\",\"20s\",\"20s\",\"20s\",\"20s\",\"20s\",\"20s\",\"20s\",\"20s\",\"20s\",\"20s\",\"20s\",\"20s\",\"20s\",\"20s\",\"20s\",\"20s\",\"20s\",\"20s\",\"20s\",\"20s\",\"20s\",\"20s\",\"20s\",\"20s\",\"20s\",\"20s\",\"20s\",\"20s\",\"20s\",\"20s\",\"20s\",\"20s\",\"20s\",\"20s\",\"20s\",\"20s\",\"20s\",\"20s\",\"20s\",\"20s\",\"20s\",\"20s\",\"20s\",\"20s\",\"20s\",\"20s\",\"20s\",\"20s\",\"20s\",\"20s\",\"20s\",\"20s\",\"20s\",\"20s\",\"20s\",\"20s\",\"20s\",\"20s\",\"20s\",\"20s\",\"20s\",\"20s\",\"20s\",\"20s\",\"20s\",\"20s\",\"20s\",\"20s\",\"20s\",\"20s\",\"20s\",\"20s\",\"20s\",\"20s\",\"20s\",\"20s\",\"20s\",\"20s\",\"20s\",\"20s\",\"20s\",\"20s\",\"30s\",\"30s\",\"30s\",\"30s\",\"30s\",\"30s\",\"30s\",\"30s\",\"30s\",\"30s\",\"30s\",\"30s\",\"30s\",\"30s\",\"30s\",\"30s\",\"30s\",\"30s\",\"30s\",\"30s\",\"30s\",\"30s\",\"30s\",\"30s\",\"30s\",\"30s\",\"30s\",\"30s\",\"30s\",\"30s\",\"30s\",\"30s\",\"30s\",\"30s\",\"30s\",\"30s\",\"30s\",\"30s\",\"30s\",\"30s\",\"30s\",\"30s\",\"30s\",\"30s\",\"30s\",\"30s\",\"30s\",\"30s\",\"30s\",\"30s\",\"30s\",\"30s\",\"30s\",\"30s\",\"30s\",\"30s\",\"30s\",\"30s\",\"30s\",\"30s\",\"30s\",\"30s\",\"30s\",\"30s\",\"30s\",\"30s\",\"30s\",\"30s\",\"30s\",\"30s\",\"30s\",\"30s\",\"30s\",\"30s\",\"30s\",\"30s\",\"30s\",\"30s\",\"30s\",\"30s\",\"30s\",\"30s\",\"30s\",\"30s\",\"30s\",\"30s\",\"30s\",\"30s\",\"30s\",\"30s\",\"30s\",\"30s\",\"30s\",\"30s\",\"30s\",\"30s\",\"30s\",\"30s\",\"30s\",\"30s\",\"30s\",\"30s\",\"30s\",\"30s\",\"30s\",\"30s\",\"30s\",\"30s\",\"30s\",\"30s\",\"30s\",\"30s\",\"30s\",\"30s\",\"30s\",\"30s\",\"30s\",\"30s\",\"30s\",\"30s\",\"30s\",\"30s\",\"30s\",\"30s\",\"30s\",\"30s\",\"30s\",\"30s\",\"30s\",\"30s\",\"30s\",\"30s\",\"30s\",\"30s\",\"30s\",\"30s\",\"30s\",\"30s\",\"30s\",\"30s\",\"30s\",\"30s\",\"30s\",\"30s\",\"30s\",\"30s\",\"30s\",\"30s\",\"30s\",\"30s\",\"30s\",\"30s\",\"30s\",\"30s\",\"30s\",\"30s\",\"30s\",\"30s\",\"30s\",\"30s\",\"30s\",\"30s\",\"30s\",\"30s\",\"30s\",\"30s\",\"30s\",\"30s\",\"30s\",\"30s\",\"30s\",\"30s\",\"30s\",\"30s\",\"30s\",\"30s\",\"30s\",\"30s\",\"30s\",\"30s\",\"30s\",\"30s\",\"30s\",\"30s\",\"30s\",\"30s\",\"30s\",\"30s\",\"30s\",\"30s\",\"30s\",\"30s\",\"30s\",\"30s\",\"30s\",\"30s\",\"30s\",\"30s\",\"30s\",\"30s\",\"30s\",\"30s\",\"30s\",\"30s\",\"30s\",\"30s\",\"30s\",\"30s\",\"30s\",\"30s\",\"30s\",\"30s\",\"30s\",\"30s\",\"30s\",\"30s\",\"30s\",\"30s\",\"30s\",\"30s\",\"30s\",\"30s\",\"30s\",\"30s\",\"30s\",\"30s\",\"30s\",\"30s\",\"30s\",\"30s\",\"30s\",\"30s\",\"30s\",\"30s\",\"30s\",\"30s\",\"30s\",\"30s\",\"30s\",\"30s\",\"30s\",\"30s\",\"30s\",\"30s\",\"30s\",\"30s\",\"30s\",\"30s\",\"30s\",\"30s\",\"30s\",\"30s\",\"30s\",\"30s\",\"30s\",\"30s\",\"30s\",\"30s\",\"30s\",\"30s\",\"30s\",\"30s\",\"30s\",\"30s\",\"30s\",\"30s\",\"30s\",\"30s\",\"30s\",\"30s\",\"30s\",\"30s\",\"30s\",\"30s\",\"30s\",\"30s\",\"30s\",\"30s\",\"30s\",\"30s\",\"30s\",\"40s\",\"40s\",\"40s\",\"40s\",\"40s\",\"40s\",\"40s\",\"40s\",\"40s\",\"40s\",\"40s\",\"40s\",\"40s\",\"40s\",\"40s\",\"40s\",\"40s\",\"40s\",\"40s\",\"40s\",\"40s\",\"40s\",\"40s\",\"40s\",\"40s\",\"40s\",\"40s\",\"40s\",\"40s\",\"40s\",\"40s\",\"40s\",\"40s\",\"40s\",\"40s\",\"40s\",\"40s\",\"40s\",\"40s\",\"40s\",\"40s\",\"40s\",\"40s\",\"40s\",\"40s\",\"40s\",\"40s\",\"40s\",\"40s\",\"40s\",\"40s\",\"40s\",\"40s\",\"40s\",\"40s\",\"40s\",\"40s\",\"40s\",\"40s\",\"40s\",\"40s\",\"40s\",\"40s\",\"40s\",\"40s\",\"40s\",\"40s\",\"40s\",\"40s\",\"40s\",\"40s\",\"40s\",\"40s\",\"40s\",\"40s\",\"40s\",\"40s\",\"40s\",\"40s\",\"40s\",\"40s\",\"40s\",\"40s\",\"40s\",\"40s\",\"40s\",\"40s\",\"40s\",\"40s\",\"40s\",\"40s\",\"40s\",\"40s\",\"40s\",\"40s\",\"40s\",\"40s\",\"40s\",\"40s\",\"40s\",\"40s\",\"40s\",\"40s\",\"40s\",\"40s\",\"40s\",\"40s\",\"40s\",\"40s\",\"40s\",\"40s\",\"40s\",\"40s\",\"40s\",\"40s\",\"40s\",\"40s\",\"40s\",\"40s\",\"40s\",\"40s\",\"40s\",\"40s\",\"40s\",\"40s\",\"40s\",\"40s\",\"40s\",\"40s\",\"40s\",\"40s\",\"40s\",\"40s\",\"40s\",\"40s\",\"40s\",\"40s\",\"40s\",\"40s\",\"40s\",\"40s\",\"40s\",\"40s\",\"40s\",\"40s\",\"40s\",\"40s\",\"40s\",\"40s\",\"40s\",\"40s\",\"40s\",\"40s\",\"40s\",\"40s\",\"40s\",\"40s\",\"40s\",\"40s\",\"40s\",\"40s\",\"40s\",\"40s\",\"40s\",\"40s\",\"40s\",\"40s\",\"40s\",\"40s\",\"40s\",\"40s\",\"40s\",\"40s\",\"40s\",\"40s\",\"40s\",\"40s\",\"40s\",\"40s\",\"40s\",\"40s\",\"40s\",\"40s\",\"40s\",\"40s\",\"40s\",\"40s\",\"40s\",\"40s\",\"40s\",\"40s\",\"40s\",\"40s\",\"40s\",\"40s\",\"40s\",\"40s\",\"40s\",\"40s\",\"40s\",\"40s\",\"40s\",\"40s\",\"40s\",\"40s\",\"40s\",\"40s\",\"40s\",\"40s\",\"40s\",\"50s\",\"50s\",\"50s\",\"50s\",\"50s\",\"50s\",\"50s\",\"50s\",\"50s\",\"50s\",\"50s\",\"50s\",\"50s\",\"50s\",\"50s\",\"50s\",\"50s\",\"50s\",\"50s\",\"50s\",\"50s\",\"50s\",\"50s\",\"50s\",\"50s\",\"50s\",\"50s\",\"50s\",\"50s\",\"50s\",\"50s\",\"50s\",\"50s\",\"50s\",\"50s\",\"50s\",\"50s\",\"50s\",\"50s\",\"50s\",\"50s\",\"50s\",\"50s\",\"50s\",\"50s\",\"50s\",\"50s\",\"50s\",\"50s\",\"50s\",\"50s\",\"50s\",\"50s\",\"50s\",\"50s\",\"50s\",\"50s\",\"50s\",\"50s\",\"50s\",\"50s\",\"50s\",\"50s\",\"50s\",\"50s\",\"50s\",\"50s\",\"50s\",\"50s\",\"50s\",\"50s\",\"50s\",\"50s\",\"50s\",\"50s\",\"50s\",\"50s\",\"50s\",\"50s\",\"50s\",\"50s\",\"50s\",\"50s\",\"50s\",\"50s\",\"50s\",\"50s\",\"50s\",\"50s\",\"50s\",\"50s\",\"50s\",\"50s\",\"50s\",\"50s\",\"50s\",\"50s\",\"50s\",\"50s\",\"50s\",\"50s\",\"50s\",\"50s\",\"50s\",\"50s\",\"50s\",\"50s\",\"50s\",\"50s\",\"50s\",\"50s\",\"50s\",\"50s\",\"50s\",\"50s\",\"50s\",\"50s\",\"50s\",\"50s\",\"50s\",\"50s\",\"50s\",\"50s\",\"50s\",\"50s\",\"50s\",\"50s\",\"50s\",\"50s\",\"50s\",\"50s\",\"50s\",\"50s\",\"50s\",\"50s\",\"50s\",\"50s\",\"50s\",\"50s\",\"50s\",\"50s\",\"50s\",\"50s\",\"50s\",\"50s\",\"50s\",\"50s\",\"50s\",\"50s\",\"50s\",\"50s\",\"50s\",\"50s\",\"50s\",\"50s\",\"50s\",\"50s\",\"50s\",\"50s\",\"50s\",\"50s\",\"50s\",\"50s\",\"50s\",\"50s\",\"50s\",\"50s\",\"50s\",\"50s\",\"50s\",\"50s\",\"50s\",\"50s\",\"50s\",\"50s\",\"50s\",\"50s\",\"50s\",\"50s\",\"50s\",\"50s\",\"50s\",\"50s\",\"50s\",\"50s\",\"50s\",\"50s\",\"50s\",\"50s\",\"50s\",\"50s\",\"50s\",\"50s\",\"50s\",\"50s\",\"50s\",\"50s\",\"50s\",\"50s\",\"50s\",\"50s\",\"50s\",\"50s\",\"50s\",\"50s\",\"50s\",\"50s\",\"50s\",\"50s\",\"50s\",\"50s\",\"50s\",\"50s\",\"50s\",\"50s\",\"50s\",\"50s\",\"50s\",\"50s\",\"50s\",\"50s\",\"50s\",\"50s\",\"50s\",\"50s\",\"50s\",\"50s\",\"50s\",\"50s\",\"50s\",\"50s\",\"50s\",\"50s\",\"50s\",\"50s\",\"50s\",\"50s\",\"50s\",\"50s\",\"50s\",\"50s\",\"50s\",\"50s\",\"50s\",\"50s\",\"50s\",\"50s\",\"50s\",\"50s\",\"50s\",\"50s\",\"50s\",\"50s\",\"50s\",\"50s\",\"50s\",\"50s\",\"50s\",\"50s\",\"50s\",\"50s\",\"50s\",\"50s\",\"60s\",\"60s\",\"60s\",\"60s\",\"60s\",\"60s\",\"60s\",\"60s\",\"60s\",\"60s\",\"60s\",\"60s\",\"60s\",\"60s\",\"60s\",\"60s\",\"60s\",\"60s\",\"60s\",\"60s\",\"60s\",\"60s\",\"60s\",\"60s\",\"60s\",\"60s\",\"60s\",\"60s\",\"60s\",\"60s\",\"60s\",\"60s\",\"60s\",\"60s\",\"60s\",\"60s\",\"60s\",\"60s\",\"60s\",\"60s\",\"60s\",\"60s\",\"60s\",\"60s\",\"60s\",\"60s\",\"60s\",\"60s\",\"60s\",\"60s\",\"60s\",\"60s\",\"60s\",\"60s\",\"60s\",\"60s\",\"60s\",\"60s\",\"60s\",\"60s\",\"60s\",\"60s\",\"60s\",\"60s\",\"60s\",\"60s\",\"60s\",\"60s\",\"60s\",\"60s\",\"60s\",\"60s\",\"60s\",\"60s\",\"60s\",\"60s\",\"60s\",\"60s\",\"60s\",\"60s\",\"60s\",\"60s\",\"60s\",\"60s\",\"60s\",\"60s\",\"60s\",\"60s\",\"60s\",\"60s\",\"60s\",\"60s\",\"60s\",\"60s\",\"60s\",\"60s\",\"60s\",\"60s\",\"60s\",\"60s\",\"60s\",\"60s\",\"60s\",\"60s\",\"60s\",\"60s\",\"60s\",\"60s\",\"60s\",\"60s\",\"60s\",\"60s\",\"60s\",\"60s\",\"60s\",\"60s\",\"60s\",\"60s\",\"60s\",\"60s\",\"60s\",\"60s\",\"60s\",\"60s\",\"60s\",\"60s\",\"60s\",\"60s\",\"60s\",\"60s\",\"60s\",\"60s\",\"60s\",\"60s\",\"60s\",\"60s\",\"60s\",\"60s\",\"60s\",\"60s\",\"60s\",\"60s\",\"60s\",\"60s\",\"60s\",\"60s\",\"60s\",\"60s\",\"60s\",\"60s\",\"60s\",\"60s\",\"60s\",\"60s\",\"60s\",\"60s\",\"60s\",\"60s\",\"60s\",\"60s\",\"60s\",\"60s\",\"60s\",\"60s\",\"60s\",\"60s\",\"60s\",\"60s\",\"60s\",\"60s\",\"60s\",\"60s\",\"60s\",\"60s\",\"60s\",\"60s\",\"60s\",\"60s\",\"60s\",\"60s\",\"60s\",\"60s\",\"60s\",\"60s\",\"60s\",\"60s\",\"60s\",\"60s\",\"60s\",\"60s\",\"60s\",\"60s\",\"60s\",\"60s\",\"60s\",\"60s\",\"60s\",\"60s\",\"60s\",\"60s\",\"60s\",\"60s\",\"60s\",\"60s\",\"60s\",\"60s\",\"60s\",\"60s\",\"60s\",\"60s\",\"60s\",\"60s\",\"70s\",\"70s\",\"70s\",\"70s\",\"70s\",\"70s\",\"70s\",\"70s\",\"70s\",\"70s\",\"70s\",\"70s\",\"70s\",\"70s\",\"70s\",\"70s\",\"70s\",\"70s\",\"70s\",\"70s\",\"70s\",\"70s\",\"70s\",\"70s\",\"70s\",\"70s\",\"70s\",\"70s\",\"70s\",\"70s\",\"70s\",\"70s\",\"70s\",\"70s\",\"70s\",\"70s\",\"70s\",\"70s\",\"70s\",\"70s\",\"70s\",\"70s\",\"70s\",\"70s\",\"70s\",\"70s\",\"70s\",\"70s\",\"70s\",\"70s\",\"70s\",\"70s\",\"70s\",\"70s\",\"70s\",\"70s\",\"70s\",\"70s\",\"70s\",\"70s\",\"70s\",\"70s\",\"70s\",\"70s\",\"70s\",\"70s\",\"70s\",\"70s\",\"70s\",\"70s\",\"70s\",\"70s\",\"70s\",\"70s\",\"70s\",\"70s\",\"70s\",\"70s\",\"70s\",\"70s\",\"70s\",\"70s\",\"70s\",\"70s\",\"70s\",\"70s\",\"70s\",\"70s\",\"80s\",\"80s\",\"80s\",\"80s\",\"80s\",\"80s\",\"80s\",\"80s\",\"80s\",\"80s\",\"80s\",\"80s\",\"80s\",\"80s\",\"80s\",\"80s\",\"80s\",\"80s\",\"80s\",\"80s\",\"80s\",\"80s\",\"80s\",\"80s\",\"80s\",\"80s\",\"80s\",\"80s\",\"80s\",\"80s\",\"80s\",\"80s\",\"80s\",\"80s\",\"80s\",\"80s\",\"80s\",\"80s\",\"80s\",\"80s\",\"80s\",\"80s\",\"80s\",\"80s\",\"80s\",\"80s\",\"80s\",\"80s\",\"80s\",\"80s\",\"80s\",\"80s\",\"80s\",\"80s\",\"80s\",\"80s\",\"90s\",\"90s\",\"90s\",\"90s\",\"90s\",\"90s\",\"90s\",\"90s\",\"90s\",\"90s\",\"90s\",\"90s\",\"90s\",\"90s\",\"90s\",\"90s\"],\"xaxis\":\"x\",\"yaxis\":\"y\"},{\"alignmentgroup\":\"True\",\"hovertemplate\":\"sex=male<br>age=%{x}<extra></extra>\",\"legendgroup\":\"male\",\"marker\":{\"color\":\"blue\"},\"name\":\"male\",\"offsetgroup\":\"male\",\"scalegroup\":\"x\",\"showlegend\":false,\"type\":\"violin\",\"x\":[\"0s\",\"0s\",\"0s\",\"0s\",\"0s\",\"0s\",\"0s\",\"0s\",\"0s\",\"0s\",\"0s\",\"0s\",\"0s\",\"0s\",\"0s\",\"0s\",\"0s\",\"0s\",\"0s\",\"0s\",\"0s\",\"0s\",\"0s\",\"0s\",\"0s\",\"0s\",\"0s\",\"0s\",\"0s\",\"0s\",\"0s\",\"0s\",\"0s\",\"0s\",\"0s\",\"0s\",\"0s\",\"0s\",\"10s\",\"10s\",\"10s\",\"10s\",\"10s\",\"10s\",\"10s\",\"10s\",\"10s\",\"10s\",\"10s\",\"10s\",\"10s\",\"10s\",\"10s\",\"10s\",\"10s\",\"10s\",\"10s\",\"10s\",\"10s\",\"10s\",\"10s\",\"10s\",\"10s\",\"10s\",\"10s\",\"10s\",\"10s\",\"10s\",\"10s\",\"10s\",\"10s\",\"10s\",\"10s\",\"10s\",\"10s\",\"10s\",\"10s\",\"10s\",\"10s\",\"10s\",\"10s\",\"10s\",\"10s\",\"10s\",\"10s\",\"10s\",\"10s\",\"10s\",\"10s\",\"10s\",\"10s\",\"10s\",\"10s\",\"10s\",\"10s\",\"10s\",\"10s\",\"10s\",\"10s\",\"10s\",\"10s\",\"10s\",\"10s\",\"10s\",\"10s\",\"10s\",\"10s\",\"10s\",\"10s\",\"10s\",\"10s\",\"10s\",\"10s\",\"10s\",\"10s\",\"10s\",\"10s\",\"10s\",\"10s\",\"10s\",\"10s\",\"10s\",\"10s\",\"10s\",\"10s\",\"10s\",\"10s\",\"10s\",\"10s\",\"10s\",\"10s\",\"10s\",\"10s\",\"10s\",\"10s\",\"10s\",\"10s\",\"10s\",\"10s\",\"10s\",\"10s\",\"10s\",\"10s\",\"10s\",\"10s\",\"10s\",\"10s\",\"10s\",\"20s\",\"20s\",\"20s\",\"20s\",\"20s\",\"20s\",\"20s\",\"20s\",\"20s\",\"20s\",\"20s\",\"20s\",\"20s\",\"20s\",\"20s\",\"20s\",\"20s\",\"20s\",\"20s\",\"20s\",\"20s\",\"20s\",\"20s\",\"20s\",\"20s\",\"20s\",\"20s\",\"20s\",\"20s\",\"20s\",\"20s\",\"20s\",\"20s\",\"20s\",\"20s\",\"20s\",\"20s\",\"20s\",\"20s\",\"20s\",\"20s\",\"20s\",\"20s\",\"20s\",\"20s\",\"20s\",\"20s\",\"20s\",\"20s\",\"20s\",\"20s\",\"20s\",\"20s\",\"20s\",\"20s\",\"20s\",\"20s\",\"20s\",\"20s\",\"20s\",\"20s\",\"20s\",\"20s\",\"20s\",\"20s\",\"20s\",\"20s\",\"20s\",\"20s\",\"20s\",\"20s\",\"20s\",\"20s\",\"20s\",\"20s\",\"20s\",\"20s\",\"20s\",\"20s\",\"20s\",\"20s\",\"20s\",\"20s\",\"20s\",\"20s\",\"20s\",\"20s\",\"20s\",\"20s\",\"20s\",\"20s\",\"20s\",\"20s\",\"20s\",\"20s\",\"20s\",\"20s\",\"20s\",\"20s\",\"20s\",\"20s\",\"20s\",\"20s\",\"20s\",\"20s\",\"20s\",\"20s\",\"20s\",\"20s\",\"20s\",\"20s\",\"20s\",\"20s\",\"20s\",\"20s\",\"20s\",\"20s\",\"20s\",\"20s\",\"20s\",\"20s\",\"20s\",\"20s\",\"20s\",\"20s\",\"20s\",\"20s\",\"20s\",\"20s\",\"20s\",\"20s\",\"20s\",\"20s\",\"20s\",\"20s\",\"20s\",\"20s\",\"20s\",\"20s\",\"20s\",\"20s\",\"20s\",\"20s\",\"20s\",\"20s\",\"20s\",\"20s\",\"20s\",\"20s\",\"20s\",\"20s\",\"20s\",\"20s\",\"20s\",\"20s\",\"20s\",\"20s\",\"20s\",\"20s\",\"20s\",\"20s\",\"20s\",\"20s\",\"20s\",\"20s\",\"20s\",\"20s\",\"20s\",\"20s\",\"20s\",\"20s\",\"20s\",\"20s\",\"20s\",\"20s\",\"20s\",\"20s\",\"20s\",\"20s\",\"20s\",\"20s\",\"20s\",\"20s\",\"20s\",\"20s\",\"20s\",\"20s\",\"20s\",\"20s\",\"20s\",\"20s\",\"20s\",\"20s\",\"20s\",\"20s\",\"20s\",\"20s\",\"20s\",\"20s\",\"20s\",\"20s\",\"20s\",\"20s\",\"20s\",\"20s\",\"20s\",\"20s\",\"20s\",\"20s\",\"20s\",\"20s\",\"20s\",\"20s\",\"20s\",\"20s\",\"20s\",\"20s\",\"20s\",\"20s\",\"20s\",\"20s\",\"20s\",\"20s\",\"20s\",\"20s\",\"20s\",\"20s\",\"20s\",\"20s\",\"20s\",\"20s\",\"20s\",\"20s\",\"20s\",\"20s\",\"20s\",\"20s\",\"20s\",\"20s\",\"20s\",\"20s\",\"20s\",\"20s\",\"20s\",\"20s\",\"20s\",\"20s\",\"20s\",\"20s\",\"20s\",\"20s\",\"20s\",\"20s\",\"20s\",\"20s\",\"20s\",\"20s\",\"20s\",\"20s\",\"20s\",\"20s\",\"20s\",\"20s\",\"20s\",\"20s\",\"20s\",\"20s\",\"20s\",\"20s\",\"20s\",\"20s\",\"20s\",\"20s\",\"20s\",\"20s\",\"20s\",\"20s\",\"20s\",\"20s\",\"20s\",\"20s\",\"20s\",\"20s\",\"20s\",\"20s\",\"20s\",\"20s\",\"20s\",\"20s\",\"20s\",\"20s\",\"20s\",\"20s\",\"20s\",\"20s\",\"20s\",\"20s\",\"20s\",\"20s\",\"20s\",\"20s\",\"20s\",\"20s\",\"20s\",\"20s\",\"20s\",\"20s\",\"20s\",\"20s\",\"20s\",\"20s\",\"20s\",\"20s\",\"20s\",\"20s\",\"20s\",\"20s\",\"20s\",\"20s\",\"20s\",\"20s\",\"20s\",\"20s\",\"20s\",\"20s\",\"20s\",\"20s\",\"20s\",\"20s\",\"20s\",\"20s\",\"20s\",\"20s\",\"20s\",\"20s\",\"20s\",\"20s\",\"20s\",\"20s\",\"20s\",\"20s\",\"20s\",\"20s\",\"20s\",\"20s\",\"20s\",\"20s\",\"20s\",\"20s\",\"20s\",\"20s\",\"20s\",\"20s\",\"20s\",\"20s\",\"20s\",\"20s\",\"20s\",\"20s\",\"20s\",\"20s\",\"20s\",\"20s\",\"20s\",\"20s\",\"20s\",\"20s\",\"20s\",\"20s\",\"20s\",\"20s\",\"20s\",\"20s\",\"20s\",\"20s\",\"20s\",\"20s\",\"20s\",\"20s\",\"20s\",\"20s\",\"20s\",\"20s\",\"20s\",\"20s\",\"20s\",\"20s\",\"20s\",\"20s\",\"20s\",\"20s\",\"20s\",\"20s\",\"20s\",\"20s\",\"20s\",\"20s\",\"20s\",\"20s\",\"20s\",\"20s\",\"20s\",\"20s\",\"20s\",\"20s\",\"20s\",\"20s\",\"20s\",\"20s\",\"20s\",\"20s\",\"20s\",\"20s\",\"20s\",\"20s\",\"20s\",\"20s\",\"20s\",\"20s\",\"20s\",\"20s\",\"20s\",\"20s\",\"20s\",\"20s\",\"20s\",\"20s\",\"20s\",\"20s\",\"20s\",\"20s\",\"20s\",\"20s\",\"20s\",\"20s\",\"20s\",\"20s\",\"20s\",\"20s\",\"20s\",\"30s\",\"30s\",\"30s\",\"30s\",\"30s\",\"30s\",\"30s\",\"30s\",\"30s\",\"30s\",\"30s\",\"30s\",\"30s\",\"30s\",\"30s\",\"30s\",\"30s\",\"30s\",\"30s\",\"30s\",\"30s\",\"30s\",\"30s\",\"30s\",\"30s\",\"30s\",\"30s\",\"30s\",\"30s\",\"30s\",\"30s\",\"30s\",\"30s\",\"30s\",\"30s\",\"30s\",\"30s\",\"30s\",\"30s\",\"30s\",\"30s\",\"30s\",\"30s\",\"30s\",\"30s\",\"30s\",\"30s\",\"30s\",\"30s\",\"30s\",\"30s\",\"30s\",\"30s\",\"30s\",\"30s\",\"30s\",\"30s\",\"30s\",\"30s\",\"30s\",\"30s\",\"30s\",\"30s\",\"30s\",\"30s\",\"30s\",\"30s\",\"30s\",\"30s\",\"30s\",\"30s\",\"30s\",\"30s\",\"30s\",\"30s\",\"30s\",\"30s\",\"30s\",\"30s\",\"30s\",\"30s\",\"30s\",\"30s\",\"30s\",\"30s\",\"30s\",\"30s\",\"30s\",\"30s\",\"30s\",\"30s\",\"30s\",\"30s\",\"30s\",\"30s\",\"30s\",\"30s\",\"30s\",\"30s\",\"30s\",\"30s\",\"30s\",\"30s\",\"30s\",\"30s\",\"30s\",\"30s\",\"30s\",\"30s\",\"30s\",\"30s\",\"30s\",\"30s\",\"30s\",\"30s\",\"30s\",\"30s\",\"30s\",\"30s\",\"30s\",\"30s\",\"30s\",\"30s\",\"30s\",\"30s\",\"30s\",\"30s\",\"30s\",\"30s\",\"30s\",\"30s\",\"30s\",\"30s\",\"30s\",\"30s\",\"30s\",\"30s\",\"30s\",\"30s\",\"30s\",\"30s\",\"30s\",\"30s\",\"30s\",\"30s\",\"30s\",\"30s\",\"30s\",\"30s\",\"30s\",\"30s\",\"30s\",\"30s\",\"30s\",\"30s\",\"30s\",\"30s\",\"30s\",\"30s\",\"30s\",\"30s\",\"30s\",\"30s\",\"30s\",\"30s\",\"30s\",\"30s\",\"30s\",\"30s\",\"30s\",\"30s\",\"30s\",\"30s\",\"30s\",\"30s\",\"30s\",\"30s\",\"30s\",\"30s\",\"30s\",\"30s\",\"30s\",\"30s\",\"30s\",\"30s\",\"30s\",\"30s\",\"30s\",\"30s\",\"30s\",\"30s\",\"30s\",\"30s\",\"30s\",\"30s\",\"30s\",\"30s\",\"30s\",\"30s\",\"30s\",\"30s\",\"30s\",\"30s\",\"30s\",\"30s\",\"30s\",\"30s\",\"30s\",\"30s\",\"30s\",\"30s\",\"30s\",\"30s\",\"30s\",\"30s\",\"30s\",\"30s\",\"30s\",\"30s\",\"30s\",\"30s\",\"30s\",\"30s\",\"30s\",\"30s\",\"30s\",\"30s\",\"30s\",\"30s\",\"30s\",\"30s\",\"30s\",\"30s\",\"30s\",\"30s\",\"30s\",\"30s\",\"30s\",\"30s\",\"30s\",\"30s\",\"30s\",\"30s\",\"30s\",\"30s\",\"30s\",\"30s\",\"30s\",\"30s\",\"30s\",\"30s\",\"30s\",\"30s\",\"30s\",\"30s\",\"30s\",\"30s\",\"30s\",\"30s\",\"30s\",\"30s\",\"30s\",\"30s\",\"30s\",\"30s\",\"30s\",\"30s\",\"30s\",\"30s\",\"30s\",\"30s\",\"30s\",\"30s\",\"30s\",\"30s\",\"30s\",\"30s\",\"30s\",\"30s\",\"30s\",\"30s\",\"40s\",\"40s\",\"40s\",\"40s\",\"40s\",\"40s\",\"40s\",\"40s\",\"40s\",\"40s\",\"40s\",\"40s\",\"40s\",\"40s\",\"40s\",\"40s\",\"40s\",\"40s\",\"40s\",\"40s\",\"40s\",\"40s\",\"40s\",\"40s\",\"40s\",\"40s\",\"40s\",\"40s\",\"40s\",\"40s\",\"40s\",\"40s\",\"40s\",\"40s\",\"40s\",\"40s\",\"40s\",\"40s\",\"40s\",\"40s\",\"40s\",\"40s\",\"40s\",\"40s\",\"40s\",\"40s\",\"40s\",\"40s\",\"40s\",\"40s\",\"40s\",\"40s\",\"40s\",\"40s\",\"40s\",\"40s\",\"40s\",\"40s\",\"40s\",\"40s\",\"40s\",\"40s\",\"40s\",\"40s\",\"40s\",\"40s\",\"40s\",\"40s\",\"40s\",\"40s\",\"40s\",\"40s\",\"40s\",\"40s\",\"40s\",\"40s\",\"40s\",\"40s\",\"40s\",\"40s\",\"40s\",\"40s\",\"40s\",\"40s\",\"40s\",\"40s\",\"40s\",\"40s\",\"40s\",\"40s\",\"40s\",\"40s\",\"40s\",\"40s\",\"40s\",\"40s\",\"40s\",\"40s\",\"40s\",\"40s\",\"40s\",\"40s\",\"40s\",\"40s\",\"40s\",\"40s\",\"40s\",\"40s\",\"40s\",\"40s\",\"40s\",\"40s\",\"40s\",\"40s\",\"40s\",\"40s\",\"40s\",\"40s\",\"40s\",\"40s\",\"40s\",\"40s\",\"40s\",\"40s\",\"40s\",\"40s\",\"40s\",\"40s\",\"40s\",\"40s\",\"40s\",\"40s\",\"40s\",\"40s\",\"40s\",\"40s\",\"40s\",\"40s\",\"40s\",\"40s\",\"40s\",\"40s\",\"40s\",\"40s\",\"40s\",\"40s\",\"40s\",\"40s\",\"40s\",\"40s\",\"40s\",\"40s\",\"40s\",\"40s\",\"40s\",\"40s\",\"40s\",\"40s\",\"40s\",\"40s\",\"40s\",\"40s\",\"40s\",\"40s\",\"40s\",\"40s\",\"40s\",\"40s\",\"40s\",\"40s\",\"40s\",\"40s\",\"40s\",\"40s\",\"40s\",\"40s\",\"40s\",\"40s\",\"40s\",\"40s\",\"40s\",\"40s\",\"40s\",\"40s\",\"40s\",\"40s\",\"40s\",\"40s\",\"40s\",\"40s\",\"40s\",\"40s\",\"40s\",\"40s\",\"40s\",\"40s\",\"40s\",\"40s\",\"40s\",\"40s\",\"40s\",\"40s\",\"40s\",\"40s\",\"40s\",\"40s\",\"40s\",\"40s\",\"40s\",\"40s\",\"50s\",\"50s\",\"50s\",\"50s\",\"50s\",\"50s\",\"50s\",\"50s\",\"50s\",\"50s\",\"50s\",\"50s\",\"50s\",\"50s\",\"50s\",\"50s\",\"50s\",\"50s\",\"50s\",\"50s\",\"50s\",\"50s\",\"50s\",\"50s\",\"50s\",\"50s\",\"50s\",\"50s\",\"50s\",\"50s\",\"50s\",\"50s\",\"50s\",\"50s\",\"50s\",\"50s\",\"50s\",\"50s\",\"50s\",\"50s\",\"50s\",\"50s\",\"50s\",\"50s\",\"50s\",\"50s\",\"50s\",\"50s\",\"50s\",\"50s\",\"50s\",\"50s\",\"50s\",\"50s\",\"50s\",\"50s\",\"50s\",\"50s\",\"50s\",\"50s\",\"50s\",\"50s\",\"50s\",\"50s\",\"50s\",\"50s\",\"50s\",\"50s\",\"50s\",\"50s\",\"50s\",\"50s\",\"50s\",\"50s\",\"50s\",\"50s\",\"50s\",\"50s\",\"50s\",\"50s\",\"50s\",\"50s\",\"50s\",\"50s\",\"50s\",\"50s\",\"50s\",\"50s\",\"50s\",\"50s\",\"50s\",\"50s\",\"50s\",\"50s\",\"50s\",\"50s\",\"50s\",\"50s\",\"50s\",\"50s\",\"50s\",\"50s\",\"50s\",\"50s\",\"50s\",\"50s\",\"50s\",\"50s\",\"50s\",\"50s\",\"50s\",\"50s\",\"50s\",\"50s\",\"50s\",\"50s\",\"50s\",\"50s\",\"50s\",\"50s\",\"50s\",\"50s\",\"50s\",\"50s\",\"50s\",\"50s\",\"50s\",\"50s\",\"50s\",\"50s\",\"50s\",\"50s\",\"50s\",\"50s\",\"50s\",\"50s\",\"50s\",\"50s\",\"50s\",\"50s\",\"50s\",\"50s\",\"50s\",\"50s\",\"50s\",\"50s\",\"50s\",\"50s\",\"50s\",\"50s\",\"50s\",\"50s\",\"50s\",\"50s\",\"50s\",\"50s\",\"50s\",\"50s\",\"50s\",\"50s\",\"50s\",\"50s\",\"50s\",\"50s\",\"50s\",\"50s\",\"50s\",\"50s\",\"50s\",\"50s\",\"50s\",\"50s\",\"50s\",\"50s\",\"50s\",\"50s\",\"50s\",\"50s\",\"50s\",\"50s\",\"50s\",\"50s\",\"50s\",\"50s\",\"50s\",\"50s\",\"50s\",\"50s\",\"50s\",\"50s\",\"50s\",\"50s\",\"50s\",\"50s\",\"50s\",\"50s\",\"50s\",\"50s\",\"50s\",\"50s\",\"50s\",\"50s\",\"50s\",\"50s\",\"50s\",\"50s\",\"50s\",\"50s\",\"50s\",\"50s\",\"50s\",\"50s\",\"50s\",\"50s\",\"50s\",\"50s\",\"50s\",\"50s\",\"50s\",\"50s\",\"50s\",\"50s\",\"50s\",\"50s\",\"50s\",\"50s\",\"50s\",\"50s\",\"50s\",\"50s\",\"50s\",\"50s\",\"50s\",\"50s\",\"50s\",\"50s\",\"50s\",\"50s\",\"50s\",\"50s\",\"50s\",\"50s\",\"50s\",\"50s\",\"50s\",\"50s\",\"50s\",\"50s\",\"50s\",\"50s\",\"50s\",\"50s\",\"50s\",\"50s\",\"50s\",\"50s\",\"50s\",\"50s\",\"50s\",\"50s\",\"50s\",\"50s\",\"50s\",\"60s\",\"60s\",\"60s\",\"60s\",\"60s\",\"60s\",\"60s\",\"60s\",\"60s\",\"60s\",\"60s\",\"60s\",\"60s\",\"60s\",\"60s\",\"60s\",\"60s\",\"60s\",\"60s\",\"60s\",\"60s\",\"60s\",\"60s\",\"60s\",\"60s\",\"60s\",\"60s\",\"60s\",\"60s\",\"60s\",\"60s\",\"60s\",\"60s\",\"60s\",\"60s\",\"60s\",\"60s\",\"60s\",\"60s\",\"60s\",\"60s\",\"60s\",\"60s\",\"60s\",\"60s\",\"60s\",\"60s\",\"60s\",\"60s\",\"60s\",\"60s\",\"60s\",\"60s\",\"60s\",\"60s\",\"60s\",\"60s\",\"60s\",\"60s\",\"60s\",\"60s\",\"60s\",\"60s\",\"60s\",\"60s\",\"60s\",\"60s\",\"60s\",\"60s\",\"60s\",\"60s\",\"60s\",\"60s\",\"60s\",\"60s\",\"60s\",\"60s\",\"60s\",\"60s\",\"60s\",\"60s\",\"60s\",\"60s\",\"60s\",\"60s\",\"60s\",\"60s\",\"60s\",\"60s\",\"60s\",\"60s\",\"60s\",\"60s\",\"60s\",\"60s\",\"60s\",\"60s\",\"60s\",\"60s\",\"60s\",\"60s\",\"60s\",\"60s\",\"60s\",\"60s\",\"60s\",\"60s\",\"60s\",\"60s\",\"60s\",\"60s\",\"60s\",\"60s\",\"60s\",\"60s\",\"60s\",\"60s\",\"60s\",\"60s\",\"60s\",\"60s\",\"60s\",\"60s\",\"60s\",\"60s\",\"60s\",\"60s\",\"60s\",\"60s\",\"60s\",\"60s\",\"60s\",\"60s\",\"60s\",\"60s\",\"60s\",\"60s\",\"60s\",\"60s\",\"60s\",\"60s\",\"60s\",\"60s\",\"60s\",\"60s\",\"60s\",\"60s\",\"60s\",\"60s\",\"60s\",\"60s\",\"60s\",\"60s\",\"60s\",\"60s\",\"60s\",\"60s\",\"60s\",\"60s\",\"60s\",\"60s\",\"60s\",\"60s\",\"60s\",\"60s\",\"60s\",\"60s\",\"60s\",\"60s\",\"60s\",\"60s\",\"60s\",\"60s\",\"60s\",\"60s\",\"60s\",\"60s\",\"60s\",\"60s\",\"60s\",\"60s\",\"60s\",\"60s\",\"60s\",\"60s\",\"60s\",\"60s\",\"60s\",\"60s\",\"60s\",\"60s\",\"60s\",\"60s\",\"60s\",\"60s\",\"60s\",\"60s\",\"60s\",\"60s\",\"60s\",\"60s\",\"60s\",\"60s\",\"60s\",\"60s\",\"60s\",\"60s\",\"60s\",\"60s\",\"60s\",\"60s\",\"60s\",\"70s\",\"70s\",\"70s\",\"70s\",\"70s\",\"70s\",\"70s\",\"70s\",\"70s\",\"70s\",\"70s\",\"70s\",\"70s\",\"70s\",\"70s\",\"70s\",\"70s\",\"70s\",\"70s\",\"70s\",\"70s\",\"70s\",\"70s\",\"70s\",\"70s\",\"70s\",\"70s\",\"70s\",\"70s\",\"70s\",\"70s\",\"70s\",\"70s\",\"70s\",\"70s\",\"70s\",\"70s\",\"70s\",\"70s\",\"70s\",\"70s\",\"70s\",\"70s\",\"70s\",\"70s\",\"70s\",\"70s\",\"70s\",\"70s\",\"70s\",\"70s\",\"70s\",\"70s\",\"70s\",\"70s\",\"70s\",\"70s\",\"70s\",\"70s\",\"70s\",\"70s\",\"70s\",\"70s\",\"70s\",\"70s\",\"70s\",\"70s\",\"70s\",\"70s\",\"70s\",\"70s\",\"70s\",\"70s\",\"70s\",\"70s\",\"70s\",\"70s\",\"70s\",\"70s\",\"70s\",\"70s\",\"70s\",\"70s\",\"70s\",\"70s\",\"70s\",\"70s\",\"70s\",\"80s\",\"80s\",\"80s\",\"80s\",\"80s\",\"80s\",\"80s\",\"80s\",\"80s\",\"80s\",\"80s\",\"80s\",\"80s\",\"80s\",\"80s\",\"80s\",\"80s\",\"80s\",\"80s\",\"80s\",\"80s\",\"80s\",\"80s\",\"80s\",\"80s\",\"80s\",\"80s\",\"80s\",\"80s\",\"80s\",\"80s\",\"80s\",\"80s\",\"80s\",\"80s\",\"80s\",\"80s\",\"80s\",\"80s\",\"80s\",\"80s\",\"80s\",\"80s\",\"80s\",\"80s\",\"80s\",\"80s\",\"80s\",\"80s\",\"80s\",\"80s\",\"80s\",\"80s\",\"80s\",\"80s\",\"80s\",\"90s\",\"90s\",\"90s\",\"90s\",\"90s\",\"90s\",\"90s\",\"90s\",\"90s\",\"90s\",\"90s\",\"90s\",\"90s\",\"90s\",\"90s\",\"90s\"],\"xaxis\":\"x2\",\"yaxis\":\"y2\"},{\"alignmentgroup\":\"True\",\"bingroup\":\"x\",\"hovertemplate\":\"sex=female<br>age=%{x}<br>count=%{y}<extra></extra>\",\"legendgroup\":\"female\",\"marker\":{\"color\":\"#E91E63\",\"pattern\":{\"shape\":\"\"}},\"name\":\"female\",\"offsetgroup\":\"female\",\"orientation\":\"v\",\"showlegend\":true,\"type\":\"histogram\",\"x\":[\"0s\",\"0s\",\"0s\",\"0s\",\"0s\",\"0s\",\"0s\",\"0s\",\"0s\",\"0s\",\"0s\",\"0s\",\"0s\",\"0s\",\"0s\",\"0s\",\"0s\",\"0s\",\"0s\",\"0s\",\"0s\",\"0s\",\"0s\",\"0s\",\"0s\",\"0s\",\"0s\",\"0s\",\"100s\",\"10s\",\"10s\",\"10s\",\"10s\",\"10s\",\"10s\",\"10s\",\"10s\",\"10s\",\"10s\",\"10s\",\"10s\",\"10s\",\"10s\",\"10s\",\"10s\",\"10s\",\"10s\",\"10s\",\"10s\",\"10s\",\"10s\",\"10s\",\"10s\",\"10s\",\"10s\",\"10s\",\"10s\",\"10s\",\"10s\",\"10s\",\"10s\",\"10s\",\"10s\",\"10s\",\"10s\",\"10s\",\"10s\",\"10s\",\"10s\",\"10s\",\"10s\",\"10s\",\"10s\",\"10s\",\"10s\",\"10s\",\"10s\",\"10s\",\"10s\",\"10s\",\"10s\",\"10s\",\"10s\",\"10s\",\"10s\",\"10s\",\"10s\",\"10s\",\"10s\",\"10s\",\"10s\",\"10s\",\"10s\",\"10s\",\"10s\",\"10s\",\"10s\",\"20s\",\"20s\",\"20s\",\"20s\",\"20s\",\"20s\",\"20s\",\"20s\",\"20s\",\"20s\",\"20s\",\"20s\",\"20s\",\"20s\",\"20s\",\"20s\",\"20s\",\"20s\",\"20s\",\"20s\",\"20s\",\"20s\",\"20s\",\"20s\",\"20s\",\"20s\",\"20s\",\"20s\",\"20s\",\"20s\",\"20s\",\"20s\",\"20s\",\"20s\",\"20s\",\"20s\",\"20s\",\"20s\",\"20s\",\"20s\",\"20s\",\"20s\",\"20s\",\"20s\",\"20s\",\"20s\",\"20s\",\"20s\",\"20s\",\"20s\",\"20s\",\"20s\",\"20s\",\"20s\",\"20s\",\"20s\",\"20s\",\"20s\",\"20s\",\"20s\",\"20s\",\"20s\",\"20s\",\"20s\",\"20s\",\"20s\",\"20s\",\"20s\",\"20s\",\"20s\",\"20s\",\"20s\",\"20s\",\"20s\",\"20s\",\"20s\",\"20s\",\"20s\",\"20s\",\"20s\",\"20s\",\"20s\",\"20s\",\"20s\",\"20s\",\"20s\",\"20s\",\"20s\",\"20s\",\"20s\",\"20s\",\"20s\",\"20s\",\"20s\",\"20s\",\"20s\",\"20s\",\"20s\",\"20s\",\"20s\",\"20s\",\"20s\",\"20s\",\"20s\",\"20s\",\"20s\",\"20s\",\"20s\",\"20s\",\"20s\",\"20s\",\"20s\",\"20s\",\"20s\",\"20s\",\"20s\",\"20s\",\"20s\",\"20s\",\"20s\",\"20s\",\"20s\",\"20s\",\"20s\",\"20s\",\"20s\",\"20s\",\"20s\",\"20s\",\"20s\",\"20s\",\"20s\",\"20s\",\"20s\",\"20s\",\"20s\",\"20s\",\"20s\",\"20s\",\"20s\",\"20s\",\"20s\",\"20s\",\"20s\",\"20s\",\"20s\",\"20s\",\"20s\",\"20s\",\"20s\",\"20s\",\"20s\",\"20s\",\"20s\",\"20s\",\"20s\",\"20s\",\"20s\",\"20s\",\"20s\",\"20s\",\"20s\",\"20s\",\"20s\",\"20s\",\"20s\",\"20s\",\"20s\",\"20s\",\"20s\",\"20s\",\"20s\",\"20s\",\"20s\",\"20s\",\"20s\",\"20s\",\"20s\",\"20s\",\"20s\",\"20s\",\"20s\",\"20s\",\"20s\",\"20s\",\"20s\",\"20s\",\"20s\",\"20s\",\"20s\",\"20s\",\"20s\",\"20s\",\"20s\",\"20s\",\"20s\",\"20s\",\"20s\",\"20s\",\"20s\",\"20s\",\"20s\",\"20s\",\"20s\",\"20s\",\"20s\",\"20s\",\"20s\",\"20s\",\"20s\",\"20s\",\"20s\",\"20s\",\"20s\",\"20s\",\"20s\",\"20s\",\"20s\",\"20s\",\"20s\",\"20s\",\"20s\",\"20s\",\"20s\",\"20s\",\"20s\",\"20s\",\"20s\",\"20s\",\"20s\",\"20s\",\"20s\",\"20s\",\"20s\",\"20s\",\"20s\",\"20s\",\"20s\",\"20s\",\"20s\",\"20s\",\"20s\",\"20s\",\"20s\",\"20s\",\"20s\",\"20s\",\"20s\",\"20s\",\"20s\",\"20s\",\"20s\",\"20s\",\"20s\",\"20s\",\"20s\",\"20s\",\"20s\",\"20s\",\"20s\",\"20s\",\"20s\",\"20s\",\"20s\",\"20s\",\"20s\",\"20s\",\"20s\",\"20s\",\"20s\",\"20s\",\"20s\",\"20s\",\"20s\",\"20s\",\"20s\",\"20s\",\"20s\",\"20s\",\"20s\",\"20s\",\"20s\",\"20s\",\"20s\",\"20s\",\"20s\",\"20s\",\"20s\",\"20s\",\"20s\",\"20s\",\"20s\",\"20s\",\"20s\",\"20s\",\"20s\",\"20s\",\"20s\",\"20s\",\"20s\",\"20s\",\"20s\",\"20s\",\"20s\",\"20s\",\"20s\",\"20s\",\"20s\",\"20s\",\"20s\",\"20s\",\"20s\",\"20s\",\"20s\",\"20s\",\"20s\",\"20s\",\"20s\",\"20s\",\"20s\",\"20s\",\"20s\",\"20s\",\"20s\",\"20s\",\"20s\",\"20s\",\"20s\",\"20s\",\"20s\",\"20s\",\"20s\",\"20s\",\"20s\",\"20s\",\"20s\",\"20s\",\"20s\",\"20s\",\"20s\",\"20s\",\"20s\",\"20s\",\"20s\",\"20s\",\"20s\",\"20s\",\"20s\",\"20s\",\"20s\",\"20s\",\"20s\",\"20s\",\"20s\",\"20s\",\"20s\",\"20s\",\"20s\",\"20s\",\"20s\",\"20s\",\"20s\",\"20s\",\"20s\",\"20s\",\"20s\",\"20s\",\"20s\",\"20s\",\"20s\",\"20s\",\"20s\",\"20s\",\"20s\",\"20s\",\"20s\",\"20s\",\"20s\",\"20s\",\"20s\",\"20s\",\"20s\",\"20s\",\"20s\",\"20s\",\"20s\",\"20s\",\"20s\",\"20s\",\"20s\",\"20s\",\"20s\",\"20s\",\"20s\",\"20s\",\"20s\",\"20s\",\"20s\",\"20s\",\"20s\",\"20s\",\"20s\",\"20s\",\"20s\",\"20s\",\"20s\",\"20s\",\"20s\",\"20s\",\"20s\",\"20s\",\"20s\",\"20s\",\"20s\",\"20s\",\"20s\",\"20s\",\"20s\",\"20s\",\"20s\",\"20s\",\"20s\",\"20s\",\"20s\",\"20s\",\"20s\",\"20s\",\"20s\",\"20s\",\"20s\",\"20s\",\"20s\",\"20s\",\"20s\",\"20s\",\"20s\",\"20s\",\"20s\",\"20s\",\"20s\",\"20s\",\"20s\",\"20s\",\"20s\",\"20s\",\"20s\",\"20s\",\"20s\",\"20s\",\"20s\",\"20s\",\"20s\",\"20s\",\"20s\",\"20s\",\"20s\",\"20s\",\"30s\",\"30s\",\"30s\",\"30s\",\"30s\",\"30s\",\"30s\",\"30s\",\"30s\",\"30s\",\"30s\",\"30s\",\"30s\",\"30s\",\"30s\",\"30s\",\"30s\",\"30s\",\"30s\",\"30s\",\"30s\",\"30s\",\"30s\",\"30s\",\"30s\",\"30s\",\"30s\",\"30s\",\"30s\",\"30s\",\"30s\",\"30s\",\"30s\",\"30s\",\"30s\",\"30s\",\"30s\",\"30s\",\"30s\",\"30s\",\"30s\",\"30s\",\"30s\",\"30s\",\"30s\",\"30s\",\"30s\",\"30s\",\"30s\",\"30s\",\"30s\",\"30s\",\"30s\",\"30s\",\"30s\",\"30s\",\"30s\",\"30s\",\"30s\",\"30s\",\"30s\",\"30s\",\"30s\",\"30s\",\"30s\",\"30s\",\"30s\",\"30s\",\"30s\",\"30s\",\"30s\",\"30s\",\"30s\",\"30s\",\"30s\",\"30s\",\"30s\",\"30s\",\"30s\",\"30s\",\"30s\",\"30s\",\"30s\",\"30s\",\"30s\",\"30s\",\"30s\",\"30s\",\"30s\",\"30s\",\"30s\",\"30s\",\"30s\",\"30s\",\"30s\",\"30s\",\"30s\",\"30s\",\"30s\",\"30s\",\"30s\",\"30s\",\"30s\",\"30s\",\"30s\",\"30s\",\"30s\",\"30s\",\"30s\",\"30s\",\"30s\",\"30s\",\"30s\",\"30s\",\"30s\",\"30s\",\"30s\",\"30s\",\"30s\",\"30s\",\"30s\",\"30s\",\"30s\",\"30s\",\"30s\",\"30s\",\"30s\",\"30s\",\"30s\",\"30s\",\"30s\",\"30s\",\"30s\",\"30s\",\"30s\",\"30s\",\"30s\",\"30s\",\"30s\",\"30s\",\"30s\",\"30s\",\"30s\",\"30s\",\"30s\",\"30s\",\"30s\",\"30s\",\"30s\",\"30s\",\"30s\",\"30s\",\"30s\",\"30s\",\"30s\",\"30s\",\"30s\",\"30s\",\"30s\",\"30s\",\"30s\",\"30s\",\"30s\",\"30s\",\"30s\",\"30s\",\"30s\",\"30s\",\"30s\",\"30s\",\"30s\",\"30s\",\"30s\",\"30s\",\"30s\",\"30s\",\"30s\",\"30s\",\"30s\",\"30s\",\"30s\",\"30s\",\"30s\",\"30s\",\"30s\",\"30s\",\"30s\",\"30s\",\"30s\",\"30s\",\"30s\",\"30s\",\"30s\",\"30s\",\"30s\",\"30s\",\"30s\",\"30s\",\"30s\",\"30s\",\"30s\",\"30s\",\"30s\",\"30s\",\"30s\",\"30s\",\"30s\",\"30s\",\"30s\",\"30s\",\"30s\",\"30s\",\"30s\",\"30s\",\"30s\",\"30s\",\"30s\",\"30s\",\"30s\",\"30s\",\"30s\",\"30s\",\"30s\",\"30s\",\"30s\",\"30s\",\"30s\",\"30s\",\"30s\",\"30s\",\"30s\",\"30s\",\"30s\",\"30s\",\"30s\",\"30s\",\"30s\",\"30s\",\"30s\",\"30s\",\"30s\",\"30s\",\"40s\",\"40s\",\"40s\",\"40s\",\"40s\",\"40s\",\"40s\",\"40s\",\"40s\",\"40s\",\"40s\",\"40s\",\"40s\",\"40s\",\"40s\",\"40s\",\"40s\",\"40s\",\"40s\",\"40s\",\"40s\",\"40s\",\"40s\",\"40s\",\"40s\",\"40s\",\"40s\",\"40s\",\"40s\",\"40s\",\"40s\",\"40s\",\"40s\",\"40s\",\"40s\",\"40s\",\"40s\",\"40s\",\"40s\",\"40s\",\"40s\",\"40s\",\"40s\",\"40s\",\"40s\",\"40s\",\"40s\",\"40s\",\"40s\",\"40s\",\"40s\",\"40s\",\"40s\",\"40s\",\"40s\",\"40s\",\"40s\",\"40s\",\"40s\",\"40s\",\"40s\",\"40s\",\"40s\",\"40s\",\"40s\",\"40s\",\"40s\",\"40s\",\"40s\",\"40s\",\"40s\",\"40s\",\"40s\",\"40s\",\"40s\",\"40s\",\"40s\",\"40s\",\"40s\",\"40s\",\"40s\",\"40s\",\"40s\",\"40s\",\"40s\",\"40s\",\"40s\",\"40s\",\"40s\",\"40s\",\"40s\",\"40s\",\"40s\",\"40s\",\"40s\",\"40s\",\"40s\",\"40s\",\"40s\",\"40s\",\"40s\",\"40s\",\"40s\",\"40s\",\"40s\",\"40s\",\"40s\",\"40s\",\"40s\",\"40s\",\"40s\",\"40s\",\"40s\",\"40s\",\"40s\",\"40s\",\"40s\",\"40s\",\"40s\",\"40s\",\"40s\",\"40s\",\"40s\",\"40s\",\"40s\",\"40s\",\"40s\",\"40s\",\"40s\",\"40s\",\"40s\",\"40s\",\"40s\",\"40s\",\"40s\",\"40s\",\"40s\",\"40s\",\"40s\",\"40s\",\"40s\",\"40s\",\"40s\",\"40s\",\"40s\",\"40s\",\"40s\",\"40s\",\"40s\",\"40s\",\"40s\",\"40s\",\"40s\",\"40s\",\"40s\",\"40s\",\"40s\",\"40s\",\"40s\",\"40s\",\"40s\",\"40s\",\"40s\",\"40s\",\"40s\",\"40s\",\"40s\",\"40s\",\"40s\",\"40s\",\"40s\",\"40s\",\"40s\",\"40s\",\"40s\",\"40s\",\"40s\",\"40s\",\"40s\",\"40s\",\"40s\",\"40s\",\"40s\",\"40s\",\"40s\",\"40s\",\"40s\",\"40s\",\"40s\",\"40s\",\"40s\",\"40s\",\"40s\",\"40s\",\"40s\",\"40s\",\"40s\",\"40s\",\"40s\",\"40s\",\"40s\",\"40s\",\"40s\",\"40s\",\"40s\",\"40s\",\"40s\",\"40s\",\"40s\",\"40s\",\"40s\",\"40s\",\"40s\",\"40s\",\"40s\",\"40s\",\"40s\",\"40s\",\"40s\",\"40s\",\"40s\",\"40s\",\"40s\",\"40s\",\"40s\",\"40s\",\"40s\",\"40s\",\"40s\",\"40s\",\"40s\",\"40s\",\"40s\",\"40s\",\"40s\",\"40s\",\"40s\",\"40s\",\"40s\",\"40s\",\"40s\",\"40s\",\"40s\",\"40s\",\"40s\",\"40s\",\"40s\",\"40s\",\"40s\",\"40s\",\"40s\",\"40s\",\"40s\",\"40s\",\"40s\",\"40s\",\"40s\",\"40s\",\"40s\",\"40s\",\"40s\",\"40s\",\"40s\",\"40s\",\"40s\",\"40s\",\"40s\",\"40s\",\"40s\",\"40s\",\"40s\",\"40s\",\"40s\",\"40s\",\"40s\",\"40s\",\"40s\",\"40s\",\"40s\",\"40s\",\"40s\",\"40s\",\"40s\",\"40s\",\"40s\",\"40s\",\"40s\",\"40s\",\"40s\",\"40s\",\"40s\",\"40s\",\"40s\",\"40s\",\"40s\",\"40s\",\"40s\",\"40s\",\"40s\",\"40s\",\"40s\",\"40s\",\"40s\",\"40s\",\"40s\",\"40s\",\"40s\",\"50s\",\"50s\",\"50s\",\"50s\",\"50s\",\"50s\",\"50s\",\"50s\",\"50s\",\"50s\",\"50s\",\"50s\",\"50s\",\"50s\",\"50s\",\"50s\",\"50s\",\"50s\",\"50s\",\"50s\",\"50s\",\"50s\",\"50s\",\"50s\",\"50s\",\"50s\",\"50s\",\"50s\",\"50s\",\"50s\",\"50s\",\"50s\",\"50s\",\"50s\",\"50s\",\"50s\",\"50s\",\"50s\",\"50s\",\"50s\",\"50s\",\"50s\",\"50s\",\"50s\",\"50s\",\"50s\",\"50s\",\"50s\",\"50s\",\"50s\",\"50s\",\"50s\",\"50s\",\"50s\",\"50s\",\"50s\",\"50s\",\"50s\",\"50s\",\"50s\",\"50s\",\"50s\",\"50s\",\"50s\",\"50s\",\"50s\",\"50s\",\"50s\",\"50s\",\"50s\",\"50s\",\"50s\",\"50s\",\"50s\",\"50s\",\"50s\",\"50s\",\"50s\",\"50s\",\"50s\",\"50s\",\"50s\",\"50s\",\"50s\",\"50s\",\"50s\",\"50s\",\"50s\",\"50s\",\"50s\",\"50s\",\"50s\",\"50s\",\"50s\",\"50s\",\"50s\",\"50s\",\"50s\",\"50s\",\"50s\",\"50s\",\"50s\",\"50s\",\"50s\",\"50s\",\"50s\",\"50s\",\"50s\",\"50s\",\"50s\",\"50s\",\"50s\",\"50s\",\"50s\",\"50s\",\"50s\",\"50s\",\"50s\",\"50s\",\"50s\",\"50s\",\"50s\",\"50s\",\"50s\",\"50s\",\"50s\",\"50s\",\"50s\",\"50s\",\"50s\",\"50s\",\"50s\",\"50s\",\"50s\",\"50s\",\"50s\",\"50s\",\"50s\",\"50s\",\"50s\",\"50s\",\"50s\",\"50s\",\"50s\",\"50s\",\"50s\",\"50s\",\"50s\",\"50s\",\"50s\",\"50s\",\"50s\",\"50s\",\"50s\",\"50s\",\"50s\",\"50s\",\"50s\",\"50s\",\"50s\",\"50s\",\"50s\",\"50s\",\"50s\",\"50s\",\"50s\",\"50s\",\"50s\",\"50s\",\"50s\",\"50s\",\"50s\",\"50s\",\"50s\",\"50s\",\"50s\",\"50s\",\"50s\",\"50s\",\"50s\",\"50s\",\"50s\",\"50s\",\"50s\",\"50s\",\"50s\",\"50s\",\"50s\",\"50s\",\"50s\",\"50s\",\"50s\",\"50s\",\"50s\",\"50s\",\"50s\",\"50s\",\"50s\",\"50s\",\"50s\",\"50s\",\"50s\",\"50s\",\"50s\",\"50s\",\"50s\",\"50s\",\"50s\",\"50s\",\"50s\",\"50s\",\"50s\",\"50s\",\"50s\",\"50s\",\"50s\",\"50s\",\"50s\",\"50s\",\"50s\",\"50s\",\"50s\",\"50s\",\"50s\",\"50s\",\"50s\",\"50s\",\"50s\",\"50s\",\"50s\",\"50s\",\"50s\",\"50s\",\"50s\",\"50s\",\"50s\",\"50s\",\"50s\",\"50s\",\"50s\",\"50s\",\"50s\",\"50s\",\"50s\",\"50s\",\"50s\",\"50s\",\"50s\",\"50s\",\"50s\",\"50s\",\"50s\",\"50s\",\"50s\",\"50s\",\"50s\",\"50s\",\"50s\",\"50s\",\"50s\",\"50s\",\"50s\",\"50s\",\"50s\",\"50s\",\"50s\",\"50s\",\"50s\",\"50s\",\"50s\",\"50s\",\"50s\",\"50s\",\"50s\",\"50s\",\"50s\",\"50s\",\"50s\",\"50s\",\"50s\",\"50s\",\"50s\",\"50s\",\"50s\",\"50s\",\"50s\",\"50s\",\"50s\",\"50s\",\"50s\",\"50s\",\"50s\",\"50s\",\"50s\",\"50s\",\"50s\",\"50s\",\"50s\",\"50s\",\"50s\",\"50s\",\"50s\",\"50s\",\"50s\",\"50s\",\"50s\",\"50s\",\"50s\",\"50s\",\"50s\",\"50s\",\"50s\",\"50s\",\"50s\",\"50s\",\"50s\",\"50s\",\"50s\",\"50s\",\"50s\",\"50s\",\"50s\",\"50s\",\"50s\",\"50s\",\"50s\",\"50s\",\"50s\",\"50s\",\"50s\",\"50s\",\"50s\",\"50s\",\"50s\",\"50s\",\"50s\",\"50s\",\"50s\",\"50s\",\"50s\",\"50s\",\"50s\",\"50s\",\"50s\",\"50s\",\"50s\",\"50s\",\"50s\",\"50s\",\"50s\",\"50s\",\"50s\",\"50s\",\"50s\",\"50s\",\"50s\",\"50s\",\"50s\",\"50s\",\"50s\",\"50s\",\"50s\",\"50s\",\"50s\",\"50s\",\"50s\",\"50s\",\"50s\",\"50s\",\"50s\",\"50s\",\"50s\",\"50s\",\"50s\",\"50s\",\"50s\",\"50s\",\"50s\",\"50s\",\"50s\",\"50s\",\"50s\",\"50s\",\"50s\",\"50s\",\"50s\",\"50s\",\"50s\",\"50s\",\"50s\",\"50s\",\"50s\",\"50s\",\"50s\",\"50s\",\"50s\",\"50s\",\"50s\",\"50s\",\"50s\",\"50s\",\"50s\",\"50s\",\"50s\",\"60s\",\"60s\",\"60s\",\"60s\",\"60s\",\"60s\",\"60s\",\"60s\",\"60s\",\"60s\",\"60s\",\"60s\",\"60s\",\"60s\",\"60s\",\"60s\",\"60s\",\"60s\",\"60s\",\"60s\",\"60s\",\"60s\",\"60s\",\"60s\",\"60s\",\"60s\",\"60s\",\"60s\",\"60s\",\"60s\",\"60s\",\"60s\",\"60s\",\"60s\",\"60s\",\"60s\",\"60s\",\"60s\",\"60s\",\"60s\",\"60s\",\"60s\",\"60s\",\"60s\",\"60s\",\"60s\",\"60s\",\"60s\",\"60s\",\"60s\",\"60s\",\"60s\",\"60s\",\"60s\",\"60s\",\"60s\",\"60s\",\"60s\",\"60s\",\"60s\",\"60s\",\"60s\",\"60s\",\"60s\",\"60s\",\"60s\",\"60s\",\"60s\",\"60s\",\"60s\",\"60s\",\"60s\",\"60s\",\"60s\",\"60s\",\"60s\",\"60s\",\"60s\",\"60s\",\"60s\",\"60s\",\"60s\",\"60s\",\"60s\",\"60s\",\"60s\",\"60s\",\"60s\",\"60s\",\"60s\",\"60s\",\"60s\",\"60s\",\"60s\",\"60s\",\"60s\",\"60s\",\"60s\",\"60s\",\"60s\",\"60s\",\"60s\",\"60s\",\"60s\",\"60s\",\"60s\",\"60s\",\"60s\",\"60s\",\"60s\",\"60s\",\"60s\",\"60s\",\"60s\",\"60s\",\"60s\",\"60s\",\"60s\",\"60s\",\"60s\",\"60s\",\"60s\",\"60s\",\"60s\",\"60s\",\"60s\",\"60s\",\"60s\",\"60s\",\"60s\",\"60s\",\"60s\",\"60s\",\"60s\",\"60s\",\"60s\",\"60s\",\"60s\",\"60s\",\"60s\",\"60s\",\"60s\",\"60s\",\"60s\",\"60s\",\"60s\",\"60s\",\"60s\",\"60s\",\"60s\",\"60s\",\"60s\",\"60s\",\"60s\",\"60s\",\"60s\",\"60s\",\"60s\",\"60s\",\"60s\",\"60s\",\"60s\",\"60s\",\"60s\",\"60s\",\"60s\",\"60s\",\"60s\",\"60s\",\"60s\",\"60s\",\"60s\",\"60s\",\"60s\",\"60s\",\"60s\",\"60s\",\"60s\",\"60s\",\"60s\",\"60s\",\"60s\",\"60s\",\"60s\",\"60s\",\"60s\",\"60s\",\"60s\",\"60s\",\"60s\",\"60s\",\"60s\",\"60s\",\"60s\",\"60s\",\"60s\",\"60s\",\"60s\",\"60s\",\"60s\",\"60s\",\"60s\",\"60s\",\"60s\",\"60s\",\"60s\",\"60s\",\"60s\",\"60s\",\"60s\",\"60s\",\"60s\",\"60s\",\"60s\",\"60s\",\"60s\",\"60s\",\"60s\",\"60s\",\"60s\",\"60s\",\"60s\",\"60s\",\"60s\",\"60s\",\"60s\",\"60s\",\"60s\",\"60s\",\"60s\",\"60s\",\"60s\",\"60s\",\"60s\",\"60s\",\"60s\",\"60s\",\"60s\",\"60s\",\"60s\",\"60s\",\"60s\",\"60s\",\"60s\",\"60s\",\"60s\",\"60s\",\"60s\",\"60s\",\"60s\",\"60s\",\"60s\",\"60s\",\"60s\",\"60s\",\"60s\",\"60s\",\"60s\",\"60s\",\"60s\",\"60s\",\"60s\",\"60s\",\"60s\",\"60s\",\"60s\",\"60s\",\"60s\",\"60s\",\"60s\",\"70s\",\"70s\",\"70s\",\"70s\",\"70s\",\"70s\",\"70s\",\"70s\",\"70s\",\"70s\",\"70s\",\"70s\",\"70s\",\"70s\",\"70s\",\"70s\",\"70s\",\"70s\",\"70s\",\"70s\",\"70s\",\"70s\",\"70s\",\"70s\",\"70s\",\"70s\",\"70s\",\"70s\",\"70s\",\"70s\",\"70s\",\"70s\",\"70s\",\"70s\",\"70s\",\"70s\",\"70s\",\"70s\",\"70s\",\"70s\",\"70s\",\"70s\",\"70s\",\"70s\",\"70s\",\"70s\",\"70s\",\"70s\",\"70s\",\"70s\",\"70s\",\"70s\",\"70s\",\"70s\",\"70s\",\"70s\",\"70s\",\"70s\",\"70s\",\"70s\",\"70s\",\"70s\",\"70s\",\"70s\",\"70s\",\"70s\",\"70s\",\"70s\",\"70s\",\"70s\",\"70s\",\"70s\",\"70s\",\"70s\",\"70s\",\"70s\",\"70s\",\"70s\",\"70s\",\"70s\",\"70s\",\"70s\",\"70s\",\"70s\",\"70s\",\"70s\",\"70s\",\"70s\",\"70s\",\"70s\",\"70s\",\"70s\",\"70s\",\"70s\",\"70s\",\"70s\",\"70s\",\"70s\",\"70s\",\"70s\",\"70s\",\"70s\",\"70s\",\"70s\",\"70s\",\"70s\",\"70s\",\"70s\",\"70s\",\"70s\",\"70s\",\"70s\",\"70s\",\"70s\",\"70s\",\"70s\",\"70s\",\"70s\",\"70s\",\"70s\",\"70s\",\"70s\",\"70s\",\"70s\",\"70s\",\"70s\",\"70s\",\"70s\",\"70s\",\"70s\",\"70s\",\"70s\",\"70s\",\"70s\",\"70s\",\"70s\",\"70s\",\"70s\",\"70s\",\"70s\",\"70s\",\"70s\",\"70s\",\"70s\",\"80s\",\"80s\",\"80s\",\"80s\",\"80s\",\"80s\",\"80s\",\"80s\",\"80s\",\"80s\",\"80s\",\"80s\",\"80s\",\"80s\",\"80s\",\"80s\",\"80s\",\"80s\",\"80s\",\"80s\",\"80s\",\"80s\",\"80s\",\"80s\",\"80s\",\"80s\",\"80s\",\"80s\",\"80s\",\"80s\",\"80s\",\"80s\",\"80s\",\"80s\",\"80s\",\"80s\",\"80s\",\"80s\",\"80s\",\"80s\",\"80s\",\"80s\",\"80s\",\"80s\",\"80s\",\"80s\",\"80s\",\"80s\",\"80s\",\"80s\",\"80s\",\"80s\",\"80s\",\"80s\",\"80s\",\"80s\",\"80s\",\"80s\",\"80s\",\"80s\",\"80s\",\"80s\",\"80s\",\"80s\",\"80s\",\"80s\",\"80s\",\"80s\",\"80s\",\"80s\",\"80s\",\"80s\",\"80s\",\"80s\",\"80s\",\"80s\",\"80s\",\"80s\",\"80s\",\"80s\",\"80s\",\"80s\",\"80s\",\"80s\",\"80s\",\"80s\",\"80s\",\"80s\",\"80s\",\"80s\",\"80s\",\"80s\",\"80s\",\"80s\",\"80s\",\"80s\",\"80s\",\"80s\",\"80s\",\"80s\",\"80s\",\"80s\",\"80s\",\"80s\",\"80s\",\"80s\",\"80s\",\"80s\",\"80s\",\"80s\",\"80s\",\"80s\",\"80s\",\"80s\",\"90s\",\"90s\",\"90s\",\"90s\",\"90s\",\"90s\",\"90s\",\"90s\",\"90s\",\"90s\",\"90s\",\"90s\",\"90s\",\"90s\",\"90s\",\"90s\",\"90s\",\"90s\",\"90s\",\"90s\",\"90s\",\"90s\",\"90s\",\"90s\",\"90s\",\"90s\",\"90s\",\"90s\",\"90s\",\"90s\",\"90s\",\"90s\",\"90s\"],\"xaxis\":\"x\",\"yaxis\":\"y\"},{\"alignmentgroup\":\"True\",\"hovertemplate\":\"sex=female<br>age=%{x}<extra></extra>\",\"legendgroup\":\"female\",\"marker\":{\"color\":\"#E91E63\"},\"name\":\"female\",\"offsetgroup\":\"female\",\"scalegroup\":\"x\",\"showlegend\":false,\"type\":\"violin\",\"x\":[\"0s\",\"0s\",\"0s\",\"0s\",\"0s\",\"0s\",\"0s\",\"0s\",\"0s\",\"0s\",\"0s\",\"0s\",\"0s\",\"0s\",\"0s\",\"0s\",\"0s\",\"0s\",\"0s\",\"0s\",\"0s\",\"0s\",\"0s\",\"0s\",\"0s\",\"0s\",\"0s\",\"0s\",\"100s\",\"10s\",\"10s\",\"10s\",\"10s\",\"10s\",\"10s\",\"10s\",\"10s\",\"10s\",\"10s\",\"10s\",\"10s\",\"10s\",\"10s\",\"10s\",\"10s\",\"10s\",\"10s\",\"10s\",\"10s\",\"10s\",\"10s\",\"10s\",\"10s\",\"10s\",\"10s\",\"10s\",\"10s\",\"10s\",\"10s\",\"10s\",\"10s\",\"10s\",\"10s\",\"10s\",\"10s\",\"10s\",\"10s\",\"10s\",\"10s\",\"10s\",\"10s\",\"10s\",\"10s\",\"10s\",\"10s\",\"10s\",\"10s\",\"10s\",\"10s\",\"10s\",\"10s\",\"10s\",\"10s\",\"10s\",\"10s\",\"10s\",\"10s\",\"10s\",\"10s\",\"10s\",\"10s\",\"10s\",\"10s\",\"10s\",\"10s\",\"10s\",\"10s\",\"20s\",\"20s\",\"20s\",\"20s\",\"20s\",\"20s\",\"20s\",\"20s\",\"20s\",\"20s\",\"20s\",\"20s\",\"20s\",\"20s\",\"20s\",\"20s\",\"20s\",\"20s\",\"20s\",\"20s\",\"20s\",\"20s\",\"20s\",\"20s\",\"20s\",\"20s\",\"20s\",\"20s\",\"20s\",\"20s\",\"20s\",\"20s\",\"20s\",\"20s\",\"20s\",\"20s\",\"20s\",\"20s\",\"20s\",\"20s\",\"20s\",\"20s\",\"20s\",\"20s\",\"20s\",\"20s\",\"20s\",\"20s\",\"20s\",\"20s\",\"20s\",\"20s\",\"20s\",\"20s\",\"20s\",\"20s\",\"20s\",\"20s\",\"20s\",\"20s\",\"20s\",\"20s\",\"20s\",\"20s\",\"20s\",\"20s\",\"20s\",\"20s\",\"20s\",\"20s\",\"20s\",\"20s\",\"20s\",\"20s\",\"20s\",\"20s\",\"20s\",\"20s\",\"20s\",\"20s\",\"20s\",\"20s\",\"20s\",\"20s\",\"20s\",\"20s\",\"20s\",\"20s\",\"20s\",\"20s\",\"20s\",\"20s\",\"20s\",\"20s\",\"20s\",\"20s\",\"20s\",\"20s\",\"20s\",\"20s\",\"20s\",\"20s\",\"20s\",\"20s\",\"20s\",\"20s\",\"20s\",\"20s\",\"20s\",\"20s\",\"20s\",\"20s\",\"20s\",\"20s\",\"20s\",\"20s\",\"20s\",\"20s\",\"20s\",\"20s\",\"20s\",\"20s\",\"20s\",\"20s\",\"20s\",\"20s\",\"20s\",\"20s\",\"20s\",\"20s\",\"20s\",\"20s\",\"20s\",\"20s\",\"20s\",\"20s\",\"20s\",\"20s\",\"20s\",\"20s\",\"20s\",\"20s\",\"20s\",\"20s\",\"20s\",\"20s\",\"20s\",\"20s\",\"20s\",\"20s\",\"20s\",\"20s\",\"20s\",\"20s\",\"20s\",\"20s\",\"20s\",\"20s\",\"20s\",\"20s\",\"20s\",\"20s\",\"20s\",\"20s\",\"20s\",\"20s\",\"20s\",\"20s\",\"20s\",\"20s\",\"20s\",\"20s\",\"20s\",\"20s\",\"20s\",\"20s\",\"20s\",\"20s\",\"20s\",\"20s\",\"20s\",\"20s\",\"20s\",\"20s\",\"20s\",\"20s\",\"20s\",\"20s\",\"20s\",\"20s\",\"20s\",\"20s\",\"20s\",\"20s\",\"20s\",\"20s\",\"20s\",\"20s\",\"20s\",\"20s\",\"20s\",\"20s\",\"20s\",\"20s\",\"20s\",\"20s\",\"20s\",\"20s\",\"20s\",\"20s\",\"20s\",\"20s\",\"20s\",\"20s\",\"20s\",\"20s\",\"20s\",\"20s\",\"20s\",\"20s\",\"20s\",\"20s\",\"20s\",\"20s\",\"20s\",\"20s\",\"20s\",\"20s\",\"20s\",\"20s\",\"20s\",\"20s\",\"20s\",\"20s\",\"20s\",\"20s\",\"20s\",\"20s\",\"20s\",\"20s\",\"20s\",\"20s\",\"20s\",\"20s\",\"20s\",\"20s\",\"20s\",\"20s\",\"20s\",\"20s\",\"20s\",\"20s\",\"20s\",\"20s\",\"20s\",\"20s\",\"20s\",\"20s\",\"20s\",\"20s\",\"20s\",\"20s\",\"20s\",\"20s\",\"20s\",\"20s\",\"20s\",\"20s\",\"20s\",\"20s\",\"20s\",\"20s\",\"20s\",\"20s\",\"20s\",\"20s\",\"20s\",\"20s\",\"20s\",\"20s\",\"20s\",\"20s\",\"20s\",\"20s\",\"20s\",\"20s\",\"20s\",\"20s\",\"20s\",\"20s\",\"20s\",\"20s\",\"20s\",\"20s\",\"20s\",\"20s\",\"20s\",\"20s\",\"20s\",\"20s\",\"20s\",\"20s\",\"20s\",\"20s\",\"20s\",\"20s\",\"20s\",\"20s\",\"20s\",\"20s\",\"20s\",\"20s\",\"20s\",\"20s\",\"20s\",\"20s\",\"20s\",\"20s\",\"20s\",\"20s\",\"20s\",\"20s\",\"20s\",\"20s\",\"20s\",\"20s\",\"20s\",\"20s\",\"20s\",\"20s\",\"20s\",\"20s\",\"20s\",\"20s\",\"20s\",\"20s\",\"20s\",\"20s\",\"20s\",\"20s\",\"20s\",\"20s\",\"20s\",\"20s\",\"20s\",\"20s\",\"20s\",\"20s\",\"20s\",\"20s\",\"20s\",\"20s\",\"20s\",\"20s\",\"20s\",\"20s\",\"20s\",\"20s\",\"20s\",\"20s\",\"20s\",\"20s\",\"20s\",\"20s\",\"20s\",\"20s\",\"20s\",\"20s\",\"20s\",\"20s\",\"20s\",\"20s\",\"20s\",\"20s\",\"20s\",\"20s\",\"20s\",\"20s\",\"20s\",\"20s\",\"20s\",\"20s\",\"20s\",\"20s\",\"20s\",\"20s\",\"20s\",\"20s\",\"20s\",\"20s\",\"20s\",\"20s\",\"20s\",\"20s\",\"20s\",\"20s\",\"20s\",\"20s\",\"20s\",\"20s\",\"20s\",\"20s\",\"20s\",\"20s\",\"20s\",\"20s\",\"20s\",\"20s\",\"20s\",\"20s\",\"20s\",\"20s\",\"20s\",\"20s\",\"20s\",\"20s\",\"20s\",\"20s\",\"20s\",\"20s\",\"20s\",\"20s\",\"20s\",\"20s\",\"20s\",\"20s\",\"20s\",\"20s\",\"20s\",\"20s\",\"20s\",\"20s\",\"20s\",\"20s\",\"20s\",\"20s\",\"20s\",\"20s\",\"20s\",\"20s\",\"20s\",\"20s\",\"20s\",\"20s\",\"20s\",\"20s\",\"20s\",\"20s\",\"20s\",\"20s\",\"20s\",\"20s\",\"20s\",\"20s\",\"20s\",\"20s\",\"20s\",\"30s\",\"30s\",\"30s\",\"30s\",\"30s\",\"30s\",\"30s\",\"30s\",\"30s\",\"30s\",\"30s\",\"30s\",\"30s\",\"30s\",\"30s\",\"30s\",\"30s\",\"30s\",\"30s\",\"30s\",\"30s\",\"30s\",\"30s\",\"30s\",\"30s\",\"30s\",\"30s\",\"30s\",\"30s\",\"30s\",\"30s\",\"30s\",\"30s\",\"30s\",\"30s\",\"30s\",\"30s\",\"30s\",\"30s\",\"30s\",\"30s\",\"30s\",\"30s\",\"30s\",\"30s\",\"30s\",\"30s\",\"30s\",\"30s\",\"30s\",\"30s\",\"30s\",\"30s\",\"30s\",\"30s\",\"30s\",\"30s\",\"30s\",\"30s\",\"30s\",\"30s\",\"30s\",\"30s\",\"30s\",\"30s\",\"30s\",\"30s\",\"30s\",\"30s\",\"30s\",\"30s\",\"30s\",\"30s\",\"30s\",\"30s\",\"30s\",\"30s\",\"30s\",\"30s\",\"30s\",\"30s\",\"30s\",\"30s\",\"30s\",\"30s\",\"30s\",\"30s\",\"30s\",\"30s\",\"30s\",\"30s\",\"30s\",\"30s\",\"30s\",\"30s\",\"30s\",\"30s\",\"30s\",\"30s\",\"30s\",\"30s\",\"30s\",\"30s\",\"30s\",\"30s\",\"30s\",\"30s\",\"30s\",\"30s\",\"30s\",\"30s\",\"30s\",\"30s\",\"30s\",\"30s\",\"30s\",\"30s\",\"30s\",\"30s\",\"30s\",\"30s\",\"30s\",\"30s\",\"30s\",\"30s\",\"30s\",\"30s\",\"30s\",\"30s\",\"30s\",\"30s\",\"30s\",\"30s\",\"30s\",\"30s\",\"30s\",\"30s\",\"30s\",\"30s\",\"30s\",\"30s\",\"30s\",\"30s\",\"30s\",\"30s\",\"30s\",\"30s\",\"30s\",\"30s\",\"30s\",\"30s\",\"30s\",\"30s\",\"30s\",\"30s\",\"30s\",\"30s\",\"30s\",\"30s\",\"30s\",\"30s\",\"30s\",\"30s\",\"30s\",\"30s\",\"30s\",\"30s\",\"30s\",\"30s\",\"30s\",\"30s\",\"30s\",\"30s\",\"30s\",\"30s\",\"30s\",\"30s\",\"30s\",\"30s\",\"30s\",\"30s\",\"30s\",\"30s\",\"30s\",\"30s\",\"30s\",\"30s\",\"30s\",\"30s\",\"30s\",\"30s\",\"30s\",\"30s\",\"30s\",\"30s\",\"30s\",\"30s\",\"30s\",\"30s\",\"30s\",\"30s\",\"30s\",\"30s\",\"30s\",\"30s\",\"30s\",\"30s\",\"30s\",\"30s\",\"30s\",\"30s\",\"30s\",\"30s\",\"30s\",\"30s\",\"30s\",\"30s\",\"30s\",\"30s\",\"30s\",\"30s\",\"30s\",\"30s\",\"30s\",\"30s\",\"30s\",\"30s\",\"30s\",\"30s\",\"30s\",\"30s\",\"30s\",\"30s\",\"30s\",\"30s\",\"30s\",\"30s\",\"30s\",\"30s\",\"30s\",\"30s\",\"30s\",\"40s\",\"40s\",\"40s\",\"40s\",\"40s\",\"40s\",\"40s\",\"40s\",\"40s\",\"40s\",\"40s\",\"40s\",\"40s\",\"40s\",\"40s\",\"40s\",\"40s\",\"40s\",\"40s\",\"40s\",\"40s\",\"40s\",\"40s\",\"40s\",\"40s\",\"40s\",\"40s\",\"40s\",\"40s\",\"40s\",\"40s\",\"40s\",\"40s\",\"40s\",\"40s\",\"40s\",\"40s\",\"40s\",\"40s\",\"40s\",\"40s\",\"40s\",\"40s\",\"40s\",\"40s\",\"40s\",\"40s\",\"40s\",\"40s\",\"40s\",\"40s\",\"40s\",\"40s\",\"40s\",\"40s\",\"40s\",\"40s\",\"40s\",\"40s\",\"40s\",\"40s\",\"40s\",\"40s\",\"40s\",\"40s\",\"40s\",\"40s\",\"40s\",\"40s\",\"40s\",\"40s\",\"40s\",\"40s\",\"40s\",\"40s\",\"40s\",\"40s\",\"40s\",\"40s\",\"40s\",\"40s\",\"40s\",\"40s\",\"40s\",\"40s\",\"40s\",\"40s\",\"40s\",\"40s\",\"40s\",\"40s\",\"40s\",\"40s\",\"40s\",\"40s\",\"40s\",\"40s\",\"40s\",\"40s\",\"40s\",\"40s\",\"40s\",\"40s\",\"40s\",\"40s\",\"40s\",\"40s\",\"40s\",\"40s\",\"40s\",\"40s\",\"40s\",\"40s\",\"40s\",\"40s\",\"40s\",\"40s\",\"40s\",\"40s\",\"40s\",\"40s\",\"40s\",\"40s\",\"40s\",\"40s\",\"40s\",\"40s\",\"40s\",\"40s\",\"40s\",\"40s\",\"40s\",\"40s\",\"40s\",\"40s\",\"40s\",\"40s\",\"40s\",\"40s\",\"40s\",\"40s\",\"40s\",\"40s\",\"40s\",\"40s\",\"40s\",\"40s\",\"40s\",\"40s\",\"40s\",\"40s\",\"40s\",\"40s\",\"40s\",\"40s\",\"40s\",\"40s\",\"40s\",\"40s\",\"40s\",\"40s\",\"40s\",\"40s\",\"40s\",\"40s\",\"40s\",\"40s\",\"40s\",\"40s\",\"40s\",\"40s\",\"40s\",\"40s\",\"40s\",\"40s\",\"40s\",\"40s\",\"40s\",\"40s\",\"40s\",\"40s\",\"40s\",\"40s\",\"40s\",\"40s\",\"40s\",\"40s\",\"40s\",\"40s\",\"40s\",\"40s\",\"40s\",\"40s\",\"40s\",\"40s\",\"40s\",\"40s\",\"40s\",\"40s\",\"40s\",\"40s\",\"40s\",\"40s\",\"40s\",\"40s\",\"40s\",\"40s\",\"40s\",\"40s\",\"40s\",\"40s\",\"40s\",\"40s\",\"40s\",\"40s\",\"40s\",\"40s\",\"40s\",\"40s\",\"40s\",\"40s\",\"40s\",\"40s\",\"40s\",\"40s\",\"40s\",\"40s\",\"40s\",\"40s\",\"40s\",\"40s\",\"40s\",\"40s\",\"40s\",\"40s\",\"40s\",\"40s\",\"40s\",\"40s\",\"40s\",\"40s\",\"40s\",\"40s\",\"40s\",\"40s\",\"40s\",\"40s\",\"40s\",\"40s\",\"40s\",\"40s\",\"40s\",\"40s\",\"40s\",\"40s\",\"40s\",\"40s\",\"40s\",\"40s\",\"40s\",\"40s\",\"40s\",\"40s\",\"40s\",\"40s\",\"40s\",\"40s\",\"40s\",\"40s\",\"40s\",\"40s\",\"40s\",\"40s\",\"40s\",\"40s\",\"40s\",\"40s\",\"40s\",\"40s\",\"40s\",\"40s\",\"40s\",\"40s\",\"40s\",\"40s\",\"40s\",\"40s\",\"40s\",\"40s\",\"40s\",\"40s\",\"40s\",\"40s\",\"40s\",\"40s\",\"40s\",\"40s\",\"40s\",\"40s\",\"40s\",\"40s\",\"40s\",\"40s\",\"40s\",\"40s\",\"40s\",\"40s\",\"50s\",\"50s\",\"50s\",\"50s\",\"50s\",\"50s\",\"50s\",\"50s\",\"50s\",\"50s\",\"50s\",\"50s\",\"50s\",\"50s\",\"50s\",\"50s\",\"50s\",\"50s\",\"50s\",\"50s\",\"50s\",\"50s\",\"50s\",\"50s\",\"50s\",\"50s\",\"50s\",\"50s\",\"50s\",\"50s\",\"50s\",\"50s\",\"50s\",\"50s\",\"50s\",\"50s\",\"50s\",\"50s\",\"50s\",\"50s\",\"50s\",\"50s\",\"50s\",\"50s\",\"50s\",\"50s\",\"50s\",\"50s\",\"50s\",\"50s\",\"50s\",\"50s\",\"50s\",\"50s\",\"50s\",\"50s\",\"50s\",\"50s\",\"50s\",\"50s\",\"50s\",\"50s\",\"50s\",\"50s\",\"50s\",\"50s\",\"50s\",\"50s\",\"50s\",\"50s\",\"50s\",\"50s\",\"50s\",\"50s\",\"50s\",\"50s\",\"50s\",\"50s\",\"50s\",\"50s\",\"50s\",\"50s\",\"50s\",\"50s\",\"50s\",\"50s\",\"50s\",\"50s\",\"50s\",\"50s\",\"50s\",\"50s\",\"50s\",\"50s\",\"50s\",\"50s\",\"50s\",\"50s\",\"50s\",\"50s\",\"50s\",\"50s\",\"50s\",\"50s\",\"50s\",\"50s\",\"50s\",\"50s\",\"50s\",\"50s\",\"50s\",\"50s\",\"50s\",\"50s\",\"50s\",\"50s\",\"50s\",\"50s\",\"50s\",\"50s\",\"50s\",\"50s\",\"50s\",\"50s\",\"50s\",\"50s\",\"50s\",\"50s\",\"50s\",\"50s\",\"50s\",\"50s\",\"50s\",\"50s\",\"50s\",\"50s\",\"50s\",\"50s\",\"50s\",\"50s\",\"50s\",\"50s\",\"50s\",\"50s\",\"50s\",\"50s\",\"50s\",\"50s\",\"50s\",\"50s\",\"50s\",\"50s\",\"50s\",\"50s\",\"50s\",\"50s\",\"50s\",\"50s\",\"50s\",\"50s\",\"50s\",\"50s\",\"50s\",\"50s\",\"50s\",\"50s\",\"50s\",\"50s\",\"50s\",\"50s\",\"50s\",\"50s\",\"50s\",\"50s\",\"50s\",\"50s\",\"50s\",\"50s\",\"50s\",\"50s\",\"50s\",\"50s\",\"50s\",\"50s\",\"50s\",\"50s\",\"50s\",\"50s\",\"50s\",\"50s\",\"50s\",\"50s\",\"50s\",\"50s\",\"50s\",\"50s\",\"50s\",\"50s\",\"50s\",\"50s\",\"50s\",\"50s\",\"50s\",\"50s\",\"50s\",\"50s\",\"50s\",\"50s\",\"50s\",\"50s\",\"50s\",\"50s\",\"50s\",\"50s\",\"50s\",\"50s\",\"50s\",\"50s\",\"50s\",\"50s\",\"50s\",\"50s\",\"50s\",\"50s\",\"50s\",\"50s\",\"50s\",\"50s\",\"50s\",\"50s\",\"50s\",\"50s\",\"50s\",\"50s\",\"50s\",\"50s\",\"50s\",\"50s\",\"50s\",\"50s\",\"50s\",\"50s\",\"50s\",\"50s\",\"50s\",\"50s\",\"50s\",\"50s\",\"50s\",\"50s\",\"50s\",\"50s\",\"50s\",\"50s\",\"50s\",\"50s\",\"50s\",\"50s\",\"50s\",\"50s\",\"50s\",\"50s\",\"50s\",\"50s\",\"50s\",\"50s\",\"50s\",\"50s\",\"50s\",\"50s\",\"50s\",\"50s\",\"50s\",\"50s\",\"50s\",\"50s\",\"50s\",\"50s\",\"50s\",\"50s\",\"50s\",\"50s\",\"50s\",\"50s\",\"50s\",\"50s\",\"50s\",\"50s\",\"50s\",\"50s\",\"50s\",\"50s\",\"50s\",\"50s\",\"50s\",\"50s\",\"50s\",\"50s\",\"50s\",\"50s\",\"50s\",\"50s\",\"50s\",\"50s\",\"50s\",\"50s\",\"50s\",\"50s\",\"50s\",\"50s\",\"50s\",\"50s\",\"50s\",\"50s\",\"50s\",\"50s\",\"50s\",\"50s\",\"50s\",\"50s\",\"50s\",\"50s\",\"50s\",\"50s\",\"50s\",\"50s\",\"50s\",\"50s\",\"50s\",\"50s\",\"50s\",\"50s\",\"50s\",\"50s\",\"50s\",\"50s\",\"50s\",\"50s\",\"50s\",\"50s\",\"50s\",\"50s\",\"50s\",\"50s\",\"50s\",\"50s\",\"50s\",\"50s\",\"50s\",\"50s\",\"50s\",\"50s\",\"50s\",\"50s\",\"50s\",\"50s\",\"50s\",\"50s\",\"50s\",\"50s\",\"50s\",\"50s\",\"50s\",\"50s\",\"50s\",\"50s\",\"50s\",\"50s\",\"50s\",\"50s\",\"50s\",\"50s\",\"50s\",\"50s\",\"50s\",\"50s\",\"50s\",\"50s\",\"50s\",\"50s\",\"50s\",\"50s\",\"50s\",\"50s\",\"50s\",\"50s\",\"50s\",\"50s\",\"50s\",\"50s\",\"50s\",\"50s\",\"50s\",\"50s\",\"50s\",\"50s\",\"50s\",\"50s\",\"50s\",\"50s\",\"50s\",\"50s\",\"50s\",\"50s\",\"60s\",\"60s\",\"60s\",\"60s\",\"60s\",\"60s\",\"60s\",\"60s\",\"60s\",\"60s\",\"60s\",\"60s\",\"60s\",\"60s\",\"60s\",\"60s\",\"60s\",\"60s\",\"60s\",\"60s\",\"60s\",\"60s\",\"60s\",\"60s\",\"60s\",\"60s\",\"60s\",\"60s\",\"60s\",\"60s\",\"60s\",\"60s\",\"60s\",\"60s\",\"60s\",\"60s\",\"60s\",\"60s\",\"60s\",\"60s\",\"60s\",\"60s\",\"60s\",\"60s\",\"60s\",\"60s\",\"60s\",\"60s\",\"60s\",\"60s\",\"60s\",\"60s\",\"60s\",\"60s\",\"60s\",\"60s\",\"60s\",\"60s\",\"60s\",\"60s\",\"60s\",\"60s\",\"60s\",\"60s\",\"60s\",\"60s\",\"60s\",\"60s\",\"60s\",\"60s\",\"60s\",\"60s\",\"60s\",\"60s\",\"60s\",\"60s\",\"60s\",\"60s\",\"60s\",\"60s\",\"60s\",\"60s\",\"60s\",\"60s\",\"60s\",\"60s\",\"60s\",\"60s\",\"60s\",\"60s\",\"60s\",\"60s\",\"60s\",\"60s\",\"60s\",\"60s\",\"60s\",\"60s\",\"60s\",\"60s\",\"60s\",\"60s\",\"60s\",\"60s\",\"60s\",\"60s\",\"60s\",\"60s\",\"60s\",\"60s\",\"60s\",\"60s\",\"60s\",\"60s\",\"60s\",\"60s\",\"60s\",\"60s\",\"60s\",\"60s\",\"60s\",\"60s\",\"60s\",\"60s\",\"60s\",\"60s\",\"60s\",\"60s\",\"60s\",\"60s\",\"60s\",\"60s\",\"60s\",\"60s\",\"60s\",\"60s\",\"60s\",\"60s\",\"60s\",\"60s\",\"60s\",\"60s\",\"60s\",\"60s\",\"60s\",\"60s\",\"60s\",\"60s\",\"60s\",\"60s\",\"60s\",\"60s\",\"60s\",\"60s\",\"60s\",\"60s\",\"60s\",\"60s\",\"60s\",\"60s\",\"60s\",\"60s\",\"60s\",\"60s\",\"60s\",\"60s\",\"60s\",\"60s\",\"60s\",\"60s\",\"60s\",\"60s\",\"60s\",\"60s\",\"60s\",\"60s\",\"60s\",\"60s\",\"60s\",\"60s\",\"60s\",\"60s\",\"60s\",\"60s\",\"60s\",\"60s\",\"60s\",\"60s\",\"60s\",\"60s\",\"60s\",\"60s\",\"60s\",\"60s\",\"60s\",\"60s\",\"60s\",\"60s\",\"60s\",\"60s\",\"60s\",\"60s\",\"60s\",\"60s\",\"60s\",\"60s\",\"60s\",\"60s\",\"60s\",\"60s\",\"60s\",\"60s\",\"60s\",\"60s\",\"60s\",\"60s\",\"60s\",\"60s\",\"60s\",\"60s\",\"60s\",\"60s\",\"60s\",\"60s\",\"60s\",\"60s\",\"60s\",\"60s\",\"60s\",\"60s\",\"60s\",\"60s\",\"60s\",\"60s\",\"60s\",\"60s\",\"60s\",\"60s\",\"60s\",\"60s\",\"60s\",\"60s\",\"60s\",\"60s\",\"60s\",\"60s\",\"60s\",\"60s\",\"60s\",\"60s\",\"60s\",\"60s\",\"60s\",\"60s\",\"60s\",\"60s\",\"60s\",\"60s\",\"60s\",\"60s\",\"60s\",\"60s\",\"60s\",\"60s\",\"60s\",\"60s\",\"60s\",\"60s\",\"60s\",\"60s\",\"70s\",\"70s\",\"70s\",\"70s\",\"70s\",\"70s\",\"70s\",\"70s\",\"70s\",\"70s\",\"70s\",\"70s\",\"70s\",\"70s\",\"70s\",\"70s\",\"70s\",\"70s\",\"70s\",\"70s\",\"70s\",\"70s\",\"70s\",\"70s\",\"70s\",\"70s\",\"70s\",\"70s\",\"70s\",\"70s\",\"70s\",\"70s\",\"70s\",\"70s\",\"70s\",\"70s\",\"70s\",\"70s\",\"70s\",\"70s\",\"70s\",\"70s\",\"70s\",\"70s\",\"70s\",\"70s\",\"70s\",\"70s\",\"70s\",\"70s\",\"70s\",\"70s\",\"70s\",\"70s\",\"70s\",\"70s\",\"70s\",\"70s\",\"70s\",\"70s\",\"70s\",\"70s\",\"70s\",\"70s\",\"70s\",\"70s\",\"70s\",\"70s\",\"70s\",\"70s\",\"70s\",\"70s\",\"70s\",\"70s\",\"70s\",\"70s\",\"70s\",\"70s\",\"70s\",\"70s\",\"70s\",\"70s\",\"70s\",\"70s\",\"70s\",\"70s\",\"70s\",\"70s\",\"70s\",\"70s\",\"70s\",\"70s\",\"70s\",\"70s\",\"70s\",\"70s\",\"70s\",\"70s\",\"70s\",\"70s\",\"70s\",\"70s\",\"70s\",\"70s\",\"70s\",\"70s\",\"70s\",\"70s\",\"70s\",\"70s\",\"70s\",\"70s\",\"70s\",\"70s\",\"70s\",\"70s\",\"70s\",\"70s\",\"70s\",\"70s\",\"70s\",\"70s\",\"70s\",\"70s\",\"70s\",\"70s\",\"70s\",\"70s\",\"70s\",\"70s\",\"70s\",\"70s\",\"70s\",\"70s\",\"70s\",\"70s\",\"70s\",\"70s\",\"70s\",\"70s\",\"70s\",\"70s\",\"70s\",\"70s\",\"80s\",\"80s\",\"80s\",\"80s\",\"80s\",\"80s\",\"80s\",\"80s\",\"80s\",\"80s\",\"80s\",\"80s\",\"80s\",\"80s\",\"80s\",\"80s\",\"80s\",\"80s\",\"80s\",\"80s\",\"80s\",\"80s\",\"80s\",\"80s\",\"80s\",\"80s\",\"80s\",\"80s\",\"80s\",\"80s\",\"80s\",\"80s\",\"80s\",\"80s\",\"80s\",\"80s\",\"80s\",\"80s\",\"80s\",\"80s\",\"80s\",\"80s\",\"80s\",\"80s\",\"80s\",\"80s\",\"80s\",\"80s\",\"80s\",\"80s\",\"80s\",\"80s\",\"80s\",\"80s\",\"80s\",\"80s\",\"80s\",\"80s\",\"80s\",\"80s\",\"80s\",\"80s\",\"80s\",\"80s\",\"80s\",\"80s\",\"80s\",\"80s\",\"80s\",\"80s\",\"80s\",\"80s\",\"80s\",\"80s\",\"80s\",\"80s\",\"80s\",\"80s\",\"80s\",\"80s\",\"80s\",\"80s\",\"80s\",\"80s\",\"80s\",\"80s\",\"80s\",\"80s\",\"80s\",\"80s\",\"80s\",\"80s\",\"80s\",\"80s\",\"80s\",\"80s\",\"80s\",\"80s\",\"80s\",\"80s\",\"80s\",\"80s\",\"80s\",\"80s\",\"80s\",\"80s\",\"80s\",\"80s\",\"80s\",\"80s\",\"80s\",\"80s\",\"80s\",\"80s\",\"90s\",\"90s\",\"90s\",\"90s\",\"90s\",\"90s\",\"90s\",\"90s\",\"90s\",\"90s\",\"90s\",\"90s\",\"90s\",\"90s\",\"90s\",\"90s\",\"90s\",\"90s\",\"90s\",\"90s\",\"90s\",\"90s\",\"90s\",\"90s\",\"90s\",\"90s\",\"90s\",\"90s\",\"90s\",\"90s\",\"90s\",\"90s\",\"90s\"],\"xaxis\":\"x2\",\"yaxis\":\"y2\"}],                        {\"barmode\":\"stack\",\"legend\":{\"title\":{\"text\":\"sex\"},\"tracegroupgap\":0},\"margin\":{\"t\":60},\"template\":{\"data\":{\"bar\":[{\"error_x\":{\"color\":\"#f2f5fa\"},\"error_y\":{\"color\":\"#f2f5fa\"},\"marker\":{\"line\":{\"color\":\"rgb(17,17,17)\",\"width\":0.5},\"pattern\":{\"fillmode\":\"overlay\",\"size\":10,\"solidity\":0.2}},\"type\":\"bar\"}],\"barpolar\":[{\"marker\":{\"line\":{\"color\":\"rgb(17,17,17)\",\"width\":0.5},\"pattern\":{\"fillmode\":\"overlay\",\"size\":10,\"solidity\":0.2}},\"type\":\"barpolar\"}],\"carpet\":[{\"aaxis\":{\"endlinecolor\":\"#A2B1C6\",\"gridcolor\":\"#506784\",\"linecolor\":\"#506784\",\"minorgridcolor\":\"#506784\",\"startlinecolor\":\"#A2B1C6\"},\"baxis\":{\"endlinecolor\":\"#A2B1C6\",\"gridcolor\":\"#506784\",\"linecolor\":\"#506784\",\"minorgridcolor\":\"#506784\",\"startlinecolor\":\"#A2B1C6\"},\"type\":\"carpet\"}],\"choropleth\":[{\"colorbar\":{\"outlinewidth\":0,\"ticks\":\"\"},\"type\":\"choropleth\"}],\"contour\":[{\"colorbar\":{\"outlinewidth\":0,\"ticks\":\"\"},\"colorscale\":[[0.0,\"#0d0887\"],[0.1111111111111111,\"#46039f\"],[0.2222222222222222,\"#7201a8\"],[0.3333333333333333,\"#9c179e\"],[0.4444444444444444,\"#bd3786\"],[0.5555555555555556,\"#d8576b\"],[0.6666666666666666,\"#ed7953\"],[0.7777777777777778,\"#fb9f3a\"],[0.8888888888888888,\"#fdca26\"],[1.0,\"#f0f921\"]],\"type\":\"contour\"}],\"contourcarpet\":[{\"colorbar\":{\"outlinewidth\":0,\"ticks\":\"\"},\"type\":\"contourcarpet\"}],\"heatmap\":[{\"colorbar\":{\"outlinewidth\":0,\"ticks\":\"\"},\"colorscale\":[[0.0,\"#0d0887\"],[0.1111111111111111,\"#46039f\"],[0.2222222222222222,\"#7201a8\"],[0.3333333333333333,\"#9c179e\"],[0.4444444444444444,\"#bd3786\"],[0.5555555555555556,\"#d8576b\"],[0.6666666666666666,\"#ed7953\"],[0.7777777777777778,\"#fb9f3a\"],[0.8888888888888888,\"#fdca26\"],[1.0,\"#f0f921\"]],\"type\":\"heatmap\"}],\"heatmapgl\":[{\"colorbar\":{\"outlinewidth\":0,\"ticks\":\"\"},\"colorscale\":[[0.0,\"#0d0887\"],[0.1111111111111111,\"#46039f\"],[0.2222222222222222,\"#7201a8\"],[0.3333333333333333,\"#9c179e\"],[0.4444444444444444,\"#bd3786\"],[0.5555555555555556,\"#d8576b\"],[0.6666666666666666,\"#ed7953\"],[0.7777777777777778,\"#fb9f3a\"],[0.8888888888888888,\"#fdca26\"],[1.0,\"#f0f921\"]],\"type\":\"heatmapgl\"}],\"histogram\":[{\"marker\":{\"pattern\":{\"fillmode\":\"overlay\",\"size\":10,\"solidity\":0.2}},\"type\":\"histogram\"}],\"histogram2d\":[{\"colorbar\":{\"outlinewidth\":0,\"ticks\":\"\"},\"colorscale\":[[0.0,\"#0d0887\"],[0.1111111111111111,\"#46039f\"],[0.2222222222222222,\"#7201a8\"],[0.3333333333333333,\"#9c179e\"],[0.4444444444444444,\"#bd3786\"],[0.5555555555555556,\"#d8576b\"],[0.6666666666666666,\"#ed7953\"],[0.7777777777777778,\"#fb9f3a\"],[0.8888888888888888,\"#fdca26\"],[1.0,\"#f0f921\"]],\"type\":\"histogram2d\"}],\"histogram2dcontour\":[{\"colorbar\":{\"outlinewidth\":0,\"ticks\":\"\"},\"colorscale\":[[0.0,\"#0d0887\"],[0.1111111111111111,\"#46039f\"],[0.2222222222222222,\"#7201a8\"],[0.3333333333333333,\"#9c179e\"],[0.4444444444444444,\"#bd3786\"],[0.5555555555555556,\"#d8576b\"],[0.6666666666666666,\"#ed7953\"],[0.7777777777777778,\"#fb9f3a\"],[0.8888888888888888,\"#fdca26\"],[1.0,\"#f0f921\"]],\"type\":\"histogram2dcontour\"}],\"mesh3d\":[{\"colorbar\":{\"outlinewidth\":0,\"ticks\":\"\"},\"type\":\"mesh3d\"}],\"parcoords\":[{\"line\":{\"colorbar\":{\"outlinewidth\":0,\"ticks\":\"\"}},\"type\":\"parcoords\"}],\"pie\":[{\"automargin\":true,\"type\":\"pie\"}],\"scatter\":[{\"marker\":{\"line\":{\"color\":\"#283442\"}},\"type\":\"scatter\"}],\"scatter3d\":[{\"line\":{\"colorbar\":{\"outlinewidth\":0,\"ticks\":\"\"}},\"marker\":{\"colorbar\":{\"outlinewidth\":0,\"ticks\":\"\"}},\"type\":\"scatter3d\"}],\"scattercarpet\":[{\"marker\":{\"colorbar\":{\"outlinewidth\":0,\"ticks\":\"\"}},\"type\":\"scattercarpet\"}],\"scattergeo\":[{\"marker\":{\"colorbar\":{\"outlinewidth\":0,\"ticks\":\"\"}},\"type\":\"scattergeo\"}],\"scattergl\":[{\"marker\":{\"line\":{\"color\":\"#283442\"}},\"type\":\"scattergl\"}],\"scattermapbox\":[{\"marker\":{\"colorbar\":{\"outlinewidth\":0,\"ticks\":\"\"}},\"type\":\"scattermapbox\"}],\"scatterpolar\":[{\"marker\":{\"colorbar\":{\"outlinewidth\":0,\"ticks\":\"\"}},\"type\":\"scatterpolar\"}],\"scatterpolargl\":[{\"marker\":{\"colorbar\":{\"outlinewidth\":0,\"ticks\":\"\"}},\"type\":\"scatterpolargl\"}],\"scatterternary\":[{\"marker\":{\"colorbar\":{\"outlinewidth\":0,\"ticks\":\"\"}},\"type\":\"scatterternary\"}],\"surface\":[{\"colorbar\":{\"outlinewidth\":0,\"ticks\":\"\"},\"colorscale\":[[0.0,\"#0d0887\"],[0.1111111111111111,\"#46039f\"],[0.2222222222222222,\"#7201a8\"],[0.3333333333333333,\"#9c179e\"],[0.4444444444444444,\"#bd3786\"],[0.5555555555555556,\"#d8576b\"],[0.6666666666666666,\"#ed7953\"],[0.7777777777777778,\"#fb9f3a\"],[0.8888888888888888,\"#fdca26\"],[1.0,\"#f0f921\"]],\"type\":\"surface\"}],\"table\":[{\"cells\":{\"fill\":{\"color\":\"#506784\"},\"line\":{\"color\":\"rgb(17,17,17)\"}},\"header\":{\"fill\":{\"color\":\"#2a3f5f\"},\"line\":{\"color\":\"rgb(17,17,17)\"}},\"type\":\"table\"}]},\"layout\":{\"annotationdefaults\":{\"arrowcolor\":\"#f2f5fa\",\"arrowhead\":0,\"arrowwidth\":1},\"autotypenumbers\":\"strict\",\"coloraxis\":{\"colorbar\":{\"outlinewidth\":0,\"ticks\":\"\"}},\"colorscale\":{\"diverging\":[[0,\"#8e0152\"],[0.1,\"#c51b7d\"],[0.2,\"#de77ae\"],[0.3,\"#f1b6da\"],[0.4,\"#fde0ef\"],[0.5,\"#f7f7f7\"],[0.6,\"#e6f5d0\"],[0.7,\"#b8e186\"],[0.8,\"#7fbc41\"],[0.9,\"#4d9221\"],[1,\"#276419\"]],\"sequential\":[[0.0,\"#0d0887\"],[0.1111111111111111,\"#46039f\"],[0.2222222222222222,\"#7201a8\"],[0.3333333333333333,\"#9c179e\"],[0.4444444444444444,\"#bd3786\"],[0.5555555555555556,\"#d8576b\"],[0.6666666666666666,\"#ed7953\"],[0.7777777777777778,\"#fb9f3a\"],[0.8888888888888888,\"#fdca26\"],[1.0,\"#f0f921\"]],\"sequentialminus\":[[0.0,\"#0d0887\"],[0.1111111111111111,\"#46039f\"],[0.2222222222222222,\"#7201a8\"],[0.3333333333333333,\"#9c179e\"],[0.4444444444444444,\"#bd3786\"],[0.5555555555555556,\"#d8576b\"],[0.6666666666666666,\"#ed7953\"],[0.7777777777777778,\"#fb9f3a\"],[0.8888888888888888,\"#fdca26\"],[1.0,\"#f0f921\"]]},\"colorway\":[\"#636efa\",\"#EF553B\",\"#00cc96\",\"#ab63fa\",\"#FFA15A\",\"#19d3f3\",\"#FF6692\",\"#B6E880\",\"#FF97FF\",\"#FECB52\"],\"font\":{\"color\":\"#f2f5fa\"},\"geo\":{\"bgcolor\":\"rgb(17,17,17)\",\"lakecolor\":\"rgb(17,17,17)\",\"landcolor\":\"rgb(17,17,17)\",\"showlakes\":true,\"showland\":true,\"subunitcolor\":\"#506784\"},\"hoverlabel\":{\"align\":\"left\"},\"hovermode\":\"closest\",\"mapbox\":{\"style\":\"dark\"},\"paper_bgcolor\":\"rgb(17,17,17)\",\"plot_bgcolor\":\"rgb(17,17,17)\",\"polar\":{\"angularaxis\":{\"gridcolor\":\"#506784\",\"linecolor\":\"#506784\",\"ticks\":\"\"},\"bgcolor\":\"rgb(17,17,17)\",\"radialaxis\":{\"gridcolor\":\"#506784\",\"linecolor\":\"#506784\",\"ticks\":\"\"}},\"scene\":{\"xaxis\":{\"backgroundcolor\":\"rgb(17,17,17)\",\"gridcolor\":\"#506784\",\"gridwidth\":2,\"linecolor\":\"#506784\",\"showbackground\":true,\"ticks\":\"\",\"zerolinecolor\":\"#C8D4E3\"},\"yaxis\":{\"backgroundcolor\":\"rgb(17,17,17)\",\"gridcolor\":\"#506784\",\"gridwidth\":2,\"linecolor\":\"#506784\",\"showbackground\":true,\"ticks\":\"\",\"zerolinecolor\":\"#C8D4E3\"},\"zaxis\":{\"backgroundcolor\":\"rgb(17,17,17)\",\"gridcolor\":\"#506784\",\"gridwidth\":2,\"linecolor\":\"#506784\",\"showbackground\":true,\"ticks\":\"\",\"zerolinecolor\":\"#C8D4E3\"}},\"shapedefaults\":{\"line\":{\"color\":\"#f2f5fa\"}},\"sliderdefaults\":{\"bgcolor\":\"#C8D4E3\",\"bordercolor\":\"rgb(17,17,17)\",\"borderwidth\":1,\"tickwidth\":0},\"ternary\":{\"aaxis\":{\"gridcolor\":\"#506784\",\"linecolor\":\"#506784\",\"ticks\":\"\"},\"baxis\":{\"gridcolor\":\"#506784\",\"linecolor\":\"#506784\",\"ticks\":\"\"},\"bgcolor\":\"rgb(17,17,17)\",\"caxis\":{\"gridcolor\":\"#506784\",\"linecolor\":\"#506784\",\"ticks\":\"\"}},\"title\":{\"x\":0.05},\"updatemenudefaults\":{\"bgcolor\":\"#506784\",\"borderwidth\":0},\"xaxis\":{\"automargin\":true,\"gridcolor\":\"#283442\",\"linecolor\":\"#506784\",\"ticks\":\"\",\"title\":{\"standoff\":15},\"zerolinecolor\":\"#283442\",\"zerolinewidth\":2},\"yaxis\":{\"automargin\":true,\"gridcolor\":\"#283442\",\"linecolor\":\"#506784\",\"ticks\":\"\",\"title\":{\"standoff\":15},\"zerolinecolor\":\"#283442\",\"zerolinewidth\":2}}},\"xaxis\":{\"anchor\":\"y\",\"domain\":[0.0,1.0],\"title\":{\"text\":\"age\"}},\"xaxis2\":{\"anchor\":\"y2\",\"domain\":[0.0,1.0],\"matches\":\"x\",\"showgrid\":true,\"showticklabels\":false},\"yaxis\":{\"anchor\":\"x\",\"domain\":[0.0,0.7326],\"title\":{\"text\":\"count\"}},\"yaxis2\":{\"anchor\":\"x2\",\"domain\":[0.7426,1.0],\"matches\":\"y2\",\"showgrid\":false,\"showline\":false,\"showticklabels\":false,\"ticks\":\"\"}},                        {\"responsive\": true}                    ).then(function(){\n",
       "                            \n",
       "var gd = document.getElementById('78dbfbb4-08a9-4cf9-a785-12d0f5b194ab');\n",
       "var x = new MutationObserver(function (mutations, observer) {{\n",
       "        var display = window.getComputedStyle(gd).display;\n",
       "        if (!display || display === 'none') {{\n",
       "            console.log([gd, 'removed!']);\n",
       "            Plotly.purge(gd);\n",
       "            observer.disconnect();\n",
       "        }}\n",
       "}});\n",
       "\n",
       "// Listen for the removal of the full notebook cells\n",
       "var notebookContainer = gd.closest('#notebook-container');\n",
       "if (notebookContainer) {{\n",
       "    x.observe(notebookContainer, {childList: true});\n",
       "}}\n",
       "\n",
       "// Listen for the clearing of the current output cell\n",
       "var outputEl = gd.closest('.output');\n",
       "if (outputEl) {{\n",
       "    x.observe(outputEl, {childList: true});\n",
       "}}\n",
       "\n",
       "                        })                };                });            </script>        </div>"
      ]
     },
     "metadata": {},
     "output_type": "display_data"
    }
   ],
   "source": [
    "#시각화\n",
    "fig = px.histogram(patientinfo, x=\"age\", color=\"sex\", color_discrete_sequence = ['blue', '#E91E63'], marginal = 'violin')\n",
    "fig.update_layout(barmode='stack')\n",
    "fig.update_layout(template='plotly_dark')\n",
    "fig.show()"
   ]
  },
  {
   "cell_type": "markdown",
   "metadata": {},
   "source": [
    "※ 마우스를 그래프에 가져다 대시면 보다 세부적인 정보를 확인하실 수 있습니다.\n",
    "\n",
    "위 데이터를 통해 나이대별 확진자 데이터에서 20대 확진자의 비율이 가장 높다는 점을 확인할 수 있다. 이는 20대가 10대 보다 비교적 활동하는 반경이 넓고 30대 보다 비교적 여유시간을 더 가지기 때문이다."
   ]
  },
  {
   "cell_type": "markdown",
   "metadata": {},
   "source": [
    "#### 문제 인식 \n",
    "지금까지의 흐름을 통해 얻은 인사이트들은 다음과 같이 정리할 수 있다.\n",
    "1. 코로나19 확진자 수의 진정세는 멈추었고, 오히려 최근들어 폭증하는 추세를 보인다.\n",
    "2. 특정 지역에서의 집단감염이 발생하는 경우 인접한 지역으로 전파될 가능성이 높다.\n",
    "3. 국민들은 일상적으로 대중교통을 이용하는 데에 불안감을 느끼고 있으며, 실제로 대중교통을 통한 전파 위험은 가늠하기 어려운 수준이다.\n",
    "4. 나아가 항상 높은 철도/시외버스/고속버스 이용량을 보여왔던 특수연휴기간(2020.05 초순)의 귀향에 대한 불안 또한 증가하고 있다."
   ]
  },
  {
   "cell_type": "markdown",
   "metadata": {},
   "source": [
    "## 분석 목표\n",
    "다가오는 추석을 맞아 **도시 간 이동**에 주목하여 <한국교통안전공단 교통카드 빅데이터 대중교통 이용정보>의 **발권 OD** 데이터를 중심으로 분석을 진행한다.\n",
    "\n",
    "#### 데이터 전처리\n",
    "1. new_발권OD 데이터 생성\n",
    "발권 OD.dat의 지역 코드에 따른 지역 명을 지역코드.dat 에서 불러와 병합하여 new_발권OD 데이터를 생성한다.\n",
    "따라서 이후 분석은 new_발권OD.csv 로 진행한다."
   ]
  },
  {
   "cell_type": "code",
   "execution_count": null,
   "metadata": {},
   "outputs": [],
   "source": [
    "bo = pd.read_csv(\"new_발권OD.csv\")\n",
    "bo.head()"
   ]
  },
  {
   "cell_type": "code",
   "execution_count": null,
   "metadata": {},
   "outputs": [],
   "source": [
    "#버스 통행 인원 변수 생성\n",
    "#시외버스 통행 인원과 고속버스 통행 인원 변수를 합쳐 버스 통행 인원 변수를 생성한다.\n",
    "\n",
    "\n",
    "bo[\"버스 통행 인원\"] = bo[\"시외버스 통행 인원\"] + bo[\"고속버스 통행 인원\"]"
   ]
  },
  {
   "cell_type": "code",
   "execution_count": null,
   "metadata": {},
   "outputs": [],
   "source": [
    "#'요일 구분' 변수 생성\n",
    "def weekday(x):\n",
    "    days={1:\"일\", 2:\"월\", 3:\"화\", 4:\"수\", 5:\"목\", 6:\"금\", 7:\"토\"}\n",
    "    return days[x]\n",
    "\n",
    "bo['요일 구분'] = bo['요일 구분'].apply(lambda x: weekday(x))"
   ]
  },
  {
   "cell_type": "code",
   "execution_count": null,
   "metadata": {},
   "outputs": [],
   "source": [
    "#bo_2019, bo_2020 데이터 생성\n",
    "#2019년과 2020년의 데이터를 따로 분리하여 각각 bo_2019, bo_2020 데이터에 담고, 첫 코로나 확진자 발생일이 1월 19일 이므로 비교를 위해 두 데이터 모두 1월 19일 이후의 데이터만 추출한다\n",
    "bo_2019 = bo[bo['년도'] == 2019]\n",
    "bo_2019 = bo_2019[bo_2019[\"운행 일자\"]>=20190119]\n",
    "bo_2020 = bo[bo['년도'] == 2020]\n",
    "bo_2020 = bo_2020[bo_2020[\"운행 일자\"]>=20200119]"
   ]
  },
  {
   "cell_type": "code",
   "execution_count": null,
   "metadata": {},
   "outputs": [],
   "source": [
    "#운행일자 변수 처리\n",
    "#운행일자 변수를 dtype date로 처리한다\n",
    "def to_datetime(x):\n",
    "    data = dt.datetime.strptime(str(x), \"%Y%m%d\").date()\n",
    "    return date\n",
    "\n",
    "bo_2019['운행 일자'] = bo_2019['운행 일자'].apply(lambda x: to_datetime(x))\n",
    "bo_2020['운행 일자'] = bo_2020['운행 일자'].apply(lambda x: to_datetime(x))"
   ]
  },
  {
   "cell_type": "code",
   "execution_count": null,
   "metadata": {},
   "outputs": [],
   "source": [
    "#출발지가 서울인 데이터 추출\n",
    "#차후 시각화를 위해 출발지가 서울인 데이터만 추출\n",
    "bo_2019_1 = bo_2019.copy() #복사\n",
    "bo_2020_1 = bo_2020.copy()\n",
    "bo_2019 = bo_2019[bo_2019['출발 시도 명'] == \"서울특별시\"]\n",
    "bo_2020 = bo_2020[bo_2020['출발 시도 명'] == \"서울특별시\"]"
   ]
  },
  {
   "cell_type": "code",
   "execution_count": null,
   "metadata": {},
   "outputs": [],
   "source": [
    "#버스와 철도 데이터 분할\n",
    "#기차(철도)와 버스 각각 2019, 2020년 데이터를 추출한다\n",
    "#버스(시외버스+고속버스), 철도 데이터로 분할\n",
    "bus_19 = bo_2019[[\"운행 일자\", \"요일 구분\", \"버스 통행 인원\", \"출발 시군구 코드\", \"출발 지역 코드\", \"출발 시도 명\", \"출발 시군구 명\"]]\n",
    "bus_19_1 = bo_2019_1[[\"운행 일자\", \"요일 구분\", \"버스 통행 인원\", \"출발 시군구 코드\", \"출발 지역 코드\", \"출발 시도 명\", \"출발 시군구 명\"]]\n",
    "bus_20 = bo_2020[[\"운행 일자\", \"요일 구분\", \"버스 통행 인원\", \"출발 시군구 코드\", \"출발 지역 코드\", \"출발 시도 명\", \"출발 시군구 명\"]]\n",
    "bus_20_1 = bo_2020_1[[\"운행 일자\", \"요일 구분\", \"버스 통행 인원\", \"출발 시군구 코드\", \"출발 지역 코드\", \"출발 시도 명\", \"출발 시군구 명\"]]\n",
    "train_19 = bo_2019[[\"운행 일자\", \"요일 구분\", \"철도 통행 인원\", \"출발 시군구 코드\", \"출발 지역 코드\", \"출발 시도 명\", \"출발 시군구 명\"]]\n",
    "train_19_1 = bo_2019_1[[\"운행 일자\", \"요일 구분\", \"철도 통행 인원\", \"출발 시군구 코드\", \"출발 지역 코드\", \"출발 시도 명\", \"출발 시군구 명\"]]\n",
    "train_20 = bo_2020[[\"운행 일자\", \"요일 구분\", \"철도 통행 인원\", \"출발 시군구 코드\", \"출발 지역 코드\", \"출발 시도 명\", \"출발 시군구 명\"]]\n",
    "train_20_1 = bo_2020_1[[\"운행 일자\", \"요일 구분\", \"철도 통행 인원\", \"출발 시군구 코드\", \"출발 지역 코드\", \"출발 시도 명\", \"출발 시군구 명\"]]"
   ]
  },
  {
   "cell_type": "markdown",
   "metadata": {},
   "source": [
    "시각화를 위해 생성한 총 6가지 데이터\n",
    "- bo_2019(서울 출발), bo_2019_1(전국)\n",
    "- bo_2020(서울 출발), bo_2020_1(전국)\n",
    "- bus_19(서울 출발), bus_19(전국)\n",
    "- bus_20(서울 출발), bus_20(전국)\n",
    "- train_19(서울 출발), train_19(전국)\n",
    "- train_20(서울 출발), train_20(전국)"
   ]
  },
  {
   "cell_type": "code",
   "execution_count": null,
   "metadata": {},
   "outputs": [],
   "source": [
    "#코로나 전 & 후 통행량 추이 비교\n",
    "#2019vs2020: 일별 통행량 합계 추이 비교\n",
    "\n",
    "#철도와 고속버스, 시외버스의 통행 인원을 합산\n",
    "\n",
    "bo_total_2019 = pd.DataFrame(bo_2019_1['철도 통행 인원'].groupby(bo_2019_1['운행 일자']).sum())\n",
    "bo_total_2019[\"시외버스 통행 인원\"] = bo_2019_1['시외버스 통행 인원'].groupby(bo_2019_1['운행 일자']).sum()\n",
    "bo_total_2019[\"고속버스 통행 인원\"] = bo_2019_1['고속버스 통행 인원'].groupby(bo_2019_1['운행 일자']).sum()\n",
    "#2020년\n",
    "bo_total_2020 = pd.DataFrame(bo_2020_1['철도 통행 인원'].groupby(bo_2020_1['운행 일자']).sum())\n",
    "bo_total_2020[\"시외버스 통행 인원\"] = bo_2020_1['시외버스 통행 인원'].groupby(bo_2020_1['운행 일자']).sum()\n",
    "bo_total_2020[\"고속버스 통행 인원\"] = bo_2020_1['고속버스 통행 인원'].groupby(bo_2020_1['운행 일자']).sum()"
   ]
  },
  {
   "cell_type": "code",
   "execution_count": null,
   "metadata": {},
   "outputs": [],
   "source": [
    "#시각화\n",
    "fig = go.Figure()\n",
    "fig.add_trace(go.Scatter(x=bo_total_2019.index, y=bo_total_2019[\"철도 통행 인원\"]+bo_total_2019[\"시외버스 통행 인원\"]+bo_total_2019[\"고속버스 통행 인원\"],hoverinfo='x+y',mode='lines',stackgroup='one',name='2019년', marker_color=\"#009770\"))\n",
    "fig.add_trace(go.Scatter(x=bo_total_2019.index, y=bo_total_2020[\"시외버스 통행 인원\"]+bo_total_2020[\"시외버스 통행 인원\"]+bo_total_2020[\"고속버스 통행 인원\"],hoverinfo='x+y',mode='lines',stackgroup='two',name='2020년', marker_color=\"#E91E63\"))\n",
    "fig.update_layout(xaxis=dict(rangeslider=dict(autorange=True, range=[\"2020-01-19\", \"2020-05-31\"],visible=True),type=\"date\"))\n",
    "fig.update_layout(template='plotly_dark', title_text=\"2019년 vs. 2020년 전국 총 통행량 합계 추이\", height=700)\n",
    "fig.show()"
   ]
  },
  {
   "cell_type": "markdown",
   "metadata": {},
   "source": [
    "※ 하단 슬라이드 바를 조절하면 원하는 구간을 집중적으로 볼 수 있다\n",
    "\n",
    "일정한 주기를 가지고 골고루 이용량이 분포되어있는 2019년에 비해, 2020년의 총 통행인원수는 자그마치 절반 가까이 줄었음을 확인 할 수 있다.\n",
    "\n",
    "위 그래프에서 찾을 수 있는 특이점\n",
    "1. 2월에서 특정 기간 폭등하는 이용량\n",
    "    : 이는 설날 연휴 기간의 특수성 때문이라 할 수 있다. 2020년의 설 연휴 기간 역시 코로나19 확진자가 폭등하기 전이였기 때문에 이 기간의 이용량은 둘이 큰 차이를 보이지는 않는다.\n",
    "2. 5월에서 특정 기간 폭등하는 이용량\n",
    "    : 근로자의 날, 어린이날, 어버이날이 몰려 있는 5월 초순은 황금 연휴기간으로 매년 이 시기에는 철도/버스 통행량이 급증했다. 하지만 2020년의 경우 코로나19의 영향으로 2019년의 절반 이하로 뚝 떨어진 것을 확인할 수 있다."
   ]
  },
  {
   "cell_type": "code",
   "execution_count": null,
   "metadata": {},
   "outputs": [],
   "source": [
    "#2019vs2020: 통행수단별 통행량 비교\n",
    "#철도, 시외버스, 고속버스 세 통행수단 별로 통행량 합계 추이 시각화\n",
    "# 2019년 \n",
    "fig = go.Figure()\n",
    "fig.add_trace(go.Scatter(x=bo_total_2019.index, y=bo_total_2019[\"철도 통행 인원\"], hoverinfo='x+y',\n",
    "                         mode='lines', stackgroup='one', name='철도', marker_color = \"#009770\"))\n",
    "fig.add_trace(go.Scatter(x=bo_total_2019.index, y=bo_total_2019[\"시외버스 통행 인원\"], hoverinfo='x+y',\n",
    "                         mode='lines', stackgroup='one', name='시외버스', marker_color = \"#E91E63\"))\n",
    "fig.add_trace(go.Scatter(x=bo_total_2019.index, y=bo_total_2019[\"고속버스 통행 인원\"], hoverinfo='x+y',\n",
    "                         mode='lines',stackgroup='one', name='고속버스', marker_color = \"#FFDF65\"))\n",
    "fig.update_layout(template='plotly_dark',title_text=\"2019년 전국 통행수단 별 통행량 합계 추이\", height=600)\n",
    "fig.update_layout(xaxis=dict(rangeslider=dict(autorange=True, range=[\"2020-01-19\", \"2020-05-31\"],visible=True),type=\"date\"))\n",
    "fig.show()\n",
    "\n",
    "# 2020년\n",
    "fig = go.Figure()\n",
    "fig.add_trace(go.Scatter(x=bo_total_2020.index, y=bo_total_2020[\"철도 통행 인원\"], hoverinfo='x+y',\n",
    "                         mode='lines', stackgroup='one', name='철도', marker_color = \"#009770\"))\n",
    "fig.add_trace(go.Scatter(x=bo_total_2020.index, y=bo_total_2020[\"시외버스 통행 인원\"], hoverinfo='x+y',\n",
    "                         mode='lines', stackgroup='one', marker_color = \"#E91E63\", name='시외버스'))\n",
    "fig.add_trace(go.Scatter(x=bo_total_2020.index, y=bo_total_2020[\"고속버스 통행 인원\"], hoverinfo='x+y',\n",
    "                         mode='lines', stackgroup='one', name='고속버스', marker_color = \"#FFDF65\"))\n",
    "fig.update_layout(template='plotly_dark',title_text=\"2020년 전국 통행수단 별 통행량 합계 추이\", height=600)\n",
    "fig.update_layout(xaxis=dict(rangeslider=dict(autorange=True, range=[\"2020-01-19\", \"2020-05-31\"],visible=True),type=\"date\"))\n",
    "fig.show()"
   ]
  },
  {
   "cell_type": "markdown",
   "metadata": {},
   "source": [
    "※ 하단 슬라이드 바를 조절하면 원하는 구간을 집중적으로 볼 수 있다\n",
    "\n",
    "**공통점**\n",
    "- 2019년과 2020년 모두 버스(시외버스 + 고속버스) 통행량이 철도 통행량보다 높게 나타난다.\n",
    "\n",
    "**차이점**\n",
    "- 코로나19 사태가 심각해진 2020년 2월 중순에 들어서부터 통행 수단을 막록하고 통행량이 확연히 줄어드는 것을 확인할 수 있다\n",
    "- 5월 연휴 기간을 기점으로 통행량은 다시 오르는 추세를 보인다"
   ]
  },
  {
   "cell_type": "code",
   "execution_count": null,
   "metadata": {},
   "outputs": [],
   "source": [
    "#2019 vs 2020: 요일별 버스/철도 통행량 평균 비교\n",
    "# 요일별 평균 통행량 확인\n",
    "day = ['월', '화', '수', '목', '금', '토', '일']\n",
    "bus_amt_20 = bus_20_1.groupby(['요일 구분']).mean()['버스 통행 인원'].to_frame().loc[day, :] #평균\n",
    "bus_amt_19 =bus_19_1.groupby(['요일 구분']).mean()['버스 통행 인원'].to_frame().loc[day, :]\n",
    "train_amt_20 =train_20_1.groupby(['요일 구분']).mean()['철도 통행 인원'].to_frame().loc[day, :]\n",
    "train_amt_19 =train_19_1.groupby(['요일 구분']).mean()['철도 통행 인원'].to_frame().loc[day, :]"
   ]
  },
  {
   "cell_type": "code",
   "execution_count": null,
   "metadata": {},
   "outputs": [],
   "source": [
    "#전처리\n",
    "# 버스\n",
    "bus_amt_19['연도'] = 2019\n",
    "bus_amt_20['연도'] = 2020\n",
    "bus_amt_19 = bus_amt_19.reset_index()\n",
    "bus_amt_20 = bus_amt_20.reset_index()\n",
    "bus_by_day = pd.concat([bus_amt_19, bus_amt_20])\n",
    "bus_by_day.columns = ['day', 'bus', 'year']\n",
    "\n",
    "# 기차(철도) 전처리\n",
    "train_amt_19['연도'] = 2019\n",
    "train_amt_20['연도'] = 2020\n",
    "train_amt_19 = train_amt_19.reset_index()\n",
    "train_amt_20 = train_amt_20.reset_index()\n",
    "train_by_day = pd.concat([train_amt_19, train_amt_20])\n",
    "train_by_day.columns = ['day', 'train', 'year']"
   ]
  },
  {
   "cell_type": "code",
   "execution_count": null,
   "metadata": {},
   "outputs": [],
   "source": [
    "#시각화\n",
    "# 버스\n",
    "fig = px.funnel(bus_by_day, x='bus', y='day', color='year',color_discrete_sequence=[\"#009770\", \"#E91E63\"])\n",
    "fig.update_layout(title={'text':'2019 vs 2020 요일별 버스 통행량 평균', 'y':0.95,'x':0.5,'xanchor': 'center','yanchor': 'top'})\n",
    "fig.update_layout(template='plotly_dark', font=dict(size=13), height=500)\n",
    "fig.show()\n",
    "\n",
    "# 기차(철도)\n",
    "fig = px.funnel(train_by_day, x='train', y='day', color='year',color_discrete_sequence=[\"#009770\", \"#E91E63\"])\n",
    "fig.update_layout(title={'text':\"2019 vs 2020 요일별 기차(철도) 통행량 평균\", 'y':0.95,'x':0.5,'xanchor': 'center','yanchor': 'top'})\n",
    "fig.update_layout(template='plotly_dark', font=dict(size=13), height=500)\n",
    "fig.show()"
   ]
  },
  {
   "cell_type": "markdown",
   "metadata": {},
   "source": [
    "※ 마우스를 그래프에 가져다 대면 보다 세부적인 정보를 확인할 수 있다\n",
    "\n",
    "2019년과 2020년의 요일별 통행량 분포는 정도의 차이만 있을 뿐 거의 유사한 형태를 나타내는 것을 볼 수 있다\n",
    "앞선 분석 결과들을 통해 코로나19 사태 이후에 **절대적인 통행량 수치가 감소**한 것을 확인했다. 코로나19로 인해 비대면 수업과 재택 근무 등의 증가로 인해 2019년과 2020년의 평일/주말 통행량 분포가 차이를 보일 것이라 예상 하였지만 여전히 평일보다 주말의 통행량이 높은 모습을 볼 수 있다."
   ]
  },
  {
   "cell_type": "code",
   "execution_count": null,
   "metadata": {},
   "outputs": [],
   "source": [
    "#2019 vs 2020 : 도착지의 철도/버스통행량 비교\n",
    "\n",
    "#시도별 주요 도시 최종적 세분화 기준 잡기\n",
    "#광역시를 제외한 시도 별 시군구 통행인원 top 10 출력\n",
    "\n",
    "## 광역시 제외 시도 목록 생성\n",
    "sido = [\"경기도\", \"강원도\", \"충청북도\", \"충청남도\", \"전라북도\", \"전라남도\", \"경상북도\", \"경상남도\"]\n",
    "#2020년 시도 별 시군구 통행인원 Top 10 출력 \n",
    "for s in range(len(sido)):\n",
    "    total = {}\n",
    "    new = bo_2020_1.groupby('도착 시도 명').get_group(sido[s])\n",
    "    city = list(new[\"도착 시군구 명\"].unique())\n",
    "    for c in city:\n",
    "        new_1 = new.groupby(\"도착 시군구 명\").get_group(c).sum()\n",
    "        total[c] = new_1[\"철도 통행 인원\"]+new_1[\"시외버스 통행 인원\"]+new_1[\"고속버스 통행 인원\"]\n",
    "    result = sorted(total.items(), key = lambda x: x[1], reverse=True)[:10]\n",
    "    print(sido[s], result)"
   ]
  },
  {
   "cell_type": "markdown",
   "metadata": {},
   "source": [
    "위 결과, 시도별 통행량이 많은 순서대로 6개의 도시를 주요 도시로 선정한다\n",
    "\n",
    "[시도별 주요 도시 최종 세분화 계획]\n",
    "- 경기도: 수원시, 평택시, 광명시, 성남시, 화성시, 안산시\n",
    "- 강원도: 원주시, 춘천시, 강릉시, 속초시, 동해시, 홍천군\n",
    "- 충청북도: 청주시, 충주시, 제천시, 진천군, 영동군, 음성군\n",
    "- 충청남도: 천안시, 아산시, 서산시, 당진시, 공주시, 논산시\n",
    "- 전라북도: 전주시, 익산시, 군산시, 정읍시, 남원시, 임실군\n",
    "- 전라남도: 순천시, 목포시, 여수시, 나주시, 광양시, 고흥군\n",
    "- 경상북도: 경주시, 구미시, 포항시, 김천시, 경산시, 안동시\n",
    "- 경상남도: 진주시, 창원시, 밀양시, 김해시, 통영시, 거제시"
   ]
  },
  {
   "cell_type": "code",
   "execution_count": null,
   "metadata": {},
   "outputs": [],
   "source": [
    "#도착지의 철도/버스 통행량 비교\n",
    "#도착지가 결측치로 처리되어있는 경우 drop하여 새로운 데이터셋 생성\n",
    "bo_2019_drop = bo_2019_1.copy()\n",
    "bo_2020_drop = bo_2020_1.copy()\n",
    "bo_2019_drop.dropna(subset=['도착 시도 명', '도착 시군구 명'], inplace=True)\n",
    "bo_2020_drop.dropna(subset=['도착 시도 명', '도착 시군구 명'], inplace=True)\n",
    "\n",
    "areas = [\"부산광역시\", \"대구광역시\", \"광주광역시\", \"대전광역시\", \"울산광역시\", \"세종특별자치시\", \"인천광역시\",\n",
    "        \"경기도\", \"충청북도\", \"충청남도\", \"전라북도\", \"전라남도\", \"경상북도\", \"경상남도\", \"강원도\"]\n",
    "sigungu = []\n",
    "\n",
    "#광역시의 경우 시군구, 그외 시도들은 주요 도시로 2차원 배열 생성 \n",
    "for s in range(7):\n",
    "    area = bo_2020_drop.groupby('도착 시도 명').get_group(areas[s])\n",
    "    sigungu.append(list(area[\"도착 시군구 명\"].unique()))\n",
    "sigungu.append([\"수원시\", \"평택시\", \"광명시\", \"성남시\", \"화성시\", \"안산시\"])\n",
    "sigungu.append([\"청주시\", \"충주시\", \"제천시\", \"진천군\", \"영동군\", \"음성군\"])\n",
    "sigungu.append([\"천안시\", \"아산시\", \"서산시\", \"당진시\", \"공주시\", \"논산시\"])\n",
    "sigungu.append([\"전주시\", \"익산시\", \"군산시\", \"정읍시\", \"남원시\", \"임실군\"])\n",
    "sigungu.append([\"순천시\", \"목포시\", \"여수시\", \"나주시\", \"광양시\", \"고흥군\"])\n",
    "sigungu.append([\"경주시\", \"구미시\", \"포항시\", \"김천시\", \"경산시\", \"안동시\"])\n",
    "sigungu.append([\"진주시\", \"창원시\", \"밀양시\", \"김해시\", \"통영시\", \"거제시\"])\n",
    "sigungu.append([\"원주시\", \"춘천시\", \"강릉시\", \"속초시\", \"동해시\", \"홍천군\"])\n",
    "\n",
    "#지역별 도착지의 철도/버스통행량 비교를 위한 시각화\n",
    "for a in range(len(areas)):\n",
    "    kk_19 = bo_2019_drop.groupby('도착 시도 명').get_group(areas[a])\n",
    "    kk_20 = bo_2020_drop.groupby('도착 시도 명').get_group(areas[a])\n",
    "\n",
    "    all_kk = pd.DataFrame(index=range(0,12), columns = [\"년도\", \"도착 시군구 명\", \"철도 통행 인원\", \"시외버스 통행 인원\", \"고속버스 통행 인원\"])\n",
    "    nums = [\"철도 통행 인원\", \"시외버스 통행 인원\", \"고속버스 통행 인원\"]\n",
    "    for i in range(len(sigungu[a])):\n",
    "        all_kk[\"도착 시군구 명\"][2*i] = sigungu[a][i] + \"_2019\"\n",
    "        all_kk[\"년도\"][2*i] = 2019\n",
    "        all_kk[\"도착 시군구 명\"][2*i+1] = sigungu[a][i] + \"_2020\"\n",
    "        all_kk[\"년도\"][2*i+1] = 2020\n",
    "        kk_19_1 = kk_19[kk_19['도착 시군구 명'].str.contains(sigungu[a][i])]\n",
    "        kk_20_1 = kk_20[kk_20['도착 시군구 명'].str.contains(sigungu[a][i])]\n",
    "        for n in range(len(nums)):\n",
    "            new_19 = kk_19_1[kk_19_1[nums[n]]!=0]\n",
    "            avg_19 = new_19[nums[n]].sum()//len(new_19[\"운행 일자\"].unique())\n",
    "            new_20 = kk_20_1[kk_20_1[nums[n]]!=0]\n",
    "            avg_20 = new_20[nums[n]].sum()//len(new_20[\"운행 일자\"].unique())    \n",
    "            all_kk[nums[n]][2*i] = avg_19\n",
    "            all_kk[nums[n]][2*i+1] = avg_20\n",
    "\n",
    "    trace1 = go.Bar(x=all_kk[\"도착 시군구 명\"], y=all_kk[\"철도 통행 인원\"], name='철도', marker_color = \"#009770\")\n",
    "    trace2 = go.Bar(x=all_kk[\"도착 시군구 명\"], y=all_kk[\"시외버스 통행 인원\"], name='시외버스', marker_color = \"#E91E63\")\n",
    "    trace3 = go.Bar(x=all_kk[\"도착 시군구 명\"], y=all_kk[\"고속버스 통행 인원\"], name='고속버스', marker_color = \"#FFDF65\")\n",
    "    data = [trace1, trace2, trace3]\n",
    "    title = areas[a]+\" 일평균 통행 수단 별 통행 인원 분포\"\n",
    "    layout = go.Layout(template='plotly_dark',title=title, barmode='stack', height=500)\n",
    "    fig = go.Figure(data=data, layout=layout)\n",
    "    pyo.iplot(fig)"
   ]
  },
  {
   "cell_type": "markdown",
   "metadata": {},
   "source": [
    "※ 마우스를 그래프에 가져다 대시면 보다 세부적인 정보를 확인할 수 있다\n",
    "\n",
    "주목할만한 점은 코로나로 인해 2020년의 전체 통행량 자체는 2019년에 비해 절반 가까이 줄었으나, 통행수단별 이용량의 비율은 둘이 비슷하게 나타났다는 것으로 이는 사람들이 도시간 이동을 할 때 본인에게 익숙한 통행수단을 이용하기 때문이다. 따라서 특정 통행수단에 사람이 몰리지 않도록 분산시켜야 한다."
   ]
  },
  {
   "cell_type": "code",
   "execution_count": null,
   "metadata": {},
   "outputs": [],
   "source": [
    "#통행 수단 이용 현황 파악\n",
    "#서울에 초점을 맞추어 분석 진행\n",
    "\n",
    "#서울을 출발지로 하는 도착지의 비율을 비교하고, \n",
    "#서울의 주요 기차역과 버스 터미널을 선정하여 효과적인 통행 수단 이용자의 분산을 위한 인사이트 도출\n",
    "\n",
    "\n",
    "## 2019 vs 2020 : 서울 출발지 -> 도착지 비율 비교\n",
    "#도착 시도 별 고속버스, 시외버스, 철도, 총 통행인원 df 생성(19년도,20년도)\n",
    "area =pd.pivot_table(bo_2019, index = \"도착 시도 명\", values = [\"철도 통행 인원\", \"시외버스 통행 인원\", \"고속버스 통행 인원\"], aggfunc = 'sum')\n",
    "area20 = pd.pivot_table(bo_2020, index = \"도착 시도 명\", values = [\"철도 통행 인원\", \"시외버스 통행 인원\", \"고속버스 통행 인원\"], aggfunc = 'sum')\n",
    "area[\"총 통행 인원\"] = area[\"고속버스 통행 인원\"]+area[\"시외버스 통행 인원\"]+area[\"철도 통행 인원\"]\n",
    "area20[\"총 통행 인원\"] = area20[\"고속버스 통행 인원\"]+area20[\"시외버스 통행 인원\"]+area20[\"철도 통행 인원\"]\n",
    "\n",
    "#도착지가 서울인 행 제거\n",
    "area = area[area.index !=\"서울특별시\"]\n",
    "area20 = area20[area20.index!=\"서울특별시\"]\n",
    "\n",
    "#서울에서 가장 많이 향하는 행선지는?\n",
    "fig = make_subplots(rows=1, cols=2, subplot_titles=(\"2019\",\"2020\"), \n",
    "                    specs=[[{\"type\": \"pie\"}, {\"type\": \"pie\"}]])\n",
    "fig.add_trace(go.Pie(labels=area.index, values=area[\"총 통행 인원\"]),row=1, col=1)\n",
    "fig.add_trace(go.Pie(labels=area20.index, values=area20[\"총 통행 인원\"]),row=1, col=2)\n",
    "\n",
    "fig.update_layout(template='plotly_dark', title_text=\"2019, 2020년 서울발 도착지 비율\")\n",
    "fig.show()"
   ]
  },
  {
   "cell_type": "markdown",
   "metadata": {},
   "source": [
    "※ 마우스를 그래프에 가져다 대시면 보다 세부적인 정보를 확인할 수 있다\n",
    "\n",
    "2019년과 2020년의 도착지 모두 경기도, 강원도, 충청남도, 대전광역시, 충청북도가 강세를 보이고 있다\n",
    "\n",
    "반대로, 서울과 거의 맞닿아 있는 인천지역의 경우는 2020년 기준 약 0.4% 비율만 차지하는 것을 볼 수 있다"
   ]
  },
  {
   "cell_type": "code",
   "execution_count": null,
   "metadata": {},
   "outputs": [],
   "source": [
    "#기차(철도) 이용 현황\n",
    "\n",
    "#주요 기차역 선정\n",
    "#출발지역 코드별로 통행량의 평균을 비교하여 주요 기차역을 선정\n",
    "\n",
    "# 2019 + 2020\n",
    "train = pd.concat([train_19, train_20], ignore_index=True)\n",
    "\n",
    "# 0인 행 제거\n",
    "idx_nm_1 = train[train['철도 통행 인원'] == 0].index\n",
    "train = train.drop(idx_nm_1)\n",
    "\n",
    "# 운행 일자 별 각 출발 지역 코드의 철도/버스 통행 인원 (그 터미널/역의 하루 동안 통행한 인원 합계)\n",
    "train_pivot = train.pivot_table(index = [\"운행 일자\", \"출발 지역 코드\", \"출발 시도 명\", \"출발 시군구 명\"], \n",
    "                 aggfunc = \"sum\", \n",
    "                 values = \"철도 통행 인원\")\n",
    "\n",
    "# 접근하기 쉽도록 reset_index\n",
    "train_daily = train_pivot.reset_index()\n",
    "train_daily_pivot = train_daily.pivot_table(index = [\"출발 지역 코드\", \"출발 시도 명\", \"출발 시군구 명\"], \n",
    "                 aggfunc = \"mean\", \n",
    "                 values = \"철도 통행 인원\")"
   ]
  },
  {
   "cell_type": "code",
   "execution_count": null,
   "metadata": {},
   "outputs": [],
   "source": [
    "# Top 5 \n",
    "train_rank = train_daily_pivot.sort_values(by='철도 통행 인원', ascending=False)\n",
    "train_rank.head()"
   ]
  },
  {
   "cell_type": "markdown",
   "metadata": {},
   "source": [
    "표에서의 출발 지역 코드, 출발 시도 명, 출발 시군구 명을 매칭하면 다음과 같이 Top5 기차역을 선정할 수 있다\n",
    "\n",
    "[선정 결과]\n",
    "\n",
    "기차역 - 순위 - 출발 지역 코드 - 지역\n",
    "\n",
    "1. 서울역 - 1117010700 - 용산구 동자동\n",
    "2. 용산역 - 1117012800 - 용산구 한강로3가\n",
    "3. 수서역 - 1168011500 - 강남구 수서동\n",
    "4. 영등포역 - 1156010100 - 영등포구 영등포동\n",
    "5. 청량리역 - 1123010400 - 동대문구 전농동\n",
    "\n",
    "그 외,\n",
    "- 왕십리역 - 1120010700 - 성동구 행당동\n",
    "- 옥수역 - 1120011300 - 성동구 옥수동\n",
    "- 상봉역 - 1126010200 - 중랑구 상봉동"
   ]
  },
  {
   "cell_type": "code",
   "execution_count": null,
   "metadata": {},
   "outputs": [],
   "source": [
    "#Top5 \n",
    "train_code = ['1117010700', '1117012800', '1168011500', '1156010100', '1123010400']\n",
    "train_name = ['서울역', '용산역', '수서역', '영등포역', '청량리역']"
   ]
  },
  {
   "cell_type": "code",
   "execution_count": null,
   "metadata": {},
   "outputs": [],
   "source": [
    "#전처리\n",
    "#평일/주말 데이터를 구분하여 생성\n",
    "\n",
    "# 평일\n",
    "train_20_weekday = train_20[(train_20['요일 구분'] == '월') | (train_20['요일 구분'] == '화') | (train_20['요일 구분'] == '수') | (train_20['요일 구분'] == '목') ]\n",
    "train_rank1_20 = train_20_weekday[(train_20_weekday['출발 지역 코드'] == train_code[0])]\n",
    "train_rank2_20 = train_20_weekday[(train_20_weekday['출발 지역 코드'] == train_code[1])]\n",
    "train_rank3_20 = train_20_weekday[(train_20_weekday['출발 지역 코드'] == train_code[2])]\n",
    "train_rank4_20 = train_20_weekday[(train_20_weekday['출발 지역 코드'] == train_code[3])]\n",
    "train_rank5_20 = train_20_weekday[(train_20_weekday['출발 지역 코드'] == train_code[4])]\n",
    "train_weekday_top3 = pd.concat([train_rank1_20, train_rank2_20, train_rank3_20, train_rank4_20, train_rank5_20], ignore_index=True)\n",
    "train_weekday_top3_total = train_weekday_top3.groupby(['출발 지역 코드']).mean()['철도 통행 인원']\n",
    "for i in range(5):\n",
    "  train_weekday_top3.loc[train_weekday_top3['출발 지역 코드'] == train_code[i], '출발 지역명'] = train_name[i]\n",
    "train_weekday_top3 = train_weekday_top3.pivot_table(index=['출발 지역명', '요일 구분'], \n",
    "                             aggfunc='mean',\n",
    "                             values = '철도 통행 인원').reset_index()\n",
    "train_weekday_top3['cumsum'] = train_weekday_top3.groupby(['출발 지역명'])['철도 통행 인원'].cumsum(axis=0)\n",
    "train_weekday_top3 = train_weekday_top3.sort_values(by=['출발 지역명', '요일 구분'], ascending=False)\n",
    "\n",
    "# 주말\n",
    "train_20_weekend = train_20[(train_20['요일 구분'] == '금') | (train_20['요일 구분'] == '토') | (train_20['요일 구분'] == '일')]\n",
    "train_rank1_20_2 = train_20_weekend[(train_20_weekend['출발 지역 코드'] == train_code[0])]\n",
    "train_rank2_20_2 = train_20_weekend[(train_20_weekend['출발 지역 코드'] == train_code[1])]\n",
    "train_rank3_20_2 = train_20_weekend[(train_20_weekend['출발 지역 코드'] == train_code[2])]\n",
    "train_rank4_20_2 = train_20_weekend[(train_20_weekend['출발 지역 코드'] == train_code[3])]\n",
    "train_rank5_20_2 = train_20_weekend[(train_20_weekend['출발 지역 코드'] == train_code[4])]\n",
    "train_weekend_top3 = pd.concat([train_rank1_20_2, train_rank2_20_2, train_rank3_20_2, train_rank4_20_2, train_rank5_20_2], ignore_index=True)\n",
    "train_weekend_top3_total = train_weekend_top3.groupby(['출발 지역 코드']).mean()['철도 통행 인원']\n",
    "for i in range(5):\n",
    "  train_weekend_top3.loc[train_weekend_top3['출발 지역 코드'] == train_code[i], '출발 지역명'] = train_name[i]\n",
    "train_weekend_top3 = train_weekend_top3.pivot_table(index=['출발 지역명', '요일 구분'], \n",
    "                             aggfunc='mean',\n",
    "                             values = '철도 통행 인원').reset_index()\n",
    "train_weekend_top3['cumsum'] = train_weekend_top3.groupby(['출발 지역명'])['철도 통행 인원'].cumsum(axis=0)\n",
    "train_weekend_top3 = train_weekend_top3.sort_values(by=['출발 지역명', '요일 구분'], ascending=False)"
   ]
  },
  {
   "cell_type": "code",
   "execution_count": null,
   "metadata": {},
   "outputs": [],
   "source": [
    "#요일별 통행량 비교\n",
    "#2019년과 2020년의 요일별 기차(철도) 통행량\n",
    "\n",
    "fig = plt.figure(figsize=(17,8))\n",
    "plt.style.use('dark_background')\n",
    "ax1 = fig.add_subplot(1,3,1)\n",
    "bar_width = 0.35\n",
    "ax1.set_facecolor('black')\n",
    "\n",
    "label = ['서울역', '용산역', '청량리역', '영등포역', '수서역']\n",
    "index = np.arange(len(label))\n",
    "p1 = plt.bar(index, train_weekday_top3_total, bar_width, label='평일', color=['#E91E63'])\n",
    "p2 = plt.bar(index + bar_width, train_weekend_top3_total, bar_width, label='주말', color=['#009770'])\n",
    "plt.title('요일그룹별 철도 통행량')\n",
    "plt.ylabel('평균 통행량')\n",
    "plt.xlabel('기차역')\n",
    "plt.xticks(index, label)\n",
    "plt.legend((p1[0], p2[0]), ('평일', '주말'))\n",
    "\n",
    "ax2 = fig.add_subplot(1,3,2)\n",
    "sns.barplot(x='출발 지역명', y='cumsum', hue='요일 구분', data=train_weekday_top3, dodge=False, color='#E91E63')\n",
    "plt.title(\"기차역 별 평일 평균 통행량\")\n",
    "plt.xlabel(\"요일\")\n",
    "plt.ylabel(\"철도 통행량\")\n",
    "ax2.set_facecolor('black')\n",
    "\n",
    "ax3 = fig.add_subplot(1,3,3)\n",
    "sns.barplot(x='출발 지역명', y='cumsum', hue='요일 구분', data=train_weekend_top3, dodge=False, color='#009770')\n",
    "plt.title(\"기차역 별 주말 평균 통행량\")\n",
    "plt.xlabel(\"요일\")\n",
    "plt.ylabel(\"철도 통행량\")\n",
    "ax3.set_facecolor('black')\n",
    "\n",
    "plt.show()"
   ]
  },
  {
   "cell_type": "markdown",
   "metadata": {},
   "source": [
    "수서역의 통행량이 가장 두드러지게 높은 것을 확인할 수 있다\n",
    "\n",
    "또한 모든 역에서 주말의 통행량이 평일보다 더 높게 나타났으며, 평일과 주말을 막론하고 요일별 통행량 비율의 차이는 뚜렷하게 나타나지 않는다"
   ]
  },
  {
   "cell_type": "code",
   "execution_count": null,
   "metadata": {},
   "outputs": [],
   "source": [
    "#버스 이용 현황\n",
    "#출발지역 코드별로 통행량의 평균을 비교하여 주요 버스 터미널을 선정\n",
    "\n",
    "# 2019 + 2020\n",
    "bus = pd.concat([bus_19, bus_20], ignore_index=True)\n",
    "\n",
    "# 0인 행 제거\n",
    "idx_nm_1 = bus[bus['버스 통행 인원'] == 0].index\n",
    "bus = bus.drop(idx_nm_1)\n",
    "\n",
    "# 운행 일자 별 각 출발 지역 코드의 철도/버스 통행 인원 (그 터미널/역의 하루 동안 통행한 인원 합계)\n",
    "bus_pivot = bus.pivot_table(index = [\"운행 일자\", \"출발 지역 코드\", \"출발 시도 명\", \"출발 시군구 명\"], \n",
    "                 aggfunc = \"sum\", \n",
    "                 values = \"버스 통행 인원\")\n",
    "\n",
    "# 접근하기 쉽도록 reset_index\n",
    "bus_daily = bus_pivot.reset_index()\n",
    "bus_daily_pivot = bus_daily.pivot_table(index = [\"출발 지역 코드\", \"출발 시도 명\", \"출발 시군구 명\"], \n",
    "                 aggfunc = \"mean\", \n",
    "                 values = \"버스 통행 인원\")"
   ]
  },
  {
   "cell_type": "code",
   "execution_count": null,
   "metadata": {},
   "outputs": [],
   "source": [
    "# Top 3\n",
    "bus_rank = bus_daily_pivot.sort_values(by='버스 통행 인원', ascending=False)\n",
    "bus_rank.head(10)"
   ]
  },
  {
   "cell_type": "markdown",
   "metadata": {},
   "source": [
    "표에서의 출발 지역 코드, 출발 시도 명, 출발 시군구 명을 매칭하면 다음과 같이 Top3 버스 터미널을 선정할 수 있다\n",
    "\n",
    "\n",
    "[선정 결과]\n",
    "\n",
    "[ 버스 터미널 - 출발 지역 코드 - 지역 ]\n",
    "\n",
    "1. 서울고속버스터미널 / 센트럴시티터미널 - 1165010700 - 서초구 반포동\n",
    "2. 동서울종합터미널 - 1121510300 - 광진구 구의동\n",
    "3. 서울남부터미널 - 1165010800 - 서초구 서초동\n",
    "\n",
    "\n",
    "그 외,\n",
    "- 잠실역 시외버스 정류소 - 1171010100 - 송파구 잠실동\n",
    "- 장지역 시외버스 정류소 - 1171010900 - 송파구 장지동\n",
    "- 가락시장 시외버스 정류소 - 1171010700 - 송파구 가락동\n",
    "- 상봉터미널 - 1126010200 - 중랑구 상봉동\n",
    "- 1121510 - 광진구\n",
    "- 1165010 - 서초구\n",
    "- 1150010 - 강서구\n",
    "- 1171010 - 송파구"
   ]
  },
  {
   "cell_type": "code",
   "execution_count": null,
   "metadata": {},
   "outputs": [],
   "source": [
    "#Top3\n",
    "bus_code = ['1165010700', '1121510300', '1165010800']\n",
    "bus_name = ['서울고속/센트럴', '동서울종합', '서울남부']"
   ]
  },
  {
   "cell_type": "code",
   "execution_count": null,
   "metadata": {},
   "outputs": [],
   "source": [
    "#전처리\n",
    "#평일/주말 데이터 구분하여 생성\n",
    "\n",
    "# 평일\n",
    "bus_20_weekday = bus_20[(bus_20['요일 구분'] == '월') | (bus_20['요일 구분'] == '화') | (bus_20['요일 구분'] == '수') | (bus_20['요일 구분'] == '목') ]\n",
    "weekday = bus_20_weekday['요일 구분'].unique()\n",
    "bus_rank1_20 = bus_20_weekday[(bus_20_weekday['출발 지역 코드'] == bus_code[0])]\n",
    "bus_rank2_20 = bus_20_weekday[(bus_20_weekday['출발 지역 코드'] == bus_code[1])]\n",
    "bus_rank3_20 = bus_20_weekday[(bus_20_weekday['출발 지역 코드'] == bus_code[2])]\n",
    "bus_weekday_top3 = pd.concat([bus_rank1_20, bus_rank2_20, bus_rank3_20], ignore_index=True)\n",
    "bus_weekday_top3_total = bus_weekday_top3.groupby(['출발 지역 코드']).mean()['버스 통행 인원']\n",
    "for i in range(3):\n",
    "  bus_weekday_top3.loc[bus_weekday_top3['출발 지역 코드'] == bus_code[i], '출발 지역명'] = bus_name[i]\n",
    "bus_weekday_top3 = bus_weekday_top3.pivot_table(index=['출발 지역명', '요일 구분'], \n",
    "                             aggfunc='mean',\n",
    "                             values = '버스 통행 인원').reset_index()\n",
    "bus_weekday_top3['cumsum'] = bus_weekday_top3.groupby(['출발 지역명'])['버스 통행 인원'].cumsum(axis=0)\n",
    "bus_weekday_top3 = bus_weekday_top3.sort_values(by=['출발 지역명', '요일 구분'], ascending=False)\n",
    "\n",
    "# 주말\n",
    "bus_20_weekend = bus_20[(bus_20['요일 구분'] == '금') | (bus_20['요일 구분'] == '토') | (bus_20['요일 구분'] == '일')]\n",
    "weekend = ['금', '토', '일']\n",
    "bus_rank1_20_2 = bus_20_weekend[(bus_20_weekend['출발 지역 코드'] == bus_code[0])]\n",
    "bus_rank2_20_2 = bus_20_weekend[(bus_20_weekend['출발 지역 코드'] == bus_code[1])]\n",
    "bus_rank3_20_2 = bus_20_weekend[(bus_20_weekend['출발 지역 코드'] == bus_code[2])]\n",
    "bus_weekend_top3 = pd.concat([bus_rank1_20_2, bus_rank2_20_2, bus_rank3_20_2], ignore_index=True)\n",
    "bus_weekend_top3_total = bus_weekend_top3.groupby(['출발 지역 코드']).mean()['버스 통행 인원']\n",
    "for i in range(3):\n",
    "  bus_weekend_top3.loc[bus_weekend_top3['출발 지역 코드'] == bus_code[i], '출발 지역명'] = bus_name[i]\n",
    "bus_weekend_top3 = bus_weekend_top3.pivot_table(index=['출발 지역명', '요일 구분'], \n",
    "                             aggfunc='mean',\n",
    "                             values = '버스 통행 인원').reset_index()\n",
    "bus_weekend_top3['cumsum'] = bus_weekend_top3.groupby(['출발 지역명'])['버스 통행 인원'].cumsum(axis=0)\n",
    "bus_weekend_top3 = bus_weekend_top3.sort_values(by=['출발 지역명', '요일 구분'], ascending=False)"
   ]
  },
  {
   "cell_type": "code",
   "execution_count": null,
   "metadata": {},
   "outputs": [],
   "source": [
    "#요일별 통행량 비교\n",
    "#2019년과 2020년의 요일별 버스 통행량\n",
    "\n",
    "fig = plt.figure(figsize=(17,8))\n",
    "plt.style.use('dark_background')\n",
    "ax1 = fig.add_subplot(1,3,1)\n",
    "bar_width = 0.35\n",
    "ax1.set_facecolor('black')\n",
    "\n",
    "label = ['동서울종합', '서울고속/센트럴', '서울남부']\n",
    "index = np.arange(len(label))\n",
    "p1 = plt.bar(index, bus_weekday_top3_total, bar_width,label='평일', color=['#009770'])\n",
    "p2 = plt.bar(index + bar_width, bus_weekend_top3_total, bar_width,label='주말', color=['#E91E63'])\n",
    "\n",
    "plt.title('요일그룹별 버스 통행량')\n",
    "plt.ylabel('평균 통행량')\n",
    "plt.xlabel('버스 터미널')\n",
    "plt.xticks(index, label)\n",
    "plt.legend((p1[0], p2[0]), ('평일', '주말'))\n",
    "\n",
    "ax2 = fig.add_subplot(1,3,2)\n",
    "sns.barplot(x='출발 지역명', y='cumsum', hue='요일 구분', data=bus_weekday_top3, dodge=False, color='#009770')\n",
    "plt.title(\"버스 터미널 별 평일 평균 통행량\")\n",
    "plt.xlabel(\"요일\")\n",
    "plt.ylabel(\"버스 통행량\")\n",
    "ax2.set_facecolor('black')\n",
    "\n",
    "ax3 = fig.add_subplot(1,3,3)\n",
    "sns.barplot(x='출발 지역명', y='cumsum', hue='요일 구분', data=bus_weekend_top3, dodge=False, color='#E91E63')\n",
    "plt.title(\"버스 터미널 별 주말 평균 통행량\")\n",
    "plt.xlabel(\"요일\")\n",
    "plt.ylabel(\"버스 통행량\")\n",
    "ax3.set_facecolor('black')\n",
    "\n",
    "plt.show()"
   ]
  },
  {
   "cell_type": "markdown",
   "metadata": {},
   "source": [
    "서울남부 터미널은 강남,서초,교대 등에서 알 수 있듯이 상업지구의 성격을 가지기 때문에, 평일의 통행량이 더 높게 나타나는 것으로 보인다. 반면 동서울종합 터미널, 서울고속/센트럴 터미널 등은 기차와 유사하게 주말의 통행량이 더 높게 나타난다\n",
    "\n",
    "또한 평일 평균 통행량의 비율은 세 터미널 모두 비슷한 분포를 보이나, 전체적으로 금요일이 약간 많은 경향을 보인다\n",
    "\n",
    "위 결과를 바탕으로 선정한 주요 기차역과 터미널을 지도에 시각화를 진행한다\n",
    "\n",
    "folium을 바탕으로 구성되었고 구별로 영역을 나누기 위해 https://github.com/PinkWink/DataScience/tree/master/data 에서 skorea_municipalities_geo_simple.json를 다운받아 사용한다"
   ]
  },
  {
   "cell_type": "code",
   "execution_count": null,
   "metadata": {},
   "outputs": [],
   "source": [
    "geo_path = '02. skorea_municipalities_geo_simple.json'\n",
    "geo_str = json.load(open(geo_path, encoding='utf-8'))"
   ]
  },
  {
   "cell_type": "code",
   "execution_count": null,
   "metadata": {},
   "outputs": [],
   "source": [
    "#기본 맵 정의\n",
    "gps_plat = pd.read_csv(\"서울시_주요_기차역+터미널_좌표.csv\")\n",
    "\n",
    "f = folium.Figure(width=700, height=400)\n",
    "map = folium.Map(location=[37.5502, 126.982], zoom_start=11).add_to(f)\n",
    "map.choropleth(geo_data=geo_str, fill_color = '#BEEFFF')\n",
    "\n",
    "train = gps_plat.loc[:5]\n",
    "minal = gps_plat.loc[6:]\n",
    "minal.reset_index(drop=True, inplace=True)\n",
    "\n",
    "#기차역 좌표 추가\n",
    "for i in range(len(train)):\n",
    "  x = train['위도'][i]\n",
    "  y = train['경도'][i]\n",
    "  folium.Marker([x, y], tooltip=train['이름'][i], popup=train['이름'][i]).add_to(map)\n",
    "\n",
    "#버스터미널 좌표 추가\n",
    "for i in range(len(minal)):\n",
    "  x = minal['위도'][i]\n",
    "  y = minal['경도'][i]\n",
    "  folium.Marker([x, y], popup=minal['이름'][i], tooltip=minal['이름'][i], icon=folium.Icon(color='green', icon='star')).add_to(map)\n",
    "\n",
    "map"
   ]
  },
  {
   "cell_type": "markdown",
   "metadata": {},
   "source": [
    "※ 마커에 마우스를 가져다 대시면 해당 플랫폼의 명칭을 확인할 수 있다"
   ]
  },
  {
   "cell_type": "markdown",
   "metadata": {},
   "source": [
    "### 안전한 귀향을 위한 안내서\n",
    "여러 방법론을 통해 포스트 코로나 시대로 인한 통행수단 이용 패턴과 동향에 대해 알아보았다\n",
    "시도별 주요 도시를 세분화한 후, 통행량을 기준으로 서울의 주요 기차역과 터미널을 선정하고, \n",
    "이에 따라 서울에서 타 도시로 이동하는 인원을 분산하기 위한 방안으로 안전한 귀향을 위한 안내서를 제작한다\n",
    "\n",
    "안내서를 제작하는 과정에서 서울에서 출발하는 이용자의 위치를 세분화한다\n",
    "\n",
    "\n",
    "이를 통해 보다 더 '이용자만을 위한' 맞춤 정보를 제공할 수 있다. 또한, 이용자들로 하여금 출발지와 목적지에 따라 한산한 요일과 통행수단을 안내받을 수 있도록 한다.\n",
    "\n",
    "<안전한 귀향을 위한 안내서>는 사용자가 출발지부터 도착지까지 가는 다양한 경로 중, 최대한 타인과의 접촉을 줄일 수 있는 '안전한 경로'를 선택하는 데 도움을 주고자 한다.\n",
    "\n",
    "**[안내서가 제공되는 프로세스]**\n",
    "1. 사용자로부터 출발지, 도착지를 입력받는다. 가장 먼저 입력받은 출발지를 기준으로 이용 가능하면서 가까운 플랫폼들을 선정한다. 이는 도착지까지 운행하면서, 사용자의 출발지로부터 가장 가까운 플랫폼이라는 뜻으로 플랫폼은 기차역/고속버스터미널/시외버스터미널 각각에 대해 선정한다.\n",
    "\n",
    "2. 사용자의 출발지와 선정된 플랫폼 좌표를 지도를 통해 나타낸다. 이를 통해 사용자는 출발지와 플랫폼 간의 대략적인 거리를 확인할 수 있다.\n",
    "\n",
    "3. 다음으로 선정된 플랫폼들의 혼잡도 정보를 그래프로 제공한다. 이때 혼잡도는 각 플랫폼의 통행량 정도로 정의하였으며 사용자는 이 혼잡도에 대한 그래프들을 통해 '귀향을 위해 어떤 통행 수단을 선택할 지'에 대한 고민을 합리적으로 해결할 수 있다.\n",
    "\n",
    "    ① 첫번째 그래프는 위에서 선정된 기차역/고속버스터미널/시외버스터미널 플랫폼 각각의 혼잡도를 요일별로 비교한다. (요일별 평균으로 세분화해서 나타내었기 때문에 사용자는 자신이 출발하는 요일에 맞춘 정보를 확인할 수 있다)\n",
    "    ② 두번째 그래프는 입력받은 출발지와 도착지가 모두 동일한 경우의 통행 수단 별 인원 비율을 제공한다. (이 차트에서 사용자는 자신과 동일한 출발/도착지를 가진 다른 사람들은 어떤 통행 수단을 선택했는가에 대한 비율을 살펴볼 수 있다)\n",
    "    ③ 마지막으로 안내서는 사용자가 입력한 도착지를 기준으로, 도착지 인접지역의 통행 수단 별 통행 인원 분포를 보여준다. (이는 사용자에게 추천한 플랫폼들만이 아니라 전체를 출발지로 두며, 도착지 인접지역의 통행량 및 통행 수단 별 비율 정보를 제공하여 사용자로 하여금 자신의 고향의 인접지역까지 이동하는 사람들은 얼마나 있는지, 또 통행수단별 비율은 어느 정도인지 확인할 수 있게 한다)"
   ]
  },
  {
   "cell_type": "markdown",
   "metadata": {},
   "source": [
    "### 안내서 제작 프로세스\n",
    "**안내서 제작을 위한 새로운 데이터 목록**\n",
    "1. (자체제작) 인접플랫폼.csv\n",
    "    : 출발지로 정의되는 서울특별시 내의 25개 구에 대해, 주요 터미널/기차역을 거리 기준 가까운 순서대로 나열해 저장해놓은 데이터셋\n",
    "ex) 주요 기차역 중 도봉구와 가까운 순서대로 나열한 결과는 다음과 같다(상봉/청량리/서울/용산/영등포/수서)"
   ]
  },
  {
   "cell_type": "code",
   "execution_count": null,
   "metadata": {},
   "outputs": [],
   "source": [
    "near = pd.read_csv(\"인접플랫폼.csv\")\n",
    "near.head()"
   ]
  },
  {
   "cell_type": "markdown",
   "metadata": {},
   "source": [
    "2. (자체제작) 도착터미널구분.csv\n",
    "    : 제주를 제외한 국내 도/광역시/특별시 총 15개를 도착지로 정의하며, 이 도착지로 가는 차편을 운행하는 고속버스/시외버스 터미널 및 기차역에 대한 정보를 담은 데이터셋\n",
    "ex) 강원도로 가는 차편이 있는 고속/시외/기차역은 서울고속버스터미널/동서울종합터미널/서울,용산,청량리역이다"
   ]
  },
  {
   "cell_type": "code",
   "execution_count": null,
   "metadata": {},
   "outputs": [],
   "source": [
    "dest = pd.read_csv(\"도착터미널구분.csv\")\n",
    "dest.head()"
   ]
  },
  {
   "cell_type": "markdown",
   "metadata": {},
   "source": [
    "3. (자체제작) 서울시_주요_기차역+터미널_좌표"
   ]
  },
  {
   "cell_type": "code",
   "execution_count": null,
   "metadata": {},
   "outputs": [],
   "source": [
    "gps_plat = pd.read_csv(\"서울시_주요_기차역+터미널_좌표.csv\")\n",
    "gps_plat"
   ]
  },
  {
   "cell_type": "markdown",
   "metadata": {},
   "source": [
    "4. 서울시 행정구역 시군구 정보\n",
    "출처: https://data.seoul.go.kr/dataList/OA-11677/S/1/datasetView.do"
   ]
  },
  {
   "cell_type": "code",
   "execution_count": null,
   "metadata": {},
   "outputs": [],
   "source": [
    "gps_gu = pd.read_csv(\"서울시 행정구역 시군구 정보 (좌표계_ WGS1984).csv\", encoding='cp949')\n",
    "gps_gu.head()"
   ]
  },
  {
   "cell_type": "markdown",
   "metadata": {},
   "source": [
    "#### 출발/도착지에 따른 이용 터미널/기차역 선정\n",
    "[선정 프로세스]\n",
    "출발지는 서울특별시 25개의 지역구로 한정\n",
    "\n",
    "[인접플랫폼.csv]와 [도착터미널구분.csv]를 활용하여 아래 프로세스를 따라 터미널과 기차역을 선정\n",
    "\n",
    "① 사용자가 출발지, 도착지를 함수의 인자로 전달한다\n",
    "\n",
    "② 먼저 '도착터미널구분'을 이용해 해당 도착지로 운행하는 플랫폼을 정의한다\n",
    "\n",
    "③ 이후 '인접플랫폼'을 이용해 해당 출발지에서 가까운 순서로 나열된 데이터를 취한다\n",
    "\n",
    "④ 이를 이용해 출발지에서 가까운 순서대로 순회하며, 해당 도착지로 운행하는 플랫폼을 탐색한다.\n",
    "\n",
    "⑤ 따라서 최종적으로 얻은 결과는 도착지까지 운행하는 차편이 있으면서 출발지에서 가장 가까운 플랫폼이다.\n",
    "\n",
    "#### 안내서 제작을 위한 함수 생성\n",
    "출발지와 도착지가 주어졌을 때, 출발지와 인접하면서 도착지까지 운행하는 노선이 있는 플랫폼을 제시하고,\n",
    "플랫폼별 통행인원 정보를 시각화하여 나타내는 안내서를 제작하기 위한 함수를 생성\n",
    "\n",
    "새롭게 생성한 함수 목록은 다음과 같다\n",
    "\n",
    "**[함수목록]**\n",
    "- to_query\n",
    "- covid_count_crawler\n",
    "- find_res_plat\n",
    "- where\n",
    "- view_map\n",
    "- find_platform\n",
    "- trans_graph\n",
    "- pie_plot\n",
    "- dest_graph\n",
    "- final_guide"
   ]
  },
  {
   "cell_type": "markdown",
   "metadata": {},
   "source": [
    "1) to_query : 인자로 전달한 플랫폼의 출발지역코드를 가진 행을 필터링하기 위하여 쿼리를 작성해주는 함수"
   ]
  },
  {
   "cell_type": "code",
   "execution_count": null,
   "metadata": {},
   "outputs": [],
   "source": [
    "def to_query(location, loc):\n",
    "  start = \"출발지역코드 == \"\n",
    "  col = \"'\"\n",
    "  loc_code = location[loc]\n",
    "  return (start + col + loc_code + col), loc_code"
   ]
  },
  {
   "cell_type": "markdown",
   "metadata": {},
   "source": [
    "2) covid_count_crawler: 당일 서울 확진자수와 전국 확진자 수를 반환해주는 함수"
   ]
  },
  {
   "cell_type": "code",
   "execution_count": null,
   "metadata": {},
   "outputs": [],
   "source": [
    "def covid_count_crawler():\n",
    "    driver = webdriver.Chrome(executable_path=\"C:\\chromedriver\\chromedriver.exe\")\n",
    "    driver.get(\"https://www.seoul.go.kr/coronaV/coronaStatus.do\")\n",
    "    try:\n",
    "        #서울 확진자\n",
    "        covid_seoul = driver.find_element_by_class_name(\"status-seoul\")\n",
    "        count_seoul = covid_seoul.find_element_by_class_name(\"counter\")\n",
    "        confirmed_seoul = count_seoul.text\n",
    "        \n",
    "        #전국 확진자\n",
    "        covid_korea = driver.find_element_by_class_name(\"status-korea\")\n",
    "        count_korea = covid_korea.find_element_by_class_name(\"counter\")\n",
    "        confirmed_korea = count_korea.text\n",
    "        \n",
    "        # 시간\n",
    "        time = covid_seoul.text[4:22]\n",
    "        \n",
    "    except:\n",
    "        print(\"Error\")\n",
    "        \n",
    "    driver.close()\n",
    "    return confirmed_seoul, confirmed_korea, time"
   ]
  },
  {
   "cell_type": "markdown",
   "metadata": {},
   "source": [
    "3) find_res_plat : 도착지로 가는 플랫폼과 출발지에서 가까운 플랫폼을 인자로 받아, 도착지까지 운행하면서 출발지에서 가장 가까운 플랫폼을 출력해주는 함수"
   ]
  },
  {
   "cell_type": "code",
   "execution_count": null,
   "metadata": {},
   "outputs": [],
   "source": [
    "def find_res_plat(dest, near):\n",
    "  res = \"\"\n",
    "  for i in range(len(near)):\n",
    "    if near[i] in dest:\n",
    "      res += near[i]\n",
    "      break\n",
    "  return res"
   ]
  },
  {
   "cell_type": "markdown",
   "metadata": {},
   "source": [
    "4) where : 도착지로 도시명이 입력되었을때, 해당 시도 명을 반환해주는 함수"
   ]
  },
  {
   "cell_type": "code",
   "execution_count": null,
   "metadata": {},
   "outputs": [],
   "source": [
    "def where(destination):\n",
    "    areas = [\"부산광역시\", \"대구광역시\", \"광주광역시\", \"대전광역시\", \"울산광역시\", \"세종특별자치시\", \"인천광역시\",\n",
    "            \"경기도\", \"충청북도\", \"충청남도\", \"전라북도\", \"전라남도\", \"경상북도\", \"경상남도\", \"강원도\"]\n",
    "    for a in areas:\n",
    "        if destination in a:\n",
    "            destin = a\n",
    "            return destin\n",
    "    destin = bo_2020_drop[bo_2020_drop[\"도착 시군구 명\"].str.contains(destination)].iloc[0,7]\n",
    "    return destin"
   ]
  },
  {
   "cell_type": "markdown",
   "metadata": {},
   "source": [
    "5) view_map : 최종 플랫폼으로 선정된 데이터와 출발지(구)를 folium 지도상으로 시각화하는 함수"
   ]
  },
  {
   "cell_type": "code",
   "execution_count": null,
   "metadata": {},
   "outputs": [],
   "source": [
    "def view_map(start_region, res_plat):\n",
    "\n",
    "  #한글 셋팅 및 시군구 분리\n",
    "  plt.rc('font', family='Malgun Gothic') \n",
    "  geo_path = '02. skorea_municipalities_geo_simple.json'\n",
    "  geo_str = json.load(open(geo_path, encoding='utf-8'))\n",
    "\n",
    "  #기본 맵 정의\n",
    "  f = folium.Figure(width=700, height=400)\n",
    "  map = folium.Map(location=[37.5502, 126.982], zoom_start=11).add_to(f)\n",
    "  map.choropleth(geo_data=geo_str, fill_color = '#BEEFFF')\n",
    "\n",
    "  #출발지 빨간색으로 체크\n",
    "  gu_xy = gps_gu[gps_gu['시군구명_한글'] == start_region][['위도', '경도']].values\n",
    "  gu_x = gu_xy[0][0]\n",
    "  gu_y = gu_xy[0][1]\n",
    "  folium.Marker([gu_x, gu_y], popup=start_region, tooltip=start_region, icon=folium.Icon(color='red', icon='star')).add_to(map)\n",
    "\n",
    "  #최종 선정된 플랫폼\n",
    "  \n",
    "  if True:\n",
    "    for i in range(len(res_plat)):\n",
    "        plat_xy = gps_plat[gps_plat['이름'] == res_plat[i]][['위도', '경도']].values\n",
    "        try:\n",
    "            plat_x = plat_xy[0][0]\n",
    "            plat_y = plat_xy[0][1]\n",
    "            folium.Marker([plat_x, plat_y], tooltip=res_plat[i], popup=res_plat[i]).add_to(map)\n",
    "        except:\n",
    "            pass\n",
    "  else:\n",
    "     for i in range(len(res_plat)):\n",
    "        plat_xy = gps_plat[gps_plat['이름'] == res_plat[i]][['위도', '경도']].values\n",
    "        plat_x = plat_xy[0][0]\n",
    "        plat_y = plat_xy[0][1]\n",
    "        folium.Marker([plat_x, plat_y], tooltip=res_plat[i], popup=res_plat[i]).add_to(map)\n",
    "  display(map)\n",
    "  return map"
   ]
  },
  {
   "cell_type": "markdown",
   "metadata": {},
   "source": [
    "6) find_platform : 출발지, 도착지를 인자로 전달하며, 도착지까지 운행하면서 출발지에서 가장 가까운 플랫폼(철도, 고속버스, 시외버스 각각 1개)을 선정하며, 이 플랫폼들에 해당되는 출발지역코드를 가진 행들만을 필터링 해주는 함수"
   ]
  },
  {
   "cell_type": "code",
   "execution_count": null,
   "metadata": {},
   "outputs": [],
   "source": [
    "def find_platform(df, start_region, destination):\n",
    "\n",
    "  #필요한 정보들\n",
    "  destins = where(destination)\n",
    "  df.rename(columns={\"출발 지역 코드\":\"출발지역코드\"}, inplace=True)\n",
    "  near = pd.read_csv(\"인접플랫폼.csv\")\n",
    "  dest = pd.read_csv(\"도착터미널구분.csv\")[:15]\n",
    "  location = {'서울역' : '1117010700', '용산역' : '1117012800', '수서역' : '1168011500', '청량리역' : '1123010400', '영등포역' : '1156010100', '상봉역' : '1126010200',\n",
    "            '서울고속버스터미널' : '1165010700', '서울남부터미널' : '1165010800', '동서울종합터미널' : '1121510300', '센트럴시티터미널' : '1165010700'}\n",
    "  \n",
    "  print(\"다음으로, 출발지 <\" + start_region + \">에서 도착지 <\" + destination + \">까지 가는 안전한 귀향길을 안내해 드리겠습니다.\")\n",
    "  \n",
    "  #1. 도착지로 운행하는 플랫폼 목록 (express: 고속버스, inter: 시외버스, train: 기차역)\n",
    "  dest_list = dest[dest['도착지'].str.contains(destins)]\n",
    "\n",
    "  try:\n",
    "    dest_express = dest_list['고속버스'].values[0].split(\",\")\n",
    "  except:\n",
    "    dest_express = []\n",
    "  try:\n",
    "    dest_inter = dest_list['시외버스'].values[0].split(\",\")\n",
    "  except:\n",
    "    dest_inter = []\n",
    "  try:  \n",
    "    dest_train = dest_list['기차'].values[0].split(\",\")\n",
    "  except:\n",
    "    dest_train = []\n",
    "\n",
    "\n",
    "  #도착지로 운행하는 통행 수단에 대한 안내 메시지\n",
    "  dest_ava_list = []\n",
    "  if len(dest_express) >= 1:\n",
    "    dest_ava_list.append(\"고속버스\")\n",
    "  if len(dest_inter) >= 1:\n",
    "    dest_ava_list.append(\"시외버스\")\n",
    "  if len(dest_train) >= 1:\n",
    "    dest_ava_list.append(\"기차\")\n",
    "\n",
    "  #2. 주요 터미널/기차역 중 출발지와 가까운 순서로 정렬한 것.\n",
    "  near_list = near[near['이름'] == start_region]\n",
    "  near_terminal = near_list['터미널'].values[0].split(\",\")\n",
    "  near_train = near_list['기차역'].values[0].split(\",\")\n",
    "\n",
    "  #3. 위의 두 데이터를 고려한, 도착지까지 운행하면서 출발지와 가장 가까운 터미널역 선정\n",
    "  res_plat = []\n",
    "    \n",
    "  temp_plat = find_res_plat(dest_train, near_train)\n",
    "  if temp_plat == \"\":\n",
    "        pass\n",
    "  else:\n",
    "    res_plat.append(temp_plat)\n",
    "    \n",
    "  temp_plat = find_res_plat(dest_express, near_terminal)\n",
    "  if temp_plat == \"\":\n",
    "        pass\n",
    "  else:\n",
    "    res_plat.append(temp_plat)\n",
    "  \n",
    "  temp_plat = find_res_plat(dest_inter, near_terminal)\n",
    "  if temp_plat == \"\":\n",
    "        pass\n",
    "  else:\n",
    "    res_plat.append(temp_plat)   \n",
    "        \n",
    "  print(\"목적지인 \"+ destination + \"까지 운행하면서, 출발지와 가장 가까운 플랫폼은 다음과 같습니다.\\n\")\n",
    "  if len(res_plat) == 3:\n",
    "    print(\" 1. 기차:\", res_plat[0], \"\\n\", \"2. 고속버스:\", res_plat[1], \"\\n\", \"3. 시외버스:\", res_plat[2],\"\\n\"*2)\n",
    "  else:\n",
    "      if destins == \"대구광역시\": #데이터 상으로 운행하는 통행 수단이 기차(철도) 하나뿐인 대구광역시 예외처리\n",
    "          print(\" 1. 기차:\", res_plat[0],\"\\n\"*2)\n",
    "      elif destins == \"인천광역시\": #데이터 상으로 운행하는 통행 수단이 시외버스 하나뿐인 인천광역시 예외처리\n",
    "          print(\" 3. 시외버스:\", res_plat[0],\"\\n\"*2)\n",
    "\n",
    "  #4. 결과로 선정된 플랫폼을 출발로 하는 데이터 행 필터링\n",
    "  query = \"\"\n",
    "  count = 0\n",
    "  loc_code = []\n",
    "  for i in range(len(res_plat)):\n",
    "    if res_plat[i] != '':\n",
    "      q, code = to_query(location, res_plat[i])\n",
    "      query += q\n",
    "      count += 1\n",
    "      loc_code.append(code)\n",
    "      if (i != len(res_plat)-1):\n",
    "        query += \" or \"\n",
    "\n",
    "  #예외처리규정\n",
    "  if query[-3:] == 'or ':\n",
    "    query = query[:-4]\n",
    "  print(\"한 눈에 보시기 편하게 플랫폼 별 위치를 지도로 보여드리겠습니다.\", \"\\n\")\n",
    "  map = view_map(start_region, res_plat)\n",
    "  \n",
    "  return df.query(query), map, loc_code, res_plat"
   ]
  },
  {
   "cell_type": "markdown",
   "metadata": {},
   "source": [
    "7) trans_graph : 도착지까지 가는 각 플랫폼(철도, 고속버스, 시외버스)의 요일별 일평균 통행량을 그래프로 시각화하는 함수"
   ]
  },
  {
   "cell_type": "code",
   "execution_count": null,
   "metadata": {},
   "outputs": [],
   "source": [
    "def trans_graph(df, loc_code, res_plat, destins):\n",
    "    nums = [\"철도 통행 인원\", \"고속버스 통행 인원\", \"시외버스 통행 인원\"]\n",
    "    names = [\"(기차)\", \"(고속버스)\", \"(시외버스)\"]\n",
    "    days = [\"월\", \"화\", \"수\", \"목\", \"금\", \"토\", \"일\"]\n",
    "    colors = [\"#009770\", \"#FFDF65\", \"#E91E63\"]\n",
    "    if destins == \"대구광역시\":#데이터 상으로 운행하는 통행 수단이 기차(철도) 하나뿐인 대구광역시 예외처리\n",
    "        df_1 = df.groupby('출발지역코드').get_group(loc_code[0])\n",
    "        df_1 = df_1[df_1[nums[0]]!=0]\n",
    "        avgs = []\n",
    "        for d in range(len(days)):\n",
    "            new = df_1.groupby(\"요일 구분\").get_group(days[d])\n",
    "            avg = new[nums[0]].sum()//len(new[\"운행 일자\"].unique())\n",
    "            avgs.append(avg)\n",
    "        fig = go.Figure(data=[go.Bar(x=days, y=avgs, marker_color=\"#009770\")])\n",
    "        fig.update_layout(width=700, template='plotly_dark',title_text=\"2020년 \"+res_plat[0]+names[0]+ \" 요일별 일평균 통행인원\", )\n",
    "        fig.show()\n",
    "    elif destins == \"인천광역시\":#데이터 상으로 운행하는 통행 수단이 시외버스 하나뿐인 인천광역시 예외처리\n",
    "        df_1 = df.groupby('출발지역코드').get_group(loc_code[0])\n",
    "        df_1 = df_1[df_1[nums[2]]!=0]\n",
    "        avgs = []\n",
    "        for d in range(len(days)):\n",
    "            new = df_1.groupby(\"요일 구분\").get_group(days[d])\n",
    "            avg = new[nums[2]].sum()//len(new[\"운행 일자\"].unique())\n",
    "            avgs.append(avg)\n",
    "        fig = go.Figure(data=[go.Bar(x=days, y=avgs, marker_color=\"#E91E63\")])\n",
    "        fig.update_layout(width=700, template='plotly_dark',title_text=\"2020년 \"+res_plat[0]+names[2]+ \" 요일별 일평균 통행인원\", )\n",
    "        fig.show()\n",
    "    else:\n",
    "        fig = make_subplots(rows=1, cols=3, subplot_titles=(res_plat[0]+names[0],res_plat[1]+names[1],res_plat[2]+names[2]))\n",
    "        for c in range(len(loc_code)):\n",
    "            df_1 = df.groupby('출발지역코드').get_group(loc_code[c])\n",
    "            df_1 = df_1[df_1[nums[c]]!=0]\n",
    "            avgs = []\n",
    "            #요일별로 묶기\n",
    "            for d in range(len(days)):\n",
    "                new = df_1.groupby(\"요일 구분\").get_group(days[d])\n",
    "                avg = new[nums[c]].sum()//len(new[\"운행 일자\"].unique())\n",
    "                avgs.append(avg)\n",
    "            fig.add_trace(go.Bar(x=days, y=avgs, name=nums[c], marker_color=colors[c] ),row=1, col=c+1)\n",
    "        fig.update_layout(template='plotly_dark',title_text=\"2020년 요일별 일평균 통행인원\")\n",
    "        fig.show()"
   ]
  },
  {
   "cell_type": "markdown",
   "metadata": {},
   "source": [
    "8) dest_graph : 도착지를 기준으로 세부 시군구에 따른 일평균 통행 수단별 통행 인원을 그래프로 시각화하는 함수"
   ]
  },
  {
   "cell_type": "code",
   "execution_count": null,
   "metadata": {},
   "outputs": [],
   "source": [
    "def dest_graph(destination):\n",
    "    a = areas.index(where(destination))\n",
    "    kk_20 = bo_2020_drop.groupby('도착 시도 명').get_group(where(destination))\n",
    "    all_kk = pd.DataFrame(index=range(0,6), columns = [\"년도\", \"도착 시군구 명\", \"철도 통행 인원\", \"시외버스 통행 인원\", \"고속버스 통행 인원\"])\n",
    "    nums = [\"철도 통행 인원\", \"시외버스 통행 인원\", \"고속버스 통행 인원\"]\n",
    "    for i in range(len(sigungu[a])):\n",
    "        all_kk[\"도착 시군구 명\"][i] = sigungu[a][i]\n",
    "        all_kk[\"년도\"][i] = 2020\n",
    "        kk_20_1 = kk_20[kk_20['도착 시군구 명'].str.contains(sigungu[a][i])]\n",
    "        for n in range(len(nums)):\n",
    "            new_20 = kk_20_1[kk_20_1[nums[n]]!=0]\n",
    "            avg_20 = new_20[nums[n]].sum()//len(new_20[\"운행 일자\"].unique())    \n",
    "            all_kk[nums[n]][i] = avg_20\n",
    "    trace1 = go.Bar(x=all_kk[\"도착 시군구 명\"], y=all_kk[\"철도 통행 인원\"], name='철도', marker_color=\"#009770\")\n",
    "    trace2 = go.Bar(x=all_kk[\"도착 시군구 명\"], y=all_kk[\"시외버스 통행 인원\"], name='시외버스', marker_color=\"#E91E63\")\n",
    "    trace3 = go.Bar(x=all_kk[\"도착 시군구 명\"], y=all_kk[\"고속버스 통행 인원\"], name='고속버스', marker_color=\"#FFDF65\")\n",
    "    data = [trace1, trace2, trace3]\n",
    "    title = \"2020년 \"+areas[a]+\" 일평균 통행 수단 별 통행 인원 분포\"\n",
    "    layout = go.Layout(template='plotly_dark',width=700, title=title, barmode='stack')\n",
    "    fig = go.Figure(data=data, layout=layout)"
   ]
  },
  {
   "cell_type": "markdown",
   "metadata": {},
   "source": [
    "9) pie_plot : 출발지와 도착지를 모두 고려한 철도와 버스터미널의 통행인원비율을 그래프로 시각화하는 함수"
   ]
  },
  {
   "cell_type": "code",
   "execution_count": null,
   "metadata": {},
   "outputs": [],
   "source": [
    "def pie_plot(destination, result):\n",
    "    dict_train = {'서울역':'1117010700', '용산역':'1117012800', '수서역': '1168011500', '영등포역':'1156010100', '청량리역': '1123010400'}\n",
    "    dict_bus = {'서울고속버스터미널':'1165010700', '센트럴시티터미널':'1165010700','동서울종합터미널':'1121510300', '서울남부터미널': '1165010800'}\n",
    "\n",
    "    result_train = bo[(bo['출발 지역 코드'] == dict_train[result[0]]) & (bo['도착 시도 명'] == destination)]\n",
    "    result_bus1 = bo[(bo['출발 지역 코드'] == dict_bus[result[1]]) & (bo['도착 시도 명'] == destination)]\n",
    "    result_bus2 = bo[(bo['출발 지역 코드'] == dict_bus[result[2]]) & (bo['도착 시도 명'] == destination)]\n",
    "    means = [result_train['철도 통행 인원'].mean(), result_bus1['버스 통행 인원'].mean(), result_bus2['버스 통행 인원'].mean()]\n",
    "\n",
    "    if dict_bus[result[1]] != dict_bus[result[2]]: \n",
    "        ratio = [means[0], means[1], means[2]]\n",
    "        labels = [result[0], result[1], result[2]]\n",
    "        df = px.data.tips()\n",
    "        fig = px.pie(df, values=ratio, names=labels, color_discrete_sequence=[\"#009770\", \"#FFDF65\", \"#E91E63\"])\n",
    "        fig.update_layout(width=600, height=500, template='plotly_dark')\n",
    "        fig.update_layout(title={'text':'출발지와 목적지 모두 동일한 경우의 철도/버스 평균 인원 비율', 'y':0.95,'x':0.5,'xanchor': 'center','yanchor': 'top'})\n",
    "        fig.show()\n",
    "    else: #고속버스 터미널과 시외버스 터미널이 같은 경우 출발지가 동일하기 때문에 통행 인원을 합산\n",
    "        ratio = [means[0], means[1]]\n",
    "        labels = [result[0], result[1]]\n",
    "        df = px.data.tips()\n",
    "        fig = px.pie(df, values=ratio, names=labels, color_discrete_sequence=[\"#009770\", \"#E91E63\"])\n",
    "        fig.update_layout(width=600, height=500, template='plotly_dark')\n",
    "        fig.update_layout(title={'text':'출발지와 목적지 모두 동일한 경우의 철도/버스 평균 인원 비율', 'y':0.95,'x':0.5,'xanchor': 'center','yanchor': 'top'})\n",
    "        fig.show()"
   ]
  },
  {
   "cell_type": "markdown",
   "metadata": {},
   "source": [
    "10) final_guide : 위 함수들을 모두 종합하여 안내서를 반환하는 함수"
   ]
  },
  {
   "cell_type": "code",
   "execution_count": null,
   "metadata": {},
   "outputs": [],
   "source": [
    "def final_guide(start_region, destination):\n",
    "    new_destin = where(destination)\n",
    "    print(\"\\n\"*2,\" \"*9, \"---\"*35,\"\\n\")\n",
    "    print(\" \"*42, \"<< 당신의 안전한 귀향을 위한 안내서 >> \\n\")\n",
    "    print(\" \"*10, \"---\"*35,\"\\n\"*3)\n",
    "    \n",
    "    # 안내서 Start\n",
    "    print(\"안녕하세요. 당신의 안전한 귀향을 위한 안내서입니다.\\n\")\n",
    "    print(\"저희 안내서는 사용자가 출발지부터 도착지까지 가는 다양한 경로 중, \\n최대한 사람들을 덜 만날 수 있는 '안전한 경로'를 선택하는 데 도움을 줄 수 있습니다.\\n\\n\")\n",
    "    \n",
    "    #코로나 일일 확진자 현황 소개\n",
    "    print(\"먼저, 오늘의 코로나 확진자 현황을 살펴보겠습니다.\\n\")\n",
    "    cf_seoul, cf_korea, time = covid_count_crawler()\n",
    "    print(time, \"코로나 확진자는 다음과 같습니다.\\n\")\n",
    "    print(\"    1. 전국 확진자 : \", cf_korea, \"명\")\n",
    "    print(\"    2. 서울 확진자 : \", cf_seoul, \"명\\n\")\n",
    "    print(\"이용에 참고하시길 바라겠습니다. :) \\n\\n\")\n",
    "    \n",
    "    #출발지 및 플랫폼 지도 소개\n",
    "    df, map, loc_code, res_plat = find_platform(bo_2020, start_region, destination)\n",
    "    print(\"\\n출발지는 빨간 표식, 플랫폼은 파란 표식입니다. 플랫폼의 대략적인 위치를 파악하십시오.\\n지도는 확대, 축소가 자유롭게 가능하며, 마우스를 마커에 올리면 플랫폼명도 확인하실 수 있습니다.\")\n",
    "    print(\"\\n\"*3+ \"다음으로 보여드릴 세 그래프는 선정된 플랫폼들의 혼잡도 정보를 제공해드립니다.\\n이때 혼잡도는 각 플랫폼의 통행량 정도로 정의하였습니다.\")\n",
    "    print(\"하단 그래프들이 귀향을 위한 통행 수단 선택에 도움이 되길 바랍니다.\\n\")\n",
    "    \n",
    "    #첫 번째 그래프 소개\n",
    "    print(\"\\n첫번째 그래프는 위에서 선정된 기차역/고속버스터미널/시외버스터미널 플랫폼 각각의 혼잡도를 요일별로 비교합니다.\\n요일별 평균으로 세분화해서 나타내었으니 참고하시길 바랍니다.\\n\")\n",
    "    print(\"마우스를 그래프에 가져다 대시면 보다 세부적인 정보를 확인하실 수 있습니다.\")\n",
    "    trans_graph(df, loc_code, res_plat, new_destin)\n",
    "\n",
    "    #두 번째 그래프\n",
    "    if (\"서울남부터미널\" not in res_plat) and (new_destin != \"인천광역시\") and (new_destin != \"대구광역시\"):\n",
    "        print(\"\\n\\n\\n두 번째 그래프는 출발지가 <\", start_region, \"> 이고 도착지가 <\", destination, \"> 인 철도와 버스터미널의 통행인원비율입니다.\\n\")\n",
    "        print(\"이 그래프는 입력받은 출발지와 도착지가 모두 동일한 경우의 통행 수단 별 인원 비율을 제공합니다. \\n이 차트에서 자신과 동일한 출발/도착지를 가진 다른 사람들은 어떤 통행 수단을 선택했는가에 대한 비율을 살펴볼 수 있습니다.\\n\")\n",
    "        print(\"마우스를 그래프에 가져다 대시면 보다 세부적인 정보를 확인하실 수 있습니다.\")\n",
    "        pie_plot(new_destin, res_plat)\n",
    "        \n",
    "    #세 번째 그래프 소개\n",
    "    print(\"\\n\\n\\n마지막으로 도착지인 <\", destination, \"> 을 기준으로, 도착지 인접지역의 통행 수단 별 통행 인원 분포를 보여드리겠습니다.\\n\") \n",
    "    print(\"이는 추천드린 플랫폼들 뿐만 아니라 전국을 출발지로 두고 도착지가 <\", destination, \">와 인접 지역인 통행량 및 통행수단 별 비율을 나타냅니다. \\n이를 통해, 고향의 인접지역까지 이동하는 사람들은 얼마나 있는지, 또 통행수단별 비율은 어느 정도인지 확인하실 수 있습니다.\\n\")\n",
    "    print(\"마우스를 그래프에 가져다 대시면 보다 세부적인 정보를 확인하실 수 있습니다.\")\n",
    "    dest_graph(destination)\n",
    "\n",
    "    #마무리 멘트 소개\n",
    "    print(\"\\n\\n저희가 제공하는 안내서는 여기까지입니다.\\n안내서가 제공하는 그래프들을 통해 안전한 통행 수단을 선택할 수 있길 바랍니다 :)\")\n",
    "    print(\"\\n\\n\\n\")\n",
    "    print(\"\\n\"*2,\" \"*9, \"---\"*35,\"\\n\")\n",
    "    print(\" \"*24,\"<< 저희의 안내서를 통해 목적지인\", destination, \"까지 안전한 귀향길 되시길 바랍니다. >> \\n\")\n",
    "    print(\" \"*10, \"---\"*35,\"\\n\"*3)"
   ]
  },
  {
   "cell_type": "markdown",
   "metadata": {},
   "source": [
    "#### 안전한 귀향을 위한 안내서 예시\n",
    "위의 함수들로 구성되어 완성된 안내서 예시\n",
    "\n",
    "[활용 사례1]\n",
    "\n",
    "노원구에 거주하고, 천안으로 귀향하려 하는 A씨를 위해 저희의 안내서는 다음과 같은 정보를 제공한다"
   ]
  },
  {
   "cell_type": "code",
   "execution_count": null,
   "metadata": {},
   "outputs": [],
   "source": [
    "#input 함수를 통해 사용자가 직접 출발지와 도착지를 입력하도록 구성하였습니다.\n",
    "\n",
    "start= input(\"출발지를 지역구 단위로 입력해주세요.(예시: 종로구) : \")\n",
    "end = input(\"목적지를 시 단위로 입력해주세요. (예시: 속초) : \")\n",
    "final_guide(start, end)"
   ]
  },
  {
   "cell_type": "markdown",
   "metadata": {},
   "source": [
    "[활용 사례2]\n",
    "\n",
    "성북구에 거주하고, 전주로 귀향하려 하는 B씨를 위해 저희의 안내서는 다음과 같은 정보를 제공한다"
   ]
  },
  {
   "cell_type": "code",
   "execution_count": null,
   "metadata": {},
   "outputs": [],
   "source": [
    "start= input(\"출발지를 지역구 단위로 입력해주세요.(예시: 종로구) : \")\n",
    "end = input(\"목적지를 시 단위로 입력해주세요. (예시: 속초) : \")\n",
    "final_guide(start, end)"
   ]
  },
  {
   "cell_type": "markdown",
   "metadata": {},
   "source": [
    "해당 예시는 고속버스터미널과 시외버스터미널이 동서울종합터미널로 동일하다\n",
    "\n",
    "이 경우, 같은 터미널이라 하더라도 보다 자세한 정보를 제공하기 위하여 고속버스와 시외버스 통행 인원을 구분하여 요일별 시각화 그래프를 제시하고, 원형플롯의 경우 고속버스와 시외버스의 출발지가 동서울종합터미널로 동일하기 때문에 두 통행 수단의 인원을 합쳐서 버스 통행 인원으로 제시한다"
   ]
  },
  {
   "cell_type": "markdown",
   "metadata": {},
   "source": [
    "[활용 예시3]\n",
    "\n",
    "강서구에 거주하고, 청주로 귀향하려 하는 C씨를 위해 저희의 안내서는 다음과 같은 정보를 제공합니다."
   ]
  },
  {
   "cell_type": "code",
   "execution_count": null,
   "metadata": {},
   "outputs": [],
   "source": [
    "start= input(\"출발지를 지역구 단위로 입력해주세요.(예시: 종로구) : \")\n",
    "end = input(\"목적지를 시 단위로 입력해주세요. (예시: 속초) : \")\n",
    "final_guide(start, end)"
   ]
  },
  {
   "cell_type": "markdown",
   "metadata": {},
   "source": [
    "세번째는 시외버스 터미널로 서울남부터미널이 선정된 경우이다\n",
    "\n",
    "발권OD 데이터 상에서 출발지가 서울남부터미널이 위치한 서초구 서초동인 경우, 도착지가 모두 결측값으로 처리되어있어 목적지를 확인할 수 없다\n",
    "\n",
    "따라서, 서울남부터미널이 선정되었을시에는 원형 플롯을 출력하지 않는다\n",
    "\n",
    "이외에도\n",
    "\n",
    "대구광역시의 경우 데이터 상으로 통행 인원(서울 출발 기준)이 기차(철도) 이용 인원만 존재하여 요일별 플롯이 기차역 1개만 출력되고, 따라서 원형 차트가 출력되지 않는다\n",
    "인천광역시의 경우 데이터 상으로 통행 인원(서울 출발 기준)이 시외버스 이용 인원만 존재하여 요일별 플롯이 시외버스터미널 1개만 출력되고 따라서 원형 차트가 출력되지 않는다\n",
    "총 2가지의 예외 상황이 존재한다\n",
    "\n",
    "충분한 데이터가 확보되면 더욱 풍부한 정보를 담은 양질의 시각화를 제공할 수 있을 것이다"
   ]
  },
  {
   "cell_type": "markdown",
   "metadata": {},
   "source": [
    "### 결론\n",
    "#### 안전한 귀향을 위한 안내서의 기대효과\n",
    "\n",
    "1. 이용자 맞춤 정보 제공\n",
    "저희의 안내서는 귀향하는 최적의 수단과 일일 코로나 확진자수 등의 정보를 함께 제공하고 있습니다. 현재 코로나19는 전세계인의 관심사이기 때문에 매일 수많은 코로나19 관련 뉴스가 쏟아져나옵니다. 그 중 본인이 귀향하려 하는 날짜와 관련한 코로나19 정보를 찾고, 또 본인에게 맞는 정보들만 또 골라 보기는 귀찮을 수 밖에 없습니다. 저희의 안내서는 이용자가 이런 수고로움에서 벗어나고, 나아가 귀찮다는 이유로 정확한 정보를 알지 못한 채 귀향하려 하는 이용자들이 보다 손쉽게 정보에 접근할 수 있게 하여 코로나19의 위험으로부터 우회하여 안전하게 귀향할 수 있는 방법을 제공합니다.\n",
    "\n",
    "2. 서비스의 확장성\n",
    "저희의 안내서는 다양한 분야에서 확장성을 가집니다.\n",
    "\n",
    "1) 플랫폼의 확장 : 현재 데이콘 제출 파일 안에서 함수를 통해 구현했습니다. 이미 함수로 모듈화 되어있기 때문에 차후에 홈페이지나 어플리케이션 등의 플랫폼 구축에 용이합니다.\n",
    "2) 출발지의 확장 : 현재 분석에서는 서울에서 출발하는 이용자를 대상으로 한 서비스를 제공하고 있습니다. 하지만 앞서 언급한 것처럼 데이터를 정제하는 과정을 거치면 언제든지 전국 지역으로 출발지를 확장할 수 있습니다. 도착지는 이미 전국 단위를 고려했기 때문에 출발지가 늘어난다면 안내서가 제공할 수 있는 정보의 범위는 무궁무진하게 넓어집니다.\n",
    "3) 사용연령의 세분화 : 본 보고서에는 전 연령을 대상으로 하여 분석을 진행하였으나, 추후 노년층, 청년층, 장년층 등 각 연령대에 맞춰 세분화된 정보를 제공하는 방향으로 확장할 수 있습니다.\n",
    "\n",
    "3. 코로나19 감염의 경각심을 일깨우는 알리미 역할\n",
    "저희의 안내서는 코로나19 관련 정보(일일확진자수 등)를 제공함으로써 장기화되는 코로나19 상황 속에서 사람들의 긴장감이 느슨해질 때 그 경각심을 일깨우는 역할을 수행할 수 있습니다. 지금까지는 사람들이 외출을 자제하며 서로 조심했지만, 최근 여행 등의 여가와 관련한 수요가 증가하고 있습니다. 저희의 분석은 특히 지금처럼 사람들이 경계를 느슨히 할 때, 이를 끌어올리는 역할을 수행할 것입니다."
   ]
  },
  {
   "cell_type": "markdown",
   "metadata": {},
   "source": [
    "#### 안전한 귀향을 위한 안내서의 활용 방안 예시\n",
    "귀향을 위한 안내서를 어플리케이션으로 구현할 수 있는 방안을 이미지로 제안합니다. 추가로 코레일과 같은 플랫폼 업체와 협업하는 방안을 고려해볼 수 있습니다."
   ]
  },
  {
   "cell_type": "code",
   "execution_count": null,
   "metadata": {},
   "outputs": [],
   "source": [
    "Image(\"./1.png\")"
   ]
  },
  {
   "cell_type": "markdown",
   "metadata": {},
   "source": [
    "#### 한계점 및 개선방향\n",
    "안내서를 제작하는 과정에서 아쉬웠던 점 몇 가지를 다음과 같이 정리했습니다.\n",
    "\n",
    "데이터가 2019/2020년으로 짧았기 때문에 시계열 데이터의 특성을 잡아낼 수 없었습니다. 코로나19 사태는 넓은 관점에서 보았을 때 장기적 이벤트가 이니기에, 장기적인 데이터에 적용하는 분석을 하기는 어려웠습니다. 시계열 자료의 특성 중 비교적 자주 나타나는 계절성과 같은 주기도 코로나19가 시작된 지 1년이 채 되지 않았기 때문에 적용하기 어려웠습니다. 코로나 사태가 장기화되지 않고 끝나기를 간절히 바라지만, 만약 장기화된다면 데이터를 보다 축적하여 더 좋은 안내를 제공할 수 있을 것입니다.\n",
    "\n",
    "즉각적인 정보 반영에는 미흡합니다. 이는 지금까지의 추이에 따라 안내서를 제공하기 때문입니다. 하지만 기대효과에서 언급했듯 추후 데이터를 실시간으로 반영할 수 있는 플랫폼만 제공된다면 쉽게 구현이 가능합니다.\n",
    "\n",
    "어느 분석에서도 비슷하게 느끼지만, 데이터의 품질 자체도 분석하는 시간에 영향을 많이 준다는 것을 느꼈습니다. 발권OD에서 데이터 자체의 결측치가 많아 전처리 과정이 길어졌는데, 이 과정에서 원데이터가 가진 정보가 소실되었을 가능성이 있어 보입니다. 하지만 추후 데이터의 양이나 품질이 개선되면 자연스럽게 해결할 수 있을 것이라 기대합니다.\n",
    "\n",
    "#### 마치며\n",
    "코로나19 바이러스가 우리의 일상을 흔든 지도 벌써 반년이 지났습니다. 그 동안 우리는 여러 번의 집단감염 사태와 사회적 거리두기를 반복하며 코로나19 상황을 완화하려 노력해 왔습니다. 최근 긴장감이 풀린 탓인지 확진자가 급증하고 있지만 이러한 노력이 있었기에 지금까지 코로나와 잘 싸울 수 있었습니다.\n",
    "\n",
    "이제 사람들은 코로나19 이후 우리의 세상이 어떠한 모습으로 다시 돌아가게 될 지에 대해 궁금증을 가지기 시작했습니다. 이러한 관심에 힘입어 많은 사람들이 포스트 코로나의 모습에 대해 다양한 예측을 하고 있습니다. 물론 포스트 코로나의 모습에 대해서는 다양하게 의견이 갈리지만, 공통적으로 언급하는 내용은 '코로나 이전으로 돌아갈 수는 없다.'입니다.\n",
    "\n",
    "이는 지금까지 익숙함과 안정감을 토대로 세계를 이끌어 온 우리가, 앞으로는 다가올 시대를 한 발 더 앞서 예측하는 사람들의 이야기에 관심을 가질 수 밖에 없게 합니다.\n",
    "\n",
    "이번 분석을 진행하면서 코로나19에 상황에 대한 전반적인 이해와 더불어 포스트 코로나라는 주제도 함께 다뤄볼 수 있어 저희가 공부하는 데에도 좋은 기회가 되었습니다. 또한 '데이터'는 포스트 코로나 시대를 이끌어나가는 데에 있어 핵심적인 역할을 할 것이라는 것 또한 느낄 수 있었습니다. 저희의 분석이 흥미로우셨기를 바라며, 포스트 코로나 시대의 긍정적인 흐름을 이끌어낼 수 있도록 앞으로 더욱 열심히 공부하겠습니다. 저희 분석의 흐름을 같이 해 주셔서 진심으로 감사하고 다들 건강하시길 바랍니다!"
   ]
  }
 ],
 "metadata": {
  "kernelspec": {
   "display_name": "Python 3",
   "language": "python",
   "name": "python3"
  },
  "language_info": {
   "codemirror_mode": {
    "name": "ipython",
    "version": 3
   },
   "file_extension": ".py",
   "mimetype": "text/x-python",
   "name": "python",
   "nbconvert_exporter": "python",
   "pygments_lexer": "ipython3",
   "version": "3.8.7"
  }
 },
 "nbformat": 4,
 "nbformat_minor": 4
}
